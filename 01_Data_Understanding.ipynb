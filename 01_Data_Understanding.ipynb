{
 "cells": [
  {
   "cell_type": "code",
   "execution_count": 52,
   "id": "76f7a27d-0998-48dd-a3ea-b7ccda582e31",
   "metadata": {},
   "outputs": [],
   "source": [
    "from pyspark.sql import DataFrameReader\n",
    "from pyspark.sql import SparkSession\n",
    "from pyspark.ml.feature import IndexToString, Normalizer, StringIndexer, VectorAssembler, VectorIndexer\n",
    "from pyspark.ml.classification import DecisionTreeClassifier\n",
    "from helpers.helper_functions import translate_to_file_string\n",
    "from pyspark.sql.functions import col,lit,to_date\n",
    "\n",
    "\n",
    "# for pretty printing\n",
    "def printDf(sprkDF): \n",
    "    newdf = sprkDF.toPandas()\n",
    "    from IPython.display import display, HTML\n",
    "    return HTML(newdf.to_html())"
   ]
  },
  {
   "cell_type": "code",
   "execution_count": 53,
   "id": "2e553f0f-2395-4ac1-bc84-c272debffa16",
   "metadata": {},
   "outputs": [],
   "source": [
    "inputFile = translate_to_file_string(\"./data/RKI_COVID19_20210529.csv\")"
   ]
  },
  {
   "cell_type": "markdown",
   "id": "6c61df6a-936a-4839-afc5-9e7fd4235dfe",
   "metadata": {},
   "source": [
    "### Create Spark Session"
   ]
  },
  {
   "cell_type": "code",
   "execution_count": 54,
   "id": "cea1c45d-0675-4dcc-b871-74913dd16806",
   "metadata": {},
   "outputs": [
    {
     "name": "stdout",
     "output_type": "stream",
     "text": [
      "root\n",
      " |-- ObjectId: integer (nullable = true)\n",
      " |-- IdBundesland: integer (nullable = true)\n",
      " |-- Bundesland: string (nullable = true)\n",
      " |-- Landkreis: string (nullable = true)\n",
      " |-- Altersgruppe: string (nullable = true)\n",
      " |-- Geschlecht: string (nullable = true)\n",
      " |-- AnzahlFall: integer (nullable = true)\n",
      " |-- AnzahlTodesfall: integer (nullable = true)\n",
      " |-- Meldedatum: string (nullable = true)\n",
      " |-- IdLandkreis: integer (nullable = true)\n",
      " |-- Datenstand: string (nullable = true)\n",
      " |-- NeuerFall: integer (nullable = true)\n",
      " |-- NeuerTodesfall: integer (nullable = true)\n",
      " |-- Refdatum: string (nullable = true)\n",
      " |-- NeuGenesen: integer (nullable = true)\n",
      " |-- AnzahlGenesen: integer (nullable = true)\n",
      " |-- IstErkrankungsbeginn: integer (nullable = true)\n",
      " |-- Altersgruppe2: string (nullable = true)\n",
      "\n",
      "None\n"
     ]
    }
   ],
   "source": [
    "#create a SparkSession\n",
    "spark = (SparkSession\n",
    "       .builder\n",
    "       .appName(\"RKICOVID19UNDERSTANDING\")\n",
    "       .getOrCreate())\n",
    "# create a DataFrame using an ifered Schema \n",
    "df = spark.read.option(\"header\", \"true\") \\\n",
    "       .option(\"inferSchema\", \"true\") \\\n",
    "       .option(\"delimiter\", \",\") \\\n",
    "       .csv(inputFile)   \n",
    "print(df.printSchema())"
   ]
  },
  {
   "cell_type": "markdown",
   "id": "f36fb524-8340-4a20-b9bc-906376337d59",
   "metadata": {},
   "source": [
    "### Show First Row"
   ]
  },
  {
   "cell_type": "code",
   "execution_count": 56,
   "id": "c3f93137-5214-4f70-b648-80a47f4029fa",
   "metadata": {},
   "outputs": [
    {
     "name": "stdout",
     "output_type": "stream",
     "text": [
      "+--------+------------+------------------+------------+------------+----------+----------+---------------+--------------------+-----------+--------------------+---------+--------------+--------------------+----------+-------------+--------------------+-----------------+\n",
      "|ObjectId|IdBundesland|        Bundesland|   Landkreis|Altersgruppe|Geschlecht|AnzahlFall|AnzahlTodesfall|          Meldedatum|IdLandkreis|          Datenstand|NeuerFall|NeuerTodesfall|            Refdatum|NeuGenesen|AnzahlGenesen|IstErkrankungsbeginn|    Altersgruppe2|\n",
      "+--------+------------+------------------+------------+------------+----------+----------+---------------+--------------------+-----------+--------------------+---------+--------------+--------------------+----------+-------------+--------------------+-----------------+\n",
      "|       1|           1|Schleswig-Holstein|SK Flensburg|     A15-A34|         M|         3|              0|2021/03/19 00:00:...|       1001|29.05.2021, 00:00...|        0|            -9|2021/03/16 00:00:...|         0|            3|                   1|Nicht übermittelt|\n",
      "+--------+------------+------------------+------------+------------+----------+----------+---------------+--------------------+-----------+--------------------+---------+--------------+--------------------+----------+-------------+--------------------+-----------------+\n",
      "only showing top 1 row\n",
      "\n"
     ]
    }
   ],
   "source": [
    "df.show(1)"
   ]
  },
  {
   "cell_type": "code",
   "execution_count": 57,
   "id": "db99f4af-6311-4280-9730-7e3e0d4e499f",
   "metadata": {},
   "outputs": [
    {
     "name": "stdout",
     "output_type": "stream",
     "text": [
      "2003106\n"
     ]
    }
   ],
   "source": [
    "### Anzahl der Datensätze\n",
    "print(df.count())"
   ]
  },
  {
   "cell_type": "code",
   "execution_count": 58,
   "id": "b43940d8-fbe9-44dd-b637-1160e80196e3",
   "metadata": {},
   "outputs": [
    {
     "name": "stdout",
     "output_type": "stream",
     "text": [
      "+--------------------+------+\n",
      "|          Bundesland| count|\n",
      "+--------------------+------+\n",
      "|      Sachsen-Anhalt| 54705|\n",
      "|       Niedersachsen|156959|\n",
      "|         Brandenburg| 70900|\n",
      "|              Berlin| 97152|\n",
      "|              Bayern|362635|\n",
      "|             Sachsen|118722|\n",
      "|             Hamburg| 26470|\n",
      "|              Bremen| 11812|\n",
      "| Nordrhein-Westfalen|393861|\n",
      "|           Thüringen| 83128|\n",
      "|              Hessen|151970|\n",
      "|   Baden-Württemberg|282334|\n",
      "|Mecklenburg-Vorpo...| 28366|\n",
      "|            Saarland| 22127|\n",
      "|  Schleswig-Holstein| 47239|\n",
      "|     Rheinland-Pfalz| 94726|\n",
      "+--------------------+------+\n",
      "\n"
     ]
    }
   ],
   "source": [
    "### Alle betroffenen Bundesländer\n",
    "df.groupBy(\"Bundesland\").count().show()"
   ]
  },
  {
   "cell_type": "code",
   "execution_count": 59,
   "id": "9cc7277f-4de7-4827-8e08-bb1faaed53e4",
   "metadata": {},
   "outputs": [
    {
     "name": "stdout",
     "output_type": "stream",
     "text": [
      "+-------+-----------------+-----------------+-----------------+-------------------+------------+----------+------------------+-------------------+--------------------+-----------------+--------------------+--------------------+------------------+--------------------+-------------------+------------------+--------------------+-----------------+\n",
      "|summary|         ObjectId|     IdBundesland|       Bundesland|          Landkreis|Altersgruppe|Geschlecht|        AnzahlFall|    AnzahlTodesfall|          Meldedatum|      IdLandkreis|          Datenstand|           NeuerFall|    NeuerTodesfall|            Refdatum|         NeuGenesen|     AnzahlGenesen|IstErkrankungsbeginn|    Altersgruppe2|\n",
      "+-------+-----------------+-----------------+-----------------+-------------------+------------+----------+------------------+-------------------+--------------------+-----------------+--------------------+--------------------+------------------+--------------------+-------------------+------------------+--------------------+-----------------+\n",
      "|  count|          2003106|          2003106|          2003106|            2003106|     2003106|   2003106|           2003106|            2003106|             2003106|          2003106|             2003106|             2003106|           2003106|             2003106|            2003106|           2003106|             2003106|          2003106|\n",
      "|   mean|        1001553.5| 7.99115423746921|             null|               null|        null|      null|1.8345030168148866|0.04410151035441959|                null|8317.585857163824|                null|0.001749782587641...|-8.668266681843098|                null|-0.6025761991627003|1.7328783399380763|  0.7012504580386659|             null|\n",
      "| stddev|578247.0384952265|3.676249636013537|             null|               null|        null|      null|2.5629516720516548|0.26221040262407336|                null|3639.850633073219|                null|0.048040093338880235|1.6959873329443984|                null| 2.2558363580945513| 2.563150051685783|  0.4577099056454686|             null|\n",
      "|    min|                1|                1|Baden-Württemberg|       LK Ahrweiler|     A00-A04|         M|                -3|                 -1|2020/01/04 00:00:...|             1001|29.05.2021, 00:00...|                  -1|                -9|2020/01/01 00:00:...|                 -9|                -3|                   0|Nicht übermittelt|\n",
      "|    max|          2003106|               16|        Thüringen|Städteregion Aachen|   unbekannt| unbekannt|               145|                 21|2021/05/28 00:00:...|            16077|29.05.2021, 00:00...|                   1|                 1|2021/05/28 00:00:...|                  1|               145|                   1|Nicht übermittelt|\n",
      "+-------+-----------------+-----------------+-----------------+-------------------+------------+----------+------------------+-------------------+--------------------+-----------------+--------------------+--------------------+------------------+--------------------+-------------------+------------------+--------------------+-----------------+\n",
      "\n"
     ]
    }
   ],
   "source": [
    "### Anzahl der Datensätze nach Bundesland\n",
    "df.describe().show()"
   ]
  },
  {
   "cell_type": "code",
   "execution_count": 60,
   "id": "719bef68-3b48-4cf7-a607-aabe39300d73",
   "metadata": {},
   "outputs": [
    {
     "name": "stdout",
     "output_type": "stream",
     "text": [
      "+--------------------+-----+\n",
      "|          Bundesland|count|\n",
      "+--------------------+-----+\n",
      "|      Sachsen-Anhalt|  122|\n",
      "|       Niedersachsen|  370|\n",
      "|         Brandenburg|   86|\n",
      "|              Berlin|  308|\n",
      "|              Bayern|  608|\n",
      "|             Sachsen|  274|\n",
      "|             Hamburg|   33|\n",
      "|              Bremen|   16|\n",
      "| Nordrhein-Westfalen|  766|\n",
      "|           Thüringen|  150|\n",
      "|              Hessen|  319|\n",
      "|   Baden-Württemberg|  614|\n",
      "|Mecklenburg-Vorpo...|   40|\n",
      "|            Saarland|   51|\n",
      "|  Schleswig-Holstein|   94|\n",
      "|     Rheinland-Pfalz|  216|\n",
      "+--------------------+-----+\n",
      "\n"
     ]
    }
   ],
   "source": [
    "# Anzahl der Fälle nach Bundesland\n",
    "df.filter(df['NeuerFall'] >  0).groupBy(\"Bundesland\").count().show()\n"
   ]
  },
  {
   "cell_type": "code",
   "execution_count": 61,
   "id": "5a7e2d7c-4d0e-4740-830a-9b72235b4f8b",
   "metadata": {},
   "outputs": [
    {
     "name": "stdout",
     "output_type": "stream",
     "text": [
      "+---------------+\n",
      "|sum(AnzahlFall)|\n",
      "+---------------+\n",
      "|        3674704|\n",
      "+---------------+\n",
      "\n"
     ]
    }
   ],
   "source": [
    "# Anzahl der Gesamtfälle\n",
    "df.groupBy().sum(\"AnzahlFall\").show()"
   ]
  },
  {
   "cell_type": "code",
   "execution_count": 62,
   "id": "75666d9e-3c6f-4ceb-86d8-1e1ff227f640",
   "metadata": {},
   "outputs": [
    {
     "data": {
      "text/plain": [
       "4067"
      ]
     },
     "execution_count": 62,
     "metadata": {},
     "output_type": "execute_result"
    }
   ],
   "source": [
    "df.filter(df['NeuerFall'] >  0).count()"
   ]
  },
  {
   "cell_type": "markdown",
   "id": "537b1379-4228-4a97-9905-d30677008e5f",
   "metadata": {},
   "source": [
    "## Fälle insgesamt (abzüglich Korrekturen - Feld NeuerFall = -1)"
   ]
  },
  {
   "cell_type": "code",
   "execution_count": 63,
   "id": "bdfc91fb-a6df-4426-885e-a1c7f093ce80",
   "metadata": {},
   "outputs": [
    {
     "name": "stdout",
     "output_type": "stream",
     "text": [
      "+---------------+\n",
      "|sum(AnzahlFall)|\n",
      "+---------------+\n",
      "|        3674704|\n",
      "+---------------+\n",
      "\n"
     ]
    }
   ],
   "source": [
    "df.groupBy().sum(\"AnzahlFall\").show()"
   ]
  },
  {
   "cell_type": "markdown",
   "id": "31026b0e-8511-495f-8e8f-718189692ee0",
   "metadata": {},
   "source": [
    "## Fälle insgesamt (ohne Korrekturen - siehe https://www.rki.de/DE/Content/InfAZ/N/Neuartiges_Coronavirus/Fallzahlen.html)"
   ]
  },
  {
   "cell_type": "code",
   "execution_count": 64,
   "id": "09327372-cf3d-4860-944c-348f1be6294e",
   "metadata": {},
   "outputs": [
    {
     "name": "stdout",
     "output_type": "stream",
     "text": [
      "+---------------+\n",
      "|sum(AnzahlFall)|\n",
      "+---------------+\n",
      "|        3675296|\n",
      "+---------------+\n",
      "\n"
     ]
    }
   ],
   "source": [
    "df.filter(df['NeuerFall'] >  -1).groupBy().sum(\"AnzahlFall\").show()"
   ]
  },
  {
   "cell_type": "markdown",
   "id": "02d805a8-b1e0-4e21-b51f-e76bad3acf97",
   "metadata": {},
   "source": [
    "## Anzahl neue Fälle (heute) (mit Korrekturen - siehe https://www.rki.de/DE/Content/InfAZ/N/Neuartiges_Coronavirus/Fallzahlen.html)"
   ]
  },
  {
   "cell_type": "code",
   "execution_count": 66,
   "id": "5058ad32-6d58-4a05-aeb6-d560ae409d7b",
   "metadata": {},
   "outputs": [
    {
     "name": "stdout",
     "output_type": "stream",
     "text": [
      "+---------------+\n",
      "|sum(AnzahlFall)|\n",
      "+---------------+\n",
      "|           5426|\n",
      "+---------------+\n",
      "\n"
     ]
    }
   ],
   "source": [
    "df.filter(df['NeuerFall']  != 0).groupBy().sum(\"AnzahlFall\").show()"
   ]
  },
  {
   "cell_type": "markdown",
   "id": "2b8acde6-6271-42c5-b48e-50832268ecda",
   "metadata": {},
   "source": [
    "## Fälle kategorsiert nach NeuerFall-Typ (1 = Neuer Fall, 0 = Bekannter Fall, -1 Korrektur)"
   ]
  },
  {
   "cell_type": "code",
   "execution_count": 67,
   "id": "9e499583-47ad-4b38-8007-f8890b518937",
   "metadata": {},
   "outputs": [
    {
     "name": "stdout",
     "output_type": "stream",
     "text": [
      "+---------+---------------+\n",
      "|NeuerFall|sum(AnzahlFall)|\n",
      "+---------+---------------+\n",
      "|       -1|           -592|\n",
      "|        1|           6018|\n",
      "|        0|        3669278|\n",
      "+---------+---------------+\n",
      "\n"
     ]
    }
   ],
   "source": [
    "df.groupBy(\"NeuerFall\").sum(\"AnzahlFall\").show()"
   ]
  },
  {
   "cell_type": "markdown",
   "id": "7d918c76-9e23-4ac3-99e1-e1ed8ee6c508",
   "metadata": {},
   "source": [
    "# Anzahl Todesfall"
   ]
  },
  {
   "cell_type": "code",
   "execution_count": 68,
   "id": "4cfb00a5-a37d-4c7b-a995-7a2aca315dd9",
   "metadata": {},
   "outputs": [
    {
     "name": "stdout",
     "output_type": "stream",
     "text": [
      "+--------------+--------------------+\n",
      "|NeuerTodesfall|sum(AnzahlTodesfall)|\n",
      "+--------------+--------------------+\n",
      "|            -1|                 -10|\n",
      "|             1|                 173|\n",
      "|            -9|                   0|\n",
      "|             0|               88177|\n",
      "+--------------+--------------------+\n",
      "\n"
     ]
    }
   ],
   "source": [
    "df.groupBy(\"NeuerTodesfall\").sum(\"AnzahlTodesfall\").show()"
   ]
  },
  {
   "cell_type": "code",
   "execution_count": 69,
   "id": "2c7994d8-8c06-4637-8aea-289c96f83fe7",
   "metadata": {},
   "outputs": [
    {
     "name": "stdout",
     "output_type": "stream",
     "text": [
      "+--------------+----------+--------------------+\n",
      "|NeuerTodesfall|Geschlecht|sum(AnzahlTodesfall)|\n",
      "+--------------+----------+--------------------+\n",
      "|             1|         W|                  71|\n",
      "|             1|         M|                 102|\n",
      "|             0| unbekannt|                 207|\n",
      "|             0|         W|               41845|\n",
      "|             0|         M|               46125|\n",
      "|            -1|         W|                  -3|\n",
      "|            -1|         M|                  -7|\n",
      "|            -9|         M|                   0|\n",
      "|            -9|         W|                   0|\n",
      "|            -9| unbekannt|                   0|\n",
      "+--------------+----------+--------------------+\n",
      "\n"
     ]
    }
   ],
   "source": [
    "# Anzahl Todesfall nach Geschlecht\n",
    "df.groupBy(\"NeuerTodesfall\",\"Geschlecht\").sum(\"AnzahlTodesfall\").sort(col(\"NeuerTodesfall\").desc()).show()"
   ]
  },
  {
   "cell_type": "markdown",
   "id": "83375413-d0b0-4e8c-bdcb-fb4d386908cd",
   "metadata": {},
   "source": [
    "# Anzahl Genesen"
   ]
  },
  {
   "cell_type": "code",
   "execution_count": 70,
   "id": "15f1352c-1a6c-4011-ac7f-48c055872045",
   "metadata": {},
   "outputs": [
    {
     "name": "stdout",
     "output_type": "stream",
     "text": [
      "+----------+------------------+\n",
      "|NeuGenesen|sum(AnzahlGenesen)|\n",
      "+----------+------------------+\n",
      "|        -1|              -691|\n",
      "|         1|             10829|\n",
      "|        -9|                 0|\n",
      "|         0|           3461001|\n",
      "+----------+------------------+\n",
      "\n"
     ]
    }
   ],
   "source": [
    "df.groupBy(\"NeuGenesen\").sum(\"AnzahlGenesen\").show()"
   ]
  },
  {
   "cell_type": "markdown",
   "id": "40075c3e-c770-41df-a68c-4f366e774f00",
   "metadata": {},
   "source": [
    "## Prüfen ob Zellen Infos zu Todefällen, Genesungen und Neufällen enthält"
   ]
  },
  {
   "cell_type": "code",
   "execution_count": 71,
   "id": "8d351afe-7895-4308-b974-f9ab464e6f48",
   "metadata": {},
   "outputs": [
    {
     "data": {
      "text/plain": [
       "1941511"
      ]
     },
     "execution_count": 71,
     "metadata": {},
     "output_type": "execute_result"
    }
   ],
   "source": [
    "df.filter(((df[\"AnzahlFall\"] > 0) & (df[\"AnzahlTodesfall\"] > 0)) | ((df[\"AnzahlGenesen\"] > 0) & (df[\"AnzahlTodesfall\"] > 0)) | ((df[\"AnzahlFall\"] > 0) & (df[\"AnzahlGenesen\"] > 0))).count()"
   ]
  },
  {
   "cell_type": "markdown",
   "id": "3e363bfa-ccd3-4f43-b176-3ea0607d766f",
   "metadata": {},
   "source": [
    "## Prüfen ob es Einträge gibt, in denen alle drei gefüllt sind"
   ]
  },
  {
   "cell_type": "code",
   "execution_count": 72,
   "id": "7f9ccda8-2493-4dbb-8f03-ad63a040dfe2",
   "metadata": {},
   "outputs": [
    {
     "data": {
      "text/plain": [
       "0"
      ]
     },
     "execution_count": 72,
     "metadata": {},
     "output_type": "execute_result"
    }
   ],
   "source": [
    "df.filter((df[\"AnzahlFall\"] > 0) & (df[\"AnzahlTodesfall\"] > 0) & (df[\"AnzahlGenesen\"] > 0)).count()"
   ]
  },
  {
   "cell_type": "markdown",
   "id": "958db670-885d-4801-b6dc-6b540a0504a8",
   "metadata": {},
   "source": [
    "## Prüfen ob es Records gibt, in den Anzahl Genesen und Anzahl Todesfall gefüllt sind"
   ]
  },
  {
   "cell_type": "code",
   "execution_count": 73,
   "id": "9fa23160-eaf4-4886-97ef-3529c5ed2081",
   "metadata": {},
   "outputs": [
    {
     "data": {
      "text/plain": [
       "0"
      ]
     },
     "execution_count": 73,
     "metadata": {},
     "output_type": "execute_result"
    }
   ],
   "source": [
    "df.filter((df[\"AnzahlGenesen\"] > 0) & (df[\"AnzahlTodesfall\"] > 0)).count()"
   ]
  },
  {
   "cell_type": "markdown",
   "id": "01d20ec2-74ca-46eb-82f2-77f1413fa965",
   "metadata": {},
   "source": [
    "## Prüfen wie viele Records gibt, in den Anzahl Fall und Anzahl Todesfall gefüllt sind"
   ]
  },
  {
   "cell_type": "code",
   "execution_count": 74,
   "id": "f0815eea-2bd9-4fbf-addd-0259efb4d3e1",
   "metadata": {},
   "outputs": [
    {
     "data": {
      "text/plain": [
       "73805"
      ]
     },
     "execution_count": 74,
     "metadata": {},
     "output_type": "execute_result"
    }
   ],
   "source": [
    "df.filter((df[\"AnzahlFall\"] > 0) & (df[\"AnzahlTodesfall\"] > 0)).count()"
   ]
  },
  {
   "cell_type": "markdown",
   "id": "480ea450-c29b-4f8d-a599-e7f5df183458",
   "metadata": {},
   "source": [
    "## Prüfen wie viele Records gibt, in den Anzahl Fall und Anzahl Genesen gefüllt sind"
   ]
  },
  {
   "cell_type": "code",
   "execution_count": 75,
   "id": "55d65d12-82da-494d-ba7d-efc6f79107e1",
   "metadata": {},
   "outputs": [
    {
     "data": {
      "text/plain": [
       "1867706"
      ]
     },
     "execution_count": 75,
     "metadata": {},
     "output_type": "execute_result"
    }
   ],
   "source": [
    "df.filter((df[\"AnzahlFall\"] > 0) & (df[\"AnzahlGenesen\"] > 0)).count()"
   ]
  },
  {
   "cell_type": "markdown",
   "id": "7be80e39-b34b-46cd-968a-39617ba96f87",
   "metadata": {},
   "source": [
    "## Prüfen ob es Einträge gibt bei denen Anzahl Fall und Anzahl Todesfall nicht den selben Wert haben"
   ]
  },
  {
   "cell_type": "code",
   "execution_count": 76,
   "id": "ec54af8a-7d09-4384-b59d-a00bec9ab6be",
   "metadata": {},
   "outputs": [
    {
     "data": {
      "text/plain": [
       "0"
      ]
     },
     "execution_count": 76,
     "metadata": {},
     "output_type": "execute_result"
    }
   ],
   "source": [
    "df.filter((df[\"AnzahlFall\"] > 0) & (df[\"AnzahlTodesfall\"] > 0) & (df[\"AnzahlFall\"] != df[\"AnzahlTodesfall\"])).count()"
   ]
  },
  {
   "cell_type": "markdown",
   "id": "0c8ba771-4f6b-4b0d-9855-21d5eda7021a",
   "metadata": {},
   "source": [
    "## Gegenprobe"
   ]
  },
  {
   "cell_type": "code",
   "execution_count": 77,
   "id": "8cda6d18-b271-441f-9489-9c18832dc5c9",
   "metadata": {},
   "outputs": [
    {
     "data": {
      "text/plain": [
       "73805"
      ]
     },
     "execution_count": 77,
     "metadata": {},
     "output_type": "execute_result"
    }
   ],
   "source": [
    "df.filter((df[\"AnzahlFall\"] > 0) & (df[\"AnzahlTodesfall\"] > 0) & (df[\"AnzahlFall\"] == df[\"AnzahlTodesfall\"])).count()"
   ]
  },
  {
   "cell_type": "markdown",
   "id": "7ef64482-1ff5-48cf-90b2-213e2296f244",
   "metadata": {},
   "source": [
    "## Prüfen ob es Einträge gibt bei denen Anzahl Genesen und Anzahl Fall nicht den selben Wert haben"
   ]
  },
  {
   "cell_type": "code",
   "execution_count": 78,
   "id": "9690d9cc-e927-4024-8a71-fecf44608438",
   "metadata": {},
   "outputs": [
    {
     "data": {
      "text/plain": [
       "0"
      ]
     },
     "execution_count": 78,
     "metadata": {},
     "output_type": "execute_result"
    }
   ],
   "source": [
    "df.filter((df[\"AnzahlFall\"] > 0) & (df[\"AnzahlGenesen\"] > 0) & (df[\"AnzahlFall\"] != df[\"AnzahlGenesen\"])).count()"
   ]
  },
  {
   "cell_type": "markdown",
   "id": "7c021fb7-9336-47aa-b7a5-74496228f91e",
   "metadata": {},
   "source": [
    "## Gegenprobe"
   ]
  },
  {
   "cell_type": "code",
   "execution_count": 79,
   "id": "14a0645a-0e3d-4f12-bf39-742cd25be234",
   "metadata": {},
   "outputs": [
    {
     "data": {
      "text/plain": [
       "1867706"
      ]
     },
     "execution_count": 79,
     "metadata": {},
     "output_type": "execute_result"
    }
   ],
   "source": [
    "df.filter((df[\"AnzahlFall\"] > 0) & (df[\"AnzahlGenesen\"] > 0) & (df[\"AnzahlFall\"] == df[\"AnzahlGenesen\"])).count()"
   ]
  },
  {
   "cell_type": "markdown",
   "id": "f960ecce-9122-42ce-9692-25074eeec2e5",
   "metadata": {},
   "source": [
    "## Prüfen ob es Fälle gibt bei denen Anzal Fall 0 ist und Anzahl Geenesen bzw- Todesfall größer 0 sind"
   ]
  },
  {
   "cell_type": "code",
   "execution_count": 86,
   "id": "9069d2d6-84d1-4e92-8ee5-8c0d83431110",
   "metadata": {},
   "outputs": [
    {
     "data": {
      "text/plain": [
       "0"
      ]
     },
     "execution_count": 86,
     "metadata": {},
     "output_type": "execute_result"
    }
   ],
   "source": [
    "df.filter((df[\"AnzahlFall\"] == 0) & ((df[\"AnzahlGenesen\"] > 0) | (df[\"AnzahlTodesfall\"]  > 0))).count()"
   ]
  },
  {
   "cell_type": "code",
   "execution_count": 80,
   "id": "3d8ae936-e9e4-4645-ae1f-33d21b5345ae",
   "metadata": {},
   "outputs": [],
   "source": [
    "## Prüfen ob es Einträge gibt bei denen Anzahl Genesen und Anzahl Todesfall nicht den selben Wert haben"
   ]
  },
  {
   "cell_type": "code",
   "execution_count": 81,
   "id": "cade436e-a18b-4893-b3d1-b4d1601dd599",
   "metadata": {},
   "outputs": [
    {
     "name": "stdout",
     "output_type": "stream",
     "text": [
      "+--------+------------+------------------+------------+------------+----------+----------+---------------+--------------------+-----------+--------------------+---------+--------------+--------------------+----------+-------------+--------------------+-----------------+----------+\n",
      "|ObjectId|IdBundesland|        Bundesland|   Landkreis|Altersgruppe|Geschlecht|AnzahlFall|AnzahlTodesfall|          Meldedatum|IdLandkreis|          Datenstand|NeuerFall|NeuerTodesfall|            Refdatum|NeuGenesen|AnzahlGenesen|IstErkrankungsbeginn|    Altersgruppe2|  DateTime|\n",
      "+--------+------------+------------------+------------+------------+----------+----------+---------------+--------------------+-----------+--------------------+---------+--------------+--------------------+----------+-------------+--------------------+-----------------+----------+\n",
      "|       1|           1|Schleswig-Holstein|SK Flensburg|     A15-A34|         M|         3|              0|2021/03/19 00:00:...|       1001|29.05.2021, 00:00...|        0|            -9|2021/03/16 00:00:...|         0|            3|                   1|Nicht übermittelt|2021-03-16|\n",
      "+--------+------------+------------------+------------+------------+----------+----------+---------------+--------------------+-----------+--------------------+---------+--------------+--------------------+----------+-------------+--------------------+-----------------+----------+\n",
      "only showing top 1 row\n",
      "\n"
     ]
    }
   ],
   "source": [
    "#Spalte einfügen um Datumstring in DateType umzuwandeln\n",
    "df.withColumn(\"DateTime\",to_date(col(\"Refdatum\"), \"yyyy/MM/dd HH:mm:ssx\")).show(1)\n",
    "\n",
    "\n",
    "#df.filter(df['NeuerFall'] == 1).filter(to_date(df.Refdatum, \"dd/MM/yyyy\") == lit(\"2021-05-29\")).groupBy(\"NeuerFall\").sum(\"AnzahlFall\").show()\n"
   ]
  },
  {
   "cell_type": "code",
   "execution_count": null,
   "id": "0027c3e2-5075-45cd-9edf-bc63105974ca",
   "metadata": {},
   "outputs": [],
   "source": [
    "## TODO:\n",
    "-> Geschlecht Range\n",
    "--> Datumsrange\n",
    "-_> Zeigen das Altersgruppe 2 leer ist\n",
    "--> Visualisierung\n",
    "--> Feld ist erkrankungsbeginn\n",
    "--> Wie viele Geshclecht unbekannt\n",
    "\n",
    "--> Aufnehmen von asugewählten Kominationen:\n",
    "    + wenn alle Korrekturen herausgefilter sind, Fälle anschauen neu genesen -1 und neuerTodesfall -1\n",
    "    + Schauen wie viel neuer Fall\n",
    "    +\n"
   ]
  },
  {
   "cell_type": "code",
   "execution_count": null,
   "id": "01ad8462-4f9c-471b-9931-247259488b3c",
   "metadata": {},
   "outputs": [],
   "source": []
  },
  {
   "cell_type": "code",
   "execution_count": 82,
   "id": "94838fee-4eb1-4ef6-9f70-ac31ce02c2b3",
   "metadata": {},
   "outputs": [],
   "source": [
    "# DateFormart\n",
    "dfNeu = df.withColumn(\"DateTime\",to_date(col(\"Refdatum\"), \"yyyy/MM/dd HH:mm:ssx\"))\n",
    "\n"
   ]
  },
  {
   "cell_type": "code",
   "execution_count": 83,
   "id": "9d374b09-1b14-4d28-9601-c58e8aaca890",
   "metadata": {},
   "outputs": [
    {
     "name": "stdout",
     "output_type": "stream",
     "text": [
      "+--------+------------+----------+----------------+------------+----------+----------+---------------+--------------------+-----------+--------------------+---------+--------------+--------------------+----------+-------------+--------------------+-----------------+----------+\n",
      "|ObjectId|IdBundesland|Bundesland|       Landkreis|Altersgruppe|Geschlecht|AnzahlFall|AnzahlTodesfall|          Meldedatum|IdLandkreis|          Datenstand|NeuerFall|NeuerTodesfall|            Refdatum|NeuGenesen|AnzahlGenesen|IstErkrankungsbeginn|    Altersgruppe2|  DateTime|\n",
      "+--------+------------+----------+----------------+------------+----------+----------+---------------+--------------------+-----------+--------------------+---------+--------------+--------------------+----------+-------------+--------------------+-----------------+----------+\n",
      "| 1797161|          14|   Sachsen|      SK Dresden|     A05-A14|         W|         1|              0|2021/05/28 00:00:...|      14612|29.05.2021, 00:00...|        1|            -9|2021/05/28 00:00:...|        -9|            0|                   0|Nicht übermittelt|2021-05-28|\n",
      "| 1826848|          14|   Sachsen|       LK Meißen|     A35-A59|         M|         1|              0|2021/05/28 00:00:...|      14627|29.05.2021, 00:00...|        1|            -9|2021/05/28 00:00:...|        -9|            0|                   0|Nicht übermittelt|2021-05-28|\n",
      "| 1800176|          14|   Sachsen|      SK Dresden|     A35-A59|         W|         1|              0|2021/05/28 00:00:...|      14612|29.05.2021, 00:00...|        1|            -9|2021/05/28 00:00:...|        -9|            0|                   0|Nicht übermittelt|2021-05-28|\n",
      "| 1778178|          14|   Sachsen|LK Vogtlandkreis|     A05-A14|         M|         1|              0|2021/05/28 00:00:...|      14523|29.05.2021, 00:00...|        1|            -9|2021/05/28 00:00:...|        -9|            0|                   0|Nicht übermittelt|2021-05-28|\n",
      "| 1801761|          14|   Sachsen|      SK Dresden|     A35-A59|         M|         2|              0|2021/05/28 00:00:...|      14612|29.05.2021, 00:00...|        1|            -9|2021/05/28 00:00:...|        -9|            0|                   0|Nicht übermittelt|2021-05-28|\n",
      "| 1786834|          14|   Sachsen|LK Vogtlandkreis|     A60-A79|         W|         1|              0|2021/05/28 00:00:...|      14523|29.05.2021, 00:00...|        1|            -9|2021/05/28 00:00:...|        -9|            0|                   0|Nicht übermittelt|2021-05-28|\n",
      "| 1806551|          14|   Sachsen|      LK Bautzen|     A05-A14|         M|         1|              0|2021/04/28 00:00:...|      14625|29.05.2021, 00:00...|        0|            -9|2021/05/28 00:00:...|        -1|           -1|                   1|Nicht übermittelt|2021-05-28|\n",
      "| 1789913|          14|   Sachsen|      LK Zwickau|     A15-A34|         M|         7|              0|2021/05/28 00:00:...|      14524|29.05.2021, 00:00...|        1|            -9|2021/05/28 00:00:...|        -9|            0|                   0|Nicht übermittelt|2021-05-28|\n",
      "| 1807877|          14|   Sachsen|      LK Bautzen|     A15-A34|         W|         1|              0|2021/04/30 00:00:...|      14625|29.05.2021, 00:00...|        0|            -9|2021/05/28 00:00:...|        -9|            0|                   1|Nicht übermittelt|2021-05-28|\n",
      "| 1790260|          14|   Sachsen|      LK Zwickau|     A60-A79|         M|         1|              0|2021/05/28 00:00:...|      14524|29.05.2021, 00:00...|        1|            -9|2021/05/28 00:00:...|        -9|            0|                   0|Nicht übermittelt|2021-05-28|\n",
      "| 1814591|          14|   Sachsen|      LK Görlitz|     A05-A14|         M|         1|              0|2021/05/28 00:00:...|      14626|29.05.2021, 00:00...|        1|            -9|2021/05/28 00:00:...|        -9|            0|                   0|Nicht übermittelt|2021-05-28|\n",
      "| 1793066|          14|   Sachsen|      LK Zwickau|        A80+|         M|         2|              0|2021/05/28 00:00:...|      14524|29.05.2021, 00:00...|        1|            -9|2021/05/28 00:00:...|        -9|            0|                   0|Nicht übermittelt|2021-05-28|\n",
      "| 1815273|          14|   Sachsen|      LK Görlitz|     A35-A59|         M|         2|              0|2021/05/28 00:00:...|      14626|29.05.2021, 00:00...|        1|            -9|2021/05/28 00:00:...|        -9|            0|                   0|Nicht übermittelt|2021-05-28|\n",
      "| 1794216|          14|   Sachsen|      LK Zwickau|        A80+|         W|         2|              0|2021/05/28 00:00:...|      14524|29.05.2021, 00:00...|        1|            -9|2021/05/28 00:00:...|        -9|            0|                   0|Nicht übermittelt|2021-05-28|\n",
      "| 1816275|          14|   Sachsen|      LK Görlitz|     A15-A34|         W|         1|              0|2021/05/28 00:00:...|      14626|29.05.2021, 00:00...|        1|            -9|2021/05/28 00:00:...|        -9|            0|                   0|Nicht übermittelt|2021-05-28|\n",
      "| 1821917|          14|   Sachsen|       LK Meißen|     A00-A04|         W|         1|              0|2021/04/30 00:00:...|      14627|29.05.2021, 00:00...|        0|            -9|2021/05/28 00:00:...|        -1|           -1|                   1|Nicht übermittelt|2021-05-28|\n",
      "| 1826709|          14|   Sachsen|       LK Meißen|     A35-A59|         M|         2|              0|2021/04/30 00:00:...|      14627|29.05.2021, 00:00...|        0|            -9|2021/05/28 00:00:...|        -1|           -2|                   1|Nicht übermittelt|2021-05-28|\n",
      "| 1822194|          14|   Sachsen|       LK Meißen|     A05-A14|         M|         1|              0|2021/05/06 00:00:...|      14627|29.05.2021, 00:00...|        0|            -9|2021/05/28 00:00:...|        -1|           -1|                   1|Nicht übermittelt|2021-05-28|\n",
      "| 1782101|          14|   Sachsen|LK Vogtlandkreis|     A15-A34|         W|         1|              0|2021/05/28 00:00:...|      14523|29.05.2021, 00:00...|        1|            -9|2021/05/28 00:00:...|        -9|            0|                   0|Nicht übermittelt|2021-05-28|\n",
      "| 1823801|          14|   Sachsen|       LK Meißen|     A15-A34|         M|         1|              0|2021/04/30 00:00:...|      14627|29.05.2021, 00:00...|        0|            -9|2021/05/28 00:00:...|        -9|            0|                   1|Nicht übermittelt|2021-05-28|\n",
      "+--------+------------+----------+----------------+------------+----------+----------+---------------+--------------------+-----------+--------------------+---------+--------------+--------------------+----------+-------------+--------------------+-----------------+----------+\n",
      "only showing top 20 rows\n",
      "\n"
     ]
    }
   ],
   "source": [
    "dfNeu.sort(col(\"DateTime\").desc()).show()"
   ]
  },
  {
   "cell_type": "code",
   "execution_count": 84,
   "id": "a576c7d3-b11c-4bd5-85e2-dc6a7090d5b8",
   "metadata": {},
   "outputs": [
    {
     "name": "stdout",
     "output_type": "stream",
     "text": [
      "+---------------+\n",
      "|sum(AnzahlFall)|\n",
      "+---------------+\n",
      "|           6018|\n",
      "+---------------+\n",
      "\n"
     ]
    }
   ],
   "source": [
    "df.filter(df['NeuerFall'] >  0).groupBy().sum(\"AnzahlFall\").show()"
   ]
  }
 ],
 "metadata": {
  "kernelspec": {
   "display_name": "Python 3",
   "language": "python",
   "name": "python3"
  },
  "language_info": {
   "codemirror_mode": {
    "name": "ipython",
    "version": 3
   },
   "file_extension": ".py",
   "mimetype": "text/x-python",
   "name": "python",
   "nbconvert_exporter": "python",
   "pygments_lexer": "ipython3",
   "version": "3.8.8"
  }
 },
 "nbformat": 4,
 "nbformat_minor": 5
}
