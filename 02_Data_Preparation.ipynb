{
 "cells": [
  {
   "cell_type": "markdown",
   "id": "78da626b-7d05-4bc8-8204-27ba6c010209",
   "metadata": {},
   "source": [
    "# Data Preperation"
   ]
  },
  {
   "cell_type": "code",
   "execution_count": 1,
   "id": "ca4d0ac4-226e-4f5b-a6fa-0bd1b85bd29c",
   "metadata": {},
   "outputs": [],
   "source": [
    "from pyspark.sql import DataFrameReader\n",
    "from pyspark.sql import SparkSession\n",
    "from pyspark.ml.feature import IndexToString, Normalizer, StringIndexer, VectorAssembler, VectorIndexer\n",
    "from pyspark.ml.classification import DecisionTreeClassifier\n",
    "from helpers.helper_functions import translate_to_file_string\n",
    "from pyspark.sql.functions import col,lit,to_date\n",
    "from pyspark.sql.functions import expr,when\n",
    "from pyspark.ml.feature import Imputer\n",
    "from pyspark.ml.feature import StringIndexer\n",
    "from sklearn.impute import KNNImputer\n",
    "from pyspark.sql.functions import rand, desc\n",
    "from pyspark.ml.feature import StringIndexer\n",
    "from pyspark.ml import Pipeline\n",
    "from pyspark.ml.feature import MinHashLSH\n",
    "from pyspark.ml.feature import BucketedRandomProjectionLSH\n",
    "from pyspark.sql import Row\n",
    "from pyspark.ml.linalg import Vectors\n",
    "from pyspark.ml.feature import MinMaxScaler\n",
    "from IPython.display import display, clear_output\n",
    "import random\n",
    "import time\n",
    "\n",
    "\n",
    "# for pretty printing\n",
    "def printDf(sprkDF): \n",
    "    newdf = sprkDF.toPandas()\n",
    "    from IPython.display import display, HTML\n",
    "    return HTML(newdf.to_html())\n",
    "\n",
    "inputFile = translate_to_file_string(\"./data/RKI_COVID19_20210529.csv\")"
   ]
  },
  {
   "cell_type": "markdown",
   "id": "4978b0a3-e029-4a47-addf-3d03cc69e0fd",
   "metadata": {},
   "source": [
    "## Create Spark Session"
   ]
  },
  {
   "cell_type": "code",
   "execution_count": 2,
   "id": "67da5ee7-f795-4e20-8ea6-17affdfde647",
   "metadata": {},
   "outputs": [
    {
     "name": "stdout",
     "output_type": "stream",
     "text": [
      "root\n",
      " |-- ObjectId: integer (nullable = true)\n",
      " |-- IdBundesland: integer (nullable = true)\n",
      " |-- Bundesland: string (nullable = true)\n",
      " |-- Landkreis: string (nullable = true)\n",
      " |-- Altersgruppe: string (nullable = true)\n",
      " |-- Geschlecht: string (nullable = true)\n",
      " |-- AnzahlFall: integer (nullable = true)\n",
      " |-- AnzahlTodesfall: integer (nullable = true)\n",
      " |-- Meldedatum: string (nullable = true)\n",
      " |-- IdLandkreis: integer (nullable = true)\n",
      " |-- Datenstand: string (nullable = true)\n",
      " |-- NeuerFall: integer (nullable = true)\n",
      " |-- NeuerTodesfall: integer (nullable = true)\n",
      " |-- Refdatum: string (nullable = true)\n",
      " |-- NeuGenesen: integer (nullable = true)\n",
      " |-- AnzahlGenesen: integer (nullable = true)\n",
      " |-- IstErkrankungsbeginn: integer (nullable = true)\n",
      " |-- Altersgruppe2: string (nullable = true)\n",
      "\n",
      "None\n"
     ]
    }
   ],
   "source": [
    "#create a SparkSession\n",
    "spark = (SparkSession\n",
    "       .builder\n",
    "       .appName(\"RKICOVID19PREPARATION\")\n",
    "       .getOrCreate())\n",
    "# create a DataFrame using an ifered Schema \n",
    "df = spark.read.option(\"header\", \"true\") \\\n",
    "       .option(\"inferSchema\", \"true\") \\\n",
    "       .option(\"delimiter\", \",\") \\\n",
    "       .csv(inputFile)   \n",
    "print(df.printSchema())"
   ]
  },
  {
   "cell_type": "markdown",
   "id": "95122e88-0f35-4155-bd75-ec2e5fc61575",
   "metadata": {},
   "source": [
    "### Überprüfung\n",
    "Zur Überprüfung wird die Gesamtzahl der eingelesenen Instanzen ermittelt."
   ]
  },
  {
   "cell_type": "code",
   "execution_count": 3,
   "id": "73a177f0-5433-4de0-9c63-fda97aada64c",
   "metadata": {},
   "outputs": [
    {
     "data": {
      "text/plain": [
       "2003106"
      ]
     },
     "execution_count": 3,
     "metadata": {},
     "output_type": "execute_result"
    }
   ],
   "source": [
    "df.count()"
   ]
  },
  {
   "cell_type": "markdown",
   "id": "da195ba4-154f-456e-ad66-4029141babb0",
   "metadata": {},
   "source": [
    "## Datenreinigung\n",
    "Nimmt das Feld NeuerFall den Wert -1 an, so ist er laut RKI \"[...] nur in der Publikation des Vortags enthalten\". Es handelt sich also um eine Korrektur der Puplikation des Vortages, die in der aktuellen Datenauswertung aus dem Dataframe herausgefiltert werden muss."
   ]
  },
  {
   "cell_type": "code",
   "execution_count": 4,
   "id": "d7736d57-e5f8-434d-9285-898acc495f4b",
   "metadata": {},
   "outputs": [],
   "source": [
    "df = df.filter(df.NeuerFall > -1)"
   ]
  },
  {
   "cell_type": "code",
   "execution_count": 5,
   "id": "cc051c46-142f-4624-9edd-f7eecaf01180",
   "metadata": {},
   "outputs": [
    {
     "data": {
      "text/plain": [
       "2002544"
      ]
     },
     "execution_count": 5,
     "metadata": {},
     "output_type": "execute_result"
    }
   ],
   "source": [
    "df.count()"
   ]
  },
  {
   "cell_type": "markdown",
   "id": "051b20e8-4417-4817-b2f7-0205d61938cd",
   "metadata": {},
   "source": [
    "## Datentransformation\n",
    "In der Spalte AnzahlFall steht jeweils die Summe der Fälle. Um nun die verschiedenen Modelle trainieren zu können, muss nun die Aggration rückgängig gemacht werden. Das heißt für jeden Fall muss nun ein Record im DataFrame aufgenommen werden. Die neue Anzahl der Records muss der Anzahl der gemeldeten Fälle entsprechen. Darüber hinaus ist eine neue Spalte anzufügen. Die neue Spalte gibt an ob die Person genesen, gestorben oder keins von beiden ist. Die Spalten AnzahlFall, AnzahlTodesfall und AnzahlGenesen können anschließend wegfallen. Dies trifft ebenso auf die Felder NeuerFall, NeuerTodesfall und NeuGenesen zu."
   ]
  },
  {
   "cell_type": "markdown",
   "id": "820ec862-239f-497e-8b63-34150ebeb979",
   "metadata": {},
   "source": [
    "### Vereinzelung\n",
    "Für die Vereinzelung werden die Funktionen Explode und Array-Repeat verwendet. Nach der Anwendung der beiden Funktionen sollte die Anzahl der Datensätze, der Anzahl der gemeldeten Corona-Fälle entsprechen."
   ]
  },
  {
   "cell_type": "code",
   "execution_count": 6,
   "id": "2638b522-46a0-4c47-9770-05e3eff7d239",
   "metadata": {},
   "outputs": [
    {
     "data": {
      "text/plain": [
       "3675296"
      ]
     },
     "execution_count": 6,
     "metadata": {},
     "output_type": "execute_result"
    }
   ],
   "source": [
    "df = df.withColumn(\"AnzahlFall\", expr(\"explode(array_repeat(AnzahlFall,int(AnzahlFall)))\"))\n",
    "df.count()"
   ]
  },
  {
   "cell_type": "markdown",
   "id": "b19cadb9-49ac-4550-b7c6-2fe29a206c47",
   "metadata": {},
   "source": [
    "### Neue Spalte\n",
    "Wie oben beschrieben wird in Folgendem eine neue Spalte 'FallStatus' angefügt. Diese dient zukünftig als Label."
   ]
  },
  {
   "cell_type": "code",
   "execution_count": 7,
   "id": "960a1ce5-a36d-4d84-9950-2e6cc59b6ecd",
   "metadata": {},
   "outputs": [],
   "source": [
    "df = df.withColumn(\"FallStatus\", when(df.AnzahlGenesen > 0, \"GENESEN\")\n",
    "                                 .when(df.AnzahlTodesfall > 0, \"GESTORBEN\")\n",
    "                                 .otherwise(\"NICHTEINGETRETEN\"))"
   ]
  },
  {
   "cell_type": "code",
   "execution_count": 8,
   "id": "11030914-6446-4016-b56b-841b7778a530",
   "metadata": {},
   "outputs": [
    {
     "name": "stdout",
     "output_type": "stream",
     "text": [
      "+--------+------------+------------------+------------+------------+----------+----------+---------------+--------------------+-----------+--------------------+---------+--------------+--------------------+----------+-------------+--------------------+-----------------+----------+\n",
      "|ObjectId|IdBundesland|        Bundesland|   Landkreis|Altersgruppe|Geschlecht|AnzahlFall|AnzahlTodesfall|          Meldedatum|IdLandkreis|          Datenstand|NeuerFall|NeuerTodesfall|            Refdatum|NeuGenesen|AnzahlGenesen|IstErkrankungsbeginn|    Altersgruppe2|FallStatus|\n",
      "+--------+------------+------------------+------------+------------+----------+----------+---------------+--------------------+-----------+--------------------+---------+--------------+--------------------+----------+-------------+--------------------+-----------------+----------+\n",
      "|       1|           1|Schleswig-Holstein|SK Flensburg|     A15-A34|         M|         3|              0|2021/03/19 00:00:...|       1001|29.05.2021, 00:00...|        0|            -9|2021/03/16 00:00:...|         0|            3|                   1|Nicht übermittelt|   GENESEN|\n",
      "|       1|           1|Schleswig-Holstein|SK Flensburg|     A15-A34|         M|         3|              0|2021/03/19 00:00:...|       1001|29.05.2021, 00:00...|        0|            -9|2021/03/16 00:00:...|         0|            3|                   1|Nicht übermittelt|   GENESEN|\n",
      "|       1|           1|Schleswig-Holstein|SK Flensburg|     A15-A34|         M|         3|              0|2021/03/19 00:00:...|       1001|29.05.2021, 00:00...|        0|            -9|2021/03/16 00:00:...|         0|            3|                   1|Nicht übermittelt|   GENESEN|\n",
      "|       2|           1|Schleswig-Holstein|SK Flensburg|     A15-A34|         M|         3|              0|2021/03/19 00:00:...|       1001|29.05.2021, 00:00...|        0|            -9|2021/03/19 00:00:...|         0|            3|                   0|Nicht übermittelt|   GENESEN|\n",
      "|       2|           1|Schleswig-Holstein|SK Flensburg|     A15-A34|         M|         3|              0|2021/03/19 00:00:...|       1001|29.05.2021, 00:00...|        0|            -9|2021/03/19 00:00:...|         0|            3|                   0|Nicht übermittelt|   GENESEN|\n",
      "|       2|           1|Schleswig-Holstein|SK Flensburg|     A15-A34|         M|         3|              0|2021/03/19 00:00:...|       1001|29.05.2021, 00:00...|        0|            -9|2021/03/19 00:00:...|         0|            3|                   0|Nicht übermittelt|   GENESEN|\n",
      "|       3|           1|Schleswig-Holstein|SK Flensburg|     A15-A34|         M|         1|              0|2021/03/20 00:00:...|       1001|29.05.2021, 00:00...|        0|            -9|2021/03/16 00:00:...|         0|            1|                   1|Nicht übermittelt|   GENESEN|\n",
      "|       4|           1|Schleswig-Holstein|SK Flensburg|     A15-A34|         M|         1|              0|2021/03/20 00:00:...|       1001|29.05.2021, 00:00...|        0|            -9|2021/03/19 00:00:...|         0|            1|                   1|Nicht übermittelt|   GENESEN|\n",
      "|       5|           1|Schleswig-Holstein|SK Flensburg|     A15-A34|         M|         1|              0|2021/03/20 00:00:...|       1001|29.05.2021, 00:00...|        0|            -9|2021/03/20 00:00:...|         0|            1|                   0|Nicht übermittelt|   GENESEN|\n",
      "|       6|           1|Schleswig-Holstein|SK Flensburg|     A15-A34|         M|         1|              0|2021/03/21 00:00:...|       1001|29.05.2021, 00:00...|        0|            -9|2021/03/13 00:00:...|         0|            1|                   1|Nicht übermittelt|   GENESEN|\n",
      "+--------+------------+------------------+------------+------------+----------+----------+---------------+--------------------+-----------+--------------------+---------+--------------+--------------------+----------+-------------+--------------------+-----------------+----------+\n",
      "\n"
     ]
    }
   ],
   "source": [
    "df.limit(10).show()"
   ]
  },
  {
   "cell_type": "markdown",
   "id": "a4774589-7ce1-4947-9e19-fb8a5e591a9a",
   "metadata": {},
   "source": [
    "### Datumsformat\n",
    "Aktuell ist im DataFrame das Datum als StringType deklariert. Um mit dem Wert besser arbeiten zu können, wird er in einen DateType umgewandelt."
   ]
  },
  {
   "cell_type": "code",
   "execution_count": 9,
   "id": "c37707ed-1b7e-41e2-b13c-e5a20e4e0671",
   "metadata": {},
   "outputs": [],
   "source": [
    "# DateFormart\n",
    "df = df.withColumn(\"Falldatum\",to_date(col(\"Refdatum\"), \"yyyy/MM/dd HH:mm:ssx\")).drop(\"Refdatum\")"
   ]
  },
  {
   "cell_type": "code",
   "execution_count": 10,
   "id": "a265e974-cf6d-4900-b6f5-ccd35a689dd5",
   "metadata": {},
   "outputs": [
    {
     "name": "stdout",
     "output_type": "stream",
     "text": [
      "+--------+------------+------------------+------------+------------+----------+----------+---------------+--------------------+-----------+--------------------+---------+--------------+----------+-------------+--------------------+-----------------+----------+----------+\n",
      "|ObjectId|IdBundesland|        Bundesland|   Landkreis|Altersgruppe|Geschlecht|AnzahlFall|AnzahlTodesfall|          Meldedatum|IdLandkreis|          Datenstand|NeuerFall|NeuerTodesfall|NeuGenesen|AnzahlGenesen|IstErkrankungsbeginn|    Altersgruppe2|FallStatus| Falldatum|\n",
      "+--------+------------+------------------+------------+------------+----------+----------+---------------+--------------------+-----------+--------------------+---------+--------------+----------+-------------+--------------------+-----------------+----------+----------+\n",
      "|       1|           1|Schleswig-Holstein|SK Flensburg|     A15-A34|         M|         3|              0|2021/03/19 00:00:...|       1001|29.05.2021, 00:00...|        0|            -9|         0|            3|                   1|Nicht übermittelt|   GENESEN|2021-03-16|\n",
      "|       1|           1|Schleswig-Holstein|SK Flensburg|     A15-A34|         M|         3|              0|2021/03/19 00:00:...|       1001|29.05.2021, 00:00...|        0|            -9|         0|            3|                   1|Nicht übermittelt|   GENESEN|2021-03-16|\n",
      "|       1|           1|Schleswig-Holstein|SK Flensburg|     A15-A34|         M|         3|              0|2021/03/19 00:00:...|       1001|29.05.2021, 00:00...|        0|            -9|         0|            3|                   1|Nicht übermittelt|   GENESEN|2021-03-16|\n",
      "|       2|           1|Schleswig-Holstein|SK Flensburg|     A15-A34|         M|         3|              0|2021/03/19 00:00:...|       1001|29.05.2021, 00:00...|        0|            -9|         0|            3|                   0|Nicht übermittelt|   GENESEN|2021-03-19|\n",
      "|       2|           1|Schleswig-Holstein|SK Flensburg|     A15-A34|         M|         3|              0|2021/03/19 00:00:...|       1001|29.05.2021, 00:00...|        0|            -9|         0|            3|                   0|Nicht übermittelt|   GENESEN|2021-03-19|\n",
      "|       2|           1|Schleswig-Holstein|SK Flensburg|     A15-A34|         M|         3|              0|2021/03/19 00:00:...|       1001|29.05.2021, 00:00...|        0|            -9|         0|            3|                   0|Nicht übermittelt|   GENESEN|2021-03-19|\n",
      "|       3|           1|Schleswig-Holstein|SK Flensburg|     A15-A34|         M|         1|              0|2021/03/20 00:00:...|       1001|29.05.2021, 00:00...|        0|            -9|         0|            1|                   1|Nicht übermittelt|   GENESEN|2021-03-16|\n",
      "|       4|           1|Schleswig-Holstein|SK Flensburg|     A15-A34|         M|         1|              0|2021/03/20 00:00:...|       1001|29.05.2021, 00:00...|        0|            -9|         0|            1|                   1|Nicht übermittelt|   GENESEN|2021-03-19|\n",
      "|       5|           1|Schleswig-Holstein|SK Flensburg|     A15-A34|         M|         1|              0|2021/03/20 00:00:...|       1001|29.05.2021, 00:00...|        0|            -9|         0|            1|                   0|Nicht übermittelt|   GENESEN|2021-03-20|\n",
      "|       6|           1|Schleswig-Holstein|SK Flensburg|     A15-A34|         M|         1|              0|2021/03/21 00:00:...|       1001|29.05.2021, 00:00...|        0|            -9|         0|            1|                   1|Nicht übermittelt|   GENESEN|2021-03-13|\n",
      "+--------+------------+------------------+------------+------------+----------+----------+---------------+--------------------+-----------+--------------------+---------+--------------+----------+-------------+--------------------+-----------------+----------+----------+\n",
      "\n"
     ]
    }
   ],
   "source": [
    "# Überprüfung\n",
    "df.limit(10).show()"
   ]
  },
  {
   "cell_type": "markdown",
   "id": "3e4cba31-5ae6-4207-b6aa-920319efa7d2",
   "metadata": {},
   "source": [
    "## Datenreduktion\n",
    "In dem folgenden Schritt werden alle Spalten gelöscht die nicht notwendig sind. Spalte Altersgruppe2 ist nicht mit konkreten Werten befüllt und kann daher entfernt werden. Die Informationen aus AnzahlTodesfall und AnzahlGenesen bzw. NeuerTodefall und NeuGenesen werden nun von 'FallStatus' abgebildet und können auch entfernt werden. Die Felder AnzahlFall und NeuerFall sind durch die Vereinzelung und das Herausfiltern von Korrekturwerten überflüssig geworden. Die ObjectId besitzt keine Aussagekraft, da nicht mehrere Puplikationen verglichen werden, sondern jeweils nur die Aktuelle Puplikation betrachtet wird. Auch das Feld \"IstErkrankungsbeginn\" ist nicht notwendig. Das Feld 'Datenstand' enthält für alle Records den selben Datumswert. Würde der RKI-Datensatz am heutigen Tag heruntergeladen, so enthielte es das aktuelle Datum. Daher kann es in der weiteren Verarbeitung verworfen werden. Die gesamte Datenreduktion ist im Zuge der Feature Selection erfolgt. "
   ]
  },
  {
   "cell_type": "code",
   "execution_count": 11,
   "id": "f9b392e6-c3c2-47ff-9f35-7cad9c679e8b",
   "metadata": {},
   "outputs": [],
   "source": [
    "# Definition der zu löschenden Spalten\n",
    "columnsToDelete = (\"Altersgruppe2\", \"AnzahlFall\", \"NeuerFall\", \"AnzahlTodesfall\", \"NeuerTodesfall\", \"AnzahlGenesen\", \"NeuGenesen\", \"IstErkrankungsbeginn\", \"Datenstand\", \"ObjectId\", \"Meldedatum\")\n",
    "df = df.drop(*columnsToDelete)"
   ]
  },
  {
   "cell_type": "code",
   "execution_count": 12,
   "id": "edf67421-2acf-4de7-9936-fe2dcd5d5a19",
   "metadata": {},
   "outputs": [
    {
     "name": "stdout",
     "output_type": "stream",
     "text": [
      "+------------+------------------+------------+------------+----------+-----------+----------+----------+\n",
      "|IdBundesland|        Bundesland|   Landkreis|Altersgruppe|Geschlecht|IdLandkreis|FallStatus| Falldatum|\n",
      "+------------+------------------+------------+------------+----------+-----------+----------+----------+\n",
      "|           1|Schleswig-Holstein|SK Flensburg|     A15-A34|         M|       1001|   GENESEN|2021-03-16|\n",
      "|           1|Schleswig-Holstein|SK Flensburg|     A15-A34|         M|       1001|   GENESEN|2021-03-16|\n",
      "|           1|Schleswig-Holstein|SK Flensburg|     A15-A34|         M|       1001|   GENESEN|2021-03-16|\n",
      "|           1|Schleswig-Holstein|SK Flensburg|     A15-A34|         M|       1001|   GENESEN|2021-03-19|\n",
      "|           1|Schleswig-Holstein|SK Flensburg|     A15-A34|         M|       1001|   GENESEN|2021-03-19|\n",
      "|           1|Schleswig-Holstein|SK Flensburg|     A15-A34|         M|       1001|   GENESEN|2021-03-19|\n",
      "|           1|Schleswig-Holstein|SK Flensburg|     A15-A34|         M|       1001|   GENESEN|2021-03-16|\n",
      "|           1|Schleswig-Holstein|SK Flensburg|     A15-A34|         M|       1001|   GENESEN|2021-03-19|\n",
      "|           1|Schleswig-Holstein|SK Flensburg|     A15-A34|         M|       1001|   GENESEN|2021-03-20|\n",
      "|           1|Schleswig-Holstein|SK Flensburg|     A15-A34|         M|       1001|   GENESEN|2021-03-13|\n",
      "+------------+------------------+------------+------------+----------+-----------+----------+----------+\n",
      "\n"
     ]
    }
   ],
   "source": [
    "#Zeige die ersten Zehn Einträge zur Kontrolle\n",
    "df.limit(10).show()"
   ]
  },
  {
   "cell_type": "markdown",
   "id": "e816f80a-0d49-4c32-8948-96d46707362c",
   "metadata": {},
   "source": [
    "## Imputation fehlender Werte\n",
    "Ein Teil der Datenreinigung und Aufbereitung wird durch die Impautation fehlender Werte dargestellt. Generell ist es keine Seltenheit, dass ein Datensatz fehlende Werte aufweist. Dies kann unter anderem zu Problemen während des Modelings führen, weshalb es verschiedene Möglichkeiten gibt damit umzugehen. Das einfache Löschen von Datensätzen mit fehlenden Werten könnte zu einer Verzerrung führen. Daher werden oftmals Machine Learing Techniken angewandt um plausible Werte für die einzelen Features zu finden. (García et al. 2016, 4) In dem vorliegenden Datensatz des RKIs ist in bestimmten Fällen das Geschlecht bzw. das Alter unbekannt.\n",
    "### Imputation des Geschlechts\n",
    "Da der der Imputer von PySpark nicht für kategorische Werte geignet ist (Apache Spark 2021), wurde das Verhältnis zwischen dem Männlichen sowie dem Weiblichen Geschlecht ermittelt. Anschließend wurden die unbekannten Werte durch ein gewichtetes Zufallsverfahren mit geschätzten Werten befüllt."
   ]
  },
  {
   "cell_type": "code",
   "execution_count": 13,
   "id": "0ed3dd7a-cca6-4477-849c-f22d5cc047ac",
   "metadata": {},
   "outputs": [
    {
     "name": "stdout",
     "output_type": "stream",
     "text": [
      "Anzahl Frauen:  1880476\n",
      "Anzahl Männer:  1769786\n",
      "Gesamtzahl aller Datensätze mit vergebenem Geschlecht:  3650262\n"
     ]
    }
   ],
   "source": [
    "countWoman = df.filter(df.Geschlecht == \"W\").count()\n",
    "countMan = df.filter(df.Geschlecht == \"M\").count()\n",
    "countAll = countWoman + countMan\n",
    "print(\"Anzahl Frauen: \", countWoman)\n",
    "print(\"Anzahl Männer: \", countMan)\n",
    "print(\"Gesamtzahl aller Datensätze mit vergebenem Geschlecht: \", countAll)"
   ]
  },
  {
   "cell_type": "code",
   "execution_count": 14,
   "id": "bb30e18b-a5af-4669-a4ef-d61baa9f41bd",
   "metadata": {},
   "outputs": [],
   "source": [
    "df = df.withColumn(\"random\", (rand() * countAll))\n",
    "df = df.withColumn(\"randomGender\", when(df.random > countWoman, \"M\").otherwise(\"W\"))\n",
    "df = df.withColumn(\"Geschlecht\", when(df.Geschlecht == \"unbekannt\", df.randomGender).otherwise(df.Geschlecht)).drop(\"random\",\"randomGender\")"
   ]
  },
  {
   "cell_type": "code",
   "execution_count": 15,
   "id": "93c8b06d-fc16-4df5-bfb6-6a9ff04b96b7",
   "metadata": {},
   "outputs": [
    {
     "data": {
      "text/plain": [
       "0"
      ]
     },
     "execution_count": 15,
     "metadata": {},
     "output_type": "execute_result"
    }
   ],
   "source": [
    "#Prüfung ob der Datensatz nun keine unbekannten Geschlächter enthält\n",
    "df.filter(df.Geschlecht == \"unbekannt\").count()"
   ]
  },
  {
   "cell_type": "markdown",
   "id": "2e067ada-2915-4059-b35e-5a56d8fb83ac",
   "metadata": {},
   "source": [
    "## Umwandlung in numerische Werte\n",
    "Da viele Modelle nur mit numerischen Werten arbeiten können, müssen nicht numerische Features mittels eines StringIndexers in numerische Features umgewandelt werden. Dies erfolgt mithilfe des StringIndexers jeweils für die Altersgruppe und das Geschlecht. Um die beiden Indexer miteinder zu verketten, wurde an dieser Stelle eine Pipeline verwendet."
   ]
  },
  {
   "cell_type": "code",
   "execution_count": 16,
   "id": "15afb938-18bb-4dea-9be9-0c3cf8aadb25",
   "metadata": {},
   "outputs": [],
   "source": [
    "altersgruppeIndexer = StringIndexer(inputCol=\"Altersgruppe\", outputCol=\"AltersgruppeIndex\")\n",
    "geschlechtsIndexer = StringIndexer(inputCol=\"Geschlecht\", outputCol=\"GeschlechtIndex\")\n",
    "fallstatusIndexer = StringIndexer(inputCol=\"FallStatus\", outputCol=\"FallStatusIndex\")\n",
    "pipeline = Pipeline(stages=[altersgruppeIndexer, geschlechtsIndexer,fallstatusIndexer])\n",
    "df = pipeline.fit(df).transform(df)"
   ]
  },
  {
   "cell_type": "code",
   "execution_count": 17,
   "id": "22fe3182-a062-41fa-aa16-0c12e74d33ac",
   "metadata": {},
   "outputs": [
    {
     "name": "stdout",
     "output_type": "stream",
     "text": [
      "+------------+------------------+------------+------------+----------+-----------+----------+----------+-----------------+---------------+---------------+\n",
      "|IdBundesland|        Bundesland|   Landkreis|Altersgruppe|Geschlecht|IdLandkreis|FallStatus| Falldatum|AltersgruppeIndex|GeschlechtIndex|FallStatusIndex|\n",
      "+------------+------------------+------------+------------+----------+-----------+----------+----------+-----------------+---------------+---------------+\n",
      "|           1|Schleswig-Holstein|SK Flensburg|     A15-A34|         M|       1001|   GENESEN|2021-03-16|              1.0|            1.0|            0.0|\n",
      "|           1|Schleswig-Holstein|SK Flensburg|     A15-A34|         M|       1001|   GENESEN|2021-03-16|              1.0|            1.0|            0.0|\n",
      "|           1|Schleswig-Holstein|SK Flensburg|     A15-A34|         M|       1001|   GENESEN|2021-03-16|              1.0|            1.0|            0.0|\n",
      "|           1|Schleswig-Holstein|SK Flensburg|     A15-A34|         M|       1001|   GENESEN|2021-03-19|              1.0|            1.0|            0.0|\n",
      "|           1|Schleswig-Holstein|SK Flensburg|     A15-A34|         M|       1001|   GENESEN|2021-03-19|              1.0|            1.0|            0.0|\n",
      "|           1|Schleswig-Holstein|SK Flensburg|     A15-A34|         M|       1001|   GENESEN|2021-03-19|              1.0|            1.0|            0.0|\n",
      "|           1|Schleswig-Holstein|SK Flensburg|     A15-A34|         M|       1001|   GENESEN|2021-03-16|              1.0|            1.0|            0.0|\n",
      "|           1|Schleswig-Holstein|SK Flensburg|     A15-A34|         M|       1001|   GENESEN|2021-03-19|              1.0|            1.0|            0.0|\n",
      "|           1|Schleswig-Holstein|SK Flensburg|     A15-A34|         M|       1001|   GENESEN|2021-03-20|              1.0|            1.0|            0.0|\n",
      "|           1|Schleswig-Holstein|SK Flensburg|     A15-A34|         M|       1001|   GENESEN|2021-03-13|              1.0|            1.0|            0.0|\n",
      "+------------+------------------+------------+------------+----------+-----------+----------+----------+-----------------+---------------+---------------+\n",
      "\n"
     ]
    }
   ],
   "source": [
    "#Zeige die ersten zehn Einträge\n",
    "df.limit(10).show()"
   ]
  },
  {
   "cell_type": "markdown",
   "id": "554ce6dc-7f79-4c7a-b0ed-b62d27d417f3",
   "metadata": {},
   "source": [
    "## Imputation der Altersgruppe\n",
    "Für die Imputation von kategorischen Werten bietet PySpark keinen StandardImputer. Aus diesem Grund wurde hierfür das K-Nearest-Neighbour-Verfahren gewählt. Konkret fand die Klasse BucketedRandomProjectionLSH Anwendung, die auf dem Prinzip des Locality Sensitive Hashing basiert und als Entfernungsmaß die Euklidische Distanz verwendet."
   ]
  },
  {
   "cell_type": "markdown",
   "id": "60a11b82-e7da-40c8-aa85-374b3939bfba",
   "metadata": {},
   "source": [
    "### Aufbau des Feature-Vektors"
   ]
  },
  {
   "cell_type": "code",
   "execution_count": 18,
   "id": "0e0b6e57-319e-422b-bf83-46a421bfb1a8",
   "metadata": {},
   "outputs": [],
   "source": [
    "assembler =  VectorAssembler(outputCol=\"features\", inputCols=[\"FallStatusIndex\", \"GeschlechtIndex\",\"IdLandkreis\"])\n",
    "featureVector = assembler.transform(df)\n"
   ]
  },
  {
   "cell_type": "markdown",
   "id": "d3b25ae1-3d76-4912-990e-d370eb580c81",
   "metadata": {},
   "source": [
    "### Aufteilung des Vektors in Trainings- und Erkennungsdaten "
   ]
  },
  {
   "cell_type": "code",
   "execution_count": 19,
   "id": "8d2c4b74-034e-4748-86b0-0370ed46f06d",
   "metadata": {},
   "outputs": [],
   "source": [
    "trainingFeatureVector = featureVector.filter(df.Altersgruppe != \"unbekannt\");\n",
    "targetFeatureVector = featureVector.filter(df.Altersgruppe == \"unbekannt\");"
   ]
  },
  {
   "cell_type": "markdown",
   "id": "0a72dfec-b5eb-4b11-90da-c423935775aa",
   "metadata": {},
   "source": [
    "### Aufteilung des Trainingvektors\n",
    "Da sich im Zuge der vorliegenden Arbeit herausgestellt hat, dass das Finden des nächsten Nachbarwertes sehr Zeit- und Rechenintensiv ist, wurden die einzelnen Instanzen nach dem Feature-Vektor und der Altersgruppe gruppiert."
   ]
  },
  {
   "cell_type": "code",
   "execution_count": 20,
   "id": "b009e685-8df2-4954-8946-d264bbca68b0",
   "metadata": {},
   "outputs": [
    {
     "data": {
      "text/plain": [
       "3671974"
      ]
     },
     "execution_count": 20,
     "metadata": {},
     "output_type": "execute_result"
    }
   ],
   "source": [
    "# Anzahl der Instanzen vor der Gruppierung\n",
    "trainingFeatureVector.count()"
   ]
  },
  {
   "cell_type": "code",
   "execution_count": 21,
   "id": "df12e369-60c5-4656-a996-3c4f841d303e",
   "metadata": {},
   "outputs": [
    {
     "name": "stdout",
     "output_type": "stream",
     "text": [
      "+-----------------+------------+-----+\n",
      "|         features|Altersgruppe|count|\n",
      "+-----------------+------------+-----+\n",
      "|[2.0,1.0,16077.0]|     A35-A59|    6|\n",
      "|[2.0,1.0,16077.0]|     A60-A79|   48|\n",
      "|[2.0,1.0,16077.0]|        A80+|   86|\n",
      "|[2.0,1.0,16077.0]|     A15-A34|    1|\n",
      "|[2.0,1.0,16076.0]|     A35-A59|    3|\n",
      "|[2.0,1.0,16076.0]|        A80+|   69|\n",
      "|[2.0,1.0,16076.0]|     A60-A79|   42|\n",
      "|[2.0,1.0,16075.0]|     A60-A79|   34|\n",
      "|[2.0,1.0,16075.0]|        A80+|   55|\n",
      "|[2.0,1.0,16075.0]|     A35-A59|    7|\n",
      "+-----------------+------------+-----+\n",
      "\n"
     ]
    }
   ],
   "source": [
    "# Gruppierung nach Feature-Vektor und Altersgruppe\n",
    "trainingFeatureVectorGrouped = trainingFeatureVector.groupBy(\"features\",\"Altersgruppe\").count().orderBy(desc(\"features\"))\n",
    "# Kontrollausgabe\n",
    "trainingFeatureVectorGrouped.limit(10).show()"
   ]
  },
  {
   "cell_type": "code",
   "execution_count": 22,
   "id": "adaa080b-7217-41f2-bdcb-28cfa99ed0ad",
   "metadata": {},
   "outputs": [
    {
     "data": {
      "text/plain": [
       "12121"
      ]
     },
     "execution_count": 22,
     "metadata": {},
     "output_type": "execute_result"
    }
   ],
   "source": [
    "# Anzahl der Instanzen nach der Gruppierung\n",
    "trainingFeatureVectorGrouped.count()"
   ]
  },
  {
   "cell_type": "markdown",
   "id": "558c6308-0fc6-42e2-8843-1c44db9897ab",
   "metadata": {},
   "source": [
    "### Training des KNN-Modells\n",
    "Während der berechnungen stellte sich heraus, dass die Ermettlung eines NN mit dem Paramter numHashTables=1 am schnellsten erfolgt. Dies liegt daran, dass höhere Werte zu einer erhöhten Modellkomplexität führen. Zum erhöhen des Wertes kann jedoch auch die False-Negativ-Rate gesenkt werden. (Bucket Random Projection LSH 2021)"
   ]
  },
  {
   "cell_type": "code",
   "execution_count": 23,
   "id": "e37283e3-f52b-4259-b7ef-1dfc13ec7154",
   "metadata": {},
   "outputs": [],
   "source": [
    "mhLSH = BucketedRandomProjectionLSH(inputCol=\"features\", outputCol=\"hashes\", bucketLength=2.0,numHashTables=1)\n",
    "model = mhLSH.fit(trainingFeatureVectorGrouped)\n",
    "transformedTrainingFeatureVector = model.transform(trainingFeatureVectorGrouped)"
   ]
  },
  {
   "cell_type": "code",
   "execution_count": 24,
   "id": "a46a216c-4e62-4cd8-938d-13b2afd2e66c",
   "metadata": {},
   "outputs": [
    {
     "name": "stdout",
     "output_type": "stream",
     "text": [
      "+-----------------+------------+-----+----------+\n",
      "|         features|Altersgruppe|count|    hashes|\n",
      "+-----------------+------------+-----+----------+\n",
      "|[2.0,1.0,16077.0]|     A35-A59|    6|[[-331.0]]|\n",
      "|[2.0,1.0,16077.0]|     A60-A79|   48|[[-331.0]]|\n",
      "|[2.0,1.0,16077.0]|        A80+|   86|[[-331.0]]|\n",
      "|[2.0,1.0,16077.0]|     A15-A34|    1|[[-331.0]]|\n",
      "|[2.0,1.0,16076.0]|     A35-A59|    3|[[-331.0]]|\n",
      "|[2.0,1.0,16076.0]|        A80+|   69|[[-331.0]]|\n",
      "|[2.0,1.0,16076.0]|     A60-A79|   42|[[-331.0]]|\n",
      "|[2.0,1.0,16075.0]|     A60-A79|   34|[[-331.0]]|\n",
      "|[2.0,1.0,16075.0]|        A80+|   55|[[-331.0]]|\n",
      "|[2.0,1.0,16075.0]|     A35-A59|    7|[[-331.0]]|\n",
      "+-----------------+------------+-----+----------+\n",
      "\n"
     ]
    }
   ],
   "source": [
    "#Kontroll-Ausgabe. Hier zeigt sich auch die Auswirkung des Parameters numHashTables\n",
    "transformedTrainingFeatureVector.limit(10).show()"
   ]
  },
  {
   "cell_type": "markdown",
   "id": "39bac372-5fbb-4289-943a-349718978f0f",
   "metadata": {},
   "source": [
    "### Gruppieren der Verarbeitungsdaten\n",
    "Da die Ermittlung von Nachbarn bis zu 20 Sekunden pro Funktionsaufruf dauert (s.u.), wurden an dieser Stelle auch Instanzen mit unbekanntem Alter gruppiert, um so weniger Erkennungen ausführen zu müssen."
   ]
  },
  {
   "cell_type": "code",
   "execution_count": 25,
   "id": "582108b9-47d3-4fd5-85f2-f3b8f2b1aa1f",
   "metadata": {},
   "outputs": [
    {
     "name": "stdout",
     "output_type": "stream",
     "text": [
      "+-----------------+-----+\n",
      "|features         |count|\n",
      "+-----------------+-----+\n",
      "|[0.0,1.0,9277.0] |1    |\n",
      "|[2.0,1.0,7111.0] |1    |\n",
      "|[2.0,1.0,11005.0]|1    |\n",
      "|[1.0,0.0,5382.0] |1    |\n",
      "|[0.0,1.0,8125.0] |5    |\n",
      "|[0.0,0.0,7235.0] |1    |\n",
      "|[0.0,0.0,7335.0] |3    |\n",
      "|[0.0,0.0,11003.0]|9    |\n",
      "|[0.0,0.0,6435.0] |2    |\n",
      "|[0.0,0.0,7134.0] |4    |\n",
      "+-----------------+-----+\n",
      "only showing top 10 rows\n",
      "\n"
     ]
    }
   ],
   "source": [
    "targetFeatureVectorGrouped = targetFeatureVector.groupBy(\"features\").count()\n",
    "# Ausgabe der ersten Zehn Gruppen zur Kontrolle\n",
    "targetFeatureVectorGrouped.show(10, False)"
   ]
  },
  {
   "cell_type": "code",
   "execution_count": 26,
   "id": "829322f7-cfe9-4f89-b9c4-4bd5de181712",
   "metadata": {},
   "outputs": [
    {
     "data": {
      "text/plain": [
       "444"
      ]
     },
     "execution_count": 26,
     "metadata": {},
     "output_type": "execute_result"
    }
   ],
   "source": [
    "# Anzahl der nun vorliegenen Instanzen\n",
    "targetFeatureVectorGrouped.count()"
   ]
  },
  {
   "cell_type": "markdown",
   "id": "93f82f06-5fa2-40ad-9a40-5f4322af4637",
   "metadata": {},
   "source": [
    "### Durchführen der Erkennung\n",
    "Nachfolgend werden für jede Instanz aus den gruppierten Erkennungsdaten die sechs nächsten Nachbarn (6 verschiedene Altersgruppen) ermittelt. Diese dienen als Basis für die zufällige Generierung der Altersgruppe. Je häufiger eine Altersgruppe in den ermittelten Nachbarn repräsentiert ist (count der gruppierten Trainingsdaten), desto wahrscheinlicher wird diese Altersgruppe vergeben. Die Generierung der Altersgruppe erfolgt nach der Methode getRandomAgeByFraction. \n",
    "Damit das Modell mit den Daten Arbeiten kann, müssen die zu erkennden Instanzen zuerst in den Speicher geladen werden. Die Verarbeitung erfolgt anschließend über eine Schleife. Die Ergebnisse werden in einem Array gespeichert und nachfolgend einem DateFrame zugeführt. Die Anzahl der Bereits verarbeiteten Instanzen und der Zeitdifferenz pro Durchlauf werden entsprechend ausgegeben."
   ]
  },
  {
   "cell_type": "code",
   "execution_count": 27,
   "id": "90fdfbed-f983-4b36-99ac-d43f5676db49",
   "metadata": {
    "tags": []
   },
   "outputs": [],
   "source": [
    "# Definiton der Altersgruppen-Generierungsfunktion\n",
    "def getRandomAgeByFraction(recordList):\n",
    "    sum = 0\n",
    "    dictList = []\n",
    "    for record in recordList :\n",
    "        dict = record.asDict()\n",
    "        sum = sum + dict[\"count\"]\n",
    "        dictList.append(dict)\n",
    "\n",
    "    percentSum = 0    \n",
    "    for dict in dictList :\n",
    "        dict[\"startPercent\"] = percentSum\n",
    "        dict[\"percent\"] = dict[\"count\"] / sum\n",
    "        percentSum = percentSum + dict[\"percent\"]\n",
    "        dict[\"endPercent\"] = percentSum\n",
    "\n",
    "\n",
    "    randNr = random.random()\n",
    "    Altergruppe = \"\"\n",
    "    for dict in dictList :\n",
    "        Altergruppe = dict[\"Altersgruppe\"] if ((randNr >= dict[\"startPercent\"]) & (randNr <= dict[\"endPercent\"])) else Altergruppe\n",
    "    \n",
    "    return Altergruppe"
   ]
  },
  {
   "cell_type": "code",
   "execution_count": 28,
   "id": "4ef7eb99-9839-4295-9a29-8f5daeff8d89",
   "metadata": {},
   "outputs": [
    {
     "data": {
      "text/plain": [
       "'Iteration 444 - TimeDiff: 16.09078884124756'"
      ]
     },
     "metadata": {},
     "output_type": "display_data"
    }
   ],
   "source": [
    "# Durchführung der Erkennung und der zufälligen Vergabe der Altersgruppe mit Ausgabe des aktuellem Stands und der Zeitdifferenz pro Durchlauf\n",
    "resultList = []\n",
    "\n",
    "records = targetFeatureVectorGrouped.localCheckpoint(True).collect()\n",
    "iterrations = 0\n",
    "startIterTime = time.time()\n",
    "\n",
    "for record in records :\n",
    "    iterrations = iterrations + 1\n",
    "    if (iterrations % 1) == 0 :\n",
    "        clear_output(wait=True)\n",
    "        currentTime = time.time()\n",
    "        timeDiff = currentTime - startIterTime\n",
    "        startIterTime = currentTime\n",
    "        display('Iteration '+str(iterrations)+\" - TimeDiff: \" +str(timeDiff))\n",
    "    groupedRecords = model.approxNearestNeighbors(transformedTrainingFeatureVector, record.features, 6).orderBy(desc(\"count\")).drop(\"features\",\"hashes\").collect()\n",
    "    randAge = getRandomAgeByFraction(groupedRecords)    \n",
    "    newRecord = Row(features=record.features, Altersgruppe=randAge)\n",
    "    resultList.append(newRecord)"
   ]
  },
  {
   "cell_type": "code",
   "execution_count": 29,
   "id": "652ea482-7237-4fab-956f-ad2c3098adc5",
   "metadata": {},
   "outputs": [],
   "source": [
    "# Erstellen eines neuen DataFrames\n",
    "columns = [\"features\",\"AltersgruppeRandom\"]\n",
    "resultListDF = spark.createDataFrame(data=resultList, schema = columns)"
   ]
  },
  {
   "cell_type": "code",
   "execution_count": 30,
   "id": "944b378a-a6d5-4549-8555-db15ae03a96b",
   "metadata": {},
   "outputs": [
    {
     "name": "stdout",
     "output_type": "stream",
     "text": [
      "+-----------------+------------------+\n",
      "|         features|AltersgruppeRandom|\n",
      "+-----------------+------------------+\n",
      "| [0.0,1.0,9277.0]|           A35-A59|\n",
      "| [2.0,1.0,7111.0]|              A80+|\n",
      "|[2.0,1.0,11005.0]|              A80+|\n",
      "| [1.0,0.0,5382.0]|           A15-A34|\n",
      "| [0.0,1.0,8125.0]|           A35-A59|\n",
      "| [0.0,0.0,7235.0]|           A60-A79|\n",
      "| [0.0,0.0,7335.0]|           A15-A34|\n",
      "|[0.0,0.0,11003.0]|           A05-A14|\n",
      "| [0.0,0.0,6435.0]|           A35-A59|\n",
      "| [0.0,0.0,7134.0]|           A35-A59|\n",
      "+-----------------+------------------+\n",
      "\n"
     ]
    }
   ],
   "source": [
    "# Kontrollausgabe des Dateframes\n",
    "resultListDF.limit(10).show()"
   ]
  },
  {
   "cell_type": "markdown",
   "id": "26964b53-7811-4bb1-ad9c-f974f62ac23b",
   "metadata": {},
   "source": [
    "### Zusammenführen der beiden DataFrames\n",
    "Nachfolgend wird der initiale Dataframe mit dem neuen Dataframe zusammengeführt. In diesem Zuge erfolgt die Imputation der unbekannten Altersgruppen."
   ]
  },
  {
   "cell_type": "code",
   "execution_count": 31,
   "id": "edc058c9-34df-419f-a615-1e811e35e971",
   "metadata": {},
   "outputs": [
    {
     "name": "stdout",
     "output_type": "stream",
     "text": [
      "+-----------------+------------+----------+---------+------------+----------+-----------+----------+----------+-----------------+---------------+---------------+------------------+\n",
      "|         features|IdBundesland|Bundesland|Landkreis|Altersgruppe|Geschlecht|IdLandkreis|FallStatus| Falldatum|AltersgruppeIndex|GeschlechtIndex|FallStatusIndex|AltersgruppeRandom|\n",
      "+-----------------+------------+----------+---------+------------+----------+-----------+----------+----------+-----------------+---------------+---------------+------------------+\n",
      "|[0.0,0.0,16067.0]|          16| Thüringen| LK Gotha|     A00-A04|         W|      16067|   GENESEN|2020-04-21|              5.0|            0.0|            0.0|              null|\n",
      "|[0.0,0.0,16067.0]|          16| Thüringen| LK Gotha|     A00-A04|         W|      16067|   GENESEN|2020-09-12|              5.0|            0.0|            0.0|              null|\n",
      "|[0.0,0.0,16067.0]|          16| Thüringen| LK Gotha|     A00-A04|         W|      16067|   GENESEN|2020-10-23|              5.0|            0.0|            0.0|              null|\n",
      "|[0.0,0.0,16067.0]|          16| Thüringen| LK Gotha|     A00-A04|         W|      16067|   GENESEN|2020-11-18|              5.0|            0.0|            0.0|              null|\n",
      "|[0.0,0.0,16067.0]|          16| Thüringen| LK Gotha|     A00-A04|         W|      16067|   GENESEN|2020-11-21|              5.0|            0.0|            0.0|              null|\n",
      "|[0.0,0.0,16067.0]|          16| Thüringen| LK Gotha|     A00-A04|         W|      16067|   GENESEN|2020-11-22|              5.0|            0.0|            0.0|              null|\n",
      "|[0.0,0.0,16067.0]|          16| Thüringen| LK Gotha|     A00-A04|         W|      16067|   GENESEN|2020-12-04|              5.0|            0.0|            0.0|              null|\n",
      "|[0.0,0.0,16067.0]|          16| Thüringen| LK Gotha|     A00-A04|         W|      16067|   GENESEN|2020-12-08|              5.0|            0.0|            0.0|              null|\n",
      "|[0.0,0.0,16067.0]|          16| Thüringen| LK Gotha|     A00-A04|         W|      16067|   GENESEN|2020-12-17|              5.0|            0.0|            0.0|              null|\n",
      "|[0.0,0.0,16067.0]|          16| Thüringen| LK Gotha|     A00-A04|         W|      16067|   GENESEN|2021-01-06|              5.0|            0.0|            0.0|              null|\n",
      "|[0.0,0.0,16067.0]|          16| Thüringen| LK Gotha|     A00-A04|         W|      16067|   GENESEN|2021-01-09|              5.0|            0.0|            0.0|              null|\n",
      "|[0.0,0.0,16067.0]|          16| Thüringen| LK Gotha|     A00-A04|         W|      16067|   GENESEN|2021-01-16|              5.0|            0.0|            0.0|              null|\n",
      "|[0.0,0.0,16067.0]|          16| Thüringen| LK Gotha|     A00-A04|         W|      16067|   GENESEN|2021-01-18|              5.0|            0.0|            0.0|              null|\n",
      "|[0.0,0.0,16067.0]|          16| Thüringen| LK Gotha|     A00-A04|         W|      16067|   GENESEN|2021-01-19|              5.0|            0.0|            0.0|              null|\n",
      "|[0.0,0.0,16067.0]|          16| Thüringen| LK Gotha|     A00-A04|         W|      16067|   GENESEN|2021-01-17|              5.0|            0.0|            0.0|              null|\n",
      "|[0.0,0.0,16067.0]|          16| Thüringen| LK Gotha|     A00-A04|         W|      16067|   GENESEN|2021-01-21|              5.0|            0.0|            0.0|              null|\n",
      "|[0.0,0.0,16067.0]|          16| Thüringen| LK Gotha|     A00-A04|         W|      16067|   GENESEN|2021-01-24|              5.0|            0.0|            0.0|              null|\n",
      "|[0.0,0.0,16067.0]|          16| Thüringen| LK Gotha|     A00-A04|         W|      16067|   GENESEN|2021-01-25|              5.0|            0.0|            0.0|              null|\n",
      "|[0.0,0.0,16067.0]|          16| Thüringen| LK Gotha|     A00-A04|         W|      16067|   GENESEN|2021-01-31|              5.0|            0.0|            0.0|              null|\n",
      "|[0.0,0.0,16067.0]|          16| Thüringen| LK Gotha|     A00-A04|         W|      16067|   GENESEN|2021-02-08|              5.0|            0.0|            0.0|              null|\n",
      "+-----------------+------------+----------+---------+------------+----------+-----------+----------+----------+-----------------+---------------+---------------+------------------+\n",
      "only showing top 20 rows\n",
      "\n"
     ]
    }
   ],
   "source": [
    "joinedDF = featureVector.join(resultListDF, on='features', how='left')\n",
    "joinedDF.show()"
   ]
  },
  {
   "cell_type": "code",
   "execution_count": 32,
   "id": "634c2be3-1ea7-409c-adb8-b4a02cbb2717",
   "metadata": {},
   "outputs": [
    {
     "name": "stdout",
     "output_type": "stream",
     "text": [
      "+-----------------+------------+-------------------+-------------------+------------+----------+-----------+----------------+----------+-----------------+---------------+---------------+------------------+\n",
      "|         features|IdBundesland|         Bundesland|          Landkreis|Altersgruppe|Geschlecht|IdLandkreis|      FallStatus| Falldatum|AltersgruppeIndex|GeschlechtIndex|FallStatusIndex|AltersgruppeRandom|\n",
      "+-----------------+------------+-------------------+-------------------+------------+----------+-----------+----------------+----------+-----------------+---------------+---------------+------------------+\n",
      "| [0.0,1.0,9277.0]|           9|             Bayern|      LK Rottal-Inn|   unbekannt|         M|       9277|         GENESEN|2021-05-03|              6.0|            1.0|            0.0|           A35-A59|\n",
      "| [2.0,1.0,7111.0]|           7|    Rheinland-Pfalz|         SK Koblenz|   unbekannt|         M|       7111|       GESTORBEN|2021-01-26|              6.0|            1.0|            2.0|              A80+|\n",
      "|[2.0,1.0,11005.0]|          11|             Berlin|  SK Berlin Spandau|   unbekannt|         M|      11005|       GESTORBEN|2021-01-19|              6.0|            1.0|            2.0|              A80+|\n",
      "| [0.0,1.0,8125.0]|           8|  Baden-Württemberg|       LK Heilbronn|   unbekannt|         M|       8125|         GENESEN|2020-08-23|              6.0|            1.0|            0.0|           A35-A59|\n",
      "| [0.0,1.0,8125.0]|           8|  Baden-Württemberg|       LK Heilbronn|   unbekannt|         M|       8125|         GENESEN|2020-12-04|              6.0|            1.0|            0.0|           A35-A59|\n",
      "| [0.0,1.0,8125.0]|           8|  Baden-Württemberg|       LK Heilbronn|   unbekannt|         M|       8125|         GENESEN|2020-12-06|              6.0|            1.0|            0.0|           A35-A59|\n",
      "| [0.0,1.0,8125.0]|           8|  Baden-Württemberg|       LK Heilbronn|   unbekannt|         M|       8125|         GENESEN|2021-01-07|              6.0|            1.0|            0.0|           A35-A59|\n",
      "| [0.0,1.0,8125.0]|           8|  Baden-Württemberg|       LK Heilbronn|   unbekannt|         M|       8125|         GENESEN|2021-04-25|              6.0|            1.0|            0.0|           A35-A59|\n",
      "| [1.0,0.0,5382.0]|           5|Nordrhein-Westfalen|LK Rhein-Sieg-Kreis|   unbekannt|         W|       5382|NICHTEINGETRETEN|2021-05-27|              6.0|            0.0|            1.0|           A15-A34|\n",
      "| [0.0,0.0,7235.0]|           7|    Rheinland-Pfalz|  LK Trier-Saarburg|   unbekannt|         W|       7235|         GENESEN|2021-03-14|              6.0|            0.0|            0.0|           A60-A79|\n",
      "| [0.0,0.0,7335.0]|           7|    Rheinland-Pfalz|  LK Kaiserslautern|   unbekannt|         W|       7335|         GENESEN|2020-12-20|              6.0|            0.0|            0.0|           A15-A34|\n",
      "| [0.0,0.0,7335.0]|           7|    Rheinland-Pfalz|  LK Kaiserslautern|   unbekannt|         W|       7335|         GENESEN|2021-02-08|              6.0|            0.0|            0.0|           A15-A34|\n",
      "| [0.0,0.0,7335.0]|           7|    Rheinland-Pfalz|  LK Kaiserslautern|   unbekannt|         W|       7335|         GENESEN|2021-03-16|              6.0|            0.0|            0.0|           A15-A34|\n",
      "|[0.0,0.0,11003.0]|          11|             Berlin|   SK Berlin Pankow|   unbekannt|         W|      11003|         GENESEN|2020-09-22|              6.0|            0.0|            0.0|           A05-A14|\n",
      "|[0.0,0.0,11003.0]|          11|             Berlin|   SK Berlin Pankow|   unbekannt|         W|      11003|         GENESEN|2020-10-12|              6.0|            0.0|            0.0|           A05-A14|\n",
      "|[0.0,0.0,11003.0]|          11|             Berlin|   SK Berlin Pankow|   unbekannt|         W|      11003|         GENESEN|2020-10-19|              6.0|            0.0|            0.0|           A05-A14|\n",
      "|[0.0,0.0,11003.0]|          11|             Berlin|   SK Berlin Pankow|   unbekannt|         W|      11003|         GENESEN|2020-11-03|              6.0|            0.0|            0.0|           A05-A14|\n",
      "|[0.0,0.0,11003.0]|          11|             Berlin|   SK Berlin Pankow|   unbekannt|         W|      11003|         GENESEN|2020-11-04|              6.0|            0.0|            0.0|           A05-A14|\n",
      "|[0.0,0.0,11003.0]|          11|             Berlin|   SK Berlin Pankow|   unbekannt|         W|      11003|         GENESEN|2020-11-10|              6.0|            0.0|            0.0|           A05-A14|\n",
      "|[0.0,0.0,11003.0]|          11|             Berlin|   SK Berlin Pankow|   unbekannt|         W|      11003|         GENESEN|2020-12-30|              6.0|            0.0|            0.0|           A05-A14|\n",
      "+-----------------+------------+-------------------+-------------------+------------+----------+-----------+----------------+----------+-----------------+---------------+---------------+------------------+\n",
      "only showing top 20 rows\n",
      "\n"
     ]
    }
   ],
   "source": [
    "# Kontrollausgabe\n",
    "joinedDF.filter(joinedDF.AltersgruppeRandom.isNotNull() & (joinedDF.Altersgruppe == \"unbekannt\")).show()"
   ]
  },
  {
   "cell_type": "code",
   "execution_count": 33,
   "id": "bb56c4cb-87af-448c-9b12-3b21ddaa77c4",
   "metadata": {},
   "outputs": [],
   "source": [
    "# Hier werden die unbekannten Werte der Altersgruppe durch die zufällig generierten Werte ersetzt.\n",
    "dfAltersgruppeImputed = joinedDF.withColumn(\"Altersgruppe\", when((joinedDF.Altersgruppe == \"unbekannt\") & (joinedDF.AltersgruppeRandom.isNotNull()), joinedDF.AltersgruppeRandom).otherwise(joinedDF.Altersgruppe)).drop(\"AltersgruppeRandom\",\"features\")"
   ]
  },
  {
   "cell_type": "code",
   "execution_count": 34,
   "id": "0866ca7b-7f61-4b55-86f5-5ec957d859f5",
   "metadata": {},
   "outputs": [
    {
     "data": {
      "text/plain": [
       "0"
      ]
     },
     "execution_count": 34,
     "metadata": {},
     "output_type": "execute_result"
    }
   ],
   "source": [
    "# Überprüfung, dass die Altersgruppe nun für alle Instanzen befüllt ist\n",
    "dfAltersgruppeImputed.filter((dfAltersgruppeImputed.Altersgruppe == \"unbekannt\")).count()"
   ]
  },
  {
   "cell_type": "markdown",
   "id": "e52587fa-9277-4937-8727-f8b2534a712a",
   "metadata": {},
   "source": [
    "## AltersguppeIndex\n",
    "Da die Altersgruppe verändert wurde, muss hierfür der AltersgruppeIndex aktualisiert werden."
   ]
  },
  {
   "cell_type": "code",
   "execution_count": 35,
   "id": "9e559c34-a369-432a-84e3-703589439c2d",
   "metadata": {},
   "outputs": [
    {
     "name": "stdout",
     "output_type": "stream",
     "text": [
      "+------------+----------+---------+------------+----------+-----------+----------+----------+-----------------+---------------+---------------+\n",
      "|IdBundesland|Bundesland|Landkreis|Altersgruppe|Geschlecht|IdLandkreis|FallStatus| Falldatum|AltersgruppeIndex|GeschlechtIndex|FallStatusIndex|\n",
      "+------------+----------+---------+------------+----------+-----------+----------+----------+-----------------+---------------+---------------+\n",
      "|          16| Thüringen| LK Gotha|     A00-A04|         W|      16067|   GENESEN|2020-04-21|              5.0|            0.0|            0.0|\n",
      "|          16| Thüringen| LK Gotha|     A00-A04|         W|      16067|   GENESEN|2020-09-12|              5.0|            0.0|            0.0|\n",
      "|          16| Thüringen| LK Gotha|     A00-A04|         W|      16067|   GENESEN|2020-10-23|              5.0|            0.0|            0.0|\n",
      "|          16| Thüringen| LK Gotha|     A00-A04|         W|      16067|   GENESEN|2020-11-18|              5.0|            0.0|            0.0|\n",
      "|          16| Thüringen| LK Gotha|     A00-A04|         W|      16067|   GENESEN|2020-11-21|              5.0|            0.0|            0.0|\n",
      "|          16| Thüringen| LK Gotha|     A00-A04|         W|      16067|   GENESEN|2020-11-22|              5.0|            0.0|            0.0|\n",
      "|          16| Thüringen| LK Gotha|     A00-A04|         W|      16067|   GENESEN|2020-12-04|              5.0|            0.0|            0.0|\n",
      "|          16| Thüringen| LK Gotha|     A00-A04|         W|      16067|   GENESEN|2020-12-08|              5.0|            0.0|            0.0|\n",
      "|          16| Thüringen| LK Gotha|     A00-A04|         W|      16067|   GENESEN|2020-12-17|              5.0|            0.0|            0.0|\n",
      "|          16| Thüringen| LK Gotha|     A00-A04|         W|      16067|   GENESEN|2021-01-06|              5.0|            0.0|            0.0|\n",
      "|          16| Thüringen| LK Gotha|     A00-A04|         W|      16067|   GENESEN|2021-01-09|              5.0|            0.0|            0.0|\n",
      "|          16| Thüringen| LK Gotha|     A00-A04|         W|      16067|   GENESEN|2021-01-16|              5.0|            0.0|            0.0|\n",
      "|          16| Thüringen| LK Gotha|     A00-A04|         W|      16067|   GENESEN|2021-01-18|              5.0|            0.0|            0.0|\n",
      "|          16| Thüringen| LK Gotha|     A00-A04|         W|      16067|   GENESEN|2021-01-19|              5.0|            0.0|            0.0|\n",
      "|          16| Thüringen| LK Gotha|     A00-A04|         W|      16067|   GENESEN|2021-01-17|              5.0|            0.0|            0.0|\n",
      "|          16| Thüringen| LK Gotha|     A00-A04|         W|      16067|   GENESEN|2021-01-21|              5.0|            0.0|            0.0|\n",
      "|          16| Thüringen| LK Gotha|     A00-A04|         W|      16067|   GENESEN|2021-01-24|              5.0|            0.0|            0.0|\n",
      "|          16| Thüringen| LK Gotha|     A00-A04|         W|      16067|   GENESEN|2021-01-25|              5.0|            0.0|            0.0|\n",
      "|          16| Thüringen| LK Gotha|     A00-A04|         W|      16067|   GENESEN|2021-01-31|              5.0|            0.0|            0.0|\n",
      "|          16| Thüringen| LK Gotha|     A00-A04|         W|      16067|   GENESEN|2021-02-08|              5.0|            0.0|            0.0|\n",
      "+------------+----------+---------+------------+----------+-----------+----------+----------+-----------------+---------------+---------------+\n",
      "only showing top 20 rows\n",
      "\n"
     ]
    }
   ],
   "source": [
    "altersgruppeIndexer = StringIndexer(inputCol=\"Altersgruppe\", outputCol=\"AltersgruppeIndexNeu\")\n",
    "altersgruppeModel = altersgruppeIndexer.fit(dfAltersgruppeImputed)\n",
    "dfWithAgeIndexNew = altersgruppeModel.transform(dfAltersgruppeImputed)\n",
    "dfWithAgeIndex = dfWithAgeIndexNew.withColumn(\"AltersgruppeIndex\", dfWithAgeIndexNew.AltersgruppeIndexNeu).drop(\"AltersgruppeIndexNeu\")\n",
    "dfWithAgeIndex.show()\n"
   ]
  },
  {
   "cell_type": "markdown",
   "id": "902acc0d-f700-4051-9de1-26d05723753d",
   "metadata": {},
   "source": [
    "## Speichern des Verarbeitungsergebnisses\n",
    "Da die Verarbeitung sehr zeitintensiv ist macht es Sinn, das Ergebnis der Data-Preperation als neues CSV-File zu speichern, um so für die kommenden Phase nur noch die verarbeitete Datei einzulesen. Sie wird im Ordner data-preperation-result hinterlegt. Der Dateiname ist hierbei nicht beinflussbar, weshalb er im Nachhinein anzupassen ist."
   ]
  },
  {
   "cell_type": "code",
   "execution_count": 36,
   "id": "13dfce91-1830-4dd0-8317-4d94bcc02a85",
   "metadata": {},
   "outputs": [],
   "source": [
    "finalDF = dfWithAgeIndex.selectExpr(\"Bundesland\", \"IdBundesland as BundeslandIndex\",\"Landkreis\", \"IdLandkreis as LandkreisIndex\",\"Altersgruppe\", \"AltersgruppeIndex\", \"Geschlecht\", \"GeschlechtIndex\", \"FallStatus\", \"FallStatusIndex\",\"Falldatum\")"
   ]
  },
  {
   "cell_type": "code",
   "execution_count": 37,
   "id": "204ec186-e054-4751-a078-7c4f77803397",
   "metadata": {},
   "outputs": [],
   "source": [
    "finalDF.repartition(1).write.format('csv').option('header',True).mode('overwrite').option('sep',';').save(translate_to_file_string(\"./data/data-preperation-result\"))"
   ]
  }
 ],
 "metadata": {
  "kernelspec": {
   "display_name": "Python 3",
   "language": "python",
   "name": "python3"
  },
  "language_info": {
   "codemirror_mode": {
    "name": "ipython",
    "version": 3
   },
   "file_extension": ".py",
   "mimetype": "text/x-python",
   "name": "python",
   "nbconvert_exporter": "python",
   "pygments_lexer": "ipython3",
   "version": "3.8.8"
  },
  "toc-autonumbering": false,
  "toc-showtags": false
 },
 "nbformat": 4,
 "nbformat_minor": 5
}
