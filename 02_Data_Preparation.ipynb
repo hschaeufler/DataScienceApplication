{
 "cells": [
  {
   "cell_type": "markdown",
   "id": "78da626b-7d05-4bc8-8204-27ba6c010209",
   "metadata": {},
   "source": [
    "# Data Preperation"
   ]
  },
  {
   "cell_type": "code",
   "execution_count": null,
   "id": "ca4d0ac4-226e-4f5b-a6fa-0bd1b85bd29c",
   "metadata": {},
   "outputs": [],
   "source": [
    "from pyspark.sql import DataFrameReader\n",
    "from pyspark.sql import SparkSession\n",
    "from pyspark.ml.feature import IndexToString, Normalizer, StringIndexer, VectorAssembler, VectorIndexer\n",
    "from pyspark.ml.classification import DecisionTreeClassifier\n",
    "from helpers.helper_functions import translate_to_file_string\n",
    "from pyspark.sql.functions import col,lit,to_date\n",
    "from pyspark.sql.functions import expr,when\n",
    "from pyspark.ml.feature import Imputer\n",
    "from pyspark.ml.feature import StringIndexer\n",
    "from sklearn.impute import KNNImputer\n",
    "from pyspark.sql.functions import rand, desc\n",
    "from pyspark.ml.feature import StringIndexer\n",
    "from pyspark.ml import Pipeline\n",
    "from pyspark.ml.feature import MinHashLSH\n",
    "from pyspark.ml.feature import BucketedRandomProjectionLSH\n",
    "from pyspark.sql import Row\n",
    "from pyspark.ml.linalg import Vectors\n",
    "from pyspark.ml.feature import MinMaxScaler\n",
    "from IPython.display import display, clear_output\n",
    "import random\n",
    "import time\n",
    "\n",
    "\n",
    "# for pretty printing\n",
    "def printDf(sprkDF): \n",
    "    newdf = sprkDF.toPandas()\n",
    "    from IPython.display import display, HTML\n",
    "    return HTML(newdf.to_html())\n",
    "\n",
    "inputFile = translate_to_file_string(\"./data/RKI_COVID19_20210529.csv\")"
   ]
  },
  {
   "cell_type": "markdown",
   "id": "4978b0a3-e029-4a47-addf-3d03cc69e0fd",
   "metadata": {},
   "source": [
    "## Create Spark Session"
   ]
  },
  {
   "cell_type": "code",
   "execution_count": 31,
   "id": "67da5ee7-f795-4e20-8ea6-17affdfde647",
   "metadata": {},
   "outputs": [
    {
     "name": "stdout",
     "output_type": "stream",
     "text": [
      "root\n",
      " |-- ObjectId: integer (nullable = true)\n",
      " |-- IdBundesland: integer (nullable = true)\n",
      " |-- Bundesland: string (nullable = true)\n",
      " |-- Landkreis: string (nullable = true)\n",
      " |-- Altersgruppe: string (nullable = true)\n",
      " |-- Geschlecht: string (nullable = true)\n",
      " |-- AnzahlFall: integer (nullable = true)\n",
      " |-- AnzahlTodesfall: integer (nullable = true)\n",
      " |-- Meldedatum: string (nullable = true)\n",
      " |-- IdLandkreis: integer (nullable = true)\n",
      " |-- Datenstand: string (nullable = true)\n",
      " |-- NeuerFall: integer (nullable = true)\n",
      " |-- NeuerTodesfall: integer (nullable = true)\n",
      " |-- Refdatum: string (nullable = true)\n",
      " |-- NeuGenesen: integer (nullable = true)\n",
      " |-- AnzahlGenesen: integer (nullable = true)\n",
      " |-- IstErkrankungsbeginn: integer (nullable = true)\n",
      " |-- Altersgruppe2: string (nullable = true)\n",
      "\n",
      "None\n"
     ]
    }
   ],
   "source": [
    "#create a SparkSession\n",
    "spark = (SparkSession\n",
    "       .builder\n",
    "       .appName(\"RKICOVID19PREPARATION\")\n",
    "       .getOrCreate())\n",
    "# create a DataFrame using an ifered Schema \n",
    "df = spark.read.option(\"header\", \"true\") \\\n",
    "       .option(\"inferSchema\", \"true\") \\\n",
    "       .option(\"delimiter\", \",\") \\\n",
    "       .csv(inputFile)   \n",
    "print(df.printSchema())"
   ]
  },
  {
   "cell_type": "markdown",
   "id": "95122e88-0f35-4155-bd75-ec2e5fc61575",
   "metadata": {},
   "source": [
    "### Überprüfung\n",
    "Zur Überprüfung wird die Gesamtzahl der eingelesenen Instanzen ermittelt."
   ]
  },
  {
   "cell_type": "code",
   "execution_count": 32,
   "id": "73a177f0-5433-4de0-9c63-fda97aada64c",
   "metadata": {},
   "outputs": [
    {
     "data": {
      "text/plain": [
       "2003106"
      ]
     },
     "execution_count": 32,
     "metadata": {},
     "output_type": "execute_result"
    }
   ],
   "source": [
    "df.count()"
   ]
  },
  {
   "cell_type": "markdown",
   "id": "da195ba4-154f-456e-ad66-4029141babb0",
   "metadata": {},
   "source": [
    "## Datenreinigung\n",
    "Nimmt das Feld NeuerFall den Wert -1 an, so ist er laut RKI \"[...] nur in der Publikation des Vortags enthalten\". Das heißt es handelt sich folglich um eine Korrektur, der Puplikation des Vortages und muss in der aktuellen Datenauswertung näher betrachtet werden. Daraus ergibt sich, dass die entsprechenden Records aus dem Dataframe herausgefiltert werden müssen."
   ]
  },
  {
   "cell_type": "code",
   "execution_count": 33,
   "id": "d7736d57-e5f8-434d-9285-898acc495f4b",
   "metadata": {},
   "outputs": [],
   "source": [
    "df = df.filter(df.NeuerFall > -1)"
   ]
  },
  {
   "cell_type": "code",
   "execution_count": 34,
   "id": "cc051c46-142f-4624-9edd-f7eecaf01180",
   "metadata": {},
   "outputs": [
    {
     "data": {
      "text/plain": [
       "2002544"
      ]
     },
     "execution_count": 34,
     "metadata": {},
     "output_type": "execute_result"
    }
   ],
   "source": [
    "df.count()"
   ]
  },
  {
   "cell_type": "markdown",
   "id": "051b20e8-4417-4817-b2f7-0205d61938cd",
   "metadata": {},
   "source": [
    "## Datentransformation\n",
    "In der Spalte AnzahlFall steht jeweils die Summe der Fälle. Um nun die verschiedenen Modelle trainieren zu können, muss nun die Aggration rückgängig gemacht werden. Das heißt für jeden Fall muss nun ein Record im DataFrame aufgenommen werden. Die neue Anzahl der Records muss der Anzahl der gemeldeten Fälle entsprechen. Darüber hinaus ist eine neue Spalte anzufügen. Die neue Spalte gibt an ob die Person genesen, gestorben oder keins von beiden ist. Die Spalten AnzahlFall, AnzahlTodesfall und AnzahlGenesen können dann entfallen. Ebenfalls die Felder NeuerFall, NeuerTodesfall und NeuGenesen. "
   ]
  },
  {
   "cell_type": "markdown",
   "id": "820ec862-239f-497e-8b63-34150ebeb979",
   "metadata": {},
   "source": [
    "### Vereinzelung\n",
    "Für die Vereinzelung werden die Funktionen Explode und Array-Repeat verwendet. Nach der Anwendung der beiden Funktionen muss die Anzahl der Datensätze, der Anzahl der gemeldeten Corona-Fälle entsprechen."
   ]
  },
  {
   "cell_type": "code",
   "execution_count": 35,
   "id": "2638b522-46a0-4c47-9770-05e3eff7d239",
   "metadata": {},
   "outputs": [
    {
     "data": {
      "text/plain": [
       "3675296"
      ]
     },
     "execution_count": 35,
     "metadata": {},
     "output_type": "execute_result"
    }
   ],
   "source": [
    "df = df.withColumn(\"AnzahlFall\", expr(\"explode(array_repeat(AnzahlFall,int(AnzahlFall)))\"))\n",
    "df.count()"
   ]
  },
  {
   "cell_type": "markdown",
   "id": "b19cadb9-49ac-4550-b7c6-2fe29a206c47",
   "metadata": {},
   "source": [
    "### Neue Spalte\n",
    "Wie oben beschrieben wird in Folgendem eine neue Spalte namens FallStatus angefügt. Diese dient zukünftig als Label."
   ]
  },
  {
   "cell_type": "code",
   "execution_count": 36,
   "id": "960a1ce5-a36d-4d84-9950-2e6cc59b6ecd",
   "metadata": {},
   "outputs": [],
   "source": [
    "df = df.withColumn(\"FallStatus\", when(df.AnzahlGenesen > 0, \"GENESEN\")\n",
    "                                 .when(df.AnzahlTodesfall > 0, \"GESTORBEN\")\n",
    "                                 .otherwise(\"NICHTEINGETRETEN\"))"
   ]
  },
  {
   "cell_type": "code",
   "execution_count": 37,
   "id": "11030914-6446-4016-b56b-841b7778a530",
   "metadata": {},
   "outputs": [
    {
     "name": "stdout",
     "output_type": "stream",
     "text": [
      "+--------+------------+------------------+------------+------------+----------+----------+---------------+--------------------+-----------+--------------------+---------+--------------+--------------------+----------+-------------+--------------------+-----------------+----------+\n",
      "|ObjectId|IdBundesland|        Bundesland|   Landkreis|Altersgruppe|Geschlecht|AnzahlFall|AnzahlTodesfall|          Meldedatum|IdLandkreis|          Datenstand|NeuerFall|NeuerTodesfall|            Refdatum|NeuGenesen|AnzahlGenesen|IstErkrankungsbeginn|    Altersgruppe2|FallStatus|\n",
      "+--------+------------+------------------+------------+------------+----------+----------+---------------+--------------------+-----------+--------------------+---------+--------------+--------------------+----------+-------------+--------------------+-----------------+----------+\n",
      "|       1|           1|Schleswig-Holstein|SK Flensburg|     A15-A34|         M|         3|              0|2021/03/19 00:00:...|       1001|29.05.2021, 00:00...|        0|            -9|2021/03/16 00:00:...|         0|            3|                   1|Nicht übermittelt|   GENESEN|\n",
      "|       1|           1|Schleswig-Holstein|SK Flensburg|     A15-A34|         M|         3|              0|2021/03/19 00:00:...|       1001|29.05.2021, 00:00...|        0|            -9|2021/03/16 00:00:...|         0|            3|                   1|Nicht übermittelt|   GENESEN|\n",
      "|       1|           1|Schleswig-Holstein|SK Flensburg|     A15-A34|         M|         3|              0|2021/03/19 00:00:...|       1001|29.05.2021, 00:00...|        0|            -9|2021/03/16 00:00:...|         0|            3|                   1|Nicht übermittelt|   GENESEN|\n",
      "|       2|           1|Schleswig-Holstein|SK Flensburg|     A15-A34|         M|         3|              0|2021/03/19 00:00:...|       1001|29.05.2021, 00:00...|        0|            -9|2021/03/19 00:00:...|         0|            3|                   0|Nicht übermittelt|   GENESEN|\n",
      "|       2|           1|Schleswig-Holstein|SK Flensburg|     A15-A34|         M|         3|              0|2021/03/19 00:00:...|       1001|29.05.2021, 00:00...|        0|            -9|2021/03/19 00:00:...|         0|            3|                   0|Nicht übermittelt|   GENESEN|\n",
      "|       2|           1|Schleswig-Holstein|SK Flensburg|     A15-A34|         M|         3|              0|2021/03/19 00:00:...|       1001|29.05.2021, 00:00...|        0|            -9|2021/03/19 00:00:...|         0|            3|                   0|Nicht übermittelt|   GENESEN|\n",
      "|       3|           1|Schleswig-Holstein|SK Flensburg|     A15-A34|         M|         1|              0|2021/03/20 00:00:...|       1001|29.05.2021, 00:00...|        0|            -9|2021/03/16 00:00:...|         0|            1|                   1|Nicht übermittelt|   GENESEN|\n",
      "|       4|           1|Schleswig-Holstein|SK Flensburg|     A15-A34|         M|         1|              0|2021/03/20 00:00:...|       1001|29.05.2021, 00:00...|        0|            -9|2021/03/19 00:00:...|         0|            1|                   1|Nicht übermittelt|   GENESEN|\n",
      "|       5|           1|Schleswig-Holstein|SK Flensburg|     A15-A34|         M|         1|              0|2021/03/20 00:00:...|       1001|29.05.2021, 00:00...|        0|            -9|2021/03/20 00:00:...|         0|            1|                   0|Nicht übermittelt|   GENESEN|\n",
      "|       6|           1|Schleswig-Holstein|SK Flensburg|     A15-A34|         M|         1|              0|2021/03/21 00:00:...|       1001|29.05.2021, 00:00...|        0|            -9|2021/03/13 00:00:...|         0|            1|                   1|Nicht übermittelt|   GENESEN|\n",
      "+--------+------------+------------------+------------+------------+----------+----------+---------------+--------------------+-----------+--------------------+---------+--------------+--------------------+----------+-------------+--------------------+-----------------+----------+\n",
      "\n"
     ]
    }
   ],
   "source": [
    "df.limit(10).show()"
   ]
  },
  {
   "cell_type": "markdown",
   "id": "3e4cba31-5ae6-4207-b6aa-920319efa7d2",
   "metadata": {},
   "source": [
    "## Datenreduktion\n",
    "In dem folgenden Schritt werden die nicht notwendigen Spalten gelöscht. Spalte Altersgruppe2 ist nicht mit konkreten Werten befüllt und kann daher entfernt werden. Die Informationen aus AnzahlTodesfall und AnzahlGenesen bzw. NeuerTodefall und NeuGenesen sind durch das neue Feld FallStatus abgebildet. Die Felder AnzahlFall und NeuerFall sind durch die Vereinzelung und das Herausfiltern von Korrekturwerten überflüssig geworden. Die ObjectId hat an dieser Stelle auch keine Aussagekraft, da nicht mehrere Puplikationen verglichen werden, sonderns jeweils nur die Aktuelle Puplikation betrachtet wird. Ebenfalls nicht notwendig ist das Feld \"IstErkrankungsbeginn\". Das Feld Datenstand ist für alle Records das selbe Datum. Wird am heutigen Tag der RKI-Datensatz heruntergeladen enthält das Feld Datenstand das aktuelle Datum. Daher ist dieses nicht für die weitere Verarbeitung notwendig. Die Datenreduktion ist im Zuge der Feature Selection erfolgt. "
   ]
  },
  {
   "cell_type": "code",
   "execution_count": 38,
   "id": "f9b392e6-c3c2-47ff-9f35-7cad9c679e8b",
   "metadata": {},
   "outputs": [],
   "source": [
    "# Definition der zu löschenden Spalten\n",
    "columnsToDelete = (\"Altersgruppe2\", \"AnzahlFall\", \"NeuerFall\", \"AnzahlTodesfall\", \"NeuerTodesfall\", \"AnzahlGenesen\", \"NeuGenesen\", \"IstErkrankungsbeginn\", \"Datenstand\", \"ObjectId\")\n",
    "df = df.drop(*columnsToDelete)"
   ]
  },
  {
   "cell_type": "code",
   "execution_count": 39,
   "id": "edf67421-2acf-4de7-9936-fe2dcd5d5a19",
   "metadata": {},
   "outputs": [
    {
     "name": "stdout",
     "output_type": "stream",
     "text": [
      "+------------+------------------+------------+------------+----------+--------------------+-----------+--------------------+----------+\n",
      "|IdBundesland|        Bundesland|   Landkreis|Altersgruppe|Geschlecht|          Meldedatum|IdLandkreis|            Refdatum|FallStatus|\n",
      "+------------+------------------+------------+------------+----------+--------------------+-----------+--------------------+----------+\n",
      "|           1|Schleswig-Holstein|SK Flensburg|     A15-A34|         M|2021/03/19 00:00:...|       1001|2021/03/16 00:00:...|   GENESEN|\n",
      "|           1|Schleswig-Holstein|SK Flensburg|     A15-A34|         M|2021/03/19 00:00:...|       1001|2021/03/16 00:00:...|   GENESEN|\n",
      "|           1|Schleswig-Holstein|SK Flensburg|     A15-A34|         M|2021/03/19 00:00:...|       1001|2021/03/16 00:00:...|   GENESEN|\n",
      "|           1|Schleswig-Holstein|SK Flensburg|     A15-A34|         M|2021/03/19 00:00:...|       1001|2021/03/19 00:00:...|   GENESEN|\n",
      "|           1|Schleswig-Holstein|SK Flensburg|     A15-A34|         M|2021/03/19 00:00:...|       1001|2021/03/19 00:00:...|   GENESEN|\n",
      "|           1|Schleswig-Holstein|SK Flensburg|     A15-A34|         M|2021/03/19 00:00:...|       1001|2021/03/19 00:00:...|   GENESEN|\n",
      "|           1|Schleswig-Holstein|SK Flensburg|     A15-A34|         M|2021/03/20 00:00:...|       1001|2021/03/16 00:00:...|   GENESEN|\n",
      "|           1|Schleswig-Holstein|SK Flensburg|     A15-A34|         M|2021/03/20 00:00:...|       1001|2021/03/19 00:00:...|   GENESEN|\n",
      "|           1|Schleswig-Holstein|SK Flensburg|     A15-A34|         M|2021/03/20 00:00:...|       1001|2021/03/20 00:00:...|   GENESEN|\n",
      "|           1|Schleswig-Holstein|SK Flensburg|     A15-A34|         M|2021/03/21 00:00:...|       1001|2021/03/13 00:00:...|   GENESEN|\n",
      "+------------+------------------+------------+------------+----------+--------------------+-----------+--------------------+----------+\n",
      "\n"
     ]
    }
   ],
   "source": [
    "#Zeige die ersten Zehn Einträge zur Kontrolle\n",
    "df.limit(10).show()"
   ]
  },
  {
   "cell_type": "markdown",
   "id": "e816f80a-0d49-4c32-8948-96d46707362c",
   "metadata": {},
   "source": [
    "## Imputation fehlender Werte\n",
    "Ein Teil der Datenreinigung ist die Impautation fehlder Werte. Fehlende Werte treten häufig in Datensätzen auf. Dies kann zu Problemen während dem Modelling führen. Aus diesem Grund gibt es verschiedene Möglichkeiten damit umzugehen. Das einfache Löschen von Datensätzen mit fehlenden Werten kann zu einer Verzerrung führen. Daher werden of Machine Learing Techniken angewandt um plausible Werte für die einzelen Features zu finden. (García et al. 2016, 4) In dem vorliegenden Datensatz des RKIs ist in bestimmten Fällen das Geschlecht bzw. das Alter unbekannt.\n",
    "### Imputation des Geschlechts\n",
    "Da der der Imputer von PySpark jedoch nicht für kategorische Werte geignet ist (Apache Spark 2021), wurde an dieser Stelle, das Verhältnis zwischen dem Männlichen sowie dem Weiblichen Geschlecht ermittelt und per Zufallswert das Geschlecht vergeben."
   ]
  },
  {
   "cell_type": "code",
   "execution_count": 40,
   "id": "0ed3dd7a-cca6-4477-849c-f22d5cc047ac",
   "metadata": {},
   "outputs": [
    {
     "name": "stdout",
     "output_type": "stream",
     "text": [
      "Anzahl Frauen:  1880476\n",
      "Anzahl Männer:  1769786\n",
      "Gesamtzahl aller Datensätze mit vergebenem Geschlecht:  3650262\n"
     ]
    }
   ],
   "source": [
    "countWoman = df.filter(df.Geschlecht == \"W\").count()\n",
    "countMan = df.filter(df.Geschlecht == \"M\").count()\n",
    "countAll = countWoman + countMan\n",
    "print(\"Anzahl Frauen: \", countWoman)\n",
    "print(\"Anzahl Männer: \", countMan)\n",
    "print(\"Gesamtzahl aller Datensätze mit vergebenem Geschlecht: \", countAll)"
   ]
  },
  {
   "cell_type": "code",
   "execution_count": 41,
   "id": "bb30e18b-a5af-4669-a4ef-d61baa9f41bd",
   "metadata": {},
   "outputs": [],
   "source": [
    "df = df.withColumn(\"random\", (rand() * countAll))\n",
    "df = df.withColumn(\"randomGender\", when(df.random > countWoman, \"M\").otherwise(\"W\"))\n",
    "df = df.withColumn(\"Geschlecht\", when(df.Geschlecht == \"unbekannt\", df.randomGender).otherwise(df.Geschlecht)).drop(\"random\",\"randomGender\")"
   ]
  },
  {
   "cell_type": "code",
   "execution_count": 1,
   "id": "93c8b06d-fc16-4df5-bfb6-6a9ff04b96b7",
   "metadata": {},
   "outputs": [
    {
     "ename": "NameError",
     "evalue": "name 'df' is not defined",
     "output_type": "error",
     "traceback": [
      "\u001b[0;31m---------------------------------------------------------------------------\u001b[0m",
      "\u001b[0;31mNameError\u001b[0m                                 Traceback (most recent call last)",
      "\u001b[0;32m<ipython-input-1-f64c6d287c0c>\u001b[0m in \u001b[0;36m<module>\u001b[0;34m\u001b[0m\n\u001b[1;32m      1\u001b[0m \u001b[0;31m#Prüfung ob der Datensatz nun keine unbekannten Geschlächter enthält\u001b[0m\u001b[0;34m\u001b[0m\u001b[0;34m\u001b[0m\u001b[0;34m\u001b[0m\u001b[0m\n\u001b[0;32m----> 2\u001b[0;31m \u001b[0mdf\u001b[0m\u001b[0;34m.\u001b[0m\u001b[0mfilter\u001b[0m\u001b[0;34m(\u001b[0m\u001b[0mdf\u001b[0m\u001b[0;34m.\u001b[0m\u001b[0mGeschlecht\u001b[0m \u001b[0;34m==\u001b[0m \u001b[0;34m\"unbekannt\"\u001b[0m\u001b[0;34m)\u001b[0m\u001b[0;34m.\u001b[0m\u001b[0mcount\u001b[0m\u001b[0;34m(\u001b[0m\u001b[0;34m)\u001b[0m\u001b[0;34m\u001b[0m\u001b[0;34m\u001b[0m\u001b[0m\n\u001b[0m",
      "\u001b[0;31mNameError\u001b[0m: name 'df' is not defined"
     ]
    }
   ],
   "source": [
    "#Prüfung ob der Datensatz nun keine unbekannten Geschlächter enthält\n",
    "df.filter(df.Geschlecht == \"unbekannt\").count()"
   ]
  },
  {
   "cell_type": "markdown",
   "id": "2e067ada-2915-4059-b35e-5a56d8fb83ac",
   "metadata": {},
   "source": [
    "## Umwandlung in numerische Werte\n",
    "Da viele Modelle nur mit numerischen Werten arbeiten können, müssen nicht numerische Features mittels eines StringIndexers in numerische Features umgewandelt werden. Dies erfolgt mithilfe des StringIndexers. Dies erfolgt für die Altersgruppe und das Geschlecht. Um die beiden Indexer miteinder zu verketten, wird an dieser Stelle eine Pipeline verwendet."
   ]
  },
  {
   "cell_type": "code",
   "execution_count": 43,
   "id": "15afb938-18bb-4dea-9be9-0c3cf8aadb25",
   "metadata": {},
   "outputs": [],
   "source": [
    "altersgruppeIndexer = StringIndexer(inputCol=\"Altersgruppe\", outputCol=\"AltersgruppeIndex\")\n",
    "geschlechtsIndexer = StringIndexer(inputCol=\"Geschlecht\", outputCol=\"GeschlechtIndex\")\n",
    "fallstatusIndexer = StringIndexer(inputCol=\"FallStatus\", outputCol=\"FallStatusIndex\")\n",
    "pipeline = Pipeline(stages=[altersgruppeIndexer, geschlechtsIndexer,fallstatusIndexer])\n",
    "df = pipeline.fit(df).transform(df)"
   ]
  },
  {
   "cell_type": "code",
   "execution_count": 44,
   "id": "22fe3182-a062-41fa-aa16-0c12e74d33ac",
   "metadata": {},
   "outputs": [
    {
     "name": "stdout",
     "output_type": "stream",
     "text": [
      "+------------+------------------+------------+------------+----------+--------------------+-----------+--------------------+----------+-----------------+---------------+---------------+\n",
      "|IdBundesland|        Bundesland|   Landkreis|Altersgruppe|Geschlecht|          Meldedatum|IdLandkreis|            Refdatum|FallStatus|AltersgruppeIndex|GeschlechtIndex|FallStatusIndex|\n",
      "+------------+------------------+------------+------------+----------+--------------------+-----------+--------------------+----------+-----------------+---------------+---------------+\n",
      "|           1|Schleswig-Holstein|SK Flensburg|     A15-A34|         M|2021/03/19 00:00:...|       1001|2021/03/16 00:00:...|   GENESEN|              1.0|            1.0|            0.0|\n",
      "|           1|Schleswig-Holstein|SK Flensburg|     A15-A34|         M|2021/03/19 00:00:...|       1001|2021/03/16 00:00:...|   GENESEN|              1.0|            1.0|            0.0|\n",
      "|           1|Schleswig-Holstein|SK Flensburg|     A15-A34|         M|2021/03/19 00:00:...|       1001|2021/03/16 00:00:...|   GENESEN|              1.0|            1.0|            0.0|\n",
      "|           1|Schleswig-Holstein|SK Flensburg|     A15-A34|         M|2021/03/19 00:00:...|       1001|2021/03/19 00:00:...|   GENESEN|              1.0|            1.0|            0.0|\n",
      "|           1|Schleswig-Holstein|SK Flensburg|     A15-A34|         M|2021/03/19 00:00:...|       1001|2021/03/19 00:00:...|   GENESEN|              1.0|            1.0|            0.0|\n",
      "|           1|Schleswig-Holstein|SK Flensburg|     A15-A34|         M|2021/03/19 00:00:...|       1001|2021/03/19 00:00:...|   GENESEN|              1.0|            1.0|            0.0|\n",
      "|           1|Schleswig-Holstein|SK Flensburg|     A15-A34|         M|2021/03/20 00:00:...|       1001|2021/03/16 00:00:...|   GENESEN|              1.0|            1.0|            0.0|\n",
      "|           1|Schleswig-Holstein|SK Flensburg|     A15-A34|         M|2021/03/20 00:00:...|       1001|2021/03/19 00:00:...|   GENESEN|              1.0|            1.0|            0.0|\n",
      "|           1|Schleswig-Holstein|SK Flensburg|     A15-A34|         M|2021/03/20 00:00:...|       1001|2021/03/20 00:00:...|   GENESEN|              1.0|            1.0|            0.0|\n",
      "|           1|Schleswig-Holstein|SK Flensburg|     A15-A34|         M|2021/03/21 00:00:...|       1001|2021/03/13 00:00:...|   GENESEN|              1.0|            1.0|            0.0|\n",
      "+------------+------------------+------------+------------+----------+--------------------+-----------+--------------------+----------+-----------------+---------------+---------------+\n",
      "\n"
     ]
    }
   ],
   "source": [
    "#Zeige die ersten zehn Einträge\n",
    "df.limit(10).show()"
   ]
  },
  {
   "cell_type": "markdown",
   "id": "554ce6dc-7f79-4c7a-b0ed-b62d27d417f3",
   "metadata": {},
   "source": [
    "## Imputation der Altersgruppe\n",
    "Für die Imputation von Kategoriewerten bietet PySpark kein StandardImputer. Deshalb wurde an dieser Stelle auf das K-Nearest-Neighbour-Verfahren zurückgegriffen. Konkret fand die Klasse BucketedRandomProjectionLSH Anwendung, die auf dem Prinzip des Locality Sensitive Hashing basiert und als Entfernungsmaß die Euklidische Distanz verwendet."
   ]
  },
  {
   "cell_type": "markdown",
   "id": "60a11b82-e7da-40c8-aa85-374b3939bfba",
   "metadata": {},
   "source": [
    "### Aufbau des Feature-Vektors"
   ]
  },
  {
   "cell_type": "code",
   "execution_count": 45,
   "id": "0e0b6e57-319e-422b-bf83-46a421bfb1a8",
   "metadata": {},
   "outputs": [],
   "source": [
    "assembler =  VectorAssembler(outputCol=\"features\", inputCols=[\"FallStatusIndex\", \"GeschlechtIndex\",\"IdLandkreis\"])\n",
    "featureVector = assembler.transform(df)\n"
   ]
  },
  {
   "cell_type": "markdown",
   "id": "d3b25ae1-3d76-4912-990e-d370eb580c81",
   "metadata": {},
   "source": [
    "### Aufteilung des Vektors in Trainings- und Erkennungsdaten "
   ]
  },
  {
   "cell_type": "code",
   "execution_count": 46,
   "id": "8d2c4b74-034e-4748-86b0-0370ed46f06d",
   "metadata": {},
   "outputs": [],
   "source": [
    "trainingFeatureVector = featureVector.filter(df.Altersgruppe != \"unbekannt\");\n",
    "targetFeatureVector = featureVector.filter(df.Altersgruppe == \"unbekannt\");"
   ]
  },
  {
   "cell_type": "markdown",
   "id": "0a72dfec-b5eb-4b11-90da-c423935775aa",
   "metadata": {},
   "source": [
    "### Aufteilung des Trainingvektors\n",
    "Da es sich im Zuge der vorliegenden Arbeit herausgestellt hat, dass das Finden eines nächsten Nachbarn sehr Zeit- und Rechenintensiv ist, wurden an dieser Stelle die einzelnen Instanzen nach dem Feature-Vektor und der Altersgruppe gruppiert, um schnellere Berechnungen zu ermöglichen."
   ]
  },
  {
   "cell_type": "code",
   "execution_count": null,
   "id": "b009e685-8df2-4954-8946-d264bbca68b0",
   "metadata": {},
   "outputs": [],
   "source": [
    "# Anzahl der Instanzen vor der Gruppierung\n",
    "trainingFeatureVector.count()"
   ]
  },
  {
   "cell_type": "code",
   "execution_count": 47,
   "id": "df12e369-60c5-4656-a996-3c4f841d303e",
   "metadata": {},
   "outputs": [
    {
     "name": "stdout",
     "output_type": "stream",
     "text": [
      "+----------------+-----+\n",
      "|        features|count|\n",
      "+----------------+-----+\n",
      "|[1.0,0.0,2000.0]| 1246|\n",
      "|[1.0,1.0,3255.0]|   27|\n",
      "|[0.0,1.0,3453.0]| 5365|\n",
      "|[2.0,1.0,5762.0]|   64|\n",
      "|[1.0,0.0,6535.0]|   53|\n",
      "|[1.0,0.0,7331.0]|   57|\n",
      "|[1.0,0.0,7337.0]|   48|\n",
      "|[2.0,0.0,8117.0]|   95|\n",
      "|[2.0,1.0,9263.0]|   45|\n",
      "|[0.0,1.0,9277.0]| 3430|\n",
      "+----------------+-----+\n",
      "\n"
     ]
    }
   ],
   "source": [
    "# Gruppierung nach Feature-Vektor und Altersgruppe\n",
    "trainingFeatureVectorGrouped = trainingFeatureVector.groupBy(\"features\",\"Altersgruppe\").count().orderBy(desc(\"features\"))\n",
    "# Kontrollausgabe\n",
    "trainingFeatureVectorGrouped.limit(10).show()"
   ]
  },
  {
   "cell_type": "code",
   "execution_count": 48,
   "id": "adaa080b-7217-41f2-bdcb-28cfa99ed0ad",
   "metadata": {},
   "outputs": [
    {
     "name": "stdout",
     "output_type": "stream",
     "text": [
      "+------------+------------------+------------+------------+----------+--------------------+-----------+--------------------+----------+-----------------+---------------+---------------+----------------+\n",
      "|IdBundesland|        Bundesland|   Landkreis|Altersgruppe|Geschlecht|          Meldedatum|IdLandkreis|            Refdatum|FallStatus|AltersgruppeIndex|GeschlechtIndex|FallStatusIndex|        features|\n",
      "+------------+------------------+------------+------------+----------+--------------------+-----------+--------------------+----------+-----------------+---------------+---------------+----------------+\n",
      "|           1|Schleswig-Holstein|SK Flensburg|     A15-A34|         M|2021/03/19 00:00:...|       1001|2021/03/16 00:00:...|   GENESEN|              1.0|            1.0|            0.0|[0.0,1.0,1001.0]|\n",
      "|           1|Schleswig-Holstein|SK Flensburg|     A15-A34|         M|2021/03/19 00:00:...|       1001|2021/03/16 00:00:...|   GENESEN|              1.0|            1.0|            0.0|[0.0,1.0,1001.0]|\n",
      "|           1|Schleswig-Holstein|SK Flensburg|     A15-A34|         M|2021/03/19 00:00:...|       1001|2021/03/16 00:00:...|   GENESEN|              1.0|            1.0|            0.0|[0.0,1.0,1001.0]|\n",
      "|           1|Schleswig-Holstein|SK Flensburg|     A15-A34|         M|2021/03/19 00:00:...|       1001|2021/03/19 00:00:...|   GENESEN|              1.0|            1.0|            0.0|[0.0,1.0,1001.0]|\n",
      "|           1|Schleswig-Holstein|SK Flensburg|     A15-A34|         M|2021/03/19 00:00:...|       1001|2021/03/19 00:00:...|   GENESEN|              1.0|            1.0|            0.0|[0.0,1.0,1001.0]|\n",
      "|           1|Schleswig-Holstein|SK Flensburg|     A15-A34|         M|2021/03/19 00:00:...|       1001|2021/03/19 00:00:...|   GENESEN|              1.0|            1.0|            0.0|[0.0,1.0,1001.0]|\n",
      "|           1|Schleswig-Holstein|SK Flensburg|     A15-A34|         M|2021/03/20 00:00:...|       1001|2021/03/16 00:00:...|   GENESEN|              1.0|            1.0|            0.0|[0.0,1.0,1001.0]|\n",
      "|           1|Schleswig-Holstein|SK Flensburg|     A15-A34|         M|2021/03/20 00:00:...|       1001|2021/03/19 00:00:...|   GENESEN|              1.0|            1.0|            0.0|[0.0,1.0,1001.0]|\n",
      "|           1|Schleswig-Holstein|SK Flensburg|     A15-A34|         M|2021/03/20 00:00:...|       1001|2021/03/20 00:00:...|   GENESEN|              1.0|            1.0|            0.0|[0.0,1.0,1001.0]|\n",
      "|           1|Schleswig-Holstein|SK Flensburg|     A15-A34|         M|2021/03/21 00:00:...|       1001|2021/03/13 00:00:...|   GENESEN|              1.0|            1.0|            0.0|[0.0,1.0,1001.0]|\n",
      "+------------+------------------+------------+------------+----------+--------------------+-----------+--------------------+----------+-----------------+---------------+---------------+----------------+\n",
      "\n"
     ]
    }
   ],
   "source": [
    "# Anzahl der Instanzen nach der Gruppierung\n",
    "trainingFeatureVectorGrouped.count()"
   ]
  },
  {
   "cell_type": "markdown",
   "id": "558c6308-0fc6-42e2-8843-1c44db9897ab",
   "metadata": {},
   "source": [
    "### Training des KNN-Modells\n",
    "Es hat sich herausgestellt, dass mit dem Paramter numHashTables=1 die Ermettlung eines NN am schnellsten erfolgt. Dies liegt daran, dass höhere Werte zu einer höheren Komplexität des Modells führen. Du erhöhen des Wertes kann jedoch auch die False-Negativ-Rate gesenkt werden. (Bucket Random Projection LSH 2021)"
   ]
  },
  {
   "cell_type": "code",
   "execution_count": 53,
   "id": "e37283e3-f52b-4259-b7ef-1dfc13ec7154",
   "metadata": {},
   "outputs": [],
   "source": [
    "mhLSH = BucketedRandomProjectionLSH(inputCol=\"features\", outputCol=\"hashes\", bucketLength=2.0,numHashTables=1)\n",
    "model = mhLSH.fit(trainingFeatureVectorGrouped)\n",
    "transformedTrainingFeatureVector = model.transform(trainingFeatureVectorGrouped)"
   ]
  },
  {
   "cell_type": "code",
   "execution_count": 3,
   "id": "a46a216c-4e62-4cd8-938d-13b2afd2e66c",
   "metadata": {},
   "outputs": [
    {
     "ename": "NameError",
     "evalue": "name 'transformedTrainingFeatureVector' is not defined",
     "output_type": "error",
     "traceback": [
      "\u001b[0;31m---------------------------------------------------------------------------\u001b[0m",
      "\u001b[0;31mNameError\u001b[0m                                 Traceback (most recent call last)",
      "\u001b[0;32m<ipython-input-3-fce7fed186ed>\u001b[0m in \u001b[0;36m<module>\u001b[0;34m\u001b[0m\n\u001b[1;32m      1\u001b[0m \u001b[0;31m#Kontroll-Ausgabe. Hier zeigt sich auch die Auswirkung des Parameters numHashTables\u001b[0m\u001b[0;34m\u001b[0m\u001b[0;34m\u001b[0m\u001b[0;34m\u001b[0m\u001b[0m\n\u001b[0;32m----> 2\u001b[0;31m \u001b[0mtransformedTrainingFeatureVector\u001b[0m\u001b[0;34m.\u001b[0m\u001b[0mlimit\u001b[0m\u001b[0;34m(\u001b[0m\u001b[0;36m10\u001b[0m\u001b[0;34m)\u001b[0m\u001b[0;34m.\u001b[0m\u001b[0mshow\u001b[0m\u001b[0;34m(\u001b[0m\u001b[0;34m)\u001b[0m\u001b[0;34m\u001b[0m\u001b[0;34m\u001b[0m\u001b[0m\n\u001b[0m",
      "\u001b[0;31mNameError\u001b[0m: name 'transformedTrainingFeatureVector' is not defined"
     ]
    }
   ],
   "source": [
    "#Kontroll-Ausgabe. Hier zeigt sich auch die Auswirkung des Parameters numHashTables\n",
    "transformedTrainingFeatureVector.limit(10).show()"
   ]
  },
  {
   "cell_type": "markdown",
   "id": "39bac372-5fbb-4289-943a-349718978f0f",
   "metadata": {},
   "source": [
    "### Gruppieren der Verarbeitungsdaten\n",
    "Da die Ermittlung von Nachbarn tlw. 15-20 Sekunden pro Funktionsaufruf dauert (s.u.), wurden an dieser Stelle auch die Instanzen mit unbekanntem Alter gruppiert, um so weniger Erkennung ausführen zu müssen."
   ]
  },
  {
   "cell_type": "code",
   "execution_count": 59,
   "id": "582108b9-47d3-4fd5-85f2-f3b8f2b1aa1f",
   "metadata": {},
   "outputs": [
    {
     "name": "stdout",
     "output_type": "stream",
     "text": [
      "+-----------------+-----+\n",
      "|features         |count|\n",
      "+-----------------+-----+\n",
      "|[0.0,1.0,9277.0] |1    |\n",
      "|[2.0,1.0,7111.0] |1    |\n",
      "|[0.0,1.0,9171.0] |1    |\n",
      "|[0.0,0.0,9577.0] |1    |\n",
      "|[2.0,1.0,11005.0]|1    |\n",
      "|[0.0,0.0,15084.0]|1    |\n",
      "|[1.0,0.0,5382.0] |1    |\n",
      "|[0.0,1.0,8125.0] |5    |\n",
      "|[0.0,0.0,7235.0] |1    |\n",
      "|[0.0,0.0,7335.0] |3    |\n",
      "+-----------------+-----+\n",
      "only showing top 10 rows\n",
      "\n"
     ]
    }
   ],
   "source": [
    "targetFeatureVectorGrouped = targetFeatureVector.groupBy(\"features\").count()\n",
    "# Ausgabe der ersten Zehn Gruppen zur Kontrolle\n",
    "targetFeatureVectorGrouped.show(10, False)"
   ]
  },
  {
   "cell_type": "code",
   "execution_count": null,
   "id": "829322f7-cfe9-4f89-b9c4-4bd5de181712",
   "metadata": {},
   "outputs": [],
   "source": [
    "# Anzahl der nun vorliegenen Instanzen\n",
    "targetFeatureVectorGrouped.count()"
   ]
  },
  {
   "cell_type": "markdown",
   "id": "93f82f06-5fa2-40ad-9a40-5f4322af4637",
   "metadata": {},
   "source": [
    "### Durchführen der Erkennung\n",
    "Nun werden für jede Instanz aus den gruppierten Erkennungsdaten die sechs nächsten Nachbarn (6 verschiedene Altersgruppen) ermittelt. Diese dienen als Basis für die zufällige Generierung der Altersgruppe. Je häufiger eine Altersgruppe in den ermittelten Nachbarn repräsentiert ist (count der gruppierten Trainingsdaten), desto wahrscheinlicher wird diese Altersgruppe vergeben. Die Generierung der Altersgruppe erfolgt in der Methode getRandomAgeByFraction. \n",
    "Damit das Modell mit den Daten Arbeiten kann, müssen die zu erkennden Instanzen zuerst in den Speicher geladen werden. Die Verarbeitung erfolgt dann in einer Schleife. Die Ergebnisse werden in einem Array aus Rows gespeichert und nachfolgend wieder einem DateFrame zugeführt. Die Anzahl der Bereits verarbeiteten Instanzen und der Zeitdifferenz pro Durchlauf werden entsprechend ausgegeben."
   ]
  },
  {
   "cell_type": "code",
   "execution_count": 61,
   "id": "90fdfbed-f983-4b36-99ac-d43f5676db49",
   "metadata": {
    "tags": []
   },
   "outputs": [],
   "source": [
    "# Definiton der Altersgruppen-Generierungsfunktion\n",
    "def getRandomAgeByFraction(recordList):\n",
    "    sum = 0\n",
    "    dictList = []\n",
    "    for record in recordList :\n",
    "        dict = record.asDict()\n",
    "        sum = sum + dict[\"count\"]\n",
    "        dictList.append(dict)\n",
    "\n",
    "    percentSum = 0    \n",
    "    for dict in dictList :\n",
    "        dict[\"startPercent\"] = percentSum\n",
    "        dict[\"percent\"] = dict[\"count\"] / sum\n",
    "        percentSum = percentSum + dict[\"percent\"]\n",
    "        dict[\"endPercent\"] = percentSum\n",
    "\n",
    "\n",
    "    randNr = random.random()\n",
    "    Altergruppe = \"\"\n",
    "    for dict in dictList :\n",
    "        Altergruppe = dict[\"Altersgruppe\"] if ((randNr >= dict[\"startPercent\"]) & (randNr <= dict[\"endPercent\"])) else Altergruppe\n",
    "    \n",
    "    return Altergruppe"
   ]
  },
  {
   "cell_type": "code",
   "execution_count": 62,
   "id": "4ef7eb99-9839-4295-9a29-8f5daeff8d89",
   "metadata": {},
   "outputs": [
    {
     "data": {
      "text/plain": [
       "'Iteration 447 - TimeDiff: 12.545658111572266'"
      ]
     },
     "metadata": {},
     "output_type": "display_data"
    }
   ],
   "source": [
    "# Durchführung der Erkennung und der zufälligen Vergabe der Altersgruppe mit Ausgabe des aktuellem Stands und der Zeitdifferenz pro Durchlauf\n",
    "resultList = []\n",
    "\n",
    "records = targetFeatureVectorGrouped.localCheckpoint(True).collect()\n",
    "iterrations = 0\n",
    "startIterTime = time.time()\n",
    "\n",
    "for record in records :\n",
    "    iterrations = iterrations + 1\n",
    "    if (iterrations % 1) == 0 :\n",
    "        clear_output(wait=True)\n",
    "        currentTime = time.time()\n",
    "        timeDiff = currentTime - startIterTime\n",
    "        startIterTime = currentTime\n",
    "        display('Iteration '+str(iterrations)+\" - TimeDiff: \" +str(timeDiff))\n",
    "    groupedRecords = model.approxNearestNeighbors(transformedTrainingFeatureVector, record.features, 6).orderBy(desc(\"count\")).drop(\"features\",\"hashes\").collect()\n",
    "    randAge = getRandomAgeByFraction(groupedRecords)    \n",
    "    newRecord = Row(features=record.features, Altersgruppe=randAge)\n",
    "    resultList.append(newRecord)"
   ]
  },
  {
   "cell_type": "code",
   "execution_count": 63,
   "id": "652ea482-7237-4fab-956f-ad2c3098adc5",
   "metadata": {},
   "outputs": [],
   "source": [
    "# Erstellen eines neuen DataFrames\n",
    "columns = [\"features\",\"AltersgruppeRandom\"]\n",
    "resultListDF = spark.createDataFrame(data=resultList, schema = columns)"
   ]
  },
  {
   "cell_type": "code",
   "execution_count": 64,
   "id": "944b378a-a6d5-4549-8555-db15ae03a96b",
   "metadata": {},
   "outputs": [
    {
     "name": "stdout",
     "output_type": "stream",
     "text": [
      "+-----------------+------------------+\n",
      "|         features|AltersgruppeRandom|\n",
      "+-----------------+------------------+\n",
      "| [0.0,1.0,9277.0]|           A15-A34|\n",
      "| [2.0,1.0,7111.0]|           A60-A79|\n",
      "| [0.0,1.0,9171.0]|           A35-A59|\n",
      "| [0.0,0.0,9577.0]|           A35-A59|\n",
      "|[2.0,1.0,11005.0]|              A80+|\n",
      "|[0.0,0.0,15084.0]|           A60-A79|\n",
      "| [1.0,0.0,5382.0]|           A15-A34|\n",
      "| [0.0,1.0,8125.0]|           A35-A59|\n",
      "| [0.0,0.0,7235.0]|           A35-A59|\n",
      "| [0.0,0.0,7335.0]|           A15-A34|\n",
      "+-----------------+------------------+\n",
      "\n"
     ]
    }
   ],
   "source": [
    "# Kontrollausgabe des Dateframes\n",
    "resultListDF.limit(10).show()"
   ]
  },
  {
   "cell_type": "markdown",
   "id": "26964b53-7811-4bb1-ad9c-f974f62ac23b",
   "metadata": {},
   "source": [
    "### Zusammenführen der beiden DataFrames\n",
    "An dieser Stelle wird nun der initiale Dataframe mit dem neuen Dataframe zusammengeführt. In diesem Zuge erfolgt eine Imputation der unbekannten Altersgruppen."
   ]
  },
  {
   "cell_type": "code",
   "execution_count": 65,
   "id": "edc058c9-34df-419f-a615-1e811e35e971",
   "metadata": {},
   "outputs": [
    {
     "name": "stdout",
     "output_type": "stream",
     "text": [
      "+-----------------+------------+----------+---------+------------+----------+--------------------+-----------+--------------------+----------+-----------------+---------------+---------------+------------------+\n",
      "|         features|IdBundesland|Bundesland|Landkreis|Altersgruppe|Geschlecht|          Meldedatum|IdLandkreis|            Refdatum|FallStatus|AltersgruppeIndex|GeschlechtIndex|FallStatusIndex|AltersgruppeRandom|\n",
      "+-----------------+------------+----------+---------+------------+----------+--------------------+-----------+--------------------+----------+-----------------+---------------+---------------+------------------+\n",
      "|[0.0,0.0,16067.0]|          16| Thüringen| LK Gotha|     A00-A04|         W|2020/04/21 00:00:...|      16067|2020/04/21 00:00:...|   GENESEN|              5.0|            0.0|            0.0|              null|\n",
      "|[0.0,0.0,16067.0]|          16| Thüringen| LK Gotha|     A00-A04|         W|2020/09/12 00:00:...|      16067|2020/09/12 00:00:...|   GENESEN|              5.0|            0.0|            0.0|              null|\n",
      "|[0.0,0.0,16067.0]|          16| Thüringen| LK Gotha|     A00-A04|         W|2020/10/23 00:00:...|      16067|2020/10/23 00:00:...|   GENESEN|              5.0|            0.0|            0.0|              null|\n",
      "|[0.0,0.0,16067.0]|          16| Thüringen| LK Gotha|     A00-A04|         W|2020/11/21 00:00:...|      16067|2020/11/18 00:00:...|   GENESEN|              5.0|            0.0|            0.0|              null|\n",
      "|[0.0,0.0,16067.0]|          16| Thüringen| LK Gotha|     A00-A04|         W|2020/11/21 00:00:...|      16067|2020/11/21 00:00:...|   GENESEN|              5.0|            0.0|            0.0|              null|\n",
      "|[0.0,0.0,16067.0]|          16| Thüringen| LK Gotha|     A00-A04|         W|2020/11/26 00:00:...|      16067|2020/11/22 00:00:...|   GENESEN|              5.0|            0.0|            0.0|              null|\n",
      "|[0.0,0.0,16067.0]|          16| Thüringen| LK Gotha|     A00-A04|         W|2020/12/10 00:00:...|      16067|2020/12/04 00:00:...|   GENESEN|              5.0|            0.0|            0.0|              null|\n",
      "|[0.0,0.0,16067.0]|          16| Thüringen| LK Gotha|     A00-A04|         W|2020/12/13 00:00:...|      16067|2020/12/08 00:00:...|   GENESEN|              5.0|            0.0|            0.0|              null|\n",
      "|[0.0,0.0,16067.0]|          16| Thüringen| LK Gotha|     A00-A04|         W|2020/12/17 00:00:...|      16067|2020/12/17 00:00:...|   GENESEN|              5.0|            0.0|            0.0|              null|\n",
      "|[0.0,0.0,16067.0]|          16| Thüringen| LK Gotha|     A00-A04|         W|2021/01/06 00:00:...|      16067|2021/01/06 00:00:...|   GENESEN|              5.0|            0.0|            0.0|              null|\n",
      "|[0.0,0.0,16067.0]|          16| Thüringen| LK Gotha|     A00-A04|         W|2021/01/13 00:00:...|      16067|2021/01/09 00:00:...|   GENESEN|              5.0|            0.0|            0.0|              null|\n",
      "|[0.0,0.0,16067.0]|          16| Thüringen| LK Gotha|     A00-A04|         W|2021/01/16 00:00:...|      16067|2021/01/16 00:00:...|   GENESEN|              5.0|            0.0|            0.0|              null|\n",
      "|[0.0,0.0,16067.0]|          16| Thüringen| LK Gotha|     A00-A04|         W|2021/01/21 00:00:...|      16067|2021/01/18 00:00:...|   GENESEN|              5.0|            0.0|            0.0|              null|\n",
      "|[0.0,0.0,16067.0]|          16| Thüringen| LK Gotha|     A00-A04|         W|2021/01/22 00:00:...|      16067|2021/01/19 00:00:...|   GENESEN|              5.0|            0.0|            0.0|              null|\n",
      "|[0.0,0.0,16067.0]|          16| Thüringen| LK Gotha|     A00-A04|         W|2021/01/23 00:00:...|      16067|2021/01/17 00:00:...|   GENESEN|              5.0|            0.0|            0.0|              null|\n",
      "|[0.0,0.0,16067.0]|          16| Thüringen| LK Gotha|     A00-A04|         W|2021/01/25 00:00:...|      16067|2021/01/21 00:00:...|   GENESEN|              5.0|            0.0|            0.0|              null|\n",
      "|[0.0,0.0,16067.0]|          16| Thüringen| LK Gotha|     A00-A04|         W|2021/01/28 00:00:...|      16067|2021/01/24 00:00:...|   GENESEN|              5.0|            0.0|            0.0|              null|\n",
      "|[0.0,0.0,16067.0]|          16| Thüringen| LK Gotha|     A00-A04|         W|2021/01/28 00:00:...|      16067|2021/01/25 00:00:...|   GENESEN|              5.0|            0.0|            0.0|              null|\n",
      "|[0.0,0.0,16067.0]|          16| Thüringen| LK Gotha|     A00-A04|         W|2021/02/04 00:00:...|      16067|2021/01/31 00:00:...|   GENESEN|              5.0|            0.0|            0.0|              null|\n",
      "|[0.0,0.0,16067.0]|          16| Thüringen| LK Gotha|     A00-A04|         W|2021/02/08 00:00:...|      16067|2021/02/08 00:00:...|   GENESEN|              5.0|            0.0|            0.0|              null|\n",
      "+-----------------+------------+----------+---------+------------+----------+--------------------+-----------+--------------------+----------+-----------------+---------------+---------------+------------------+\n",
      "only showing top 20 rows\n",
      "\n"
     ]
    }
   ],
   "source": [
    "joinedDF = featureVector.join(resultListDF, on='features', how='left')\n",
    "joinedDF.show()"
   ]
  },
  {
   "cell_type": "code",
   "execution_count": 66,
   "id": "634c2be3-1ea7-409c-adb8-b4a02cbb2717",
   "metadata": {},
   "outputs": [
    {
     "name": "stdout",
     "output_type": "stream",
     "text": [
      "+-----------------+------------+-------------------+--------------------+------------+----------+--------------------+-----------+--------------------+----------------+-----------------+---------------+---------------+------------------+\n",
      "|         features|IdBundesland|         Bundesland|           Landkreis|Altersgruppe|Geschlecht|          Meldedatum|IdLandkreis|            Refdatum|      FallStatus|AltersgruppeIndex|GeschlechtIndex|FallStatusIndex|AltersgruppeRandom|\n",
      "+-----------------+------------+-------------------+--------------------+------------+----------+--------------------+-----------+--------------------+----------------+-----------------+---------------+---------------+------------------+\n",
      "| [0.0,1.0,9277.0]|           9|             Bayern|       LK Rottal-Inn|   unbekannt|         M|2021/05/08 00:00:...|       9277|2021/05/03 00:00:...|         GENESEN|              6.0|            1.0|            0.0|           A15-A34|\n",
      "| [0.0,0.0,9577.0]|           9|             Bayern|LK Weißenburg-Gun...|   unbekannt|         W|2021/03/03 00:00:...|       9577|2021/03/03 00:00:...|         GENESEN|              6.0|            0.0|            0.0|           A35-A59|\n",
      "| [0.0,1.0,9171.0]|           9|             Bayern|        LK Altötting|   unbekannt|         M|2021/04/11 00:00:...|       9171|2021/04/11 00:00:...|         GENESEN|              6.0|            1.0|            0.0|           A35-A59|\n",
      "| [2.0,1.0,7111.0]|           7|    Rheinland-Pfalz|          SK Koblenz|   unbekannt|         M|2021/01/26 00:00:...|       7111|2021/01/26 00:00:...|       GESTORBEN|              6.0|            1.0|            2.0|           A60-A79|\n",
      "|[2.0,1.0,11005.0]|          11|             Berlin|   SK Berlin Spandau|   unbekannt|         M|2021/01/19 00:00:...|      11005|2021/01/19 00:00:...|       GESTORBEN|              6.0|            1.0|            2.0|              A80+|\n",
      "|[0.0,0.0,15084.0]|          15|     Sachsen-Anhalt|  LK Burgenlandkreis|   unbekannt|         W|2021/05/01 00:00:...|      15084|2021/05/01 00:00:...|         GENESEN|              6.0|            0.0|            0.0|           A60-A79|\n",
      "| [0.0,1.0,8125.0]|           8|  Baden-Württemberg|        LK Heilbronn|   unbekannt|         M|2020/08/23 00:00:...|       8125|2020/08/23 00:00:...|         GENESEN|              6.0|            1.0|            0.0|           A35-A59|\n",
      "| [0.0,1.0,8125.0]|           8|  Baden-Württemberg|        LK Heilbronn|   unbekannt|         M|2020/12/04 00:00:...|       8125|2020/12/04 00:00:...|         GENESEN|              6.0|            1.0|            0.0|           A35-A59|\n",
      "| [0.0,1.0,8125.0]|           8|  Baden-Württemberg|        LK Heilbronn|   unbekannt|         M|2020/12/09 00:00:...|       8125|2020/12/06 00:00:...|         GENESEN|              6.0|            1.0|            0.0|           A35-A59|\n",
      "| [0.0,1.0,8125.0]|           8|  Baden-Württemberg|        LK Heilbronn|   unbekannt|         M|2021/01/07 00:00:...|       8125|2021/01/07 00:00:...|         GENESEN|              6.0|            1.0|            0.0|           A35-A59|\n",
      "| [0.0,1.0,8125.0]|           8|  Baden-Württemberg|        LK Heilbronn|   unbekannt|         M|2021/04/25 00:00:...|       8125|2021/04/25 00:00:...|         GENESEN|              6.0|            1.0|            0.0|           A35-A59|\n",
      "| [1.0,0.0,5382.0]|           5|Nordrhein-Westfalen| LK Rhein-Sieg-Kreis|   unbekannt|         W|2021/05/27 00:00:...|       5382|2021/05/27 00:00:...|NICHTEINGETRETEN|              6.0|            0.0|            1.0|           A15-A34|\n",
      "| [0.0,0.0,7235.0]|           7|    Rheinland-Pfalz|   LK Trier-Saarburg|   unbekannt|         W|2021/03/18 00:00:...|       7235|2021/03/14 00:00:...|         GENESEN|              6.0|            0.0|            0.0|           A35-A59|\n",
      "| [0.0,0.0,7335.0]|           7|    Rheinland-Pfalz|   LK Kaiserslautern|   unbekannt|         W|2021/01/11 00:00:...|       7335|2020/12/20 00:00:...|         GENESEN|              6.0|            0.0|            0.0|           A15-A34|\n",
      "| [0.0,0.0,7335.0]|           7|    Rheinland-Pfalz|   LK Kaiserslautern|   unbekannt|         W|2021/02/08 00:00:...|       7335|2021/02/08 00:00:...|         GENESEN|              6.0|            0.0|            0.0|           A15-A34|\n",
      "| [0.0,0.0,7335.0]|           7|    Rheinland-Pfalz|   LK Kaiserslautern|   unbekannt|         W|2021/03/16 00:00:...|       7335|2021/03/16 00:00:...|         GENESEN|              6.0|            0.0|            0.0|           A15-A34|\n",
      "|[0.0,0.0,11003.0]|          11|             Berlin|    SK Berlin Pankow|   unbekannt|         W|2020/12/30 00:00:...|      11003|2020/12/30 00:00:...|         GENESEN|              6.0|            0.0|            0.0|           A15-A34|\n",
      "|[0.0,0.0,11003.0]|          11|             Berlin|    SK Berlin Pankow|   unbekannt|         W|2020/09/22 00:00:...|      11003|2020/09/22 00:00:...|         GENESEN|              6.0|            0.0|            0.0|           A15-A34|\n",
      "|[0.0,0.0,11003.0]|          11|             Berlin|    SK Berlin Pankow|   unbekannt|         W|2020/10/12 00:00:...|      11003|2020/10/12 00:00:...|         GENESEN|              6.0|            0.0|            0.0|           A15-A34|\n",
      "|[0.0,0.0,11003.0]|          11|             Berlin|    SK Berlin Pankow|   unbekannt|         W|2020/10/21 00:00:...|      11003|2020/10/19 00:00:...|         GENESEN|              6.0|            0.0|            0.0|           A15-A34|\n",
      "+-----------------+------------+-------------------+--------------------+------------+----------+--------------------+-----------+--------------------+----------------+-----------------+---------------+---------------+------------------+\n",
      "only showing top 20 rows\n",
      "\n"
     ]
    }
   ],
   "source": [
    "# Kontrollausgabe\n",
    "joinedDF.filter(joinedDF.AltersgruppeRandom.isNotNull() & (joinedDF.Altersgruppe == \"unbekannt\")).show()"
   ]
  },
  {
   "cell_type": "code",
   "execution_count": 67,
   "id": "bb56c4cb-87af-448c-9b12-3b21ddaa77c4",
   "metadata": {},
   "outputs": [],
   "source": [
    "# Hier werden nun die unbekannten Werte der Altersgruppe durch die zufällig generierten Werte ersetzt.\n",
    "dfAltersgruppeImputed = joinedDF.withColumn(\"Altersgruppe\", when((joinedDF.Altersgruppe == \"unbekannt\") & (joinedDF.AltersgruppeRandom.isNotNull()), joinedDF.AltersgruppeRandom).otherwise(joinedDF.Altersgruppe)).drop(\"AltersgruppeRandom\",\"features\")"
   ]
  },
  {
   "cell_type": "code",
   "execution_count": 75,
   "id": "0866ca7b-7f61-4b55-86f5-5ec957d859f5",
   "metadata": {},
   "outputs": [
    {
     "data": {
      "text/plain": [
       "0"
      ]
     },
     "execution_count": 75,
     "metadata": {},
     "output_type": "execute_result"
    }
   ],
   "source": [
    "# Überprüfung, dass die Altersgruppe nun für alle Instanzen befüllt ist\n",
    "dfAltersgruppeImputed.filter((dfAltersgruppeImputed.Altersgruppe == \"unbekannt\")).count()"
   ]
  },
  {
   "cell_type": "markdown",
   "id": "e52587fa-9277-4937-8727-f8b2534a712a",
   "metadata": {},
   "source": [
    "## AltersguppeIndex\n",
    "Da die Altersgruppe verändert wurde, muss hierfür der AltersgruppeIndex aktualisiert werden."
   ]
  },
  {
   "cell_type": "code",
   "execution_count": 76,
   "id": "9e559c34-a369-432a-84e3-703589439c2d",
   "metadata": {},
   "outputs": [
    {
     "name": "stdout",
     "output_type": "stream",
     "text": [
      "+------------+----------+---------+------------+----------+--------------------+-----------+--------------------+----------+-----------------+---------------+---------------+\n",
      "|IdBundesland|Bundesland|Landkreis|Altersgruppe|Geschlecht|          Meldedatum|IdLandkreis|            Refdatum|FallStatus|AltersgruppeIndex|GeschlechtIndex|FallStatusIndex|\n",
      "+------------+----------+---------+------------+----------+--------------------+-----------+--------------------+----------+-----------------+---------------+---------------+\n",
      "|          16| Thüringen| LK Gotha|     A00-A04|         W|2020/04/21 00:00:...|      16067|2020/04/21 00:00:...|   GENESEN|              5.0|            0.0|            0.0|\n",
      "|          16| Thüringen| LK Gotha|     A00-A04|         W|2020/09/12 00:00:...|      16067|2020/09/12 00:00:...|   GENESEN|              5.0|            0.0|            0.0|\n",
      "|          16| Thüringen| LK Gotha|     A00-A04|         W|2020/10/23 00:00:...|      16067|2020/10/23 00:00:...|   GENESEN|              5.0|            0.0|            0.0|\n",
      "|          16| Thüringen| LK Gotha|     A00-A04|         W|2020/11/21 00:00:...|      16067|2020/11/18 00:00:...|   GENESEN|              5.0|            0.0|            0.0|\n",
      "|          16| Thüringen| LK Gotha|     A00-A04|         W|2020/11/21 00:00:...|      16067|2020/11/21 00:00:...|   GENESEN|              5.0|            0.0|            0.0|\n",
      "|          16| Thüringen| LK Gotha|     A00-A04|         W|2020/11/26 00:00:...|      16067|2020/11/22 00:00:...|   GENESEN|              5.0|            0.0|            0.0|\n",
      "|          16| Thüringen| LK Gotha|     A00-A04|         W|2020/12/10 00:00:...|      16067|2020/12/04 00:00:...|   GENESEN|              5.0|            0.0|            0.0|\n",
      "|          16| Thüringen| LK Gotha|     A00-A04|         W|2020/12/13 00:00:...|      16067|2020/12/08 00:00:...|   GENESEN|              5.0|            0.0|            0.0|\n",
      "|          16| Thüringen| LK Gotha|     A00-A04|         W|2020/12/17 00:00:...|      16067|2020/12/17 00:00:...|   GENESEN|              5.0|            0.0|            0.0|\n",
      "|          16| Thüringen| LK Gotha|     A00-A04|         W|2021/01/06 00:00:...|      16067|2021/01/06 00:00:...|   GENESEN|              5.0|            0.0|            0.0|\n",
      "|          16| Thüringen| LK Gotha|     A00-A04|         W|2021/01/13 00:00:...|      16067|2021/01/09 00:00:...|   GENESEN|              5.0|            0.0|            0.0|\n",
      "|          16| Thüringen| LK Gotha|     A00-A04|         W|2021/01/16 00:00:...|      16067|2021/01/16 00:00:...|   GENESEN|              5.0|            0.0|            0.0|\n",
      "|          16| Thüringen| LK Gotha|     A00-A04|         W|2021/01/21 00:00:...|      16067|2021/01/18 00:00:...|   GENESEN|              5.0|            0.0|            0.0|\n",
      "|          16| Thüringen| LK Gotha|     A00-A04|         W|2021/01/22 00:00:...|      16067|2021/01/19 00:00:...|   GENESEN|              5.0|            0.0|            0.0|\n",
      "|          16| Thüringen| LK Gotha|     A00-A04|         W|2021/01/23 00:00:...|      16067|2021/01/17 00:00:...|   GENESEN|              5.0|            0.0|            0.0|\n",
      "|          16| Thüringen| LK Gotha|     A00-A04|         W|2021/01/25 00:00:...|      16067|2021/01/21 00:00:...|   GENESEN|              5.0|            0.0|            0.0|\n",
      "|          16| Thüringen| LK Gotha|     A00-A04|         W|2021/01/28 00:00:...|      16067|2021/01/24 00:00:...|   GENESEN|              5.0|            0.0|            0.0|\n",
      "|          16| Thüringen| LK Gotha|     A00-A04|         W|2021/01/28 00:00:...|      16067|2021/01/25 00:00:...|   GENESEN|              5.0|            0.0|            0.0|\n",
      "|          16| Thüringen| LK Gotha|     A00-A04|         W|2021/02/04 00:00:...|      16067|2021/01/31 00:00:...|   GENESEN|              5.0|            0.0|            0.0|\n",
      "|          16| Thüringen| LK Gotha|     A00-A04|         W|2021/02/08 00:00:...|      16067|2021/02/08 00:00:...|   GENESEN|              5.0|            0.0|            0.0|\n",
      "+------------+----------+---------+------------+----------+--------------------+-----------+--------------------+----------+-----------------+---------------+---------------+\n",
      "only showing top 20 rows\n",
      "\n"
     ]
    }
   ],
   "source": [
    "altersgruppeIndexer = StringIndexer(inputCol=\"Altersgruppe\", outputCol=\"AltersgruppeIndexNeu\")\n",
    "altersgruppeModel = altersgruppeIndexer.fit(dfAltersgruppeImputed)\n",
    "dfWithAgeIndexNew = altersgruppeModel.transform(dfAltersgruppeImputed)\n",
    "dfWithAgeIndex = dfWithAgeIndexNew.withColumn(\"AltersgruppeIndex\", dfWithAgeIndexNew.AltersgruppeIndexNeu).drop(\"AltersgruppeIndexNeu\")\n",
    "dfWithAgeIndex.show()\n"
   ]
  },
  {
   "cell_type": "markdown",
   "id": "902acc0d-f700-4051-9de1-26d05723753d",
   "metadata": {},
   "source": [
    "## Speichern des Verarbeitungsergebnisses\n",
    "Da die Verarbeitung sehr lange läuft, macht es Sinn, das Ergebnis der Data-Preperation als neues CSV-File zu speichern, um so für die kommenden Phase, nur noch das verarbeitete File einzulesen. Das File landet im Ordner data-preperation-result. Der Dateiname ist hierbei nicht beinflussbar. Im Nachhinein ist es notwendig, den Dateinamen entsprechend anzupassen."
   ]
  },
  {
   "cell_type": "code",
   "execution_count": 83,
   "id": "13dfce91-1830-4dd0-8317-4d94bcc02a85",
   "metadata": {},
   "outputs": [],
   "source": [
    "finalDF = dfWithAgeIndex.selectExpr(\"Bundesland\", \"IdBundesland as BundeslandIndex\",\"Landkreis\", \"IdLandkreis as LandkreisIndex\",\"Altersgruppe\", \"AltersgruppeIndex\", \"Geschlecht\", \"GeschlechtIndex\", \"FallStatus\", \"FallStatusIndex\")"
   ]
  },
  {
   "cell_type": "code",
   "execution_count": null,
   "id": "204ec186-e054-4751-a078-7c4f77803397",
   "metadata": {},
   "outputs": [],
   "source": [
    "finalDF.repartition(1).write.format('csv').option('header',True).mode('overwrite').option('sep',';').save(translate_to_file_string(\"./data/data-preperation-result\"))"
   ]
  }
 ],
 "metadata": {
  "kernelspec": {
   "display_name": "Python 3",
   "language": "python",
   "name": "python3"
  },
  "language_info": {
   "codemirror_mode": {
    "name": "ipython",
    "version": 3
   },
   "file_extension": ".py",
   "mimetype": "text/x-python",
   "name": "python",
   "nbconvert_exporter": "python",
   "pygments_lexer": "ipython3",
   "version": "3.8.8"
  }
 },
 "nbformat": 4,
 "nbformat_minor": 5
}
