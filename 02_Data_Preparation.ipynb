{
 "cells": [
  {
   "cell_type": "code",
   "execution_count": 201,
   "id": "b0793450-0911-4fe9-9a75-5f8f4a64733a",
   "metadata": {},
   "outputs": [],
   "source": [
    "from pyspark.sql import DataFrameReader\n",
    "from pyspark.sql import SparkSession\n",
    "from pyspark.ml.feature import IndexToString, Normalizer, StringIndexer, VectorAssembler, VectorIndexer\n",
    "from pyspark.ml.classification import DecisionTreeClassifier\n",
    "from helpers.helper_functions import translate_to_file_string\n",
    "from pyspark.sql.functions import col,lit,to_date\n",
    "from pyspark.sql.functions import expr,when\n",
    "from pyspark.ml.feature import Imputer\n",
    "from pyspark.ml.feature import StringIndexer\n",
    "from sklearn.impute import KNNImputer\n",
    "from pyspark.sql.functions import rand, desc\n",
    "from pyspark.ml.feature import StringIndexer\n",
    "from pyspark.ml import Pipeline\n",
    "from pyspark.ml.feature import MinHashLSH\n",
    "from pyspark.ml.feature import BucketedRandomProjectionLSH\n",
    "from pyspark.sql import Row\n",
    "from pyspark.ml.linalg import Vectors\n",
    "from pyspark.ml.feature import MinMaxScaler\n",
    "import random\n",
    "\n",
    "\n",
    "# for pretty printing\n",
    "def printDf(sprkDF): \n",
    "    newdf = sprkDF.toPandas()\n",
    "    from IPython.display import display, HTML\n",
    "    return HTML(newdf.to_html())\n",
    "\n",
    "inputFile = translate_to_file_string(\"./data/RKI_COVID19_20210529.csv\")"
   ]
  },
  {
   "cell_type": "markdown",
   "id": "4978b0a3-e029-4a47-addf-3d03cc69e0fd",
   "metadata": {},
   "source": [
    "### Create Spark Session"
   ]
  },
  {
   "cell_type": "code",
   "execution_count": 2,
   "id": "67da5ee7-f795-4e20-8ea6-17affdfde647",
   "metadata": {},
   "outputs": [
    {
     "name": "stdout",
     "output_type": "stream",
     "text": [
      "root\n",
      " |-- ObjectId: integer (nullable = true)\n",
      " |-- IdBundesland: integer (nullable = true)\n",
      " |-- Bundesland: string (nullable = true)\n",
      " |-- Landkreis: string (nullable = true)\n",
      " |-- Altersgruppe: string (nullable = true)\n",
      " |-- Geschlecht: string (nullable = true)\n",
      " |-- AnzahlFall: integer (nullable = true)\n",
      " |-- AnzahlTodesfall: integer (nullable = true)\n",
      " |-- Meldedatum: string (nullable = true)\n",
      " |-- IdLandkreis: integer (nullable = true)\n",
      " |-- Datenstand: string (nullable = true)\n",
      " |-- NeuerFall: integer (nullable = true)\n",
      " |-- NeuerTodesfall: integer (nullable = true)\n",
      " |-- Refdatum: string (nullable = true)\n",
      " |-- NeuGenesen: integer (nullable = true)\n",
      " |-- AnzahlGenesen: integer (nullable = true)\n",
      " |-- IstErkrankungsbeginn: integer (nullable = true)\n",
      " |-- Altersgruppe2: string (nullable = true)\n",
      "\n",
      "None\n"
     ]
    }
   ],
   "source": [
    "#create a SparkSession\n",
    "spark = (SparkSession\n",
    "       .builder\n",
    "       .appName(\"RKICOVID19PREPARATION\")\n",
    "       .getOrCreate())\n",
    "# create a DataFrame using an ifered Schema \n",
    "df = spark.read.option(\"header\", \"true\") \\\n",
    "       .option(\"inferSchema\", \"true\") \\\n",
    "       .option(\"delimiter\", \",\") \\\n",
    "       .csv(inputFile)   \n",
    "print(df.printSchema())"
   ]
  },
  {
   "cell_type": "code",
   "execution_count": 3,
   "id": "73a177f0-5433-4de0-9c63-fda97aada64c",
   "metadata": {},
   "outputs": [
    {
     "data": {
      "text/plain": [
       "2003106"
      ]
     },
     "execution_count": 3,
     "metadata": {},
     "output_type": "execute_result"
    }
   ],
   "source": [
    "df.count()"
   ]
  },
  {
   "cell_type": "markdown",
   "id": "04312840-72e3-4512-a766-8a2065271f6c",
   "metadata": {},
   "source": [
    "# Data Preperation"
   ]
  },
  {
   "cell_type": "markdown",
   "id": "da195ba4-154f-456e-ad66-4029141babb0",
   "metadata": {},
   "source": [
    "## Datenreinigung\n",
    "Nimmt das Feld NeuerFall den Wert -1 an, so ist er laut RKI \"[...] nur in der Publikation des Vortags enthalten\". Das heißt es handelt sich folglich um eine Korrektur, der Puplikation des Vortages und muss in der aktuellen Datenauswertung näher betrachtet werden. Daraus ergibt sich, dass die entsprechenden Records aus dem Dataframe herausgefiltert werden müssen."
   ]
  },
  {
   "cell_type": "code",
   "execution_count": 4,
   "id": "d7736d57-e5f8-434d-9285-898acc495f4b",
   "metadata": {},
   "outputs": [],
   "source": [
    "df = df.filter(df.NeuerFall > -1)"
   ]
  },
  {
   "cell_type": "code",
   "execution_count": 5,
   "id": "cc051c46-142f-4624-9edd-f7eecaf01180",
   "metadata": {},
   "outputs": [
    {
     "data": {
      "text/plain": [
       "2002544"
      ]
     },
     "execution_count": 5,
     "metadata": {},
     "output_type": "execute_result"
    }
   ],
   "source": [
    "df.count()"
   ]
  },
  {
   "cell_type": "markdown",
   "id": "051b20e8-4417-4817-b2f7-0205d61938cd",
   "metadata": {},
   "source": [
    "## Datentransformation\n",
    "In der Spalte AnzahlFall steht jeweils die Summe der Fälle. Um nun die verschiedenen Modelle trainieren zu können, muss nun die Aggration rückgängig gemacht werden. Das heißt für jeden Fall muss nun ein Record im DataFrame aufgenommen werden. Die neue Anzahl der Records muss der Anzahl der gemeldeten Fälle entsprechen. Darüber hinaus ist eine neue Spalte anzufügen. Die neue Spalte gibt an ob die Person genesen, gestorben oder keins von beiden ist. Die Spalten AnzahlFall, AnzahlTodesfall und AnzahlGenesen können dann entfallen. Ebenfalls die Felder NeuerFall, NeuerTodesfall und NeuGenesen. "
   ]
  },
  {
   "cell_type": "markdown",
   "id": "820ec862-239f-497e-8b63-34150ebeb979",
   "metadata": {},
   "source": [
    "### Vereinzelung"
   ]
  },
  {
   "cell_type": "code",
   "execution_count": 6,
   "id": "2638b522-46a0-4c47-9770-05e3eff7d239",
   "metadata": {},
   "outputs": [
    {
     "data": {
      "text/plain": [
       "3675296"
      ]
     },
     "execution_count": 6,
     "metadata": {},
     "output_type": "execute_result"
    }
   ],
   "source": [
    "df = df.withColumn(\"AnzahlFall\", expr(\"explode(array_repeat(AnzahlFall,int(AnzahlFall)))\"))\n",
    "df.count()"
   ]
  },
  {
   "cell_type": "markdown",
   "id": "b19cadb9-49ac-4550-b7c6-2fe29a206c47",
   "metadata": {},
   "source": [
    "### Neue Spalte"
   ]
  },
  {
   "cell_type": "code",
   "execution_count": 7,
   "id": "960a1ce5-a36d-4d84-9950-2e6cc59b6ecd",
   "metadata": {},
   "outputs": [],
   "source": [
    "df = df.withColumn(\"FallStatus\", when(df.AnzahlGenesen > 0, \"GENESEN\")\n",
    "                                 .when(df.AnzahlTodesfall > 0, \"GESTORBEN\")\n",
    "                                 .otherwise(\"NICHTEINGETRETEN\"))"
   ]
  },
  {
   "cell_type": "code",
   "execution_count": 8,
   "id": "11030914-6446-4016-b56b-841b7778a530",
   "metadata": {},
   "outputs": [
    {
     "name": "stdout",
     "output_type": "stream",
     "text": [
      "+--------+------------+------------------+------------+------------+----------+----------+---------------+--------------------+-----------+--------------------+---------+--------------+--------------------+----------+-------------+--------------------+-----------------+----------+\n",
      "|ObjectId|IdBundesland|        Bundesland|   Landkreis|Altersgruppe|Geschlecht|AnzahlFall|AnzahlTodesfall|          Meldedatum|IdLandkreis|          Datenstand|NeuerFall|NeuerTodesfall|            Refdatum|NeuGenesen|AnzahlGenesen|IstErkrankungsbeginn|    Altersgruppe2|FallStatus|\n",
      "+--------+------------+------------------+------------+------------+----------+----------+---------------+--------------------+-----------+--------------------+---------+--------------+--------------------+----------+-------------+--------------------+-----------------+----------+\n",
      "|       1|           1|Schleswig-Holstein|SK Flensburg|     A15-A34|         M|         3|              0|2021/03/19 00:00:...|       1001|29.05.2021, 00:00...|        0|            -9|2021/03/16 00:00:...|         0|            3|                   1|Nicht übermittelt|   GENESEN|\n",
      "|       1|           1|Schleswig-Holstein|SK Flensburg|     A15-A34|         M|         3|              0|2021/03/19 00:00:...|       1001|29.05.2021, 00:00...|        0|            -9|2021/03/16 00:00:...|         0|            3|                   1|Nicht übermittelt|   GENESEN|\n",
      "|       1|           1|Schleswig-Holstein|SK Flensburg|     A15-A34|         M|         3|              0|2021/03/19 00:00:...|       1001|29.05.2021, 00:00...|        0|            -9|2021/03/16 00:00:...|         0|            3|                   1|Nicht übermittelt|   GENESEN|\n",
      "|       2|           1|Schleswig-Holstein|SK Flensburg|     A15-A34|         M|         3|              0|2021/03/19 00:00:...|       1001|29.05.2021, 00:00...|        0|            -9|2021/03/19 00:00:...|         0|            3|                   0|Nicht übermittelt|   GENESEN|\n",
      "|       2|           1|Schleswig-Holstein|SK Flensburg|     A15-A34|         M|         3|              0|2021/03/19 00:00:...|       1001|29.05.2021, 00:00...|        0|            -9|2021/03/19 00:00:...|         0|            3|                   0|Nicht übermittelt|   GENESEN|\n",
      "|       2|           1|Schleswig-Holstein|SK Flensburg|     A15-A34|         M|         3|              0|2021/03/19 00:00:...|       1001|29.05.2021, 00:00...|        0|            -9|2021/03/19 00:00:...|         0|            3|                   0|Nicht übermittelt|   GENESEN|\n",
      "|       3|           1|Schleswig-Holstein|SK Flensburg|     A15-A34|         M|         1|              0|2021/03/20 00:00:...|       1001|29.05.2021, 00:00...|        0|            -9|2021/03/16 00:00:...|         0|            1|                   1|Nicht übermittelt|   GENESEN|\n",
      "|       4|           1|Schleswig-Holstein|SK Flensburg|     A15-A34|         M|         1|              0|2021/03/20 00:00:...|       1001|29.05.2021, 00:00...|        0|            -9|2021/03/19 00:00:...|         0|            1|                   1|Nicht übermittelt|   GENESEN|\n",
      "|       5|           1|Schleswig-Holstein|SK Flensburg|     A15-A34|         M|         1|              0|2021/03/20 00:00:...|       1001|29.05.2021, 00:00...|        0|            -9|2021/03/20 00:00:...|         0|            1|                   0|Nicht übermittelt|   GENESEN|\n",
      "|       6|           1|Schleswig-Holstein|SK Flensburg|     A15-A34|         M|         1|              0|2021/03/21 00:00:...|       1001|29.05.2021, 00:00...|        0|            -9|2021/03/13 00:00:...|         0|            1|                   1|Nicht übermittelt|   GENESEN|\n",
      "+--------+------------+------------------+------------+------------+----------+----------+---------------+--------------------+-----------+--------------------+---------+--------------+--------------------+----------+-------------+--------------------+-----------------+----------+\n",
      "\n"
     ]
    }
   ],
   "source": [
    "df.limit(10).show()"
   ]
  },
  {
   "cell_type": "markdown",
   "id": "3e4cba31-5ae6-4207-b6aa-920319efa7d2",
   "metadata": {},
   "source": [
    "## Datenreduktion\n",
    "In dem folgenden Schritt werden die nicht notwendigen Spalten gelöscht. Spalte Altersgruppe2 ist nicht mit konkreten Werten befüllt und kann daher entfernt werden. Die Informationen aus AnzahlTodesfall und AnzahlGenesen bzw. NeuerTodefall und NeuGenesen sind durch das neue Feld FallStatus abgebildet. Die Felder AnzahlFall und NeuerFall sind durch die Vereinzelung und das Herausfiltern von Korrekturwerten überflüssig geworden. Die ObjectId hat an dieser Stelle auch keine Aussagekraft, da nicht mehrere Puplikationen verglichen werden, sonderns jeweils nur die Aktuelle Puplikation betrachtet wird. Ebenfalls nicht notwendig ist das Feld \"IstErkrankungsbeginn\". Das Feld Datenstand ist für alle Records das selbe Datum. Wird am heutigen Tag der RKI-Datensatz heruntergeladen enthält das Feld Datenstand das aktuelle Datum. Daher ist dieses nicht für die weitere Verarbeitung notwendig. Die Datenreduktion ist im Zuge der Feature Selection erfolgt. "
   ]
  },
  {
   "cell_type": "code",
   "execution_count": 9,
   "id": "f9b392e6-c3c2-47ff-9f35-7cad9c679e8b",
   "metadata": {},
   "outputs": [],
   "source": [
    "# definition der zu löschenden Spalten\n",
    "columnsToDelete = (\"Altersgruppe2\", \"AnzahlFall\", \"NeuerFall\", \"AnzahlTodesfall\", \"NeuerTodesfall\", \"AnzahlGenesen\", \"NeuGenesen\", \"IstErkrankungsbeginn\", \"Datenstand\", \"ObjectId\")\n",
    "df = df.drop(*columnsToDelete)"
   ]
  },
  {
   "cell_type": "code",
   "execution_count": 10,
   "id": "edf67421-2acf-4de7-9936-fe2dcd5d5a19",
   "metadata": {},
   "outputs": [
    {
     "name": "stdout",
     "output_type": "stream",
     "text": [
      "+------------+------------------+------------+------------+----------+--------------------+-----------+--------------------+----------+\n",
      "|IdBundesland|        Bundesland|   Landkreis|Altersgruppe|Geschlecht|          Meldedatum|IdLandkreis|            Refdatum|FallStatus|\n",
      "+------------+------------------+------------+------------+----------+--------------------+-----------+--------------------+----------+\n",
      "|           1|Schleswig-Holstein|SK Flensburg|     A15-A34|         M|2021/03/19 00:00:...|       1001|2021/03/16 00:00:...|   GENESEN|\n",
      "|           1|Schleswig-Holstein|SK Flensburg|     A15-A34|         M|2021/03/19 00:00:...|       1001|2021/03/16 00:00:...|   GENESEN|\n",
      "|           1|Schleswig-Holstein|SK Flensburg|     A15-A34|         M|2021/03/19 00:00:...|       1001|2021/03/16 00:00:...|   GENESEN|\n",
      "|           1|Schleswig-Holstein|SK Flensburg|     A15-A34|         M|2021/03/19 00:00:...|       1001|2021/03/19 00:00:...|   GENESEN|\n",
      "|           1|Schleswig-Holstein|SK Flensburg|     A15-A34|         M|2021/03/19 00:00:...|       1001|2021/03/19 00:00:...|   GENESEN|\n",
      "|           1|Schleswig-Holstein|SK Flensburg|     A15-A34|         M|2021/03/19 00:00:...|       1001|2021/03/19 00:00:...|   GENESEN|\n",
      "|           1|Schleswig-Holstein|SK Flensburg|     A15-A34|         M|2021/03/20 00:00:...|       1001|2021/03/16 00:00:...|   GENESEN|\n",
      "|           1|Schleswig-Holstein|SK Flensburg|     A15-A34|         M|2021/03/20 00:00:...|       1001|2021/03/19 00:00:...|   GENESEN|\n",
      "|           1|Schleswig-Holstein|SK Flensburg|     A15-A34|         M|2021/03/20 00:00:...|       1001|2021/03/20 00:00:...|   GENESEN|\n",
      "|           1|Schleswig-Holstein|SK Flensburg|     A15-A34|         M|2021/03/21 00:00:...|       1001|2021/03/13 00:00:...|   GENESEN|\n",
      "+------------+------------------+------------+------------+----------+--------------------+-----------+--------------------+----------+\n",
      "\n"
     ]
    }
   ],
   "source": [
    "#Zeige die ersten Zehn Einträge\n",
    "df.limit(10).show()"
   ]
  },
  {
   "cell_type": "markdown",
   "id": "e816f80a-0d49-4c32-8948-96d46707362c",
   "metadata": {},
   "source": [
    "## Imputation fehlender Werte\n",
    "Ein Teil der Datenreinigung ist die Impautation fehlder Werte. Fehlende Werte treten häufig in Datensätzen auf. Dies kann zu Problemen während dem Modelling führen. Aus diesem Grund gibt es verschiedene Möglichkeiten damit umzugehen. Das einfache Löschen von Datensätzen mit fehlenden Werten kann zu einer Verzerrung führen. Daher werden of Machine Learing Techniken angewandt um plausible Werte für die einzelen Features zu finden. (García et al. 2016, 4) In dem vorliegenden Datensatz des RKIs ist in bestimmten Fällen das Geschlecht bzw. das Alter unbekannt.\n",
    "### Imputation des Geschlechts\n",
    "Da der der Imputer von PySpark jedoch nicht für kategorische Werte geignet ist (Apache Spark 2021), wurde an dieser Stelle, das Verhältnis zwischen dem Männlichen sowie dem Weiblichen Geschlecht ermittelt und per Zufallswert das Geschlecht vergeben."
   ]
  },
  {
   "cell_type": "code",
   "execution_count": 11,
   "id": "0ed3dd7a-cca6-4477-849c-f22d5cc047ac",
   "metadata": {},
   "outputs": [
    {
     "name": "stdout",
     "output_type": "stream",
     "text": [
      "Anzahl Frauen:  1880476\n",
      "Anzahl Männer:  1769786\n",
      "Gesamtzahl aller Datensätze mit vergebenem Geschlecht:  3650262\n"
     ]
    }
   ],
   "source": [
    "countWoman = df.filter(df.Geschlecht == \"W\").count()\n",
    "countMan = df.filter(df.Geschlecht == \"M\").count()\n",
    "countAll = countWoman + countMan\n",
    "print(\"Anzahl Frauen: \", countWoman)\n",
    "print(\"Anzahl Männer: \", countMan)\n",
    "print(\"Gesamtzahl aller Datensätze mit vergebenem Geschlecht: \", countAll)"
   ]
  },
  {
   "cell_type": "code",
   "execution_count": 12,
   "id": "bb30e18b-a5af-4669-a4ef-d61baa9f41bd",
   "metadata": {},
   "outputs": [],
   "source": [
    "df = df.withColumn(\"random\", (rand() * countAll))\n",
    "df = df.withColumn(\"randomGender\", when(df.random > countWoman, \"M\").otherwise(\"W\"))\n",
    "df = df.withColumn(\"Geschlecht\", when(df.Geschlecht == \"unbekannt\", df.randomGender).otherwise(df.Geschlecht)).drop(\"random\",\"randomGender\")"
   ]
  },
  {
   "cell_type": "code",
   "execution_count": 13,
   "id": "93c8b06d-fc16-4df5-bfb6-6a9ff04b96b7",
   "metadata": {},
   "outputs": [
    {
     "data": {
      "text/plain": [
       "0"
      ]
     },
     "execution_count": 13,
     "metadata": {},
     "output_type": "execute_result"
    }
   ],
   "source": [
    "#Prüfung ob Datensatz nur korrekt:\n",
    "df.filter(df.Geschlecht == \"unbekannt\").count()"
   ]
  },
  {
   "cell_type": "markdown",
   "id": "2e067ada-2915-4059-b35e-5a56d8fb83ac",
   "metadata": {},
   "source": [
    "## StringIndexer\n",
    "Da viele Modelle nur mit numerischen Werten arbeiten können, müssen nicht numerische Features mittels eines StringIndexers in numerische Features umgewandelt werden. Dies erfolgt mithilfe des StringIndexers. Dies erfolgt für die Altersgruppe und das Geschlecht. Um die beiden Indexer miteinder zu verketten, wird an dieser Stelle eine Pipeline verwendet."
   ]
  },
  {
   "cell_type": "code",
   "execution_count": 14,
   "id": "15afb938-18bb-4dea-9be9-0c3cf8aadb25",
   "metadata": {},
   "outputs": [],
   "source": [
    "altersgruppeIndexer = StringIndexer(inputCol=\"Altersgruppe\", outputCol=\"AltersgruppeIndex\")\n",
    "geschlechtsIndexer = StringIndexer(inputCol=\"Geschlecht\", outputCol=\"GeschlechtIndex\")\n",
    "fallstatusIndexer = StringIndexer(inputCol=\"FallStatus\", outputCol=\"FallStatusIndex\")\n",
    "pipeline = Pipeline(stages=[altersgruppeIndexer, geschlechtsIndexer,fallstatusIndexer])\n",
    "df = pipeline.fit(df).transform(df)"
   ]
  },
  {
   "cell_type": "code",
   "execution_count": 15,
   "id": "22fe3182-a062-41fa-aa16-0c12e74d33ac",
   "metadata": {},
   "outputs": [
    {
     "name": "stdout",
     "output_type": "stream",
     "text": [
      "+------------+------------------+------------+------------+----------+--------------------+-----------+--------------------+----------+-----------------+---------------+---------------+\n",
      "|IdBundesland|        Bundesland|   Landkreis|Altersgruppe|Geschlecht|          Meldedatum|IdLandkreis|            Refdatum|FallStatus|AltersgruppeIndex|GeschlechtIndex|FallStatusIndex|\n",
      "+------------+------------------+------------+------------+----------+--------------------+-----------+--------------------+----------+-----------------+---------------+---------------+\n",
      "|           1|Schleswig-Holstein|SK Flensburg|     A15-A34|         M|2021/03/19 00:00:...|       1001|2021/03/16 00:00:...|   GENESEN|              1.0|            1.0|            0.0|\n",
      "|           1|Schleswig-Holstein|SK Flensburg|     A15-A34|         M|2021/03/19 00:00:...|       1001|2021/03/16 00:00:...|   GENESEN|              1.0|            1.0|            0.0|\n",
      "|           1|Schleswig-Holstein|SK Flensburg|     A15-A34|         M|2021/03/19 00:00:...|       1001|2021/03/16 00:00:...|   GENESEN|              1.0|            1.0|            0.0|\n",
      "|           1|Schleswig-Holstein|SK Flensburg|     A15-A34|         M|2021/03/19 00:00:...|       1001|2021/03/19 00:00:...|   GENESEN|              1.0|            1.0|            0.0|\n",
      "|           1|Schleswig-Holstein|SK Flensburg|     A15-A34|         M|2021/03/19 00:00:...|       1001|2021/03/19 00:00:...|   GENESEN|              1.0|            1.0|            0.0|\n",
      "|           1|Schleswig-Holstein|SK Flensburg|     A15-A34|         M|2021/03/19 00:00:...|       1001|2021/03/19 00:00:...|   GENESEN|              1.0|            1.0|            0.0|\n",
      "|           1|Schleswig-Holstein|SK Flensburg|     A15-A34|         M|2021/03/20 00:00:...|       1001|2021/03/16 00:00:...|   GENESEN|              1.0|            1.0|            0.0|\n",
      "|           1|Schleswig-Holstein|SK Flensburg|     A15-A34|         M|2021/03/20 00:00:...|       1001|2021/03/19 00:00:...|   GENESEN|              1.0|            1.0|            0.0|\n",
      "|           1|Schleswig-Holstein|SK Flensburg|     A15-A34|         M|2021/03/20 00:00:...|       1001|2021/03/20 00:00:...|   GENESEN|              1.0|            1.0|            0.0|\n",
      "|           1|Schleswig-Holstein|SK Flensburg|     A15-A34|         M|2021/03/21 00:00:...|       1001|2021/03/13 00:00:...|   GENESEN|              1.0|            1.0|            0.0|\n",
      "+------------+------------------+------------+------------+----------+--------------------+-----------+--------------------+----------+-----------------+---------------+---------------+\n",
      "\n"
     ]
    }
   ],
   "source": [
    "#Zeige die ersten Zehn Einträge\n",
    "df.limit(10).show()"
   ]
  },
  {
   "cell_type": "markdown",
   "id": "554ce6dc-7f79-4c7a-b0ed-b62d27d417f3",
   "metadata": {},
   "source": [
    "### Imputation der Altersgruppe\n",
    "Für die Imputation von Kategoriewerten bietet PySpark kein StandardImputer. Mit viel Aufwand könnte über das Nearest-Neighbor Modell ein Imputer gebaut werden. Um an dieser Stelle darauf zu verzichten, wurde der KNNImputer der Sklearn-Lib verwendet. Dieser Schritt lässt sich jedoch dann nicht Pyspark-Cluster ausführen."
   ]
  },
  {
   "cell_type": "code",
   "execution_count": 120,
   "id": "0e0b6e57-319e-422b-bf83-46a421bfb1a8",
   "metadata": {},
   "outputs": [],
   "source": [
    "assembler =  VectorAssembler(outputCol=\"features\", inputCols=[\"FallStatusIndex\", \"GeschlechtIndex\",\"IdLandkreis\"])\n",
    "featureVector = assembler.transform(df)\n"
   ]
  },
  {
   "cell_type": "code",
   "execution_count": 121,
   "id": "6ba225a1-9fa5-466b-9a16-3c2be2abc56f",
   "metadata": {},
   "outputs": [],
   "source": [
    "scaler = MinMaxScaler(inputCol=\"features\",outputCol=\"scaledFeatures\")\n",
    "\n",
    "scalerModel = scaler.fit(featureVector)\n",
    "scaledFeatureVector= scalerModel.transform(featureVector)                                          \n"
   ]
  },
  {
   "cell_type": "code",
   "execution_count": 272,
   "id": "ece59216-1e6b-4167-89dc-d5e9dccf017e",
   "metadata": {},
   "outputs": [],
   "source": [
    "scaledFeatureVector = featureVector"
   ]
  },
  {
   "cell_type": "code",
   "execution_count": 126,
   "id": "a87286ec-dea4-4726-8a0a-81684ad2a8a4",
   "metadata": {},
   "outputs": [],
   "source": [
    "#MinMaxScaler lässt nicht zu, dass Input = Outputcolumn ist. Daher wird an der Stelle nochmal die Feature-Column durch die ScaledFeatures ersetzt\n",
    "scaledFeatureVector = scaledFeatureVector.withColumn(\"features\", scaledFeatureVector.scaledFeatures).drop(\"scaledFeatures\")"
   ]
  },
  {
   "cell_type": "code",
   "execution_count": 273,
   "id": "8d2c4b74-034e-4748-86b0-0370ed46f06d",
   "metadata": {},
   "outputs": [],
   "source": [
    "trainingFeatureVector = scaledFeatureVector.filter(df.Altersgruppe != \"unbekannt\");\n",
    "targetFeatureVector = scaledFeatureVector.filter(df.Altersgruppe == \"unbekannt\");"
   ]
  },
  {
   "cell_type": "code",
   "execution_count": 128,
   "id": "df12e369-60c5-4656-a996-3c4f841d303e",
   "metadata": {},
   "outputs": [
    {
     "name": "stdout",
     "output_type": "stream",
     "text": [
      "+--------------------+-----+\n",
      "|            features|count|\n",
      "+--------------------+-----+\n",
      "|[0.0,0.0,0.003581...| 1679|\n",
      "|[0.5,1.0,0.143075...|   43|\n",
      "|[1.0,0.0,0.276001...|  139|\n",
      "|[1.0,1.0,0.302003...|  146|\n",
      "|[0.5,0.0,0.330127...|  201|\n",
      "|[0.0,1.0,0.372114...| 3592|\n",
      "|[0.0,1.0,0.418877...|  770|\n",
      "|[0.5,0.0,0.491841...|  114|\n",
      "|[0.5,1.0,0.542385...|   64|\n",
      "|[1.0,1.0,0.542849...|   36|\n",
      "+--------------------+-----+\n",
      "\n"
     ]
    }
   ],
   "source": [
    "trainingFeatureVector.groupBy(\"features\").count().limit(10).show()"
   ]
  },
  {
   "cell_type": "code",
   "execution_count": 130,
   "id": "adaa080b-7217-41f2-bdcb-28cfa99ed0ad",
   "metadata": {},
   "outputs": [
    {
     "name": "stdout",
     "output_type": "stream",
     "text": [
      "+------------+------------------+------------+------------+----------+--------------------+-----------+--------------------+----------+-----------------+---------------+---------------+-------------+\n",
      "|IdBundesland|        Bundesland|   Landkreis|Altersgruppe|Geschlecht|          Meldedatum|IdLandkreis|            Refdatum|FallStatus|AltersgruppeIndex|GeschlechtIndex|FallStatusIndex|     features|\n",
      "+------------+------------------+------------+------------+----------+--------------------+-----------+--------------------+----------+-----------------+---------------+---------------+-------------+\n",
      "|           1|Schleswig-Holstein|SK Flensburg|     A15-A34|         M|2021/03/19 00:00:...|       1001|2021/03/16 00:00:...|   GENESEN|              1.0|            1.0|            0.0|[0.0,1.0,0.0]|\n",
      "|           1|Schleswig-Holstein|SK Flensburg|     A15-A34|         M|2021/03/19 00:00:...|       1001|2021/03/16 00:00:...|   GENESEN|              1.0|            1.0|            0.0|[0.0,1.0,0.0]|\n",
      "|           1|Schleswig-Holstein|SK Flensburg|     A15-A34|         M|2021/03/19 00:00:...|       1001|2021/03/16 00:00:...|   GENESEN|              1.0|            1.0|            0.0|[0.0,1.0,0.0]|\n",
      "|           1|Schleswig-Holstein|SK Flensburg|     A15-A34|         M|2021/03/19 00:00:...|       1001|2021/03/19 00:00:...|   GENESEN|              1.0|            1.0|            0.0|[0.0,1.0,0.0]|\n",
      "|           1|Schleswig-Holstein|SK Flensburg|     A15-A34|         M|2021/03/19 00:00:...|       1001|2021/03/19 00:00:...|   GENESEN|              1.0|            1.0|            0.0|[0.0,1.0,0.0]|\n",
      "|           1|Schleswig-Holstein|SK Flensburg|     A15-A34|         M|2021/03/19 00:00:...|       1001|2021/03/19 00:00:...|   GENESEN|              1.0|            1.0|            0.0|[0.0,1.0,0.0]|\n",
      "|           1|Schleswig-Holstein|SK Flensburg|     A15-A34|         M|2021/03/20 00:00:...|       1001|2021/03/16 00:00:...|   GENESEN|              1.0|            1.0|            0.0|[0.0,1.0,0.0]|\n",
      "|           1|Schleswig-Holstein|SK Flensburg|     A15-A34|         M|2021/03/20 00:00:...|       1001|2021/03/19 00:00:...|   GENESEN|              1.0|            1.0|            0.0|[0.0,1.0,0.0]|\n",
      "|           1|Schleswig-Holstein|SK Flensburg|     A15-A34|         M|2021/03/20 00:00:...|       1001|2021/03/20 00:00:...|   GENESEN|              1.0|            1.0|            0.0|[0.0,1.0,0.0]|\n",
      "|           1|Schleswig-Holstein|SK Flensburg|     A15-A34|         M|2021/03/21 00:00:...|       1001|2021/03/13 00:00:...|   GENESEN|              1.0|            1.0|            0.0|[0.0,1.0,0.0]|\n",
      "+------------+------------------+------------+------------+----------+--------------------+-----------+--------------------+----------+-----------------+---------------+---------------+-------------+\n",
      "\n"
     ]
    }
   ],
   "source": [
    "trainingFeatureVector.limit(10).show()"
   ]
  },
  {
   "cell_type": "code",
   "execution_count": 131,
   "id": "58bd76fc-e152-4c2c-b12e-42c159793193",
   "metadata": {},
   "outputs": [
    {
     "data": {
      "text/plain": [
       "3671974"
      ]
     },
     "execution_count": 131,
     "metadata": {},
     "output_type": "execute_result"
    }
   ],
   "source": [
    "trainingFeatureVector.count()"
   ]
  },
  {
   "cell_type": "code",
   "execution_count": 162,
   "id": "f2489cde-2dd5-4fb1-8dad-7a66860f6133",
   "metadata": {},
   "outputs": [
    {
     "data": {
      "text/plain": [
       "2472"
      ]
     },
     "execution_count": 162,
     "metadata": {},
     "output_type": "execute_result"
    }
   ],
   "source": [
    "trainingFeatureVector.groupBy(\"features\").count().count()"
   ]
  },
  {
   "cell_type": "code",
   "execution_count": 274,
   "id": "950da111-9ea9-441e-b105-8a2ca9040459",
   "metadata": {},
   "outputs": [
    {
     "name": "stdout",
     "output_type": "stream",
     "text": [
      "+-----------------+------------+-----+\n",
      "|         features|Altersgruppe|count|\n",
      "+-----------------+------------+-----+\n",
      "|[2.0,1.0,16077.0]|     A35-A59|    6|\n",
      "|[2.0,1.0,16077.0]|     A60-A79|   48|\n",
      "|[2.0,1.0,16077.0]|        A80+|   86|\n",
      "|[2.0,1.0,16077.0]|     A15-A34|    1|\n",
      "|[2.0,1.0,16076.0]|     A35-A59|    3|\n",
      "|[2.0,1.0,16076.0]|        A80+|   69|\n",
      "|[2.0,1.0,16076.0]|     A60-A79|   42|\n",
      "|[2.0,1.0,16075.0]|     A60-A79|   34|\n",
      "|[2.0,1.0,16075.0]|        A80+|   55|\n",
      "|[2.0,1.0,16075.0]|     A35-A59|    7|\n",
      "+-----------------+------------+-----+\n",
      "\n"
     ]
    }
   ],
   "source": [
    "trainingFeatureVectorGrouped = trainingFeatureVector.groupBy(\"features\",\"Altersgruppe\").count().orderBy(desc(\"features\"))\n",
    "trainingFeatureVectorGrouped.limit(10).show()"
   ]
  },
  {
   "cell_type": "code",
   "execution_count": 133,
   "id": "a0a97b59-9880-44a6-9bb5-6202b67ce2f2",
   "metadata": {},
   "outputs": [
    {
     "data": {
      "text/plain": [
       "12119"
      ]
     },
     "execution_count": 133,
     "metadata": {},
     "output_type": "execute_result"
    }
   ],
   "source": [
    "trainingFeatureVectorGrouped.count()"
   ]
  },
  {
   "cell_type": "code",
   "execution_count": 275,
   "id": "e37283e3-f52b-4259-b7ef-1dfc13ec7154",
   "metadata": {},
   "outputs": [],
   "source": [
    "#bucketRandomProjection = ,numHashTables=5\n",
    "#MinHashLSH(inputCol=\"features\", outputCol=\"hashes\", numHashTables=5)\n",
    "# mit NumHashTables=1 läuft die Erkennung pro Instanz innerhalb von 20 Sekunden\n",
    "#MinHashLSH(inputCol=\"features\", outputCol=\"hashes\", numHashTables=1)\n",
    "\n",
    "\n",
    "mhLSH = BucketedRandomProjectionLSH(inputCol=\"features\", outputCol=\"hashes\", bucketLength=2.0,numHashTables=1)\n",
    "model = mhLSH.fit(trainingFeatureVectorGrouped)\n",
    "transformedTrainingFeatureVector = model.transform(trainingFeatureVectorGrouped)"
   ]
  },
  {
   "cell_type": "markdown",
   "id": "bc840958-59dd-4e81-8e12-6c9c0938e090",
   "metadata": {},
   "source": [
    "LSH OR-amplification can be used to reduce the false negative rate. Higher values for this param lead to a reduced false negative rate, at the expense of added computational complexity.\n",
    "https://spark.apache.org/docs/latest/api/java/org/apache/spark/ml/feature/BucketedRandomProjectionLSH.html\n",
    "The length of each hash bucket, a larger bucket lowers the false negative rate. The number of buckets will be (max L2 norm of input vectors) / bucketLength.\n",
    "\n",
    "If input vectors are normalized, 1-10 times of pow(numRecords, -1/inputDim) would be a reasonable value"
   ]
  },
  {
   "cell_type": "code",
   "execution_count": 147,
   "id": "a46a216c-4e62-4cd8-938d-13b2afd2e66c",
   "metadata": {},
   "outputs": [
    {
     "name": "stdout",
     "output_type": "stream",
     "text": [
      "+--------------------+------------+-----+--------------------+\n",
      "|            features|Altersgruppe|count|              hashes|\n",
      "+--------------------+------------+-----+--------------------+\n",
      "|[1.0,1.0,0.999999...|        A80+|   86|[[-1.0], [-1.0], ...|\n",
      "|[1.0,1.0,0.999999...|     A15-A34|    1|[[-1.0], [-1.0], ...|\n",
      "|[1.0,1.0,0.999999...|     A35-A59|    6|[[-1.0], [-1.0], ...|\n",
      "|[1.0,1.0,0.999999...|     A60-A79|   48|[[-1.0], [-1.0], ...|\n",
      "|[1.0,1.0,0.999933...|     A35-A59|    3|[[-1.0], [-1.0], ...|\n",
      "|[1.0,1.0,0.999933...|     A60-A79|   42|[[-1.0], [-1.0], ...|\n",
      "|[1.0,1.0,0.999933...|        A80+|   69|[[-1.0], [-1.0], ...|\n",
      "|[1.0,1.0,0.999867...|     A35-A59|    7|[[-1.0], [-1.0], ...|\n",
      "|[1.0,1.0,0.999867...|        A80+|   55|[[-1.0], [-1.0], ...|\n",
      "|[1.0,1.0,0.999867...|     A60-A79|   34|[[-1.0], [-1.0], ...|\n",
      "+--------------------+------------+-----+--------------------+\n",
      "\n"
     ]
    }
   ],
   "source": [
    "transformedTrainingFeatureVector.limit(10).show()"
   ]
  },
  {
   "cell_type": "code",
   "execution_count": 140,
   "id": "582108b9-47d3-4fd5-85f2-f3b8f2b1aa1f",
   "metadata": {},
   "outputs": [
    {
     "name": "stdout",
     "output_type": "stream",
     "text": [
      "+-------------------------------+-----+\n",
      "|features                       |count|\n",
      "+-------------------------------+-----+\n",
      "|[0.0,0.0,0.0035818519501193947]|1    |\n",
      "|[0.0,1.0,0.41887768638896256]  |3    |\n",
      "|[0.5,0.0,0.5545900769434863]   |1    |\n",
      "|[0.0,0.0,0.5744892544441496]   |2    |\n",
      "|[0.0,0.0,0.4716105067657203]   |3    |\n",
      "|[0.0,0.0,0.47850888829928356]  |1    |\n",
      "|[0.0,1.0,0.6637702308304589]   |34   |\n",
      "|[0.0,1.0,0.3293313876359777]   |1    |\n",
      "|[0.0,0.0,0.47983550013266113]  |4    |\n",
      "|[0.0,0.0,0.6634385778721146]   |10   |\n",
      "+-------------------------------+-----+\n",
      "only showing top 10 rows\n",
      "\n"
     ]
    }
   ],
   "source": [
    "targetFeatureVector.groupBy(\"features\").count().show(10, False)"
   ]
  },
  {
   "cell_type": "code",
   "execution_count": 136,
   "id": "5f67540a-995c-4953-aa14-2acc37b03548",
   "metadata": {},
   "outputs": [
    {
     "data": {
      "text/plain": [
       "445"
      ]
     },
     "execution_count": 136,
     "metadata": {},
     "output_type": "execute_result"
    }
   ],
   "source": [
    "targetFeatureVector.groupBy(\"features\").count().count()"
   ]
  },
  {
   "cell_type": "code",
   "execution_count": 156,
   "id": "c5a497db-541f-443a-a55d-a1315cca3704",
   "metadata": {},
   "outputs": [
    {
     "name": "stdout",
     "output_type": "stream",
     "text": [
      "A05-A14\n"
     ]
    }
   ],
   "source": [
    "ag = model.approxNearestNeighbors(transformedTrainingFeatureVector, Vectors.dense([0.5,0.0,0.5545900769434863]), 6).first().Altersgruppe\n",
    "print(ag)\n",
    "#.orderBy(desc(\"count\")).first().Altersgruppe\n",
    "#groupBy(\"Altersgruppe\").count().orderBy(desc(\"count\")).first()"
   ]
  },
  {
   "cell_type": "code",
   "execution_count": 188,
   "id": "c9f0351d-c338-4f68-8b03-1846a2e948f9",
   "metadata": {},
   "outputs": [],
   "source": [
    "groupedRecords = model.approxNearestNeighbors(transformedTrainingFeatureVector, Vectors.dense([0.5,0.0,0.5545900769434863]), 6).orderBy(desc(\"count\")).drop(\"features\",\"hashes\").collect()"
   ]
  },
  {
   "cell_type": "code",
   "execution_count": 189,
   "id": "5c8f55dd-8411-471d-ba6e-b0ce71fa45d0",
   "metadata": {},
   "outputs": [
    {
     "name": "stdout",
     "output_type": "stream",
     "text": [
      "[Row(Altersgruppe='A15-A34', count=16, distCol=0.0), Row(Altersgruppe='A35-A59', count=15, distCol=0.0), Row(Altersgruppe='A60-A79', count=11, distCol=0.0), Row(Altersgruppe='A05-A14', count=2, distCol=0.0), Row(Altersgruppe='A00-A04', count=2, distCol=0.0), Row(Altersgruppe='A80+', count=2, distCol=0.0)]\n"
     ]
    }
   ],
   "source": [
    "print(groupedRecords)"
   ]
  },
  {
   "cell_type": "code",
   "execution_count": 268,
   "id": "90fdfbed-f983-4b36-99ac-d43f5676db49",
   "metadata": {},
   "outputs": [
    {
     "name": "stdout",
     "output_type": "stream",
     "text": [
      "{'Altersgruppe': 'A15-A34', 'count': 16, 'distCol': 0.0}\n",
      "{'Altersgruppe': 'A35-A59', 'count': 15, 'distCol': 0.0}\n",
      "{'Altersgruppe': 'A60-A79', 'count': 11, 'distCol': 0.0}\n",
      "{'Altersgruppe': 'A05-A14', 'count': 2, 'distCol': 0.0}\n",
      "{'Altersgruppe': 'A00-A04', 'count': 2, 'distCol': 0.0}\n",
      "{'Altersgruppe': 'A80+', 'count': 2, 'distCol': 0.0}\n",
      "A15-A34\n"
     ]
    }
   ],
   "source": [
    "def getRandomAgeByFraction(recordList):\n",
    "    sum = 0\n",
    "    dictList = []\n",
    "    for record in recordList :\n",
    "        dict = record.asDict()\n",
    "        print(dict)\n",
    "        sum = sum + dict[\"count\"]\n",
    "        dictList.append(dict)\n",
    "\n",
    "    percentSum = 0    \n",
    "    for dict in dictList :\n",
    "        dict[\"startPercent\"] = percentSum\n",
    "        dict[\"percent\"] = dict[\"count\"] / sum\n",
    "        percentSum = percentSum + dict[\"percent\"]\n",
    "        dict[\"endPercent\"] = percentSum\n",
    "\n",
    "\n",
    "    randNr = random.random()\n",
    "    Altergruppe = \"\"\n",
    "    for dict in dictList :\n",
    "        Altergruppe = dict[\"Altersgruppe\"] if ((randNr >= dict[\"startPercent\"]) & (randNr <= dict[\"endPercent\"])) else Altergruppe\n",
    "    \n",
    "    return Altergruppe\n",
    "\n",
    "print(getRandomAltersGroupByFraction(groupedRecords))"
   ]
  },
  {
   "cell_type": "code",
   "execution_count": 280,
   "id": "4ef7eb99-9839-4295-9a29-8f5daeff8d89",
   "metadata": {},
   "outputs": [
    {
     "name": "stdout",
     "output_type": "stream",
     "text": [
      "{'Altersgruppe': 'A15-A34', 'count': 507, 'distCol': 0.0}\n",
      "{'Altersgruppe': 'A35-A59', 'count': 366, 'distCol': 0.0}\n",
      "{'Altersgruppe': 'A05-A14', 'count': 92, 'distCol': 0.0}\n",
      "{'Altersgruppe': 'A60-A79', 'count': 91, 'distCol': 0.0}\n",
      "{'Altersgruppe': 'A00-A04', 'count': 46, 'distCol': 0.0}\n",
      "{'Altersgruppe': 'A80+', 'count': 15, 'distCol': 0.0}\n",
      "The Array is:  [Row(features=DenseVector([0.0, 1.0, 1001.0]), Altersgruppe='A05-A14')]\n"
     ]
    }
   ],
   "source": [
    "testdf = targetFeatureVector.limit(1)\n",
    "\n",
    "\n",
    "resultList = []\n",
    "\n",
    "for record in testdf.collect() :\n",
    "    groupedRecords = model.approxNearestNeighbors(transformedTrainingFeatureVector, record.features, 6).orderBy(desc(\"count\")).drop(\"features\",\"hashes\").collect()\n",
    "    randAge = getRandomAgeByFraction(groupedRecords)    \n",
    "    newRecord = Row(features=record.features, Altersgruppe=randAge)\n",
    "    resultList.append(newRecord)\n",
    "    \n",
    "print(\"The Array is: \", resultList)"
   ]
  },
  {
   "cell_type": "code",
   "execution_count": 285,
   "id": "652ea482-7237-4fab-956f-ad2c3098adc5",
   "metadata": {},
   "outputs": [],
   "source": [
    "columns = [\"features\",\"AltersgruppeRandom\"]\n",
    "resultListDF = spark.createDataFrame(data=resultList, schema = columns)"
   ]
  },
  {
   "cell_type": "code",
   "execution_count": 286,
   "id": "944b378a-a6d5-4549-8555-db15ae03a96b",
   "metadata": {},
   "outputs": [
    {
     "name": "stdout",
     "output_type": "stream",
     "text": [
      "+----------------+------------------+\n",
      "|        features|AltersgruppeRandom|\n",
      "+----------------+------------------+\n",
      "|[0.0,1.0,1001.0]|           A05-A14|\n",
      "+----------------+------------------+\n",
      "\n"
     ]
    }
   ],
   "source": [
    "resultListDF.limit(10).show()"
   ]
  },
  {
   "cell_type": "code",
   "execution_count": 300,
   "id": "edc058c9-34df-419f-a615-1e811e35e971",
   "metadata": {},
   "outputs": [
    {
     "name": "stdout",
     "output_type": "stream",
     "text": [
      "+-----------------+------------+----------+---------+------------+----------+--------------------+-----------+--------------------+----------+-----------------+---------------+---------------+------------------+\n",
      "|         features|IdBundesland|Bundesland|Landkreis|Altersgruppe|Geschlecht|          Meldedatum|IdLandkreis|            Refdatum|FallStatus|AltersgruppeIndex|GeschlechtIndex|FallStatusIndex|AltersgruppeRandom|\n",
      "+-----------------+------------+----------+---------+------------+----------+--------------------+-----------+--------------------+----------+-----------------+---------------+---------------+------------------+\n",
      "|[0.0,0.0,16067.0]|          16| Thüringen| LK Gotha|     A00-A04|         W|2020/04/21 00:00:...|      16067|2020/04/21 00:00:...|   GENESEN|              5.0|            0.0|            0.0|              null|\n",
      "|[0.0,0.0,16067.0]|          16| Thüringen| LK Gotha|     A00-A04|         W|2020/09/12 00:00:...|      16067|2020/09/12 00:00:...|   GENESEN|              5.0|            0.0|            0.0|              null|\n",
      "|[0.0,0.0,16067.0]|          16| Thüringen| LK Gotha|     A00-A04|         W|2020/10/23 00:00:...|      16067|2020/10/23 00:00:...|   GENESEN|              5.0|            0.0|            0.0|              null|\n",
      "|[0.0,0.0,16067.0]|          16| Thüringen| LK Gotha|     A00-A04|         W|2020/11/21 00:00:...|      16067|2020/11/18 00:00:...|   GENESEN|              5.0|            0.0|            0.0|              null|\n",
      "|[0.0,0.0,16067.0]|          16| Thüringen| LK Gotha|     A00-A04|         W|2020/11/21 00:00:...|      16067|2020/11/21 00:00:...|   GENESEN|              5.0|            0.0|            0.0|              null|\n",
      "|[0.0,0.0,16067.0]|          16| Thüringen| LK Gotha|     A00-A04|         W|2020/11/26 00:00:...|      16067|2020/11/22 00:00:...|   GENESEN|              5.0|            0.0|            0.0|              null|\n",
      "|[0.0,0.0,16067.0]|          16| Thüringen| LK Gotha|     A00-A04|         W|2020/12/10 00:00:...|      16067|2020/12/04 00:00:...|   GENESEN|              5.0|            0.0|            0.0|              null|\n",
      "|[0.0,0.0,16067.0]|          16| Thüringen| LK Gotha|     A00-A04|         W|2020/12/13 00:00:...|      16067|2020/12/08 00:00:...|   GENESEN|              5.0|            0.0|            0.0|              null|\n",
      "|[0.0,0.0,16067.0]|          16| Thüringen| LK Gotha|     A00-A04|         W|2020/12/17 00:00:...|      16067|2020/12/17 00:00:...|   GENESEN|              5.0|            0.0|            0.0|              null|\n",
      "|[0.0,0.0,16067.0]|          16| Thüringen| LK Gotha|     A00-A04|         W|2021/01/06 00:00:...|      16067|2021/01/06 00:00:...|   GENESEN|              5.0|            0.0|            0.0|              null|\n",
      "|[0.0,0.0,16067.0]|          16| Thüringen| LK Gotha|     A00-A04|         W|2021/01/13 00:00:...|      16067|2021/01/09 00:00:...|   GENESEN|              5.0|            0.0|            0.0|              null|\n",
      "|[0.0,0.0,16067.0]|          16| Thüringen| LK Gotha|     A00-A04|         W|2021/01/16 00:00:...|      16067|2021/01/16 00:00:...|   GENESEN|              5.0|            0.0|            0.0|              null|\n",
      "|[0.0,0.0,16067.0]|          16| Thüringen| LK Gotha|     A00-A04|         W|2021/01/21 00:00:...|      16067|2021/01/18 00:00:...|   GENESEN|              5.0|            0.0|            0.0|              null|\n",
      "|[0.0,0.0,16067.0]|          16| Thüringen| LK Gotha|     A00-A04|         W|2021/01/22 00:00:...|      16067|2021/01/19 00:00:...|   GENESEN|              5.0|            0.0|            0.0|              null|\n",
      "|[0.0,0.0,16067.0]|          16| Thüringen| LK Gotha|     A00-A04|         W|2021/01/23 00:00:...|      16067|2021/01/17 00:00:...|   GENESEN|              5.0|            0.0|            0.0|              null|\n",
      "|[0.0,0.0,16067.0]|          16| Thüringen| LK Gotha|     A00-A04|         W|2021/01/25 00:00:...|      16067|2021/01/21 00:00:...|   GENESEN|              5.0|            0.0|            0.0|              null|\n",
      "|[0.0,0.0,16067.0]|          16| Thüringen| LK Gotha|     A00-A04|         W|2021/01/28 00:00:...|      16067|2021/01/24 00:00:...|   GENESEN|              5.0|            0.0|            0.0|              null|\n",
      "|[0.0,0.0,16067.0]|          16| Thüringen| LK Gotha|     A00-A04|         W|2021/01/28 00:00:...|      16067|2021/01/25 00:00:...|   GENESEN|              5.0|            0.0|            0.0|              null|\n",
      "|[0.0,0.0,16067.0]|          16| Thüringen| LK Gotha|     A00-A04|         W|2021/02/04 00:00:...|      16067|2021/01/31 00:00:...|   GENESEN|              5.0|            0.0|            0.0|              null|\n",
      "|[0.0,0.0,16067.0]|          16| Thüringen| LK Gotha|     A00-A04|         W|2021/02/08 00:00:...|      16067|2021/02/08 00:00:...|   GENESEN|              5.0|            0.0|            0.0|              null|\n",
      "+-----------------+------------+----------+---------+------------+----------+--------------------+-----------+--------------------+----------+-----------------+---------------+---------------+------------------+\n",
      "only showing top 20 rows\n",
      "\n"
     ]
    }
   ],
   "source": [
    "joinedDF = featureVector.join(resultListDF, on='features', how='left')\n",
    "joinedDF.show()"
   ]
  },
  {
   "cell_type": "code",
   "execution_count": 293,
   "id": "634c2be3-1ea7-409c-adb8-b4a02cbb2717",
   "metadata": {},
   "outputs": [
    {
     "name": "stdout",
     "output_type": "stream",
     "text": [
      "+----------------+------------+------------------+------------+------------+----------+--------------------+-----------+--------------------+----------+-----------------+---------------+---------------+------------------+\n",
      "|        features|IdBundesland|        Bundesland|   Landkreis|Altersgruppe|Geschlecht|          Meldedatum|IdLandkreis|            Refdatum|FallStatus|AltersgruppeIndex|GeschlechtIndex|FallStatusIndex|AltersgruppeRandom|\n",
      "+----------------+------------+------------------+------------+------------+----------+--------------------+-----------+--------------------+----------+-----------------+---------------+---------------+------------------+\n",
      "|[0.0,1.0,1001.0]|           1|Schleswig-Holstein|SK Flensburg|   unbekannt|         M|2021/01/09 00:00:...|       1001|2021/01/07 00:00:...|   GENESEN|              6.0|            1.0|            0.0|           A05-A14|\n",
      "|[0.0,1.0,1001.0]|           1|Schleswig-Holstein|SK Flensburg|   unbekannt|         M|2021/01/09 00:00:...|       1001|2021/01/09 00:00:...|   GENESEN|              6.0|            1.0|            0.0|           A05-A14|\n",
      "+----------------+------------+------------------+------------+------------+----------+--------------------+-----------+--------------------+----------+-----------------+---------------+---------------+------------------+\n",
      "\n"
     ]
    }
   ],
   "source": [
    "joinedDF.filter(joinedDF.AltersgruppeRandom.isNotNull() & (joinedDF.Altersgruppe == \"unbekannt\")).show()"
   ]
  },
  {
   "cell_type": "code",
   "execution_count": 337,
   "id": "bb56c4cb-87af-448c-9b12-3b21ddaa77c4",
   "metadata": {},
   "outputs": [],
   "source": [
    "dfAltersgruppeImputed = joinedDF.withColumn(\"Altersgruppe\", when((joinedDF.Altersgruppe == \"unbekannt\") & (joinedDF.AltersgruppeRandom.isNotNull()), joinedDF.AltersgruppeRandom).otherwise(joinedDF.Altersgruppe)).drop(\"AltersgruppeRandom\",\"features\")"
   ]
  },
  {
   "cell_type": "markdown",
   "id": "e52587fa-9277-4937-8727-f8b2534a712a",
   "metadata": {},
   "source": [
    "### AltersguppeIndex\n",
    "Da die Altersgruppe veärndert wurde, muss hierfür nochmal der Index neu berechnet werden"
   ]
  },
  {
   "cell_type": "code",
   "execution_count": 338,
   "id": "9e559c34-a369-432a-84e3-703589439c2d",
   "metadata": {},
   "outputs": [
    {
     "name": "stdout",
     "output_type": "stream",
     "text": [
      "+------------+----------+---------+------------+----------+--------------------+-----------+--------------------+----------+-----------------+---------------+---------------+\n",
      "|IdBundesland|Bundesland|Landkreis|Altersgruppe|Geschlecht|          Meldedatum|IdLandkreis|            Refdatum|FallStatus|AltersgruppeIndex|GeschlechtIndex|FallStatusIndex|\n",
      "+------------+----------+---------+------------+----------+--------------------+-----------+--------------------+----------+-----------------+---------------+---------------+\n",
      "|          16| Thüringen| LK Gotha|     A00-A04|         W|2020/04/21 00:00:...|      16067|2020/04/21 00:00:...|   GENESEN|              5.0|            0.0|            0.0|\n",
      "|          16| Thüringen| LK Gotha|     A00-A04|         W|2020/09/12 00:00:...|      16067|2020/09/12 00:00:...|   GENESEN|              5.0|            0.0|            0.0|\n",
      "|          16| Thüringen| LK Gotha|     A00-A04|         W|2020/10/23 00:00:...|      16067|2020/10/23 00:00:...|   GENESEN|              5.0|            0.0|            0.0|\n",
      "|          16| Thüringen| LK Gotha|     A00-A04|         W|2020/11/21 00:00:...|      16067|2020/11/18 00:00:...|   GENESEN|              5.0|            0.0|            0.0|\n",
      "|          16| Thüringen| LK Gotha|     A00-A04|         W|2020/11/21 00:00:...|      16067|2020/11/21 00:00:...|   GENESEN|              5.0|            0.0|            0.0|\n",
      "|          16| Thüringen| LK Gotha|     A00-A04|         W|2020/11/26 00:00:...|      16067|2020/11/22 00:00:...|   GENESEN|              5.0|            0.0|            0.0|\n",
      "|          16| Thüringen| LK Gotha|     A00-A04|         W|2020/12/10 00:00:...|      16067|2020/12/04 00:00:...|   GENESEN|              5.0|            0.0|            0.0|\n",
      "|          16| Thüringen| LK Gotha|     A00-A04|         W|2020/12/13 00:00:...|      16067|2020/12/08 00:00:...|   GENESEN|              5.0|            0.0|            0.0|\n",
      "|          16| Thüringen| LK Gotha|     A00-A04|         W|2020/12/17 00:00:...|      16067|2020/12/17 00:00:...|   GENESEN|              5.0|            0.0|            0.0|\n",
      "|          16| Thüringen| LK Gotha|     A00-A04|         W|2021/01/06 00:00:...|      16067|2021/01/06 00:00:...|   GENESEN|              5.0|            0.0|            0.0|\n",
      "|          16| Thüringen| LK Gotha|     A00-A04|         W|2021/01/13 00:00:...|      16067|2021/01/09 00:00:...|   GENESEN|              5.0|            0.0|            0.0|\n",
      "|          16| Thüringen| LK Gotha|     A00-A04|         W|2021/01/16 00:00:...|      16067|2021/01/16 00:00:...|   GENESEN|              5.0|            0.0|            0.0|\n",
      "|          16| Thüringen| LK Gotha|     A00-A04|         W|2021/01/21 00:00:...|      16067|2021/01/18 00:00:...|   GENESEN|              5.0|            0.0|            0.0|\n",
      "|          16| Thüringen| LK Gotha|     A00-A04|         W|2021/01/22 00:00:...|      16067|2021/01/19 00:00:...|   GENESEN|              5.0|            0.0|            0.0|\n",
      "|          16| Thüringen| LK Gotha|     A00-A04|         W|2021/01/23 00:00:...|      16067|2021/01/17 00:00:...|   GENESEN|              5.0|            0.0|            0.0|\n",
      "|          16| Thüringen| LK Gotha|     A00-A04|         W|2021/01/25 00:00:...|      16067|2021/01/21 00:00:...|   GENESEN|              5.0|            0.0|            0.0|\n",
      "|          16| Thüringen| LK Gotha|     A00-A04|         W|2021/01/28 00:00:...|      16067|2021/01/24 00:00:...|   GENESEN|              5.0|            0.0|            0.0|\n",
      "|          16| Thüringen| LK Gotha|     A00-A04|         W|2021/01/28 00:00:...|      16067|2021/01/25 00:00:...|   GENESEN|              5.0|            0.0|            0.0|\n",
      "|          16| Thüringen| LK Gotha|     A00-A04|         W|2021/02/04 00:00:...|      16067|2021/01/31 00:00:...|   GENESEN|              5.0|            0.0|            0.0|\n",
      "|          16| Thüringen| LK Gotha|     A00-A04|         W|2021/02/08 00:00:...|      16067|2021/02/08 00:00:...|   GENESEN|              5.0|            0.0|            0.0|\n",
      "+------------+----------+---------+------------+----------+--------------------+-----------+--------------------+----------+-----------------+---------------+---------------+\n",
      "only showing top 20 rows\n",
      "\n"
     ]
    }
   ],
   "source": [
    "altersgruppeIndexer = StringIndexer(inputCol=\"Altersgruppe\", outputCol=\"AltersgruppeIndexNeu\")\n",
    "altersgruppeModel = altersgruppeIndexer.fit(dfAltersgruppeImputed)\n",
    "dfWithAgeIndexNew = altersgruppeModel.transform(dfAltersgruppeImputed)\n",
    "finalDF = dfWithAgeIndexNew.withColumn(\"AltersgruppeIndex\", dfWithAgeIndexNew.AltersgruppeIndexNeu).drop(\"AltersgruppeIndexNeu\")\n",
    "finalDF.show()\n"
   ]
  },
  {
   "cell_type": "code",
   "execution_count": 344,
   "id": "b5dcc373-d12b-4c9f-afe0-d81218772f98",
   "metadata": {},
   "outputs": [],
   "source": [
    "finalDF = finalDF.selectExpr(\"Bundesland\", \"IdBundesland as BundeslandIndex\", \"Landkreis\", \"IdLandkreis as LandkreisIndex\", \"Altersgruppe\", \"AltersgruppeIndex\", \"Geschlecht\", \"GeschlechtIndex\", \"FallStatus\", \"FallStatusIndex\")"
   ]
  },
  {
   "cell_type": "code",
   "execution_count": 345,
   "id": "204ec186-e054-4751-a078-7c4f77803397",
   "metadata": {},
   "outputs": [],
   "source": [
    "finalDF.repartition(1).write.format('csv').option('header',True).mode('overwrite').option('sep',';').save(translate_to_file_string(\"./data/data-preperation-result\"))"
   ]
  },
  {
   "cell_type": "code",
   "execution_count": null,
   "id": "dcee0647-248a-4fa6-b279-ffc52fb8eb59",
   "metadata": {},
   "outputs": [],
   "source": []
  }
 ],
 "metadata": {
  "kernelspec": {
   "display_name": "Python 3",
   "language": "python",
   "name": "python3"
  },
  "language_info": {
   "codemirror_mode": {
    "name": "ipython",
    "version": 3
   },
   "file_extension": ".py",
   "mimetype": "text/x-python",
   "name": "python",
   "nbconvert_exporter": "python",
   "pygments_lexer": "ipython3",
   "version": "3.8.8"
  }
 },
 "nbformat": 4,
 "nbformat_minor": 5
}
