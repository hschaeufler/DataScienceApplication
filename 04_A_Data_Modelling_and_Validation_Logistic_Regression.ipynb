{
 "cells": [
  {
   "cell_type": "markdown",
   "id": "78da626b-7d05-4bc8-8204-27ba6c010209",
   "metadata": {},
   "source": [
    "# Data Modelling"
   ]
  },
  {
   "cell_type": "code",
   "execution_count": 93,
   "id": "ca4d0ac4-226e-4f5b-a6fa-0bd1b85bd29c",
   "metadata": {},
   "outputs": [],
   "source": [
    "from pyspark.sql.session import SparkSession\n",
    "from pyspark.ml.feature import VectorAssembler\n",
    "from pyspark.ml.evaluation import BinaryClassificationEvaluator\n",
    "from pyspark.ml.classification import LogisticRegression\n",
    "from helpers.helper_functions import translate_to_file_string\n",
    "from pyspark.ml.tuning import CrossValidator, ParamGridBuilder\n",
    "from pyspark.ml.evaluation import RegressionEvaluator\n",
    "from pyspark.ml.feature import StringIndexer\n",
    "from pyspark.mllib.evaluation import BinaryClassificationMetrics\n",
    "from pyspark.ml import Pipeline\n",
    "from pyspark.mllib.evaluation import MulticlassMetrics\n",
    "\n",
    "inputFile = translate_to_file_string(\"./data/Data_Preparation_Result.csv\")\n",
    "\n",
    "def prettyPrint(dm, collArray) :\n",
    "    rows = dm.toArray().tolist()\n",
    "    dfDM = spark.createDataFrame(rows,collArray)\n",
    "    newDf = dfDM.toPandas()\n",
    "    from IPython.display import display, HTML\n",
    "    return HTML(newDf.to_html(index=False))"
   ]
  },
  {
   "cell_type": "markdown",
   "id": "4978b0a3-e029-4a47-addf-3d03cc69e0fd",
   "metadata": {},
   "source": [
    "## Create Spark Session"
   ]
  },
  {
   "cell_type": "code",
   "execution_count": 94,
   "id": "67da5ee7-f795-4e20-8ea6-17affdfde647",
   "metadata": {},
   "outputs": [
    {
     "name": "stdout",
     "output_type": "stream",
     "text": [
      "root\n",
      " |-- Bundesland: string (nullable = true)\n",
      " |-- BundeslandIndex: integer (nullable = true)\n",
      " |-- Landkreis: string (nullable = true)\n",
      " |-- LandkreisIndex: integer (nullable = true)\n",
      " |-- Altersgruppe: string (nullable = true)\n",
      " |-- AltersgruppeIndex: double (nullable = true)\n",
      " |-- Geschlecht: string (nullable = true)\n",
      " |-- GeschlechtIndex: double (nullable = true)\n",
      " |-- FallStatus: string (nullable = true)\n",
      " |-- FallStatusIndex: double (nullable = true)\n",
      " |-- Falldatum: string (nullable = true)\n",
      "\n",
      "None\n"
     ]
    }
   ],
   "source": [
    "#create a SparkSession\n",
    "spark = (SparkSession\n",
    "       .builder\n",
    "       .appName(\"DataModelling\")\n",
    "       .getOrCreate())\n",
    "# create a DataFrame using an ifered Schema \n",
    "df = spark.read.option(\"header\", \"true\") \\\n",
    "       .option(\"inferSchema\", \"true\") \\\n",
    "       .option(\"delimiter\", \";\") \\\n",
    "       .csv(inputFile)   \n",
    "print(df.printSchema())"
   ]
  },
  {
   "cell_type": "markdown",
   "id": "8e88e9f4-6c6e-4171-b03b-c23335b53207",
   "metadata": {},
   "source": [
    "## Vorbereitung der Daten"
   ]
  },
  {
   "cell_type": "markdown",
   "id": "9eaafbf7-bf81-46f4-b14f-8bbdf3bb599b",
   "metadata": {},
   "source": [
    "### Filtern der Datensätze\n",
    "Für das Training dieses Modells ist es sinnvoll nur die Fälle zu betrachten, bei den der Ausgang der Corona-Erkrankung bereits bekannt ist (\"GENESEN\" oder \"GESTORBEN\"). Daher werden die Fälle mit noch erkrankten Personen herausgefiltert. Ebenfalls muss der FallStatusIndex neu vergeben werden, damit dieses Feature nur noch die Werte 0 oder 1 enthält."
   ]
  },
  {
   "cell_type": "code",
   "execution_count": 95,
   "id": "89cc8a37-30ad-4458-8df2-ec4da36d7206",
   "metadata": {},
   "outputs": [],
   "source": [
    "dfNeu = df.filter(df.FallStatus != \"NICHTEINGETRETEN\").drop(\"FallStatusIndex\")"
   ]
  },
  {
   "cell_type": "markdown",
   "id": "92173359-0c5a-432a-9442-7f7fd9f68d3e",
   "metadata": {},
   "source": [
    "### FallStatusIndex"
   ]
  },
  {
   "cell_type": "code",
   "execution_count": 96,
   "id": "f8c51fc4-9b1f-494e-807a-891dcfa54262",
   "metadata": {},
   "outputs": [],
   "source": [
    "# Wollten eigentlich den Indexer mitgeben in die Pipeline. Dies führt aber zum Fehler, dass er das Label nicht kennt.\n",
    "indexer = StringIndexer(inputCol=\"FallStatus\", outputCol=\"FallStatusIndex\")\n",
    "dfReindexed = indexer.fit(dfNeu).transform(dfNeu)"
   ]
  },
  {
   "cell_type": "markdown",
   "id": "57e99c5d-fcdd-4f62-8807-b810e4656ccc",
   "metadata": {},
   "source": [
    "### Ziehen eines Samples\n",
    "Da der Datensatz sehr groß ist,kann es evt. notwendig sein, nur mit einem kleineren Umfang zu trainieren. Mit Fraction kann an dieser Stelle der Umfang der Stichprobe angepasst werden."
   ]
  },
  {
   "cell_type": "code",
   "execution_count": 97,
   "id": "05275d56-19b4-4d48-861a-400376068db9",
   "metadata": {},
   "outputs": [],
   "source": [
    "dfsample = dfReindexed.sample(withReplacement=False, fraction=1.0, seed=12334556)"
   ]
  },
  {
   "cell_type": "markdown",
   "id": "05ce0a92-b723-4e40-82d9-98d92966e854",
   "metadata": {},
   "source": [
    "### Undersampling\n",
    "Ähnlich dem Fraud-Detection-Beispiel von Tara Boyle (2019) ist die Klasse der an Corona-Verstorbenen im vorliegenden Datensatz unterrepresentiert, weshalb man an dieser Stelle von einer Data Imbalance spricht. Dies sieht man wenn man die Anzahl der Todesfälle mit den Anzahl der Genesenen vergleicht."
   ]
  },
  {
   "cell_type": "code",
   "execution_count": 98,
   "id": "38aea32c-b5d9-45b1-98c8-312f0c3bd786",
   "metadata": {},
   "outputs": [
    {
     "name": "stdout",
     "output_type": "stream",
     "text": [
      "+----------+-------+\n",
      "|FallStatus|  count|\n",
      "+----------+-------+\n",
      "|   GENESEN|3471830|\n",
      "| GESTORBEN|  88350|\n",
      "+----------+-------+\n",
      "\n"
     ]
    }
   ],
   "source": [
    "# Vergleich der Fallzahlen\n",
    "dfsample.groupBy(\"FallStatus\").count().show()"
   ]
  },
  {
   "cell_type": "markdown",
   "id": "a9c742d2-ae43-405b-b7ca-152152aa8c25",
   "metadata": {},
   "source": [
    "Die meisten Machine Learning Algorithmen arbeiten am Besten wenn die Nummer der Samples in allen Klassen ungefähr die selbe größe haben. Dies konnte auch im Zuge dieser Arbeit bei den unterschiedlichen Regressions-Modellen festgestellt werden. Da die einzelnen Modelle versuchen den Fehler zu reduzieren, haben alle Modelle am Ende für einen Datensatz nur die Klasse Genesen geliefert, da hier die Wahrscheinlichkeit am größten war korrekt zu liegen. \n",
    "Um diese Problem zu lösen gibt es zwei Möglichkeiten: Under- und Oversampling. Beides fällt unter den Begriff Resampling\n",
    "Beim Undersampling werden aus der Klasse mit den meisten Instanzen, Datensätze gelöscht, wohingegen beim Oversampling, der Klasse mit den wenigsten Isntanzen, neue Werte hinzugefügt werden. (Will Badr 2019; Tara Boyle 2019)\n",
    "Da in diesem Fall ausreichend Datensätze vorhanden sind, bietet sich Ersteres an."
   ]
  },
  {
   "cell_type": "code",
   "execution_count": 99,
   "id": "6ac18099-9343-4a76-a5a1-3136c9a0f85c",
   "metadata": {},
   "outputs": [
    {
     "name": "stdout",
     "output_type": "stream",
     "text": [
      "Anzahl Gestorben : 88350\n"
     ]
    }
   ],
   "source": [
    "# Ermittlung der Anzahl dr Verstorbenen\n",
    "dfGestorben = dfsample.filter(dfsample.FallStatus == \"GESTORBEN\")\n",
    "anzahlGestorben = dfGestorben.count()\n",
    "print(\"Anzahl Gestorben : %s\" % anzahlGestorben)"
   ]
  },
  {
   "cell_type": "code",
   "execution_count": 100,
   "id": "851c2b85-cbbf-45e3-a315-c4d26cf79085",
   "metadata": {},
   "outputs": [
    {
     "name": "stdout",
     "output_type": "stream",
     "text": [
      "Anzahl Genesen : 3471830\n",
      "Verhältnis : 0.02544767456931935\n"
     ]
    }
   ],
   "source": [
    "# Ermittlung des Verhätlnisses von Verstorben und Gensen\n",
    "dfGenesen = dfsample.filter(dfsample.FallStatus == \"GENESEN\")\n",
    "anzahlGenesen = dfGenesen.count()\n",
    "print(\"Anzahl Genesen : %s\" % anzahlGenesen)\n",
    "\n",
    "ratio = anzahlGestorben / anzahlGenesen\n",
    "print(\"Verhältnis : %s\" % ratio)\n",
    "\n"
   ]
  },
  {
   "cell_type": "code",
   "execution_count": 101,
   "id": "c753f487-04c8-41a4-8862-97169d570cb1",
   "metadata": {},
   "outputs": [],
   "source": [
    "# Ziehen eines Samples mit der näherungsweise selben Anzahl wie Verstorbene\n",
    "dfGenesenSample = dfGenesen.sample(fraction=ratio, seed=12345)"
   ]
  },
  {
   "cell_type": "code",
   "execution_count": 102,
   "id": "5e1ef4b7-7acb-430e-95aa-74927e6ef63e",
   "metadata": {},
   "outputs": [
    {
     "name": "stdout",
     "output_type": "stream",
     "text": [
      "+----------+-----+\n",
      "|FallStatus|count|\n",
      "+----------+-----+\n",
      "|   GENESEN|88520|\n",
      "| GESTORBEN|88350|\n",
      "+----------+-----+\n",
      "\n"
     ]
    }
   ],
   "source": [
    "dfGesamtSample = dfGestorben.union(dfGenesenSample)\n",
    "# Kontrolle\n",
    "dfGesamtSample.groupBy(\"FallStatus\").count().show()"
   ]
  },
  {
   "cell_type": "markdown",
   "id": "475de71e-da5c-49df-bc2d-6a1a30a8179b",
   "metadata": {
    "tags": []
   },
   "source": [
    "### Splitten in Trainings und Testdaten"
   ]
  },
  {
   "cell_type": "code",
   "execution_count": 103,
   "id": "7a43cb6d-a5e3-454d-a9bb-8a0f52886d0b",
   "metadata": {},
   "outputs": [],
   "source": [
    "splits = dfGesamtSample.randomSplit([0.8, 0.2], 345678)\n",
    "trainingData = splits[0]\n",
    "testData = splits[1]"
   ]
  },
  {
   "cell_type": "markdown",
   "id": "72b11078-4d6f-4903-86b7-803f96276072",
   "metadata": {},
   "source": [
    "### Aufbau des Feature-Vectors"
   ]
  },
  {
   "cell_type": "code",
   "execution_count": 104,
   "id": "7a9ed842-1619-4fc2-84ae-167971292725",
   "metadata": {},
   "outputs": [],
   "source": [
    "assembler =  VectorAssembler(outputCol=\"features\", inputCols=[\"GeschlechtIndex\",\"AltersgruppeIndex\", \"LandkreisIndex\",\"BundeslandIndex\"])"
   ]
  },
  {
   "cell_type": "markdown",
   "id": "a136e3f2-1007-4f62-9f35-d52869cd842c",
   "metadata": {},
   "source": [
    "## Modellierung\n",
    "### Logistic Regression\n",
    "Logistic Regression ist eine sehr beliebte Methode um Kategorien vorherzusagen. Für Binäre Werte ist eine Binominal Logistic Regresision anzuwenden. (Apache Spark 2021a)"
   ]
  },
  {
   "cell_type": "code",
   "execution_count": 105,
   "id": "5006ea64-b3dc-4658-9b12-ab1b2e16ab93",
   "metadata": {},
   "outputs": [],
   "source": [
    "lr = LogisticRegression(maxIter=10, featuresCol=\"features\", family=\"binomial\", labelCol=\"FallStatusIndex\")\n"
   ]
  },
  {
   "cell_type": "markdown",
   "id": "f1d5034e-f0cc-4e55-ba25-1482b964d471",
   "metadata": {},
   "source": [
    "### Pipeline"
   ]
  },
  {
   "cell_type": "code",
   "execution_count": 106,
   "id": "030efbf4-d50a-4fc9-8448-61314a82c00a",
   "metadata": {},
   "outputs": [],
   "source": [
    "pipeline = Pipeline(stages=[assembler,lr])"
   ]
  },
  {
   "cell_type": "markdown",
   "id": "a3eac72c-a03c-458d-a92f-c2d55ebba0c1",
   "metadata": {},
   "source": [
    "### Evaluator\n",
    "Für die spätere Cross-Validaton wird ein Evaluator benötigt. Letzterer ist zu wählen, abhängig von dem jeweilligen Modell und Anwendungsfall. (Apache Spark 2020a) In diesem Fall wird ein BinaryClassificationEvaluator angewendet. Dieser eignet sich besonders für binäre Werte. (Apache Spark 2021a) Da Geschlecht, in diesem Fall, der FallStatus 0 oder 1 annehmen kann, bietet er sich hier besonders an."
   ]
  },
  {
   "cell_type": "code",
   "execution_count": 107,
   "id": "55502289-015a-481b-92f1-8a7aefbad4a2",
   "metadata": {},
   "outputs": [],
   "source": [
    "# Definition des Evaluators\n",
    "evaluator= BinaryClassificationEvaluator(labelCol=\"FallStatusIndex\",rawPredictionCol=\"prediction\", metricName=\"areaUnderPR\")"
   ]
  },
  {
   "cell_type": "markdown",
   "id": "fa9b0dab-06d4-4d34-851c-558dcac729e2",
   "metadata": {},
   "source": [
    "### Parametertuning\n",
    "Eine wichtige Aufgabe beim Machine Learning ist die Auswahl des geeigneten Modells bzw. die passenden Paramter für ein Modell herauszufinden. Letzteres wird auch Parametertuning genannt. Die in Pyspark enthaltene MLLib bietet speziell hierfür ein entsprechende Tooling. Und zwar kann ein CrossValidator bzw. ein TrainValidationSplit verwendet werden. Voraussetzung sind ein Estimator (ein Modell oder eine Pipeline), ein Paramter-Grid und eine Evaluator. Dies ist auch im Zusammenhang mit dem Thema Cross-Validation zu sehen. (Apache Spark 2020a)"
   ]
  },
  {
   "cell_type": "code",
   "execution_count": 108,
   "id": "2a4a1571-498e-4d42-8f08-05500cacf6e8",
   "metadata": {},
   "outputs": [],
   "source": [
    "paramGrid = ParamGridBuilder()\\\n",
    "    .addGrid(lr.regParam, [0.3,0.01]) \\\n",
    "    .addGrid(lr.elasticNetParam, [0.8])\\\n",
    "    .addGrid(evaluator.metricName, [\"areaUnderPR\", \"areaUnderROC\"])\\\n",
    "    .build()"
   ]
  },
  {
   "cell_type": "markdown",
   "id": "431859e4-d239-447c-bf75-6f8437a36d82",
   "metadata": {},
   "source": [
    "### Cross-Validation"
   ]
  },
  {
   "cell_type": "code",
   "execution_count": 109,
   "id": "7df713c9-41e8-4492-bcc5-77e3f5799d6f",
   "metadata": {},
   "outputs": [],
   "source": [
    "# Definition des Cross-Validators \n",
    "# num-Folds gibt an in wie viele Datensatz-Paare die Datensätze aufgeteilt werden.\n",
    "crossval = CrossValidator(estimator=pipeline,\n",
    "                          estimatorParamMaps=paramGrid,\n",
    "                          evaluator=evaluator,\n",
    "                          numFolds=2,\n",
    "                          parallelism=2)"
   ]
  },
  {
   "cell_type": "markdown",
   "id": "c1efc88e-ebaa-4ada-befe-86ed11887356",
   "metadata": {},
   "source": [
    "#### Training"
   ]
  },
  {
   "cell_type": "code",
   "execution_count": 110,
   "id": "e278a6a5-2976-411c-83bf-81d1227e4d43",
   "metadata": {},
   "outputs": [],
   "source": [
    "# Anpassung des Modells und Auswahl der besten Parameter\n",
    "cvModel = crossval.fit(trainingData)"
   ]
  },
  {
   "cell_type": "code",
   "execution_count": 111,
   "id": "5f8cd063-a458-4ddb-9ebf-0fd01a6c1776",
   "metadata": {},
   "outputs": [
    {
     "name": "stdout",
     "output_type": "stream",
     "text": [
      "estimator: estimator to be cross-validated (current: Pipeline_e5c23f810a28)\n",
      "estimatorParamMaps: estimator param maps (current: [{Param(parent='LogisticRegression_403c859db9cc', name='regParam', doc='regularization parameter (>= 0).'): 0.3, Param(parent='LogisticRegression_403c859db9cc', name='elasticNetParam', doc='the ElasticNet mixing parameter, in range [0, 1]. For alpha = 0, the penalty is an L2 penalty. For alpha = 1, it is an L1 penalty.'): 0.8, Param(parent='BinaryClassificationEvaluator_5fa397b28bc5', name='metricName', doc='metric name in evaluation (areaUnderROC|areaUnderPR)'): 'areaUnderPR'}, {Param(parent='LogisticRegression_403c859db9cc', name='regParam', doc='regularization parameter (>= 0).'): 0.3, Param(parent='LogisticRegression_403c859db9cc', name='elasticNetParam', doc='the ElasticNet mixing parameter, in range [0, 1]. For alpha = 0, the penalty is an L2 penalty. For alpha = 1, it is an L1 penalty.'): 0.8, Param(parent='BinaryClassificationEvaluator_5fa397b28bc5', name='metricName', doc='metric name in evaluation (areaUnderROC|areaUnderPR)'): 'areaUnderROC'}, {Param(parent='LogisticRegression_403c859db9cc', name='regParam', doc='regularization parameter (>= 0).'): 0.01, Param(parent='LogisticRegression_403c859db9cc', name='elasticNetParam', doc='the ElasticNet mixing parameter, in range [0, 1]. For alpha = 0, the penalty is an L2 penalty. For alpha = 1, it is an L1 penalty.'): 0.8, Param(parent='BinaryClassificationEvaluator_5fa397b28bc5', name='metricName', doc='metric name in evaluation (areaUnderROC|areaUnderPR)'): 'areaUnderPR'}, {Param(parent='LogisticRegression_403c859db9cc', name='regParam', doc='regularization parameter (>= 0).'): 0.01, Param(parent='LogisticRegression_403c859db9cc', name='elasticNetParam', doc='the ElasticNet mixing parameter, in range [0, 1]. For alpha = 0, the penalty is an L2 penalty. For alpha = 1, it is an L1 penalty.'): 0.8, Param(parent='BinaryClassificationEvaluator_5fa397b28bc5', name='metricName', doc='metric name in evaluation (areaUnderROC|areaUnderPR)'): 'areaUnderROC'}])\n",
      "evaluator: evaluator used to select hyper-parameters that maximize the validator metric (current: BinaryClassificationEvaluator_5fa397b28bc5)\n",
      "foldCol: Param for the column name of user specified fold number. Once this is specified, :py:class:`CrossValidator` won't do random k-fold split. Note that this column should be integer type with range [0, numFolds) and Spark will throw exception on out-of-range fold numbers. (default: )\n",
      "numFolds: number of folds for cross validation (default: 3, current: 2)\n",
      "seed: random seed. (default: 3433570784582550390)\n"
     ]
    }
   ],
   "source": [
    "# Ermitteln der Paramter\n",
    "print(cvModel.explainParams())"
   ]
  },
  {
   "cell_type": "markdown",
   "id": "8bc1cdb4-de36-4db7-8e3b-9eb2aa5e91bb",
   "metadata": {},
   "source": [
    "### Testen des Modells"
   ]
  },
  {
   "cell_type": "code",
   "execution_count": 112,
   "id": "457e7487-3f6c-4ae4-9a68-10abcafd09d0",
   "metadata": {},
   "outputs": [
    {
     "name": "stdout",
     "output_type": "stream",
     "text": [
      "+-----------------+---------------+----------------+--------------+------------+-----------------+----------+---------------+----------+----------+---------------+--------------------+--------------------+--------------------+----------+\n",
      "|       Bundesland|BundeslandIndex|       Landkreis|LandkreisIndex|Altersgruppe|AltersgruppeIndex|Geschlecht|GeschlechtIndex|FallStatus| Falldatum|FallStatusIndex|            features|       rawPrediction|         probability|prediction|\n",
      "+-----------------+---------------+----------------+--------------+------------+-----------------+----------+---------------+----------+----------+---------------+--------------------+--------------------+--------------------+----------+\n",
      "|Baden-Württemberg|              8|     LK Biberach|          8426|     A60-A79|              2.0|         M|            1.0| GESTORBEN|2020-04-14|            1.0|[1.0,2.0,8426.0,8.0]|[0.01184058670608...|[0.50296011209275...|       0.0|\n",
      "|Baden-Württemberg|              8|     LK Biberach|          8426|     A60-A79|              2.0|         M|            1.0| GESTORBEN|2020-12-08|            1.0|[1.0,2.0,8426.0,8.0]|[0.01184058670608...|[0.50296011209275...|       0.0|\n",
      "|Baden-Württemberg|              8|     LK Biberach|          8426|     A60-A79|              2.0|         M|            1.0| GESTORBEN|2021-01-18|            1.0|[1.0,2.0,8426.0,8.0]|[0.01184058670608...|[0.50296011209275...|       0.0|\n",
      "|Baden-Württemberg|              8|     LK Biberach|          8426|     A60-A79|              2.0|         M|            1.0| GESTORBEN|2021-03-29|            1.0|[1.0,2.0,8426.0,8.0]|[0.01184058670608...|[0.50296011209275...|       0.0|\n",
      "|Baden-Württemberg|              8|     LK Biberach|          8426|        A80+|              3.0|         M|            1.0| GESTORBEN|2020-03-13|            1.0|[1.0,3.0,8426.0,8.0]|[-0.0608222728524...|[0.48479911761191...|       1.0|\n",
      "|Baden-Württemberg|              8|     LK Biberach|          8426|        A80+|              3.0|         M|            1.0| GESTORBEN|2020-03-21|            1.0|[1.0,3.0,8426.0,8.0]|[-0.0608222728524...|[0.48479911761191...|       1.0|\n",
      "|Baden-Württemberg|              8|     LK Biberach|          8426|        A80+|              3.0|         M|            1.0| GESTORBEN|2020-04-15|            1.0|[1.0,3.0,8426.0,8.0]|[-0.0608222728524...|[0.48479911761191...|       1.0|\n",
      "|Baden-Württemberg|              8|     LK Biberach|          8426|        A80+|              3.0|         M|            1.0| GESTORBEN|2020-04-22|            1.0|[1.0,3.0,8426.0,8.0]|[-0.0608222728524...|[0.48479911761191...|       1.0|\n",
      "|Baden-Württemberg|              8|     LK Biberach|          8426|        A80+|              3.0|         M|            1.0| GESTORBEN|2020-08-10|            1.0|[1.0,3.0,8426.0,8.0]|[-0.0608222728524...|[0.48479911761191...|       1.0|\n",
      "|Baden-Württemberg|              8|     LK Biberach|          8426|        A80+|              3.0|         M|            1.0| GESTORBEN|2020-10-29|            1.0|[1.0,3.0,8426.0,8.0]|[-0.0608222728524...|[0.48479911761191...|       1.0|\n",
      "|Baden-Württemberg|              8|     LK Biberach|          8426|        A80+|              3.0|         M|            1.0| GESTORBEN|2020-12-06|            1.0|[1.0,3.0,8426.0,8.0]|[-0.0608222728524...|[0.48479911761191...|       1.0|\n",
      "|Baden-Württemberg|              8|     LK Biberach|          8426|        A80+|              3.0|         M|            1.0| GESTORBEN|2020-12-15|            1.0|[1.0,3.0,8426.0,8.0]|[-0.0608222728524...|[0.48479911761191...|       1.0|\n",
      "|Baden-Württemberg|              8|     LK Biberach|          8426|        A80+|              3.0|         M|            1.0| GESTORBEN|2020-12-19|            1.0|[1.0,3.0,8426.0,8.0]|[-0.0608222728524...|[0.48479911761191...|       1.0|\n",
      "|Baden-Württemberg|              8|     LK Biberach|          8426|        A80+|              3.0|         M|            1.0| GESTORBEN|2020-12-23|            1.0|[1.0,3.0,8426.0,8.0]|[-0.0608222728524...|[0.48479911761191...|       1.0|\n",
      "|Baden-Württemberg|              8|     LK Biberach|          8426|        A80+|              3.0|         M|            1.0| GESTORBEN|2020-12-27|            1.0|[1.0,3.0,8426.0,8.0]|[-0.0608222728524...|[0.48479911761191...|       1.0|\n",
      "|Baden-Württemberg|              8|     LK Biberach|          8426|        A80+|              3.0|         M|            1.0| GESTORBEN|2021-01-15|            1.0|[1.0,3.0,8426.0,8.0]|[-0.0608222728524...|[0.48479911761191...|       1.0|\n",
      "|Baden-Württemberg|              8|     LK Biberach|          8426|        A80+|              3.0|         M|            1.0| GESTORBEN|2021-02-01|            1.0|[1.0,3.0,8426.0,8.0]|[-0.0608222728524...|[0.48479911761191...|       1.0|\n",
      "|Baden-Württemberg|              8|     LK Biberach|          8426|        A80+|              3.0|         M|            1.0| GESTORBEN|2021-02-13|            1.0|[1.0,3.0,8426.0,8.0]|[-0.0608222728524...|[0.48479911761191...|       1.0|\n",
      "|Baden-Württemberg|              8|LK Bodenseekreis|          8435|     A60-A79|              2.0|         W|            0.0| GESTORBEN|2020-12-15|            1.0|[0.0,2.0,8435.0,8.0]|[0.01184058670608...|[0.50296011209275...|       0.0|\n",
      "|Baden-Württemberg|              8|LK Bodenseekreis|          8435|     A60-A79|              2.0|         W|            0.0| GESTORBEN|2020-12-22|            1.0|[0.0,2.0,8435.0,8.0]|[0.01184058670608...|[0.50296011209275...|       0.0|\n",
      "+-----------------+---------------+----------------+--------------+------------+-----------------+----------+---------------+----------+----------+---------------+--------------------+--------------------+--------------------+----------+\n",
      "only showing top 20 rows\n",
      "\n"
     ]
    }
   ],
   "source": [
    "predictions = cvModel.transform(testData)\n",
    "predictions.show()"
   ]
  },
  {
   "cell_type": "code",
   "execution_count": 113,
   "id": "2c4b7acd-3978-40af-9842-295bd6c55792",
   "metadata": {},
   "outputs": [
    {
     "name": "stdout",
     "output_type": "stream",
     "text": [
      "+---------------+----------+-----+\n",
      "|FallStatusIndex|prediction|count|\n",
      "+---------------+----------+-----+\n",
      "|            1.0|       1.0|11852|\n",
      "|            0.0|       1.0| 2850|\n",
      "|            1.0|       0.0| 5987|\n",
      "|            0.0|       0.0|14718|\n",
      "+---------------+----------+-----+\n",
      "\n"
     ]
    }
   ],
   "source": [
    "# Kontrolle der Predictions\n",
    "predictions.groupBy(\"FallStatusIndex\", \"prediction\").count().show()"
   ]
  },
  {
   "cell_type": "markdown",
   "id": "b7acaa7a-23f6-4d6c-a4ba-46ccf15dbe34",
   "metadata": {},
   "source": [
    "## Modell - Evaluation"
   ]
  },
  {
   "cell_type": "markdown",
   "id": "b8ba7c7c-b146-4d1b-b21a-e02f5d5ef1bd",
   "metadata": {},
   "source": [
    "Area Under PR / Area under ROC"
   ]
  },
  {
   "cell_type": "code",
   "execution_count": 114,
   "id": "ccd6d878-349d-439b-b985-db71d6f259d0",
   "metadata": {},
   "outputs": [
    {
     "name": "stdout",
     "output_type": "stream",
     "text": [
      "Test Error 0.24458275341925528\n"
     ]
    }
   ],
   "source": [
    "accuracy = evaluator.evaluate(predictions)\n",
    "print(\"Test Error\",(1.0 - accuracy))"
   ]
  },
  {
   "cell_type": "markdown",
   "id": "ec549f76-9a06-401b-93bf-50a5abce2b69",
   "metadata": {},
   "source": [
    "### BinaryClassificationMetrics"
   ]
  },
  {
   "cell_type": "markdown",
   "id": "5a47263c-7e44-4b7a-ba63-3c4ac48832e1",
   "metadata": {},
   "source": [
    "Bei dem untersuchten Label (FallStatus mit den Ausprägungen Verstorben und Genesen) handelt es sich um ein einen BinaryClasificator. Er kann die Werte 0 und 1 annehmen. Für die Modellevaluation sind daher die BinaryClassificationMetrics zu verwenden. (Apache Spark 2021i)"
   ]
  },
  {
   "cell_type": "code",
   "execution_count": 115,
   "id": "565cbe69-ea50-4012-825e-3b99278bf3c3",
   "metadata": {},
   "outputs": [],
   "source": [
    "predictionAndLabels = predictions.select(\"prediction\", \"FallStatusIndex\").rdd.map(lambda p: [p[0], p[1]]) # Map to RDD prediction|label"
   ]
  },
  {
   "cell_type": "code",
   "execution_count": 116,
   "id": "0e00720d-f53f-435f-a3d8-b884a65716d7",
   "metadata": {},
   "outputs": [
    {
     "name": "stdout",
     "output_type": "stream",
     "text": [
      "Area under PR = 0.7554172465807447\n",
      "Area under ROC = 0.7510801206266003\n"
     ]
    }
   ],
   "source": [
    "# Instanzieire das BinaryClassificationMetrics-Objekt\n",
    "metrics = BinaryClassificationMetrics(predictionAndLabels)\n",
    "\n",
    "# Fläche unter der Precision-recall Curve\n",
    "\n",
    "print(\"Area under PR = %s\" % metrics.areaUnderPR)\n",
    "\n",
    "# Fläche unter der ROC curve\n",
    "print(\"Area under ROC = %s\" % metrics.areaUnderROC)"
   ]
  },
  {
   "cell_type": "markdown",
   "id": "a938ac6c-b3a3-43dd-b460-8d338505a28e",
   "metadata": {},
   "source": [
    "### Multiclass classification Metrics\n",
    "In den meißten Fällen können auch Multiclass Classification Metrics bei Binary Classifaction Problemen angewandt werden."
   ]
  },
  {
   "cell_type": "code",
   "execution_count": 117,
   "id": "e8d69e82-ba0a-4061-a6c9-1b6c58c50501",
   "metadata": {},
   "outputs": [],
   "source": [
    "predictionAndLabels = predictions.select(\"prediction\", \"FallStatusIndex\").rdd.map(lambda p: (p[0], p[1])) # Map to RDD prediction|label\n",
    "# Instantiate metrics object\n",
    "mcMetrics = MulticlassMetrics(predictionAndLabels)"
   ]
  },
  {
   "cell_type": "code",
   "execution_count": 118,
   "id": "ea5d50a8-caca-460f-8ef4-446bb1add7b0",
   "metadata": {},
   "outputs": [
    {
     "data": {
      "text/html": [
       "<table border=\"1\" class=\"dataframe\">\n",
       "  <thead>\n",
       "    <tr style=\"text-align: right;\">\n",
       "      <th>positiv</th>\n",
       "      <th>negativ</th>\n",
       "    </tr>\n",
       "  </thead>\n",
       "  <tbody>\n",
       "    <tr>\n",
       "      <td>14718.0</td>\n",
       "      <td>2850.0</td>\n",
       "    </tr>\n",
       "    <tr>\n",
       "      <td>5987.0</td>\n",
       "      <td>11852.0</td>\n",
       "    </tr>\n",
       "  </tbody>\n",
       "</table>"
      ],
      "text/plain": [
       "<IPython.core.display.HTML object>"
      ]
     },
     "execution_count": 118,
     "metadata": {},
     "output_type": "execute_result"
    }
   ],
   "source": [
    "prettyPrint(mcMetrics.confusionMatrix(),[\"positiv\", \"negativ\"])"
   ]
  },
  {
   "cell_type": "code",
   "execution_count": 119,
   "id": "0955a46c-ff81-4fe5-bbaa-b65e8658f736",
   "metadata": {},
   "outputs": [
    {
     "name": "stdout",
     "output_type": "stream",
     "text": [
      "Summary Stats\n",
      "Precision = 0.8061488232893483\n",
      "Recall = 0.6643870172094848\n",
      "F1 Score = 0.7284348975139056\n",
      "Class 0.0 precision = 0.7108427915962328\n",
      "Class 0.0 recall = 0.8377732240437158\n",
      "Class 0.0 F1 Measure = 0.7691061583884201\n",
      "Class 1.0 precision = 0.8061488232893483\n",
      "Class 1.0 recall = 0.6643870172094848\n",
      "Class 1.0 F1 Measure = 0.7284348975139056\n",
      "Weighted recall = 0.7504165842912418\n",
      "Weighted precision = 0.758860536657195\n",
      "Weighted F(1) Score = 0.7486148820097248\n",
      "Weighted F(0.5) Score = 0.7532587545987341\n",
      "Weighted false positive rate = 0.24825634303804112\n"
     ]
    }
   ],
   "source": [
    "# Overall statistics\n",
    "precision = mcMetrics.precision(1.0)\n",
    "recall = mcMetrics.recall(1.0)\n",
    "f1Score = mcMetrics.fMeasure(1.0)\n",
    "print(\"Summary Stats\")\n",
    "print(\"Precision = %s\" % precision)\n",
    "print(\"Recall = %s\" % recall)\n",
    "print(\"F1 Score = %s\" % f1Score)\n",
    "\n",
    "\n",
    "labels = predictions.select(\"FallStatusIndex\").rdd.map(lambda lp: lp.FallStatusIndex).distinct().collect()\n",
    "for label in sorted(labels):\n",
    "    print(\"Class %s precision = %s\" % (label, mcMetrics.precision(label)))\n",
    "    print(\"Class %s recall = %s\" % (label, mcMetrics.recall(label)))\n",
    "    print(\"Class %s F1 Measure = %s\" % (label, mcMetrics.fMeasure(label, beta=1.0)))\n",
    "\n",
    "# Weighted stats\n",
    "print(\"Weighted recall = %s\" % mcMetrics.weightedRecall)\n",
    "print(\"Weighted precision = %s\" % mcMetrics.weightedPrecision)\n",
    "print(\"Weighted F(1) Score = %s\" % mcMetrics.weightedFMeasure())\n",
    "print(\"Weighted F(0.5) Score = %s\" % mcMetrics.weightedFMeasure(beta=0.5))\n",
    "print(\"Weighted false positive rate = %s\" % mcMetrics.weightedFalsePositiveRate)"
   ]
  }
 ],
 "metadata": {
  "kernelspec": {
   "display_name": "Python 3",
   "language": "python",
   "name": "python3"
  },
  "language_info": {
   "codemirror_mode": {
    "name": "ipython",
    "version": 3
   },
   "file_extension": ".py",
   "mimetype": "text/x-python",
   "name": "python",
   "nbconvert_exporter": "python",
   "pygments_lexer": "ipython3",
   "version": "3.8.8"
  },
  "toc-autonumbering": false,
  "toc-showtags": false
 },
 "nbformat": 4,
 "nbformat_minor": 5
}
