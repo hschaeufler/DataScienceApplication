{
 "cells": [
  {
   "cell_type": "markdown",
   "id": "78da626b-7d05-4bc8-8204-27ba6c010209",
   "metadata": {},
   "source": [
    "# Data Modelling"
   ]
  },
  {
   "cell_type": "code",
   "execution_count": 1,
   "id": "ca4d0ac4-226e-4f5b-a6fa-0bd1b85bd29c",
   "metadata": {},
   "outputs": [],
   "source": [
    "from pyspark.sql.session import SparkSession\n",
    "from pyspark.ml.feature import VectorAssembler\n",
    "from pyspark.ml.regression import LinearRegression\n",
    "from pyspark.ml.evaluation import BinaryClassificationEvaluator\n",
    "from helpers.helper_functions import translate_to_file_string\n",
    "from pyspark.ml.tuning import CrossValidator, ParamGridBuilder\n",
    "from pyspark.ml.evaluation import RegressionEvaluator\n",
    "from pyspark.ml.feature import StringIndexer\n",
    "from pyspark.mllib.evaluation import BinaryClassificationMetrics\n",
    "from pyspark.ml import Pipeline\n",
    "from pyspark.mllib.evaluation import MulticlassMetrics\n",
    "\n",
    "inputFile = translate_to_file_string(\"./data/Data_Preparation_Result.csv\")"
   ]
  },
  {
   "cell_type": "markdown",
   "id": "4978b0a3-e029-4a47-addf-3d03cc69e0fd",
   "metadata": {},
   "source": [
    "## Create Spark Session"
   ]
  },
  {
   "cell_type": "code",
   "execution_count": 2,
   "id": "67da5ee7-f795-4e20-8ea6-17affdfde647",
   "metadata": {},
   "outputs": [
    {
     "name": "stdout",
     "output_type": "stream",
     "text": [
      "root\n",
      " |-- Bundesland: string (nullable = true)\n",
      " |-- BundeslandIndex: integer (nullable = true)\n",
      " |-- Landkreis: string (nullable = true)\n",
      " |-- LandkreisIndex: integer (nullable = true)\n",
      " |-- Altersgruppe: string (nullable = true)\n",
      " |-- AltersgruppeIndex: double (nullable = true)\n",
      " |-- Geschlecht: string (nullable = true)\n",
      " |-- GeschlechtIndex: double (nullable = true)\n",
      " |-- FallStatus: string (nullable = true)\n",
      " |-- FallStatusIndex: double (nullable = true)\n",
      " |-- Falldatum: string (nullable = true)\n",
      "\n",
      "None\n"
     ]
    }
   ],
   "source": [
    "#create a SparkSession\n",
    "spark = (SparkSession\n",
    "       .builder\n",
    "       .appName(\"DataModelling\")\n",
    "       .getOrCreate())\n",
    "# create a DataFrame using an ifered Schema \n",
    "df = spark.read.option(\"header\", \"true\") \\\n",
    "       .option(\"inferSchema\", \"true\") \\\n",
    "       .option(\"delimiter\", \";\") \\\n",
    "       .csv(inputFile)   \n",
    "print(df.printSchema())"
   ]
  },
  {
   "cell_type": "markdown",
   "id": "8e88e9f4-6c6e-4171-b03b-c23335b53207",
   "metadata": {},
   "source": [
    "## Vorbereitung der Daten"
   ]
  },
  {
   "cell_type": "markdown",
   "id": "9eaafbf7-bf81-46f4-b14f-8bbdf3bb599b",
   "metadata": {},
   "source": [
    "### Filtern der Datensätze\n",
    "Für das Training dieses Modells ist es sinnvoll nur die Fälle zu betrachten, bei den der Ausgang der Corona-Erkrankung bereits bekannt ist (\"GENESEN\" oder \"GESTORBEN\"). Daher werden die Fälle mit noch erkrankten Personen herausgefiltert. Ebenfalls muss der FallStatusIndex neu vergeben werden, damit dieses Feature nur noch die Werte 0 oder 1 enthält.Dies erfolgt im nachfolgenden Abschnitt."
   ]
  },
  {
   "cell_type": "code",
   "execution_count": 3,
   "id": "89cc8a37-30ad-4458-8df2-ec4da36d7206",
   "metadata": {},
   "outputs": [],
   "source": [
    "dfNeu = df.filter(df.FallStatus != \"NICHTEINGETRETEN\").drop(\"FallStatusIndex\").sample(fraction=0.01, withReplacement=False)\n",
    "dfGestorben = dfNeu.filter(df.FallStatus == \"GESTORBEN\")\n",
    "dfGenesen = dfNeu.filter(df.FallStatus == \"GENESEN\").limit(1000)\n",
    "dfGesamt = dfGestorben.union(dfGenesen)\n"
   ]
  },
  {
   "cell_type": "code",
   "execution_count": 4,
   "id": "8837d709-bc9d-489a-bd68-382cecde653e",
   "metadata": {},
   "outputs": [
    {
     "name": "stdout",
     "output_type": "stream",
     "text": [
      "+----------+-----+\n",
      "|FallStatus|count|\n",
      "+----------+-----+\n",
      "|   GENESEN| 1000|\n",
      "| GESTORBEN|  869|\n",
      "+----------+-----+\n",
      "\n"
     ]
    }
   ],
   "source": [
    "dfGesamt.groupBy(\"FallStatus\").count().show()"
   ]
  },
  {
   "cell_type": "markdown",
   "id": "92173359-0c5a-432a-9442-7f7fd9f68d3e",
   "metadata": {},
   "source": [
    "### FallStatusIndex"
   ]
  },
  {
   "cell_type": "code",
   "execution_count": 5,
   "id": "f8c51fc4-9b1f-494e-807a-891dcfa54262",
   "metadata": {},
   "outputs": [],
   "source": [
    "# Wollten eigentlich den Indexer mitgeben in die Pipeline. Dies führt aber zum Fehler, dass er das Label nicht kennt.\n",
    "indexer = StringIndexer(inputCol=\"FallStatus\", outputCol=\"FallStatusIndex\")"
   ]
  },
  {
   "cell_type": "markdown",
   "id": "aafcf0db-a2db-4f4f-ace8-42856bc71989",
   "metadata": {},
   "source": [
    "### Aufbau des Feature-Vectors"
   ]
  },
  {
   "cell_type": "code",
   "execution_count": 6,
   "id": "37860d4a-f3ba-4fc8-896c-f23531f5f8b5",
   "metadata": {},
   "outputs": [],
   "source": [
    "assembler =  VectorAssembler(outputCol=\"features\", inputCols=[\"GeschlechtIndex\",\"AltersgruppeIndex\", \"LandkreisIndex\",\"BundeslandIndex\"]) #\"LandkreisIndex\""
   ]
  },
  {
   "cell_type": "markdown",
   "id": "fbcf4042-b966-403e-b8c6-741ef1ead0c2",
   "metadata": {},
   "source": [
    "### Splitten in Trainings und Testdaten"
   ]
  },
  {
   "cell_type": "code",
   "execution_count": 7,
   "id": "3a012b41-d413-4b3b-a997-2e631d56204b",
   "metadata": {},
   "outputs": [
    {
     "name": "stdout",
     "output_type": "stream",
     "text": [
      "+-----------------+---------------+------------------+--------------+------------+-----------------+----------+---------------+----------+----------+\n",
      "|       Bundesland|BundeslandIndex|         Landkreis|LandkreisIndex|Altersgruppe|AltersgruppeIndex|Geschlecht|GeschlechtIndex|FallStatus| Falldatum|\n",
      "+-----------------+---------------+------------------+--------------+------------+-----------------+----------+---------------+----------+----------+\n",
      "|Baden-Württemberg|              8|       LK Biberach|          8426|        A80+|              3.0|         M|            1.0| GESTORBEN|2021-04-08|\n",
      "|Baden-Württemberg|              8|  LK Bodenseekreis|          8435|        A80+|              3.0|         W|            0.0| GESTORBEN|2021-01-10|\n",
      "|Baden-Württemberg|              8|  LK Bodenseekreis|          8435|        A80+|              3.0|         W|            0.0| GESTORBEN|2021-01-11|\n",
      "|Baden-Württemberg|              8|      LK Göppingen|          8117|     A60-A79|              2.0|         M|            1.0| GESTORBEN|2020-04-10|\n",
      "|Baden-Württemberg|              8|      LK Göppingen|          8117|        A80+|              3.0|         M|            1.0| GESTORBEN|2021-04-19|\n",
      "|Baden-Württemberg|              8|     LK Reutlingen|          8415|     A35-A59|              0.0|         M|            1.0| GESTORBEN|2020-03-21|\n",
      "|Baden-Württemberg|              8|     LK Reutlingen|          8415|        A80+|              3.0|         M|            1.0| GESTORBEN|2020-12-02|\n",
      "|Baden-Württemberg|              8|       LK Rottweil|          8325|     A60-A79|              2.0|         M|            1.0| GESTORBEN|2020-04-02|\n",
      "|Baden-Württemberg|              8|LK Schwäbisch Hall|          8127|     A60-A79|              2.0|         M|            1.0| GESTORBEN|2020-10-28|\n",
      "|Baden-Württemberg|              8|LK Schwäbisch Hall|          8127|        A80+|              3.0|         M|            1.0| GESTORBEN|2020-12-25|\n",
      "+-----------------+---------------+------------------+--------------+------------+-----------------+----------+---------------+----------+----------+\n",
      "\n"
     ]
    }
   ],
   "source": [
    "splits = dfGesamt.randomSplit([0.8, 0.2 ], 345678)\n",
    "trainingVector = splits[0]\n",
    "testVector = splits[1]\n",
    "\n",
    "trainingVector.limit(10).show()"
   ]
  },
  {
   "cell_type": "markdown",
   "id": "a136e3f2-1007-4f62-9f35-d52869cd842c",
   "metadata": {},
   "source": [
    "## Modellierung\n",
    "### Support Vector Machine"
   ]
  },
  {
   "cell_type": "code",
   "execution_count": 8,
   "id": "5006ea64-b3dc-4658-9b12-ab1b2e16ab93",
   "metadata": {},
   "outputs": [],
   "source": [
    "lr = LinearRegression(maxIter=10, featuresCol=\"features\", labelCol=\"FallStatusIndex\")"
   ]
  },
  {
   "cell_type": "markdown",
   "id": "f1d5034e-f0cc-4e55-ba25-1482b964d471",
   "metadata": {},
   "source": [
    "### Pipeline"
   ]
  },
  {
   "cell_type": "code",
   "execution_count": 9,
   "id": "030efbf4-d50a-4fc9-8448-61314a82c00a",
   "metadata": {},
   "outputs": [],
   "source": [
    "pipeline = Pipeline(stages=[indexer,assembler, lr])"
   ]
  },
  {
   "cell_type": "markdown",
   "id": "fa9b0dab-06d4-4d34-851c-558dcac729e2",
   "metadata": {},
   "source": [
    "### Parametertuning\n",
    "Eine wichtige Aufgabe beim Machine Learning ist die Auswahl des geeigneten Modells bzw. die passenden Paramter für ein Modell herauszufinden. Letzteres wird auch Parametertuning genannt. Die in Pyspark enthaltene MLLib bietet speziell hierfür ein entsprechende Tooling. Und zwar kann ein CrossValidator bzw. ein TrainValidationSplit verwendet werden. Voraussetzung sind ein Estimator (ein Modell oder eine Pipeline), ein Paramter-Grid und eine Evaluator. Dies ist auch im Zusammenhang mit dem Thema Cross-Validation zu sehen. (Apache Spark 2020a)"
   ]
  },
  {
   "cell_type": "code",
   "execution_count": 10,
   "id": "2a4a1571-498e-4d42-8f08-05500cacf6e8",
   "metadata": {},
   "outputs": [],
   "source": [
    "paramGrid = ParamGridBuilder()\\\n",
    "    .addGrid(lr.regParam, [0.3,0.01]) \\\n",
    "    .addGrid(lr.elasticNetParam, [0.8])\\\n",
    "    .build()"
   ]
  },
  {
   "cell_type": "markdown",
   "id": "431859e4-d239-447c-bf75-6f8437a36d82",
   "metadata": {},
   "source": [
    "### Cross-Validation\n",
    "Wie eben erwähnt, benötigt der Cross-Validator einen Evaluator. Letzterer ist zu wählen, abhängig von dem jeweilligen Modell und Anwendungsfall. (Apache Spark 2020a) In diesem Fall wird ein BinaryClassificationEvaluator angewendet. Dieser eignet sich besonders für binäre Werte. (Apache Spark 2021a) Da Geschlecht, in diesem Fall, der FallStatus 0 oder 1 annehmen kann, bietet er sich hier besonders an."
   ]
  },
  {
   "cell_type": "code",
   "execution_count": 11,
   "id": "e1c13a22-85fc-4a9d-b4c3-e046f6095502",
   "metadata": {},
   "outputs": [],
   "source": [
    "# Definition des Evaluators\n",
    "evaluator = BinaryClassificationEvaluator(labelCol=\"FallStatusIndex\",rawPredictionCol=\"prediction\", metricName=\"areaUnderPR\")"
   ]
  },
  {
   "cell_type": "code",
   "execution_count": 12,
   "id": "7df713c9-41e8-4492-bcc5-77e3f5799d6f",
   "metadata": {},
   "outputs": [],
   "source": [
    "# Definition des Cross-Validators \n",
    "# num-Folds gibt an in wie viele Datensatz-Paare die Datensätze aufgeteilt werden.\n",
    "crossval = CrossValidator(estimator=pipeline,\n",
    "                          estimatorParamMaps=paramGrid,\n",
    "                          evaluator=evaluator,\n",
    "                          numFolds=2,\n",
    "                          parallelism=2)"
   ]
  },
  {
   "cell_type": "markdown",
   "id": "c1efc88e-ebaa-4ada-befe-86ed11887356",
   "metadata": {},
   "source": [
    "#### Durchführung"
   ]
  },
  {
   "cell_type": "code",
   "execution_count": 13,
   "id": "e278a6a5-2976-411c-83bf-81d1227e4d43",
   "metadata": {},
   "outputs": [],
   "source": [
    "# Anpassung des Modells und Auswahl der besten Parameter\n",
    "cvModel = crossval.fit(trainingVector)"
   ]
  },
  {
   "cell_type": "markdown",
   "id": "8bc1cdb4-de36-4db7-8e3b-9eb2aa5e91bb",
   "metadata": {},
   "source": [
    "### Testen des Modells"
   ]
  },
  {
   "cell_type": "code",
   "execution_count": 14,
   "id": "457e7487-3f6c-4ae4-9a68-10abcafd09d0",
   "metadata": {},
   "outputs": [
    {
     "name": "stdout",
     "output_type": "stream",
     "text": [
      "+--------------------+---------------+--------------------+--------------+------------+-----------------+----------+---------------+----------+----------+---------------+--------------------+-------------------+\n",
      "|          Bundesland|BundeslandIndex|           Landkreis|LandkreisIndex|Altersgruppe|AltersgruppeIndex|Geschlecht|GeschlechtIndex|FallStatus| Falldatum|FallStatusIndex|            features|         prediction|\n",
      "+--------------------+---------------+--------------------+--------------+------------+-----------------+----------+---------------+----------+----------+---------------+--------------------+-------------------+\n",
      "|   Baden-Württemberg|              8|  LK Schwäbisch Hall|          8127|        A80+|              3.0|         M|            1.0| GESTORBEN|2021-04-16|            1.0|[1.0,3.0,8127.0,8.0]| 0.7301230115004156|\n",
      "|              Bayern|              9|LK Dingolfing-Landau|          9279|        A80+|              3.0|         W|            0.0| GESTORBEN|2020-03-22|            1.0|[0.0,3.0,9279.0,9.0]| 0.6885810465376208|\n",
      "|              Bayern|              9|        LK Forchheim|          9474|        A80+|              3.0|         W|            0.0| GESTORBEN|2020-12-16|            1.0|[0.0,3.0,9474.0,9.0]| 0.6885810465376208|\n",
      "|              Bayern|              9|        LK Rosenheim|          9187|     A60-A79|              2.0|         W|            0.0| GESTORBEN|2020-04-09|            1.0|[0.0,2.0,9187.0,9.0]|0.48409980771351346|\n",
      "|              Bayern|              9|         SK Bayreuth|          9462|     A35-A59|              0.0|         M|            1.0| GESTORBEN|2021-02-02|            1.0|[1.0,0.0,9462.0,9.0]|0.11419570784990833|\n",
      "|              Bayern|              9|            SK Fürth|          9563|     A60-A79|              2.0|         M|            1.0| GESTORBEN|2020-12-10|            1.0|[1.0,2.0,9563.0,9.0]| 0.5231581854981229|\n",
      "|              Bayern|              9|         SK Nürnberg|          9564|        A80+|              3.0|         M|            1.0| GESTORBEN|2021-01-13|            1.0|[1.0,3.0,9564.0,9.0]| 0.7276394243222304|\n",
      "|              Bayern|              9|        SK Rosenheim|          9163|        A80+|              3.0|         W|            0.0| GESTORBEN|2020-03-26|            1.0|[0.0,3.0,9163.0,9.0]| 0.6885810465376208|\n",
      "|         Brandenburg|             12|           LK Barnim|         12060|        A80+|              3.0|         W|            0.0| GESTORBEN|2021-01-08|            1.0|[0.0,3.0,12060.0,...| 0.6811302850030654|\n",
      "|         Brandenburg|             12|LK Potsdam-Mittel...|         12069|     A60-A79|              2.0|         M|            1.0| GESTORBEN|2020-12-15|            1.0|[1.0,2.0,12069.0,...| 0.5157074239635675|\n",
      "|              Hessen|              6|LK Darmstadt-Dieburg|          6432|        A80+|              3.0|         W|            0.0| GESTORBEN|2021-02-15|            1.0|[0.0,3.0,6432.0,6.0]| 0.6960318080721764|\n",
      "|              Hessen|              6|           LK Gießen|          6531|        A80+|              3.0|         W|            0.0| GESTORBEN|2020-12-30|            1.0|[0.0,3.0,6531.0,6.0]| 0.6960318080721764|\n",
      "|              Hessen|              6|    LK Odenwaldkreis|          6437|        A80+|              3.0|         M|            1.0| GESTORBEN|2021-01-20|            1.0|[1.0,3.0,6437.0,6.0]| 0.7350901858567858|\n",
      "|Mecklenburg-Vorpo...|             13|LK Mecklenburgisc...|         13071|        A80+|              3.0|         W|            0.0| GESTORBEN|2021-05-09|            1.0|[0.0,3.0,13071.0,...| 0.6786466978248802|\n",
      "|       Niedersachsen|              3|           LK Goslar|          3153|        A80+|              3.0|         W|            0.0| GESTORBEN|2020-11-30|            1.0|[0.0,3.0,3153.0,3.0]| 0.7034825696067317|\n",
      "| Nordrhein-Westfalen|              5|        LK Heinsberg|          5370|        A80+|              3.0|         W|            0.0| GESTORBEN|2020-03-17|            1.0|[0.0,3.0,5370.0,5.0]| 0.6985153952503613|\n",
      "| Nordrhein-Westfalen|              5| LK Märkischer Kreis|          5962|     A60-A79|              2.0|         M|            1.0| GESTORBEN|2021-04-11|            1.0|[1.0,2.0,5962.0,5.0]| 0.5330925342108636|\n",
      "| Nordrhein-Westfalen|              5|        LK Warendorf|          5570|        A80+|              3.0|         W|            0.0| GESTORBEN|2021-01-25|            1.0|[0.0,3.0,5570.0,5.0]| 0.6985153952503613|\n",
      "|     Rheinland-Pfalz|              7|           SK Speyer|          7318|        A80+|              3.0|         W|            0.0| GESTORBEN|2020-12-14|            1.0|[0.0,3.0,7318.0,7.0]| 0.6935482208939912|\n",
      "|            Saarland|             10|    LK Merzig-Wadern|         10042|        A80+|              3.0|         W|            0.0| GESTORBEN|2020-11-16|            1.0|[0.0,3.0,10042.0,...| 0.6860974593594358|\n",
      "+--------------------+---------------+--------------------+--------------+------------+-----------------+----------+---------------+----------+----------+---------------+--------------------+-------------------+\n",
      "only showing top 20 rows\n",
      "\n"
     ]
    }
   ],
   "source": [
    "predictions = cvModel.transform(testVector)\n",
    "predictions.show()"
   ]
  },
  {
   "cell_type": "code",
   "execution_count": 15,
   "id": "2c4b7acd-3978-40af-9842-295bd6c55792",
   "metadata": {},
   "outputs": [
    {
     "name": "stdout",
     "output_type": "stream",
     "text": [
      "+---------------+-------------------+-----+\n",
      "|FallStatusIndex|         prediction|count|\n",
      "+---------------+-------------------+-----+\n",
      "|            1.0| 0.5281253598544933|    1|\n",
      "|            0.0| 0.5330925342108636|    5|\n",
      "|            1.0|0.48906698206988375|    1|\n",
      "|            0.0| 0.6885810465376208|    2|\n",
      "|            0.0| 0.6860974593594358|    2|\n",
      "|            1.0| 0.5082566624290121|    2|\n",
      "|            0.0|0.11667929502809347|    7|\n",
      "|            0.0| 0.0726537428871137|    2|\n",
      "|            0.0| 0.8880951110053579|    1|\n",
      "|            0.0| 0.2870693304239616|    4|\n",
      "|            1.0| 0.7450245345695263|    1|\n",
      "|            1.0| 0.5306089470326785|    3|\n",
      "|            1.0|0.46671469746621747|    1|\n",
      "|            0.0| 0.6960318080721764|    2|\n",
      "|            0.0|0.28458574324577646|    1|\n",
      "|            0.0|   0.67367952346851|    1|\n",
      "|            0.0| 0.9147355528990415|    1|\n",
      "|            1.0|0.11419570784990833|    1|\n",
      "|            0.0| 0.2647170458202953|    4|\n",
      "|            1.0| 0.7127379012531194|    1|\n",
      "+---------------+-------------------+-----+\n",
      "only showing top 20 rows\n",
      "\n"
     ]
    }
   ],
   "source": [
    "predictions.groupBy(\"FallStatusIndex\", \"prediction\").count().show()\n"
   ]
  },
  {
   "cell_type": "code",
   "execution_count": null,
   "id": "663360ad-d160-4c52-9a5f-f9ec547142e1",
   "metadata": {},
   "outputs": [],
   "source": []
  },
  {
   "cell_type": "markdown",
   "id": "b7acaa7a-23f6-4d6c-a4ba-46ccf15dbe34",
   "metadata": {},
   "source": [
    "## Modell - Evaluation"
   ]
  },
  {
   "cell_type": "markdown",
   "id": "b8ba7c7c-b146-4d1b-b21a-e02f5d5ef1bd",
   "metadata": {},
   "source": [
    "### Area Under Roc"
   ]
  },
  {
   "cell_type": "code",
   "execution_count": 16,
   "id": "ccd6d878-349d-439b-b985-db71d6f259d0",
   "metadata": {},
   "outputs": [
    {
     "name": "stdout",
     "output_type": "stream",
     "text": [
      "Test Error 0.27901247493113035\n"
     ]
    }
   ],
   "source": [
    "accuracy = evaluator.evaluate(predictions)\n",
    "print(\"Test Error\",(1.0 - accuracy))"
   ]
  },
  {
   "cell_type": "markdown",
   "id": "ec549f76-9a06-401b-93bf-50a5abce2b69",
   "metadata": {},
   "source": [
    "### BinaryClassificationMetrics"
   ]
  },
  {
   "cell_type": "markdown",
   "id": "5a47263c-7e44-4b7a-ba63-3c4ac48832e1",
   "metadata": {},
   "source": [
    "Bei dem untersuchten Label (FallStatus mit den Ausprägungen Verstorben und Genesen) handelt es sich um ein einen BinaryClasificator. Er kann die Werte 0 und 1 annehmen. Für die Modellevaluation sind daher die BinaryClassificationMetrics zu verwenden. (Apache Spark 2021i)"
   ]
  },
  {
   "cell_type": "code",
   "execution_count": 17,
   "id": "565cbe69-ea50-4012-825e-3b99278bf3c3",
   "metadata": {},
   "outputs": [],
   "source": [
    "predictionAndLabels = predictions.select(\"prediction\", \"FallStatusIndex\").rdd.map(lambda p: [p[0], float(p[1])]) # Map to RDD prediction|label"
   ]
  },
  {
   "cell_type": "code",
   "execution_count": 18,
   "id": "0e00720d-f53f-435f-a3d8-b884a65716d7",
   "metadata": {},
   "outputs": [
    {
     "name": "stdout",
     "output_type": "stream",
     "text": [
      "Area under PR = 0.7209875250688697\n",
      "Area under ROC = 0.8516217870257039\n"
     ]
    }
   ],
   "source": [
    "# Instanzieire das BinaryClassificationMetrics-Objekt\n",
    "metrics = BinaryClassificationMetrics(predictionAndLabels)\n",
    "\n",
    "# Fläche unter der Precision-recall Curve\n",
    "\n",
    "print(\"Area under PR = %s\" % metrics.areaUnderPR)\n",
    "\n",
    "# Fläche unter der ROC curve\n",
    "print(\"Area under ROC = %s\" % metrics.areaUnderROC)"
   ]
  },
  {
   "cell_type": "markdown",
   "id": "a938ac6c-b3a3-43dd-b460-8d338505a28e",
   "metadata": {},
   "source": [
    "### Multiclass classification Metrics\n",
    "In den meißten Fällen können auch Multiclass Classification Metrics bei Binary Classifaction Problemen angewandt werden."
   ]
  },
  {
   "cell_type": "code",
   "execution_count": 19,
   "id": "c12b25f0-b1ae-4322-b552-9df232f7d683",
   "metadata": {},
   "outputs": [],
   "source": [
    "# Instantiate metrics object\n",
    "metrics = MulticlassMetrics(predictionAndLabels)\n"
   ]
  },
  {
   "cell_type": "code",
   "execution_count": 20,
   "id": "0955a46c-ff81-4fe5-bbaa-b65e8658f736",
   "metadata": {},
   "outputs": [
    {
     "ename": "TypeError",
     "evalue": "'float' object is not callable",
     "output_type": "error",
     "traceback": [
      "\u001b[0;31m---------------------------------------------------------------------------\u001b[0m",
      "\u001b[0;31mTypeError\u001b[0m                                 Traceback (most recent call last)",
      "\u001b[0;32m<ipython-input-20-d4b9c313ca1f>\u001b[0m in \u001b[0;36m<module>\u001b[0;34m\u001b[0m\n\u001b[1;32m      3\u001b[0m \u001b[0mrecall\u001b[0m \u001b[0;34m=\u001b[0m \u001b[0mmetrics\u001b[0m\u001b[0;34m.\u001b[0m\u001b[0mrecall\u001b[0m\u001b[0;34m(\u001b[0m\u001b[0;36m1.0\u001b[0m\u001b[0;34m)\u001b[0m\u001b[0;34m\u001b[0m\u001b[0;34m\u001b[0m\u001b[0m\n\u001b[1;32m      4\u001b[0m \u001b[0mf1Score\u001b[0m \u001b[0;34m=\u001b[0m \u001b[0mmetrics\u001b[0m\u001b[0;34m.\u001b[0m\u001b[0mfMeasure\u001b[0m\u001b[0;34m(\u001b[0m\u001b[0;36m1.0\u001b[0m\u001b[0;34m)\u001b[0m\u001b[0;34m\u001b[0m\u001b[0;34m\u001b[0m\u001b[0m\n\u001b[0;32m----> 5\u001b[0;31m \u001b[0maccuary\u001b[0m \u001b[0;34m=\u001b[0m \u001b[0mmetrics\u001b[0m\u001b[0;34m.\u001b[0m\u001b[0maccuracy\u001b[0m\u001b[0;34m(\u001b[0m\u001b[0;36m1.0\u001b[0m\u001b[0;34m)\u001b[0m\u001b[0;34m\u001b[0m\u001b[0;34m\u001b[0m\u001b[0m\n\u001b[0m\u001b[1;32m      6\u001b[0m \u001b[0;34m\u001b[0m\u001b[0m\n\u001b[1;32m      7\u001b[0m \u001b[0mprint\u001b[0m\u001b[0;34m(\u001b[0m\u001b[0;34m\"Summary Stats\"\u001b[0m\u001b[0;34m)\u001b[0m\u001b[0;34m\u001b[0m\u001b[0;34m\u001b[0m\u001b[0m\n",
      "\u001b[0;31mTypeError\u001b[0m: 'float' object is not callable"
     ]
    }
   ],
   "source": [
    "# Overall statistics\n",
    "precision = metrics.precision(1.0)\n",
    "recall = metrics.recall(1.0)\n",
    "f1Score = metrics.fMeasure(1.0)\n",
    "\n",
    "\n",
    "print(\"Summary Stats\")\n",
    "print(\"Precision = %s\" % precision)\n",
    "print(\"Recall = %s\" % recall)\n",
    "print(\"F1 Score = %s\" % f1Score)\n",
    "\n",
    "\n",
    "\n",
    "labels = predictions.select(\"FallStatusIndex\").rdd.map(lambda lp: lp.FallStatusIndex).distinct().collect()\n",
    "for label in sorted(labels):\n",
    "    print(\"Class %s precision = %s\" % (label, metrics.precision(label)))\n",
    "    print(\"Class %s recall = %s\" % (label, metrics.recall(label)))\n",
    "    print(\"Class %s F1 Measure = %s\" % (label, metrics.fMeasure(label, beta=1.0)))\n",
    "\n",
    "# Weighted stats\n",
    "print(\"Weighted recall = %s\" % metrics.weightedRecall)\n",
    "print(\"Weighted precision = %s\" % metrics.weightedPrecision)\n",
    "print(\"Weighted F(1) Score = %s\" % metrics.weightedFMeasure())\n",
    "print(\"Weighted F(0.5) Score = %s\" % metrics.weightedFMeasure(beta=0.5))\n",
    "print(\"Weighted false positive rate = %s\" % metrics.weightedFalsePositiveRate)"
   ]
  },
  {
   "cell_type": "code",
   "execution_count": null,
   "id": "f80448db-d692-4daa-821a-116d0c63e838",
   "metadata": {},
   "outputs": [],
   "source": []
  }
 ],
 "metadata": {
  "kernelspec": {
   "display_name": "Python 3",
   "language": "python",
   "name": "python3"
  },
  "language_info": {
   "codemirror_mode": {
    "name": "ipython",
    "version": 3
   },
   "file_extension": ".py",
   "mimetype": "text/x-python",
   "name": "python",
   "nbconvert_exporter": "python",
   "pygments_lexer": "ipython3",
   "version": "3.8.8"
  },
  "toc-autonumbering": false,
  "toc-showtags": false
 },
 "nbformat": 4,
 "nbformat_minor": 5
}
