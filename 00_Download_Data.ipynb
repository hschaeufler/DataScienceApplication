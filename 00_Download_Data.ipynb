{
 "cells": [
  {
   "cell_type": "code",
   "execution_count": 2,
   "id": "88eaf67b-983b-46c4-bbf4-27e5fecfacb9",
   "metadata": {},
   "outputs": [],
   "source": [
    "import urllib.request\n",
    "from datetime import date\n",
    "\n",
    "#get current Date\n",
    "today = date.today()\n",
    "dateString = today.strftime(\"%Y%m%d\")"
   ]
  },
  {
   "cell_type": "markdown",
   "id": "4840c946-1ab6-4037-85c4-f727929c70cb",
   "metadata": {},
   "source": [
    "# Download der Datensätze"
   ]
  },
  {
   "cell_type": "markdown",
   "id": "21662e82-b9c6-4508-ac3b-cbf9513746ce",
   "metadata": {},
   "source": [
    "## Download des RKI-Datensatzes für Gesamtdeutschland"
   ]
  },
  {
   "cell_type": "code",
   "execution_count": 5,
   "id": "ac8a96e2-cd32-4638-8ef7-b84910119b81",
   "metadata": {},
   "outputs": [
    {
     "data": {
      "text/plain": [
       "('../data/RKI_COVID19_20210529.csv',\n",
       " <http.client.HTTPMessage at 0x7f7e44dbbeb0>)"
      ]
     },
     "execution_count": 5,
     "metadata": {},
     "output_type": "execute_result"
    }
   ],
   "source": [
    "fileName = \"RKI_COVID19_\" + dateString + \".csv\"\n",
    "filePath = \"../data/\"\n",
    "downloadLocation = filePath + fileName\n",
    "\n",
    "downloadURL='https://opendata.arcgis.com/api/v3/datasets/dd4580c810204019a7b8eb3e0b329dd6_0/downloads/data?format=csv&spatialRefId=4326'\n",
    "\n",
    "urllib.request.urlretrieve(downloadURL, downloadLocation)"
   ]
  },
  {
   "cell_type": "markdown",
   "id": "8b9c583a-ea63-4daa-9388-3e91abc07397",
   "metadata": {},
   "source": [
    "## Download des RKI-Datensatzes für Baden-Württemberg"
   ]
  },
  {
   "cell_type": "code",
   "execution_count": 6,
   "id": "9a59125a-c480-4cfc-ae99-e5e7ac9c9587",
   "metadata": {},
   "outputs": [
    {
     "data": {
      "text/plain": [
       "('../data/RKI_COVID19_20210529_BW.csv',\n",
       " <http.client.HTTPMessage at 0x7f7e44dbb9d0>)"
      ]
     },
     "execution_count": 6,
     "metadata": {},
     "output_type": "execute_result"
    }
   ],
   "source": [
    "state = \"BW\"\n",
    "fileName = \"RKI_COVID19_\" + dateString + \"_\" + state + \".csv\"\n",
    "filePath = \"../data/\"\n",
    "downloadLocation = filePath + fileName\n",
    "\n",
    "downloadURL='https://opendata.arcgis.com/api/v3/datasets/8a0b7d7c9fb442ffaa512221cf11366e_0/downloads/data?format=csv&spatialRefId=4326'\n",
    "urllib.request.urlretrieve(downloadURL, downloadLocation)"
   ]
  }
 ],
 "metadata": {
  "kernelspec": {
   "display_name": "Python 3",
   "language": "python",
   "name": "python3"
  },
  "language_info": {
   "codemirror_mode": {
    "name": "ipython",
    "version": 3
   },
   "file_extension": ".py",
   "mimetype": "text/x-python",
   "name": "python",
   "nbconvert_exporter": "python",
   "pygments_lexer": "ipython3",
   "version": "3.8.8"
  }
 },
 "nbformat": 4,
 "nbformat_minor": 5
}
