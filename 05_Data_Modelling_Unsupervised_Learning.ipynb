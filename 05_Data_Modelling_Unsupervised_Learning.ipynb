{
 "cells": [
  {
   "cell_type": "markdown",
   "id": "78da626b-7d05-4bc8-8204-27ba6c010209",
   "metadata": {},
   "source": [
    "# Data Modelling"
   ]
  },
  {
   "cell_type": "code",
   "execution_count": 116,
   "id": "ca4d0ac4-226e-4f5b-a6fa-0bd1b85bd29c",
   "metadata": {},
   "outputs": [],
   "source": [
    "from pyspark.sql.session import SparkSession\n",
    "from pyspark.ml.feature import VectorAssembler,VectorIndexer\n",
    "from pyspark.ml.evaluation import ClusteringEvaluator\n",
    "from pyspark.ml.clustering import KMeans\n",
    "from helpers.helper_functions import translate_to_file_string\n",
    "from pyspark.ml.tuning import CrossValidator, ParamGridBuilder\n",
    "from pyspark.ml.evaluation import RegressionEvaluator\n",
    "from pyspark.ml.feature import StringIndexer\n",
    "from pyspark.mllib.evaluation import BinaryClassificationMetrics\n",
    "from pyspark.ml import Pipeline\n",
    "from pyspark.mllib.evaluation import MulticlassMetrics\n",
    "\n",
    "inputFile = translate_to_file_string(\"./data/Data_Preparation_Result.csv\")\n",
    "\n",
    "def prettyPrint(dm, collArray) :\n",
    "    rows = dm.toArray().tolist()\n",
    "    dfDM = spark.createDataFrame(rows,collArray)\n",
    "    newDf = dfDM.toPandas()\n",
    "    from IPython.display import display, HTML\n",
    "    return HTML(newDf.to_html(index=False))"
   ]
  },
  {
   "cell_type": "markdown",
   "id": "4978b0a3-e029-4a47-addf-3d03cc69e0fd",
   "metadata": {},
   "source": [
    "## Create Spark Session"
   ]
  },
  {
   "cell_type": "code",
   "execution_count": 117,
   "id": "67da5ee7-f795-4e20-8ea6-17affdfde647",
   "metadata": {},
   "outputs": [
    {
     "name": "stdout",
     "output_type": "stream",
     "text": [
      "root\n",
      " |-- Bundesland: string (nullable = true)\n",
      " |-- BundeslandIndex: integer (nullable = true)\n",
      " |-- Landkreis: string (nullable = true)\n",
      " |-- LandkreisIndex: integer (nullable = true)\n",
      " |-- Altersgruppe: string (nullable = true)\n",
      " |-- AltersgruppeIndex: double (nullable = true)\n",
      " |-- Geschlecht: string (nullable = true)\n",
      " |-- GeschlechtIndex: double (nullable = true)\n",
      " |-- FallStatus: string (nullable = true)\n",
      " |-- FallStatusIndex: double (nullable = true)\n",
      " |-- Falldatum: string (nullable = true)\n",
      "\n",
      "None\n"
     ]
    }
   ],
   "source": [
    "#create a SparkSession\n",
    "spark = (SparkSession\n",
    "       .builder\n",
    "       .appName(\"DataModelling\")\n",
    "       .getOrCreate())\n",
    "# create a DataFrame using an ifered Schema \n",
    "df = spark.read.option(\"header\", \"true\") \\\n",
    "       .option(\"inferSchema\", \"true\") \\\n",
    "       .option(\"delimiter\", \";\") \\\n",
    "       .csv(inputFile)   \n",
    "print(df.printSchema())"
   ]
  },
  {
   "cell_type": "markdown",
   "id": "8e88e9f4-6c6e-4171-b03b-c23335b53207",
   "metadata": {},
   "source": [
    "## Vorbereitung der Daten"
   ]
  },
  {
   "cell_type": "markdown",
   "id": "9eaafbf7-bf81-46f4-b14f-8bbdf3bb599b",
   "metadata": {},
   "source": [
    "### Filtern der Datensätze\n",
    "Für das Training dieses Modells ist es sinnvoll nur die Fälle zu betrachten, bei den der Ausgang der Corona-Erkrankung bereits bekannt ist (\"GENESEN\" oder \"GESTORBEN\"). Daher werden die Fälle mit noch erkrankten Personen herausgefiltert. Ebenfalls muss der FallStatusIndex neu vergeben werden, damit dieses Feature nur noch die Werte 0 oder 1 enthält."
   ]
  },
  {
   "cell_type": "code",
   "execution_count": 118,
   "id": "89cc8a37-30ad-4458-8df2-ec4da36d7206",
   "metadata": {},
   "outputs": [],
   "source": [
    "dfNeu = df.filter(df.FallStatus != \"NICHTEINGETRETEN\").drop(\"FallStatusIndex\")"
   ]
  },
  {
   "cell_type": "markdown",
   "id": "92173359-0c5a-432a-9442-7f7fd9f68d3e",
   "metadata": {},
   "source": [
    "### FallStatusIndex"
   ]
  },
  {
   "cell_type": "code",
   "execution_count": 119,
   "id": "f8c51fc4-9b1f-494e-807a-891dcfa54262",
   "metadata": {},
   "outputs": [],
   "source": [
    "indexer = StringIndexer(inputCol=\"FallStatus\", outputCol=\"FallStatusIndex\")\n",
    "dfReindexed = indexer.fit(dfNeu).transform(dfNeu)"
   ]
  },
  {
   "cell_type": "markdown",
   "id": "57e99c5d-fcdd-4f62-8807-b810e4656ccc",
   "metadata": {},
   "source": [
    "### Ziehen eines Samples\n",
    "Da der Datensatz sehr groß ist,kann es evt. notwendig sein, nur mit einem kleineren Umfang zu trainieren. Mit Fraction kann an dieser Stelle der Umfang der Stichprobe angepasst werden."
   ]
  },
  {
   "cell_type": "code",
   "execution_count": 120,
   "id": "05275d56-19b4-4d48-861a-400376068db9",
   "metadata": {},
   "outputs": [],
   "source": [
    "dfsample = dfReindexed.sample(withReplacement=False, fraction=1.0, seed=12334556)"
   ]
  },
  {
   "cell_type": "markdown",
   "id": "05ce0a92-b723-4e40-82d9-98d92966e854",
   "metadata": {},
   "source": [
    "### Undersampling\n",
    "Ähnlich dem Fraud-Detection-Beispiel von Tara Boyle (2019) ist die Klasse der an Corona-Verstorbenen im vorliegenden Datensatz unterrepresentiert, weshalb man an dieser Stelle von einer Data Imbalance spricht. Dies sieht man wenn man die Anzahl der Todesfälle mit den Anzahl der Genesenen vergleicht."
   ]
  },
  {
   "cell_type": "code",
   "execution_count": 121,
   "id": "38aea32c-b5d9-45b1-98c8-312f0c3bd786",
   "metadata": {},
   "outputs": [
    {
     "name": "stdout",
     "output_type": "stream",
     "text": [
      "+----------+-------+\n",
      "|FallStatus|  count|\n",
      "+----------+-------+\n",
      "|   GENESEN|3471830|\n",
      "| GESTORBEN|  88350|\n",
      "+----------+-------+\n",
      "\n"
     ]
    }
   ],
   "source": [
    "# Vergleich der Fallzahlen\n",
    "dfsample.groupBy(\"FallStatus\").count().show()"
   ]
  },
  {
   "cell_type": "markdown",
   "id": "a9c742d2-ae43-405b-b7ca-152152aa8c25",
   "metadata": {},
   "source": [
    "Die meisten Machine Learning Algorithmen arbeiten am Besten wenn die Nummer der Samples in allen Klassen ungefähr die selbe größe haben. Dies konnte auch im Zuge dieser Arbeit bei den unterschiedlichen Regressions-Modellen festgestellt werden. Da die einzelnen Modelle versuchen den Fehler zu reduzieren, haben alle Modelle am Ende für einen Datensatz nur die Klasse Genesen geliefert, da hier die Wahrscheinlichkeit am größten war korrekt zu liegen. \n",
    "Um diese Problem zu lösen gibt es zwei Möglichkeiten: Under- und Oversampling. Beides fällt unter den Begriff Resampling\n",
    "Beim Undersampling werden aus der Klasse mit den meisten Instanzen, Datensätze gelöscht, wohingegen beim Oversampling, der Klasse mit den wenigsten Isntanzen, neue Werte hinzugefügt werden. (Will Badr 2019; Tara Boyle 2019)\n",
    "Da in diesem Fall ausreichend Datensätze vorhanden sind, bietet sich Ersteres an."
   ]
  },
  {
   "cell_type": "code",
   "execution_count": 122,
   "id": "6ac18099-9343-4a76-a5a1-3136c9a0f85c",
   "metadata": {},
   "outputs": [
    {
     "name": "stdout",
     "output_type": "stream",
     "text": [
      "Anzahl Gestorben : 88350\n"
     ]
    }
   ],
   "source": [
    "# Ermittlung der Anzahl dr Verstorbenen\n",
    "dfGestorben = dfsample.filter(dfsample.FallStatus == \"GESTORBEN\")\n",
    "anzahlGestorben = dfGestorben.count()\n",
    "print(\"Anzahl Gestorben : %s\" % anzahlGestorben)"
   ]
  },
  {
   "cell_type": "code",
   "execution_count": 123,
   "id": "851c2b85-cbbf-45e3-a315-c4d26cf79085",
   "metadata": {},
   "outputs": [
    {
     "name": "stdout",
     "output_type": "stream",
     "text": [
      "Anzahl Genesen : 3471830\n",
      "Verhältnis : 0.02544767456931935\n"
     ]
    }
   ],
   "source": [
    "# Ermittlung des Verhätlnisses von Verstorben und Gensen\n",
    "dfGenesen = dfsample.filter(dfsample.FallStatus == \"GENESEN\")\n",
    "anzahlGenesen = dfGenesen.count()\n",
    "print(\"Anzahl Genesen : %s\" % anzahlGenesen)\n",
    "\n",
    "ratio = anzahlGestorben / anzahlGenesen\n",
    "print(\"Verhältnis : %s\" % ratio)\n",
    "\n"
   ]
  },
  {
   "cell_type": "code",
   "execution_count": 124,
   "id": "c753f487-04c8-41a4-8862-97169d570cb1",
   "metadata": {},
   "outputs": [],
   "source": [
    "# Ziehen eines Samples mit der näherungsweise selben Anzahl wie Verstorbene\n",
    "dfGenesenSample = dfGenesen.sample(fraction=ratio, seed=12345)"
   ]
  },
  {
   "cell_type": "code",
   "execution_count": 125,
   "id": "5e1ef4b7-7acb-430e-95aa-74927e6ef63e",
   "metadata": {},
   "outputs": [
    {
     "name": "stdout",
     "output_type": "stream",
     "text": [
      "+----------+-----+\n",
      "|FallStatus|count|\n",
      "+----------+-----+\n",
      "|   GENESEN|88520|\n",
      "| GESTORBEN|88350|\n",
      "+----------+-----+\n",
      "\n"
     ]
    }
   ],
   "source": [
    "dfGesamtSample = dfGestorben.union(dfGenesenSample)\n",
    "# Kontrolle\n",
    "dfGesamtSample.groupBy(\"FallStatus\").count().show()"
   ]
  },
  {
   "cell_type": "markdown",
   "id": "475de71e-da5c-49df-bc2d-6a1a30a8179b",
   "metadata": {
    "tags": []
   },
   "source": [
    "### Splitten in Trainings und Testdaten"
   ]
  },
  {
   "cell_type": "code",
   "execution_count": 126,
   "id": "7a43cb6d-a5e3-454d-a9bb-8a0f52886d0b",
   "metadata": {},
   "outputs": [],
   "source": [
    "splits = dfGesamtSample.randomSplit([0.8, 0.2], 345678)\n",
    "trainingData = splits[0]\n",
    "testData = splits[1]"
   ]
  },
  {
   "cell_type": "markdown",
   "id": "72b11078-4d6f-4903-86b7-803f96276072",
   "metadata": {},
   "source": [
    "### Aufbau des Feature-Vectors"
   ]
  },
  {
   "cell_type": "code",
   "execution_count": 127,
   "id": "7a9ed842-1619-4fc2-84ae-167971292725",
   "metadata": {},
   "outputs": [],
   "source": [
    "assembler =  VectorAssembler(outputCol=\"features\", inputCols=[\"GeschlechtIndex\",\"FallStatusIndex\",\"AltersgruppeIndex\", \"LandkreisIndex\",\"BundeslandIndex\"])"
   ]
  },
  {
   "cell_type": "markdown",
   "id": "3c4ea59f-d5d2-4bbe-8b79-69b2e00265be",
   "metadata": {},
   "source": [
    "### Aufbau eiens VectorIndexer\n",
    "Ein VectorIndexer dient zur kategorisierung von Features in einem Vector-Datensatz."
   ]
  },
  {
   "cell_type": "code",
   "execution_count": 128,
   "id": "7ba8bd3c-fde9-479f-8a1b-076b802c0471",
   "metadata": {},
   "outputs": [],
   "source": [
    "featureIndexer = VectorIndexer(inputCol=\"features\",outputCol=\"indexedFeatures\", maxCategories=10) \n",
    "# TODO Max Kategories testen"
   ]
  },
  {
   "cell_type": "markdown",
   "id": "a136e3f2-1007-4f62-9f35-d52869cd842c",
   "metadata": {},
   "source": [
    "## Modellierung\n",
    "### K-Means\n",
    "K-Means ist eines der meist verwendent Clustering-Algortimen. (Apache Spark 2021)"
   ]
  },
  {
   "cell_type": "code",
   "execution_count": 129,
   "id": "5006ea64-b3dc-4658-9b12-ab1b2e16ab93",
   "metadata": {},
   "outputs": [],
   "source": [
    "kmeans = KMeans(featuresCol=\"indexedFeatures\", predictionCol=\"prediction\", seed=122334455) #predictionCol=\"prediction\","
   ]
  },
  {
   "cell_type": "markdown",
   "id": "f1d5034e-f0cc-4e55-ba25-1482b964d471",
   "metadata": {},
   "source": [
    "### Pipeline"
   ]
  },
  {
   "cell_type": "code",
   "execution_count": 130,
   "id": "030efbf4-d50a-4fc9-8448-61314a82c00a",
   "metadata": {},
   "outputs": [],
   "source": [
    "pipeline = Pipeline(stages=[assembler,featureIndexer, kmeans])"
   ]
  },
  {
   "cell_type": "markdown",
   "id": "a3eac72c-a03c-458d-a92f-c2d55ebba0c1",
   "metadata": {},
   "source": [
    "### Evaluator\n",
    "Das Clustering wird mit einem spezielen ClusteringEvaluator evaluiert."
   ]
  },
  {
   "cell_type": "code",
   "execution_count": 131,
   "id": "55502289-015a-481b-92f1-8a7aefbad4a2",
   "metadata": {},
   "outputs": [],
   "source": [
    "# Definition des Evaluators\n",
    "evaluator = ClusteringEvaluator()"
   ]
  },
  {
   "cell_type": "markdown",
   "id": "fa9b0dab-06d4-4d34-851c-558dcac729e2",
   "metadata": {},
   "source": [
    "### Parametertuning\n",
    "Eine wichtige Aufgabe beim Machine Learning ist die Auswahl des geeigneten Modells bzw. die passenden Paramter für ein Modell herauszufinden. Letzteres wird auch Parametertuning genannt. Die in Pyspark enthaltene MLLib bietet speziell hierfür ein entsprechende Tooling. Und zwar kann ein CrossValidator bzw. ein TrainValidationSplit verwendet werden. Voraussetzung sind ein Estimator (ein Modell oder eine Pipeline), ein Paramter-Grid und eine Evaluator. Dies ist auch im Zusammenhang mit dem Thema Cross-Validation zu sehen. (Apache Spark 2020a)"
   ]
  },
  {
   "cell_type": "code",
   "execution_count": 132,
   "id": "2a4a1571-498e-4d42-8f08-05500cacf6e8",
   "metadata": {},
   "outputs": [],
   "source": [
    "paramGrid = ParamGridBuilder()\\\n",
    "    .addGrid(kmeans.k, [3,4,6]) \\\n",
    "    .addGrid(kmeans.maxIter, [10])\\\n",
    "    .build()"
   ]
  },
  {
   "cell_type": "markdown",
   "id": "431859e4-d239-447c-bf75-6f8437a36d82",
   "metadata": {},
   "source": [
    "### Cross-Validation"
   ]
  },
  {
   "cell_type": "code",
   "execution_count": 133,
   "id": "7df713c9-41e8-4492-bcc5-77e3f5799d6f",
   "metadata": {},
   "outputs": [],
   "source": [
    "# Definition des Cross-Validators \n",
    "# num-Folds gibt an in wie viele Datensatz-Paare die Datensätze aufgeteilt werden.\n",
    "crossval = CrossValidator(estimator=pipeline,\n",
    "                          estimatorParamMaps=paramGrid,\n",
    "                          evaluator=evaluator,\n",
    "                          numFolds=2,\n",
    "                          parallelism=2)"
   ]
  },
  {
   "cell_type": "markdown",
   "id": "c1efc88e-ebaa-4ada-befe-86ed11887356",
   "metadata": {},
   "source": [
    "#### Training"
   ]
  },
  {
   "cell_type": "code",
   "execution_count": 134,
   "id": "e278a6a5-2976-411c-83bf-81d1227e4d43",
   "metadata": {},
   "outputs": [],
   "source": [
    "# Anpassung des Modells und Auswahl der besten Parameter\n",
    "cvModel = crossval.fit(trainingData)"
   ]
  },
  {
   "cell_type": "markdown",
   "id": "0c1fb777-be43-4c55-9a84-03717cb7ee3b",
   "metadata": {},
   "source": [
    "### Ermitteln der Paramter"
   ]
  },
  {
   "cell_type": "code",
   "execution_count": 135,
   "id": "64bddf77-38ab-488d-a5bb-5d89fd514cb1",
   "metadata": {},
   "outputs": [
    {
     "name": "stdout",
     "output_type": "stream",
     "text": [
      "distanceMeasure: the distance measure. Supported options: 'euclidean' and 'cosine'. (default: euclidean)\n",
      "featuresCol: features column name. (default: features, current: indexedFeatures)\n",
      "initMode: The initialization algorithm. This can be either \"random\" to choose random points as initial cluster centers, or \"k-means||\" to use a parallel variant of k-means++ (default: k-means||)\n",
      "initSteps: The number of steps for k-means|| initialization mode. Must be > 0. (default: 2)\n",
      "k: The number of clusters to create. Must be > 1. (default: 2, current: 4)\n",
      "maxIter: max number of iterations (>= 0). (default: 20, current: 10)\n",
      "predictionCol: prediction column name. (default: prediction, current: prediction)\n",
      "seed: random seed. (default: -81890329110200490, current: 122334455)\n",
      "tol: the convergence tolerance for iterative algorithms (>= 0). (default: 0.0001)\n",
      "weightCol: weight column name. If this is not set or empty, we treat all instance weights as 1.0. (undefined)\n",
      "Cluster Centers: \n",
      "[4.97482656e-01 5.81090188e-01 2.02731417e+00 1.49107083e+04\n",
      " 1.45687215e+01]\n",
      "[5.06732740e-01 4.66102794e-01 1.82227642e+00 4.30144703e+03\n",
      " 4.00996290e+00]\n",
      "[5.02451641e-01 4.96901773e-01 1.88541947e+00 1.00675486e+04\n",
      " 9.78544103e+00]\n",
      "[5.07824630e-01 4.79187717e-01 1.85541070e+00 7.27558676e+03\n",
      " 6.86731400e+00]\n"
     ]
    }
   ],
   "source": [
    "kmModel = cvModel.bestModel.stages[2]\n",
    "print(kmModel.explainParams())\n",
    "centers = kmModel.clusterCenters()\n",
    "print(\"Cluster Centers: \")\n",
    "for center in centers:\n",
    "   print(center)"
   ]
  },
  {
   "cell_type": "markdown",
   "id": "8bc1cdb4-de36-4db7-8e3b-9eb2aa5e91bb",
   "metadata": {},
   "source": [
    "### Testen des Modells"
   ]
  },
  {
   "cell_type": "code",
   "execution_count": 136,
   "id": "457e7487-3f6c-4ae4-9a68-10abcafd09d0",
   "metadata": {},
   "outputs": [
    {
     "name": "stdout",
     "output_type": "stream",
     "text": [
      "+-----------------+---------------+----------------+--------------+------------+-----------------+----------+---------------+----------+----------+---------------+--------------------+--------------------+----------+\n",
      "|       Bundesland|BundeslandIndex|       Landkreis|LandkreisIndex|Altersgruppe|AltersgruppeIndex|Geschlecht|GeschlechtIndex|FallStatus| Falldatum|FallStatusIndex|            features|     indexedFeatures|prediction|\n",
      "+-----------------+---------------+----------------+--------------+------------+-----------------+----------+---------------+----------+----------+---------------+--------------------+--------------------+----------+\n",
      "|Baden-Württemberg|              8|     LK Biberach|          8426|     A60-A79|              2.0|         M|            1.0| GESTORBEN|2020-04-14|            1.0|[1.0,1.0,2.0,8426...|[1.0,1.0,2.0,8426...|         3|\n",
      "|Baden-Württemberg|              8|     LK Biberach|          8426|     A60-A79|              2.0|         M|            1.0| GESTORBEN|2020-12-08|            1.0|[1.0,1.0,2.0,8426...|[1.0,1.0,2.0,8426...|         3|\n",
      "|Baden-Württemberg|              8|     LK Biberach|          8426|     A60-A79|              2.0|         M|            1.0| GESTORBEN|2021-01-18|            1.0|[1.0,1.0,2.0,8426...|[1.0,1.0,2.0,8426...|         3|\n",
      "|Baden-Württemberg|              8|     LK Biberach|          8426|     A60-A79|              2.0|         M|            1.0| GESTORBEN|2021-03-29|            1.0|[1.0,1.0,2.0,8426...|[1.0,1.0,2.0,8426...|         3|\n",
      "|Baden-Württemberg|              8|     LK Biberach|          8426|        A80+|              3.0|         M|            1.0| GESTORBEN|2020-03-13|            1.0|[1.0,1.0,3.0,8426...|[1.0,1.0,3.0,8426...|         3|\n",
      "|Baden-Württemberg|              8|     LK Biberach|          8426|        A80+|              3.0|         M|            1.0| GESTORBEN|2020-03-21|            1.0|[1.0,1.0,3.0,8426...|[1.0,1.0,3.0,8426...|         3|\n",
      "|Baden-Württemberg|              8|     LK Biberach|          8426|        A80+|              3.0|         M|            1.0| GESTORBEN|2020-04-15|            1.0|[1.0,1.0,3.0,8426...|[1.0,1.0,3.0,8426...|         3|\n",
      "|Baden-Württemberg|              8|     LK Biberach|          8426|        A80+|              3.0|         M|            1.0| GESTORBEN|2020-04-22|            1.0|[1.0,1.0,3.0,8426...|[1.0,1.0,3.0,8426...|         3|\n",
      "|Baden-Württemberg|              8|     LK Biberach|          8426|        A80+|              3.0|         M|            1.0| GESTORBEN|2020-08-10|            1.0|[1.0,1.0,3.0,8426...|[1.0,1.0,3.0,8426...|         3|\n",
      "|Baden-Württemberg|              8|     LK Biberach|          8426|        A80+|              3.0|         M|            1.0| GESTORBEN|2020-10-29|            1.0|[1.0,1.0,3.0,8426...|[1.0,1.0,3.0,8426...|         3|\n",
      "|Baden-Württemberg|              8|     LK Biberach|          8426|        A80+|              3.0|         M|            1.0| GESTORBEN|2020-12-06|            1.0|[1.0,1.0,3.0,8426...|[1.0,1.0,3.0,8426...|         3|\n",
      "|Baden-Württemberg|              8|     LK Biberach|          8426|        A80+|              3.0|         M|            1.0| GESTORBEN|2020-12-15|            1.0|[1.0,1.0,3.0,8426...|[1.0,1.0,3.0,8426...|         3|\n",
      "|Baden-Württemberg|              8|     LK Biberach|          8426|        A80+|              3.0|         M|            1.0| GESTORBEN|2020-12-19|            1.0|[1.0,1.0,3.0,8426...|[1.0,1.0,3.0,8426...|         3|\n",
      "|Baden-Württemberg|              8|     LK Biberach|          8426|        A80+|              3.0|         M|            1.0| GESTORBEN|2020-12-23|            1.0|[1.0,1.0,3.0,8426...|[1.0,1.0,3.0,8426...|         3|\n",
      "|Baden-Württemberg|              8|     LK Biberach|          8426|        A80+|              3.0|         M|            1.0| GESTORBEN|2020-12-27|            1.0|[1.0,1.0,3.0,8426...|[1.0,1.0,3.0,8426...|         3|\n",
      "|Baden-Württemberg|              8|     LK Biberach|          8426|        A80+|              3.0|         M|            1.0| GESTORBEN|2021-01-15|            1.0|[1.0,1.0,3.0,8426...|[1.0,1.0,3.0,8426...|         3|\n",
      "|Baden-Württemberg|              8|     LK Biberach|          8426|        A80+|              3.0|         M|            1.0| GESTORBEN|2021-02-01|            1.0|[1.0,1.0,3.0,8426...|[1.0,1.0,3.0,8426...|         3|\n",
      "|Baden-Württemberg|              8|     LK Biberach|          8426|        A80+|              3.0|         M|            1.0| GESTORBEN|2021-02-13|            1.0|[1.0,1.0,3.0,8426...|[1.0,1.0,3.0,8426...|         3|\n",
      "|Baden-Württemberg|              8|LK Bodenseekreis|          8435|     A60-A79|              2.0|         W|            0.0| GESTORBEN|2020-12-15|            1.0|[0.0,1.0,2.0,8435...|[0.0,1.0,2.0,8435...|         3|\n",
      "|Baden-Württemberg|              8|LK Bodenseekreis|          8435|     A60-A79|              2.0|         W|            0.0| GESTORBEN|2020-12-22|            1.0|[0.0,1.0,2.0,8435...|[0.0,1.0,2.0,8435...|         3|\n",
      "+-----------------+---------------+----------------+--------------+------------+-----------------+----------+---------------+----------+----------+---------------+--------------------+--------------------+----------+\n",
      "only showing top 20 rows\n",
      "\n"
     ]
    }
   ],
   "source": [
    "predictions = cvModel.transform(testData)\n",
    "predictions.show()"
   ]
  },
  {
   "cell_type": "code",
   "execution_count": 137,
   "id": "2c4b7acd-3978-40af-9842-295bd6c55792",
   "metadata": {},
   "outputs": [
    {
     "name": "stdout",
     "output_type": "stream",
     "text": [
      "Silhouette with squared euclidean distance =  0.6737277242091063\n"
     ]
    }
   ],
   "source": [
    "# Fläche unter der Soluette\n",
    "silhouette = evaluator.evaluate(predictions)\n",
    "print(\"Silhouette with squared euclidean distance = \" , silhouette)"
   ]
  },
  {
   "cell_type": "code",
   "execution_count": 141,
   "id": "ff952ab9-728b-467a-b8d5-d6de60f5c848",
   "metadata": {},
   "outputs": [
    {
     "name": "stdout",
     "output_type": "stream",
     "text": [
      "+----------+----------+------------+----------+-----+\n",
      "|prediction|FallStatus|Altersgruppe|Geschlecht|count|\n",
      "+----------+----------+------------+----------+-----+\n",
      "|         0|   GENESEN|     A00-A04|         W|   20|\n",
      "|         0| GESTORBEN|        A80+|         W| 1335|\n",
      "|         0|   GENESEN|     A15-A34|         M|  256|\n",
      "|         0|   GENESEN|     A35-A59|         W|  573|\n",
      "|         0|   GENESEN|        A80+|         M|   67|\n",
      "|         0|   GENESEN|     A05-A14|         W|   67|\n",
      "|         0|   GENESEN|        A80+|         W|  166|\n",
      "|         0|   GENESEN|     A60-A79|         W|  262|\n",
      "|         0| GESTORBEN|        A80+|         M| 1132|\n",
      "|         0| GESTORBEN|     A15-A34|         M|    5|\n",
      "|         0|   GENESEN|     A00-A04|         M|   31|\n",
      "|         0|   GENESEN|     A15-A34|         W|  310|\n",
      "|         0|   GENESEN|     A35-A59|         M|  491|\n",
      "|         0| GESTORBEN|     A60-A79|         M|  669|\n",
      "|         0|   GENESEN|     A60-A79|         M|  248|\n",
      "|         0| GESTORBEN|     A15-A34|         W|    5|\n",
      "|         0| GESTORBEN|     A35-A59|         W|   36|\n",
      "|         0| GESTORBEN|     A60-A79|         W|  367|\n",
      "|         0| GESTORBEN|     A35-A59|         M|   79|\n",
      "|         0|   GENESEN|     A05-A14|         M|   68|\n",
      "+----------+----------+------------+----------+-----+\n",
      "only showing top 20 rows\n",
      "\n"
     ]
    }
   ],
   "source": [
    "predictions.groupBy( \"prediction\",\"FallStatus\", \"Altersgruppe\", \"Geschlecht\").count().orderBy(\"prediction\").show()"
   ]
  }
 ],
 "metadata": {
  "kernelspec": {
   "display_name": "Python 3",
   "language": "python",
   "name": "python3"
  },
  "language_info": {
   "codemirror_mode": {
    "name": "ipython",
    "version": 3
   },
   "file_extension": ".py",
   "mimetype": "text/x-python",
   "name": "python",
   "nbconvert_exporter": "python",
   "pygments_lexer": "ipython3",
   "version": "3.8.8"
  },
  "toc-autonumbering": false,
  "toc-showtags": false
 },
 "nbformat": 4,
 "nbformat_minor": 5
}
