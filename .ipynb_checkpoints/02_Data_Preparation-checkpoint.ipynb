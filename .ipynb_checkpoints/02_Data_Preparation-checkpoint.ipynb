{
 "cells": [
  {
   "cell_type": "code",
   "execution_count": 148,
   "id": "b0793450-0911-4fe9-9a75-5f8f4a64733a",
   "metadata": {},
   "outputs": [],
   "source": [
    "from pyspark.sql import DataFrameReader\n",
    "from pyspark.sql import SparkSession\n",
    "from pyspark.ml.feature import IndexToString, Normalizer, StringIndexer, VectorAssembler, VectorIndexer\n",
    "from pyspark.ml.classification import DecisionTreeClassifier\n",
    "from helpers.helper_functions import translate_to_file_string\n",
    "from pyspark.sql.functions import col,lit,to_date\n",
    "from pyspark.sql.functions import expr,when\n",
    "from pyspark.ml.feature import Imputer\n",
    "from pyspark.ml.feature import StringIndexer\n",
    "from sklearn.impute import KNNImputer\n",
    "from pyspark.sql.functions import rand\n",
    "import random\n",
    "\n",
    "# for pretty printing\n",
    "def printDf(sprkDF): \n",
    "    newdf = sprkDF.toPandas()\n",
    "    from IPython.display import display, HTML\n",
    "    return HTML(newdf.to_html())\n",
    "\n",
    "inputFile = translate_to_file_string(\"./data/RKI_COVID19_20210529.csv\")"
   ]
  },
  {
   "cell_type": "markdown",
   "id": "4978b0a3-e029-4a47-addf-3d03cc69e0fd",
   "metadata": {},
   "source": [
    "### Create Spark Session"
   ]
  },
  {
   "cell_type": "code",
   "execution_count": 149,
   "id": "67da5ee7-f795-4e20-8ea6-17affdfde647",
   "metadata": {},
   "outputs": [
    {
     "name": "stdout",
     "output_type": "stream",
     "text": [
      "root\n",
      " |-- ObjectId: integer (nullable = true)\n",
      " |-- IdBundesland: integer (nullable = true)\n",
      " |-- Bundesland: string (nullable = true)\n",
      " |-- Landkreis: string (nullable = true)\n",
      " |-- Altersgruppe: string (nullable = true)\n",
      " |-- Geschlecht: string (nullable = true)\n",
      " |-- AnzahlFall: integer (nullable = true)\n",
      " |-- AnzahlTodesfall: integer (nullable = true)\n",
      " |-- Meldedatum: string (nullable = true)\n",
      " |-- IdLandkreis: integer (nullable = true)\n",
      " |-- Datenstand: string (nullable = true)\n",
      " |-- NeuerFall: integer (nullable = true)\n",
      " |-- NeuerTodesfall: integer (nullable = true)\n",
      " |-- Refdatum: string (nullable = true)\n",
      " |-- NeuGenesen: integer (nullable = true)\n",
      " |-- AnzahlGenesen: integer (nullable = true)\n",
      " |-- IstErkrankungsbeginn: integer (nullable = true)\n",
      " |-- Altersgruppe2: string (nullable = true)\n",
      "\n",
      "None\n"
     ]
    }
   ],
   "source": [
    "#create a SparkSession\n",
    "spark = (SparkSession\n",
    "       .builder\n",
    "       .appName(\"RKICOVID19PREPARATION\")\n",
    "       .getOrCreate())\n",
    "# create a DataFrame using an ifered Schema \n",
    "df = spark.read.option(\"header\", \"true\") \\\n",
    "       .option(\"inferSchema\", \"true\") \\\n",
    "       .option(\"delimiter\", \",\") \\\n",
    "       .csv(inputFile)   \n",
    "print(df.printSchema())"
   ]
  },
  {
   "cell_type": "code",
   "execution_count": 150,
   "id": "73a177f0-5433-4de0-9c63-fda97aada64c",
   "metadata": {},
   "outputs": [
    {
     "data": {
      "text/plain": [
       "2003106"
      ]
     },
     "execution_count": 150,
     "metadata": {},
     "output_type": "execute_result"
    }
   ],
   "source": [
    "df.count()"
   ]
  },
  {
   "cell_type": "markdown",
   "id": "04312840-72e3-4512-a766-8a2065271f6c",
   "metadata": {},
   "source": [
    "# Data Preperation"
   ]
  },
  {
   "cell_type": "markdown",
   "id": "da195ba4-154f-456e-ad66-4029141babb0",
   "metadata": {},
   "source": [
    "## Datenreinigung\n",
    "Nimmt das Feld NeuerFall den Wert -1 an, so ist er laut RKI \"[...] nur in der Publikation des Vortags enthalten\". Das heißt es handelt sich folglich um eine Korrektur, der Puplikation des Vortages und muss in der aktuellen Datenauswertung näher betrachtet werden. Daraus ergibt sich, dass die entsprechenden Records aus dem Dataframe herausgefiltert werden müssen."
   ]
  },
  {
   "cell_type": "code",
   "execution_count": 151,
   "id": "d7736d57-e5f8-434d-9285-898acc495f4b",
   "metadata": {},
   "outputs": [],
   "source": [
    "df = df.filter(df.NeuerFall > -1)"
   ]
  },
  {
   "cell_type": "code",
   "execution_count": 152,
   "id": "cc051c46-142f-4624-9edd-f7eecaf01180",
   "metadata": {},
   "outputs": [
    {
     "data": {
      "text/plain": [
       "2002544"
      ]
     },
     "execution_count": 152,
     "metadata": {},
     "output_type": "execute_result"
    }
   ],
   "source": [
    "df.count()"
   ]
  },
  {
   "cell_type": "markdown",
   "id": "051b20e8-4417-4817-b2f7-0205d61938cd",
   "metadata": {},
   "source": [
    "## Datentransformation\n",
    "In der Spalte AnzahlFall steht jeweils die Summe der Fälle. Um nun die verschiedenen Modelle trainieren zu können, muss nun die Aggration rückgängig gemacht werden. Das heißt für jeden Fall muss nun ein Record im DataFrame aufgenommen werden. Die neue Anzahl der Records muss der Anzahl der gemeldeten Fälle entsprechen. Darüber hinaus ist eine neue Spalte anzufügen. Die neue Spalte gibt an ob die Person genesen, gestorben oder keins von beiden ist. Die Spalten AnzahlFall, AnzahlTodesfall und AnzahlGenesen können dann entfallen. Ebenfalls die Felder NeuerFall, NeuerTodesfall und NeuGenesen. "
   ]
  },
  {
   "cell_type": "markdown",
   "id": "820ec862-239f-497e-8b63-34150ebeb979",
   "metadata": {},
   "source": [
    "### Vereinzelung"
   ]
  },
  {
   "cell_type": "code",
   "execution_count": 153,
   "id": "2638b522-46a0-4c47-9770-05e3eff7d239",
   "metadata": {},
   "outputs": [
    {
     "data": {
      "text/plain": [
       "3675296"
      ]
     },
     "execution_count": 153,
     "metadata": {},
     "output_type": "execute_result"
    }
   ],
   "source": [
    "df = df.withColumn(\"AnzahlFall\", expr(\"explode(array_repeat(AnzahlFall,int(AnzahlFall)))\"))\n",
    "df.count()"
   ]
  },
  {
   "cell_type": "markdown",
   "id": "b19cadb9-49ac-4550-b7c6-2fe29a206c47",
   "metadata": {},
   "source": [
    "### Neue Spalte"
   ]
  },
  {
   "cell_type": "code",
   "execution_count": 154,
   "id": "960a1ce5-a36d-4d84-9950-2e6cc59b6ecd",
   "metadata": {},
   "outputs": [],
   "source": [
    "df = df.withColumn(\"FallStatus\", when(df.AnzahlGenesen > 0, \"GENESEN\")\n",
    "                                 .when(df.AnzahlTodesfall > 0, \"GESTORBEN\")\n",
    "                                 .otherwise(\"NICHTEINGETRETEN\"))"
   ]
  },
  {
   "cell_type": "code",
   "execution_count": 155,
   "id": "11030914-6446-4016-b56b-841b7778a530",
   "metadata": {},
   "outputs": [
    {
     "name": "stdout",
     "output_type": "stream",
     "text": [
      "+--------+------------+------------------+------------+------------+----------+----------+---------------+--------------------+-----------+--------------------+---------+--------------+--------------------+----------+-------------+--------------------+-----------------+----------+\n",
      "|ObjectId|IdBundesland|        Bundesland|   Landkreis|Altersgruppe|Geschlecht|AnzahlFall|AnzahlTodesfall|          Meldedatum|IdLandkreis|          Datenstand|NeuerFall|NeuerTodesfall|            Refdatum|NeuGenesen|AnzahlGenesen|IstErkrankungsbeginn|    Altersgruppe2|FallStatus|\n",
      "+--------+------------+------------------+------------+------------+----------+----------+---------------+--------------------+-----------+--------------------+---------+--------------+--------------------+----------+-------------+--------------------+-----------------+----------+\n",
      "|       1|           1|Schleswig-Holstein|SK Flensburg|     A15-A34|         M|         3|              0|2021/03/19 00:00:...|       1001|29.05.2021, 00:00...|        0|            -9|2021/03/16 00:00:...|         0|            3|                   1|Nicht übermittelt|   GENESEN|\n",
      "|       1|           1|Schleswig-Holstein|SK Flensburg|     A15-A34|         M|         3|              0|2021/03/19 00:00:...|       1001|29.05.2021, 00:00...|        0|            -9|2021/03/16 00:00:...|         0|            3|                   1|Nicht übermittelt|   GENESEN|\n",
      "|       1|           1|Schleswig-Holstein|SK Flensburg|     A15-A34|         M|         3|              0|2021/03/19 00:00:...|       1001|29.05.2021, 00:00...|        0|            -9|2021/03/16 00:00:...|         0|            3|                   1|Nicht übermittelt|   GENESEN|\n",
      "|       2|           1|Schleswig-Holstein|SK Flensburg|     A15-A34|         M|         3|              0|2021/03/19 00:00:...|       1001|29.05.2021, 00:00...|        0|            -9|2021/03/19 00:00:...|         0|            3|                   0|Nicht übermittelt|   GENESEN|\n",
      "|       2|           1|Schleswig-Holstein|SK Flensburg|     A15-A34|         M|         3|              0|2021/03/19 00:00:...|       1001|29.05.2021, 00:00...|        0|            -9|2021/03/19 00:00:...|         0|            3|                   0|Nicht übermittelt|   GENESEN|\n",
      "|       2|           1|Schleswig-Holstein|SK Flensburg|     A15-A34|         M|         3|              0|2021/03/19 00:00:...|       1001|29.05.2021, 00:00...|        0|            -9|2021/03/19 00:00:...|         0|            3|                   0|Nicht übermittelt|   GENESEN|\n",
      "|       3|           1|Schleswig-Holstein|SK Flensburg|     A15-A34|         M|         1|              0|2021/03/20 00:00:...|       1001|29.05.2021, 00:00...|        0|            -9|2021/03/16 00:00:...|         0|            1|                   1|Nicht übermittelt|   GENESEN|\n",
      "|       4|           1|Schleswig-Holstein|SK Flensburg|     A15-A34|         M|         1|              0|2021/03/20 00:00:...|       1001|29.05.2021, 00:00...|        0|            -9|2021/03/19 00:00:...|         0|            1|                   1|Nicht übermittelt|   GENESEN|\n",
      "|       5|           1|Schleswig-Holstein|SK Flensburg|     A15-A34|         M|         1|              0|2021/03/20 00:00:...|       1001|29.05.2021, 00:00...|        0|            -9|2021/03/20 00:00:...|         0|            1|                   0|Nicht übermittelt|   GENESEN|\n",
      "|       6|           1|Schleswig-Holstein|SK Flensburg|     A15-A34|         M|         1|              0|2021/03/21 00:00:...|       1001|29.05.2021, 00:00...|        0|            -9|2021/03/13 00:00:...|         0|            1|                   1|Nicht übermittelt|   GENESEN|\n",
      "|       7|           1|Schleswig-Holstein|SK Flensburg|     A15-A34|         M|         1|              0|2021/03/21 00:00:...|       1001|29.05.2021, 00:00...|        0|            -9|2021/03/19 00:00:...|         0|            1|                   1|Nicht übermittelt|   GENESEN|\n",
      "|       8|           1|Schleswig-Holstein|SK Flensburg|     A15-A34|         M|         1|              0|2021/03/21 00:00:...|       1001|29.05.2021, 00:00...|        0|            -9|2021/03/21 00:00:...|         0|            1|                   0|Nicht übermittelt|   GENESEN|\n",
      "|       9|           1|Schleswig-Holstein|SK Flensburg|     A15-A34|         M|         1|              0|2021/03/22 00:00:...|       1001|29.05.2021, 00:00...|        0|            -9|2021/03/22 00:00:...|         0|            1|                   0|Nicht übermittelt|   GENESEN|\n",
      "|      10|           1|Schleswig-Holstein|SK Flensburg|     A15-A34|         M|         1|              0|2021/03/23 00:00:...|       1001|29.05.2021, 00:00...|        0|            -9|2021/03/19 00:00:...|         0|            1|                   1|Nicht übermittelt|   GENESEN|\n",
      "|      11|           1|Schleswig-Holstein|SK Flensburg|     A15-A34|         M|         1|              0|2021/03/23 00:00:...|       1001|29.05.2021, 00:00...|        0|            -9|2021/03/22 00:00:...|         0|            1|                   1|Nicht übermittelt|   GENESEN|\n",
      "|      12|           1|Schleswig-Holstein|SK Flensburg|     A15-A34|         M|         1|              0|2021/03/23 00:00:...|       1001|29.05.2021, 00:00...|        0|            -9|2021/03/23 00:00:...|         0|            1|                   0|Nicht übermittelt|   GENESEN|\n",
      "|      13|           1|Schleswig-Holstein|SK Flensburg|     A15-A34|         M|         1|              0|2021/03/24 00:00:...|       1001|29.05.2021, 00:00...|        0|            -9|2021/03/21 00:00:...|         0|            1|                   1|Nicht übermittelt|   GENESEN|\n",
      "|      14|           1|Schleswig-Holstein|SK Flensburg|     A15-A34|         M|         1|              0|2021/03/25 00:00:...|       1001|29.05.2021, 00:00...|        0|            -9|2021/03/21 00:00:...|         0|            1|                   1|Nicht übermittelt|   GENESEN|\n",
      "|      15|           1|Schleswig-Holstein|SK Flensburg|     A15-A34|         M|         1|              0|2021/03/25 00:00:...|       1001|29.05.2021, 00:00...|        0|            -9|2021/03/22 00:00:...|         0|            1|                   1|Nicht übermittelt|   GENESEN|\n",
      "|      16|           1|Schleswig-Holstein|SK Flensburg|     A15-A34|         M|         2|              0|2021/03/25 00:00:...|       1001|29.05.2021, 00:00...|        0|            -9|2021/03/24 00:00:...|         0|            2|                   1|Nicht übermittelt|   GENESEN|\n",
      "+--------+------------+------------------+------------+------------+----------+----------+---------------+--------------------+-----------+--------------------+---------+--------------+--------------------+----------+-------------+--------------------+-----------------+----------+\n",
      "only showing top 20 rows\n",
      "\n"
     ]
    }
   ],
   "source": [
    "df.show()"
   ]
  },
  {
   "cell_type": "markdown",
   "id": "3e4cba31-5ae6-4207-b6aa-920319efa7d2",
   "metadata": {},
   "source": [
    "## Datenreduktion\n",
    "In dem folgenden Schritt werden die nicht notwendigen Spalten gelöscht. Spalte Altersgruppe2 ist nicht mit konkreten Werten befüllt und kann daher entfernt werden. Die Informationen aus AnzahlTodesfall und AnzahlGenesen bzw. NeuerTodefall und NeuGenesen sind durch das neue Feld FallStatus abgebildet. Die Felder AnzahlFall und NeuerFall sind durch die Vereinzelung und das Herausfiltern von Korrekturwerten überflüssig geworden. Die ObjectId hat an dieser Stelle auch keine Aussagekraft, da nicht mehrere Puplikationen verglichen werden, sonderns jeweils nur die Aktuelle Puplikation betrachtet wird. Ebenfalls nicht notwendig ist das Feld \"IstErkrankungsbeginn\"."
   ]
  },
  {
   "cell_type": "code",
   "execution_count": 156,
   "id": "f9b392e6-c3c2-47ff-9f35-7cad9c679e8b",
   "metadata": {},
   "outputs": [],
   "source": [
    "# definition der zu löschenden Spalten\n",
    "columnsToDelete = (\"Altersgruppe2\", \"AnzahlFall\", \"NeuerFall\", \"AnzahlTodesfall\", \"NeuerTodesfall\", \"AnzahlGenesen\", \"NeuGenesen\", \"IstErkrankungsbeginn\", \"ObjectId\")\n",
    "df = df.drop(*columnsToDelete)"
   ]
  },
  {
   "cell_type": "code",
   "execution_count": 157,
   "id": "edf67421-2acf-4de7-9936-fe2dcd5d5a19",
   "metadata": {},
   "outputs": [
    {
     "name": "stdout",
     "output_type": "stream",
     "text": [
      "+------------+------------------+------------+------------+----------+--------------------+-----------+--------------------+--------------------+----------+\n",
      "|IdBundesland|        Bundesland|   Landkreis|Altersgruppe|Geschlecht|          Meldedatum|IdLandkreis|          Datenstand|            Refdatum|FallStatus|\n",
      "+------------+------------------+------------+------------+----------+--------------------+-----------+--------------------+--------------------+----------+\n",
      "|           1|Schleswig-Holstein|SK Flensburg|     A15-A34|         M|2021/03/19 00:00:...|       1001|29.05.2021, 00:00...|2021/03/16 00:00:...|   GENESEN|\n",
      "|           1|Schleswig-Holstein|SK Flensburg|     A15-A34|         M|2021/03/19 00:00:...|       1001|29.05.2021, 00:00...|2021/03/16 00:00:...|   GENESEN|\n",
      "|           1|Schleswig-Holstein|SK Flensburg|     A15-A34|         M|2021/03/19 00:00:...|       1001|29.05.2021, 00:00...|2021/03/16 00:00:...|   GENESEN|\n",
      "|           1|Schleswig-Holstein|SK Flensburg|     A15-A34|         M|2021/03/19 00:00:...|       1001|29.05.2021, 00:00...|2021/03/19 00:00:...|   GENESEN|\n",
      "|           1|Schleswig-Holstein|SK Flensburg|     A15-A34|         M|2021/03/19 00:00:...|       1001|29.05.2021, 00:00...|2021/03/19 00:00:...|   GENESEN|\n",
      "|           1|Schleswig-Holstein|SK Flensburg|     A15-A34|         M|2021/03/19 00:00:...|       1001|29.05.2021, 00:00...|2021/03/19 00:00:...|   GENESEN|\n",
      "|           1|Schleswig-Holstein|SK Flensburg|     A15-A34|         M|2021/03/20 00:00:...|       1001|29.05.2021, 00:00...|2021/03/16 00:00:...|   GENESEN|\n",
      "|           1|Schleswig-Holstein|SK Flensburg|     A15-A34|         M|2021/03/20 00:00:...|       1001|29.05.2021, 00:00...|2021/03/19 00:00:...|   GENESEN|\n",
      "|           1|Schleswig-Holstein|SK Flensburg|     A15-A34|         M|2021/03/20 00:00:...|       1001|29.05.2021, 00:00...|2021/03/20 00:00:...|   GENESEN|\n",
      "|           1|Schleswig-Holstein|SK Flensburg|     A15-A34|         M|2021/03/21 00:00:...|       1001|29.05.2021, 00:00...|2021/03/13 00:00:...|   GENESEN|\n",
      "|           1|Schleswig-Holstein|SK Flensburg|     A15-A34|         M|2021/03/21 00:00:...|       1001|29.05.2021, 00:00...|2021/03/19 00:00:...|   GENESEN|\n",
      "|           1|Schleswig-Holstein|SK Flensburg|     A15-A34|         M|2021/03/21 00:00:...|       1001|29.05.2021, 00:00...|2021/03/21 00:00:...|   GENESEN|\n",
      "|           1|Schleswig-Holstein|SK Flensburg|     A15-A34|         M|2021/03/22 00:00:...|       1001|29.05.2021, 00:00...|2021/03/22 00:00:...|   GENESEN|\n",
      "|           1|Schleswig-Holstein|SK Flensburg|     A15-A34|         M|2021/03/23 00:00:...|       1001|29.05.2021, 00:00...|2021/03/19 00:00:...|   GENESEN|\n",
      "|           1|Schleswig-Holstein|SK Flensburg|     A15-A34|         M|2021/03/23 00:00:...|       1001|29.05.2021, 00:00...|2021/03/22 00:00:...|   GENESEN|\n",
      "|           1|Schleswig-Holstein|SK Flensburg|     A15-A34|         M|2021/03/23 00:00:...|       1001|29.05.2021, 00:00...|2021/03/23 00:00:...|   GENESEN|\n",
      "|           1|Schleswig-Holstein|SK Flensburg|     A15-A34|         M|2021/03/24 00:00:...|       1001|29.05.2021, 00:00...|2021/03/21 00:00:...|   GENESEN|\n",
      "|           1|Schleswig-Holstein|SK Flensburg|     A15-A34|         M|2021/03/25 00:00:...|       1001|29.05.2021, 00:00...|2021/03/21 00:00:...|   GENESEN|\n",
      "|           1|Schleswig-Holstein|SK Flensburg|     A15-A34|         M|2021/03/25 00:00:...|       1001|29.05.2021, 00:00...|2021/03/22 00:00:...|   GENESEN|\n",
      "|           1|Schleswig-Holstein|SK Flensburg|     A15-A34|         M|2021/03/25 00:00:...|       1001|29.05.2021, 00:00...|2021/03/24 00:00:...|   GENESEN|\n",
      "+------------+------------------+------------+------------+----------+--------------------+-----------+--------------------+--------------------+----------+\n",
      "only showing top 20 rows\n",
      "\n"
     ]
    }
   ],
   "source": [
    "df.show()"
   ]
  },
  {
   "cell_type": "markdown",
   "id": "4e3ecd8f-c053-4304-97ed-5776916176f6",
   "metadata": {},
   "source": [
    "## Imputation fehlender Werte\n",
    "Fehlende Werte treten häufig in Datensätzen auf. Dies kann zu Problemen während dem Modelling führen. Aus diesem Grund gibt es verschiedene Möglichkeiten damit umzugehen. Das einfache Löschen von Datensätzen mit fehlenden Werten kann zu einer Verzerrung führen. Daher werden of Machine Learing Techniken angewandt um plausible Werte für die einzelen Features zu finden. (García et al. 2016, 4) In dem vorliegenden Datensatz des RKIs ist in bestimmten Fällen das Geschlecht unbekannt. Da der der Imputer von PySpark jedoch nicht für kategorische Werte geignet ist (Apache Spark 2021), wurde an dieser Stelle, das Verhältnis zwischen dem Männlichen und Weiblichen Geschlecht ermittelt und per Zufallswert das Geschlecht vergeben."
   ]
  },
  {
   "cell_type": "code",
   "execution_count": 158,
   "id": "576ee217-5928-4ef5-9613-f5d2757f7ef8",
   "metadata": {},
   "outputs": [
    {
     "name": "stdout",
     "output_type": "stream",
     "text": [
      "Anzahl Frauen:  1880476\n",
      "Anzahl Männer:  1769786\n"
     ]
    }
   ],
   "source": [
    "countWoman = df.filter(df.Geschlecht == \"W\").count()\n",
    "countMan = df.filter(df.Geschlecht == \"M\").count()\n",
    "countAll = countWoman + countMan\n",
    "print(\"Anzahl Frauen: \", countWoman)\n",
    "print(\"Anzahl Männer: \", countMan)"
   ]
  },
  {
   "cell_type": "code",
   "execution_count": 163,
   "id": "8a994130-29f0-4500-beea-d5a3bd13ccd7",
   "metadata": {},
   "outputs": [
    {
     "data": {
      "text/plain": [
       "0"
      ]
     },
     "execution_count": 163,
     "metadata": {},
     "output_type": "execute_result"
    }
   ],
   "source": [
    "df = df.withColumn(\"random\", (rand() * countAll))\n",
    "df = df.withColumn(\"randomGender\", when(df.random > countWoman, \"M\").otherwise(\"W\"))\n",
    "df = df.withColumn(\"Geschlecht\", when(df.Geschlecht == \"unbekannt\", df.randomGender).otherwise(df.Geschlecht)).drop(\"random\",\"randomGender\")\n",
    "df.filter(df.Geschlecht == \"unbekannt\").count()"
   ]
  },
  {
   "cell_type": "code",
   "execution_count": null,
   "id": "9fd9425c-7569-497d-b35b-1458706c48c0",
   "metadata": {},
   "outputs": [],
   "source": []
  },
  {
   "cell_type": "code",
   "execution_count": null,
   "id": "2cec9b14-8216-492c-b6e1-104016275b29",
   "metadata": {},
   "outputs": [],
   "source": []
  },
  {
   "cell_type": "code",
   "execution_count": null,
   "id": "05c735a3-38ff-4513-b6e0-d18b11dd32b2",
   "metadata": {},
   "outputs": [],
   "source": []
  },
  {
   "cell_type": "code",
   "execution_count": null,
   "id": "15afb938-18bb-4dea-9be9-0c3cf8aadb25",
   "metadata": {},
   "outputs": [],
   "source": []
  }
 ],
 "metadata": {
  "kernelspec": {
   "display_name": "Python 3",
   "language": "python",
   "name": "python3"
  },
  "language_info": {
   "codemirror_mode": {
    "name": "ipython",
    "version": 3
   },
   "file_extension": ".py",
   "mimetype": "text/x-python",
   "name": "python",
   "nbconvert_exporter": "python",
   "pygments_lexer": "ipython3",
   "version": "3.8.8"
  }
 },
 "nbformat": 4,
 "nbformat_minor": 5
}
