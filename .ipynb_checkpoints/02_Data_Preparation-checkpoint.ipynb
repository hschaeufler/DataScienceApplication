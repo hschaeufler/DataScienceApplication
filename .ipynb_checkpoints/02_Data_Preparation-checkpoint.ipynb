{
 "cells": [
  {
   "cell_type": "code",
   "execution_count": 4,
   "id": "b0793450-0911-4fe9-9a75-5f8f4a64733a",
   "metadata": {},
   "outputs": [],
   "source": [
    "from pyspark.sql import DataFrameReader\n",
    "from pyspark.sql import SparkSession\n",
    "from pyspark.ml.feature import IndexToString, Normalizer, StringIndexer, VectorAssembler, VectorIndexer\n",
    "from pyspark.ml.classification import DecisionTreeClassifier\n",
    "from helpers.helper_functions import translate_to_file_string\n",
    "from pyspark.sql.functions import col,lit,to_date\n",
    "from pyspark.sql.functions import expr\n",
    "\n",
    "\n",
    "# for pretty printing\n",
    "def printDf(sprkDF): \n",
    "    newdf = sprkDF.toPandas()\n",
    "    from IPython.display import display, HTML\n",
    "    return HTML(newdf.to_html())\n",
    "\n",
    "inputFile = translate_to_file_string(\"./data/RKI_COVID19_20210529.csv\")"
   ]
  },
  {
   "cell_type": "markdown",
   "id": "4978b0a3-e029-4a47-addf-3d03cc69e0fd",
   "metadata": {},
   "source": [
    "### Create Spark Session"
   ]
  },
  {
   "cell_type": "code",
   "execution_count": 2,
   "id": "0cdac838-d337-45df-9bb4-44dae87524b6",
   "metadata": {},
   "outputs": [
    {
     "name": "stdout",
     "output_type": "stream",
     "text": [
      "root\n",
      " |-- ObjectId: integer (nullable = true)\n",
      " |-- IdBundesland: integer (nullable = true)\n",
      " |-- Bundesland: string (nullable = true)\n",
      " |-- Landkreis: string (nullable = true)\n",
      " |-- Altersgruppe: string (nullable = true)\n",
      " |-- Geschlecht: string (nullable = true)\n",
      " |-- AnzahlFall: integer (nullable = true)\n",
      " |-- AnzahlTodesfall: integer (nullable = true)\n",
      " |-- Meldedatum: string (nullable = true)\n",
      " |-- IdLandkreis: integer (nullable = true)\n",
      " |-- Datenstand: string (nullable = true)\n",
      " |-- NeuerFall: integer (nullable = true)\n",
      " |-- NeuerTodesfall: integer (nullable = true)\n",
      " |-- Refdatum: string (nullable = true)\n",
      " |-- NeuGenesen: integer (nullable = true)\n",
      " |-- AnzahlGenesen: integer (nullable = true)\n",
      " |-- IstErkrankungsbeginn: integer (nullable = true)\n",
      " |-- Altersgruppe2: string (nullable = true)\n",
      "\n",
      "None\n"
     ]
    }
   ],
   "source": [
    "#create a SparkSession\n",
    "spark = (SparkSession\n",
    "       .builder\n",
    "       .appName(\"RKICOVID19PREPARATION\")\n",
    "       .getOrCreate())\n",
    "# create a DataFrame using an ifered Schema \n",
    "df = spark.read.option(\"header\", \"true\") \\\n",
    "       .option(\"inferSchema\", \"true\") \\\n",
    "       .option(\"delimiter\", \",\") \\\n",
    "       .csv(inputFile)   \n",
    "print(df.printSchema())"
   ]
  },
  {
   "cell_type": "markdown",
   "id": "04312840-72e3-4512-a766-8a2065271f6c",
   "metadata": {},
   "source": [
    "# Data Preperation"
   ]
  },
  {
   "cell_type": "markdown",
   "id": "051b20e8-4417-4817-b2f7-0205d61938cd",
   "metadata": {},
   "source": [
    "## Vereinzelung der Aggregierten der Werte\n",
    "In der Spalte AnzahlFall steht jeweils die Summe der Fälle. Um nun die verschiedenen Modelle trainieren zu können, muss nun die Aggration rückgängig gemacht werden. Das heißt für jeden Fall muss nun ein Record im DataFrame aufgenommen werden. Die neue Anzahl der Records muss der Anzahl der gemeldeten Fälle entsprechen. Darüber hinaus ist eine neue Spalte anzufügen. Die neue Spalte gibt an ob die Person genesen, gestorben oder keins von beiden ist. Die Spalten AnzahlFall, AnzahlTodesfall und AnzahlGenesen können dann entfallen. Ebenfalls die Felder NeuerFall, NeuerTodesfall und NeuGenesen. "
   ]
  },
  {
   "cell_type": "code",
   "execution_count": 5,
   "id": "49c07a68-d171-44bc-affe-ab6050675283",
   "metadata": {},
   "outputs": [],
   "source": [
    "### Vereinzelung"
   ]
  },
  {
   "cell_type": "code",
   "execution_count": null,
   "id": "2638b522-46a0-4c47-9770-05e3eff7d239",
   "metadata": {},
   "outputs": [],
   "source": []
  },
  {
   "cell_type": "code",
   "execution_count": 6,
   "id": "f9b392e6-c3c2-47ff-9f35-7cad9c679e8b",
   "metadata": {},
   "outputs": [
    {
     "data": {
      "text/plain": [
       "3675296"
      ]
     },
     "execution_count": 6,
     "metadata": {},
     "output_type": "execute_result"
    }
   ],
   "source": [
    "\n",
    "\n",
    "explodedDF.count()"
   ]
  },
  {
   "cell_type": "code",
   "execution_count": 7,
   "id": "edf67421-2acf-4de7-9936-fe2dcd5d5a19",
   "metadata": {},
   "outputs": [
    {
     "name": "stdout",
     "output_type": "stream",
     "text": [
      "+--------+------------+------------------+------------+------------+----------+----------+---------------+--------------------+-----------+--------------------+---------+--------------+--------------------+----------+-------------+--------------------+-----------------+---+\n",
      "|ObjectId|IdBundesland|        Bundesland|   Landkreis|Altersgruppe|Geschlecht|AnzahlFall|AnzahlTodesfall|          Meldedatum|IdLandkreis|          Datenstand|NeuerFall|NeuerTodesfall|            Refdatum|NeuGenesen|AnzahlGenesen|IstErkrankungsbeginn|    Altersgruppe2|  n|\n",
      "+--------+------------+------------------+------------+------------+----------+----------+---------------+--------------------+-----------+--------------------+---------+--------------+--------------------+----------+-------------+--------------------+-----------------+---+\n",
      "|       1|           1|Schleswig-Holstein|SK Flensburg|     A15-A34|         M|         3|              0|2021/03/19 00:00:...|       1001|29.05.2021, 00:00...|        0|            -9|2021/03/16 00:00:...|         0|            3|                   1|Nicht übermittelt|  3|\n",
      "|       1|           1|Schleswig-Holstein|SK Flensburg|     A15-A34|         M|         3|              0|2021/03/19 00:00:...|       1001|29.05.2021, 00:00...|        0|            -9|2021/03/16 00:00:...|         0|            3|                   1|Nicht übermittelt|  3|\n",
      "|       1|           1|Schleswig-Holstein|SK Flensburg|     A15-A34|         M|         3|              0|2021/03/19 00:00:...|       1001|29.05.2021, 00:00...|        0|            -9|2021/03/16 00:00:...|         0|            3|                   1|Nicht übermittelt|  3|\n",
      "|       2|           1|Schleswig-Holstein|SK Flensburg|     A15-A34|         M|         3|              0|2021/03/19 00:00:...|       1001|29.05.2021, 00:00...|        0|            -9|2021/03/19 00:00:...|         0|            3|                   0|Nicht übermittelt|  3|\n",
      "|       2|           1|Schleswig-Holstein|SK Flensburg|     A15-A34|         M|         3|              0|2021/03/19 00:00:...|       1001|29.05.2021, 00:00...|        0|            -9|2021/03/19 00:00:...|         0|            3|                   0|Nicht übermittelt|  3|\n",
      "|       2|           1|Schleswig-Holstein|SK Flensburg|     A15-A34|         M|         3|              0|2021/03/19 00:00:...|       1001|29.05.2021, 00:00...|        0|            -9|2021/03/19 00:00:...|         0|            3|                   0|Nicht übermittelt|  3|\n",
      "|       3|           1|Schleswig-Holstein|SK Flensburg|     A15-A34|         M|         1|              0|2021/03/20 00:00:...|       1001|29.05.2021, 00:00...|        0|            -9|2021/03/16 00:00:...|         0|            1|                   1|Nicht übermittelt|  1|\n",
      "|       4|           1|Schleswig-Holstein|SK Flensburg|     A15-A34|         M|         1|              0|2021/03/20 00:00:...|       1001|29.05.2021, 00:00...|        0|            -9|2021/03/19 00:00:...|         0|            1|                   1|Nicht übermittelt|  1|\n",
      "|       5|           1|Schleswig-Holstein|SK Flensburg|     A15-A34|         M|         1|              0|2021/03/20 00:00:...|       1001|29.05.2021, 00:00...|        0|            -9|2021/03/20 00:00:...|         0|            1|                   0|Nicht übermittelt|  1|\n",
      "|       6|           1|Schleswig-Holstein|SK Flensburg|     A15-A34|         M|         1|              0|2021/03/21 00:00:...|       1001|29.05.2021, 00:00...|        0|            -9|2021/03/13 00:00:...|         0|            1|                   1|Nicht übermittelt|  1|\n",
      "|       7|           1|Schleswig-Holstein|SK Flensburg|     A15-A34|         M|         1|              0|2021/03/21 00:00:...|       1001|29.05.2021, 00:00...|        0|            -9|2021/03/19 00:00:...|         0|            1|                   1|Nicht übermittelt|  1|\n",
      "|       8|           1|Schleswig-Holstein|SK Flensburg|     A15-A34|         M|         1|              0|2021/03/21 00:00:...|       1001|29.05.2021, 00:00...|        0|            -9|2021/03/21 00:00:...|         0|            1|                   0|Nicht übermittelt|  1|\n",
      "|       9|           1|Schleswig-Holstein|SK Flensburg|     A15-A34|         M|         1|              0|2021/03/22 00:00:...|       1001|29.05.2021, 00:00...|        0|            -9|2021/03/22 00:00:...|         0|            1|                   0|Nicht übermittelt|  1|\n",
      "|      10|           1|Schleswig-Holstein|SK Flensburg|     A15-A34|         M|         1|              0|2021/03/23 00:00:...|       1001|29.05.2021, 00:00...|        0|            -9|2021/03/19 00:00:...|         0|            1|                   1|Nicht übermittelt|  1|\n",
      "|      11|           1|Schleswig-Holstein|SK Flensburg|     A15-A34|         M|         1|              0|2021/03/23 00:00:...|       1001|29.05.2021, 00:00...|        0|            -9|2021/03/22 00:00:...|         0|            1|                   1|Nicht übermittelt|  1|\n",
      "|      12|           1|Schleswig-Holstein|SK Flensburg|     A15-A34|         M|         1|              0|2021/03/23 00:00:...|       1001|29.05.2021, 00:00...|        0|            -9|2021/03/23 00:00:...|         0|            1|                   0|Nicht übermittelt|  1|\n",
      "|      13|           1|Schleswig-Holstein|SK Flensburg|     A15-A34|         M|         1|              0|2021/03/24 00:00:...|       1001|29.05.2021, 00:00...|        0|            -9|2021/03/21 00:00:...|         0|            1|                   1|Nicht übermittelt|  1|\n",
      "|      14|           1|Schleswig-Holstein|SK Flensburg|     A15-A34|         M|         1|              0|2021/03/25 00:00:...|       1001|29.05.2021, 00:00...|        0|            -9|2021/03/21 00:00:...|         0|            1|                   1|Nicht übermittelt|  1|\n",
      "|      15|           1|Schleswig-Holstein|SK Flensburg|     A15-A34|         M|         1|              0|2021/03/25 00:00:...|       1001|29.05.2021, 00:00...|        0|            -9|2021/03/22 00:00:...|         0|            1|                   1|Nicht übermittelt|  1|\n",
      "|      16|           1|Schleswig-Holstein|SK Flensburg|     A15-A34|         M|         2|              0|2021/03/25 00:00:...|       1001|29.05.2021, 00:00...|        0|            -9|2021/03/24 00:00:...|         0|            2|                   1|Nicht übermittelt|  2|\n",
      "+--------+------------+------------------+------------+------------+----------+----------+---------------+--------------------+-----------+--------------------+---------+--------------+--------------------+----------+-------------+--------------------+-----------------+---+\n",
      "only showing top 20 rows\n",
      "\n"
     ]
    }
   ],
   "source": [
    "explodedDF.show()"
   ]
  },
  {
   "cell_type": "code",
   "execution_count": null,
   "id": "576ee217-5928-4ef5-9613-f5d2757f7ef8",
   "metadata": {},
   "outputs": [],
   "source": []
  }
 ],
 "metadata": {
  "kernelspec": {
   "display_name": "Python 3",
   "language": "python",
   "name": "python3"
  },
  "language_info": {
   "codemirror_mode": {
    "name": "ipython",
    "version": 3
   },
   "file_extension": ".py",
   "mimetype": "text/x-python",
   "name": "python",
   "nbconvert_exporter": "python",
   "pygments_lexer": "ipython3",
   "version": "3.8.8"
  }
 },
 "nbformat": 4,
 "nbformat_minor": 5
}
