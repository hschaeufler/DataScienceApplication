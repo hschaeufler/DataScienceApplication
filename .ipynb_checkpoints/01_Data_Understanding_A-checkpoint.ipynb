{
 "cells": [
  {
   "cell_type": "markdown",
   "id": "e13b5871-a639-476b-b6b4-773a7fc1d5a3",
   "metadata": {},
   "source": [
    "# Data Understanding"
   ]
  },
  {
   "cell_type": "code",
   "execution_count": 2,
   "id": "2868b343-b1ec-498f-a3de-4adf348ce900",
   "metadata": {},
   "outputs": [],
   "source": [
    "from pyspark.sql import DataFrameReader\n",
    "from pyspark.sql import SparkSession\n",
    "from pyspark.ml.feature import IndexToString, Normalizer, StringIndexer, VectorAssembler, VectorIndexer\n",
    "from pyspark.ml.classification import DecisionTreeClassifier\n",
    "from helpers.helper_functions import translate_to_file_string\n",
    "from pyspark.sql.functions import col,lit,to_date\n",
    "\n",
    "\n",
    "\n",
    "# for pretty printing\n",
    "def printDf(sprkDF): \n",
    "    newdf = sprkDF.toPandas()\n",
    "    from IPython.display import display, HTML\n",
    "    return HTML(newdf.to_html())"
   ]
  },
  {
   "cell_type": "code",
   "execution_count": 3,
   "id": "2e553f0f-2395-4ac1-bc84-c272debffa16",
   "metadata": {},
   "outputs": [],
   "source": [
    "inputFile = translate_to_file_string(\"./data/RKI_COVID19_20210529.csv\")"
   ]
  },
  {
   "cell_type": "markdown",
   "id": "6c61df6a-936a-4839-afc5-9e7fd4235dfe",
   "metadata": {},
   "source": [
    "## Create Spark Session"
   ]
  },
  {
   "cell_type": "code",
   "execution_count": 4,
   "id": "cea1c45d-0675-4dcc-b871-74913dd16806",
   "metadata": {},
   "outputs": [
    {
     "name": "stdout",
     "output_type": "stream",
     "text": [
      "root\n",
      " |-- ObjectId: integer (nullable = true)\n",
      " |-- IdBundesland: integer (nullable = true)\n",
      " |-- Bundesland: string (nullable = true)\n",
      " |-- Landkreis: string (nullable = true)\n",
      " |-- Altersgruppe: string (nullable = true)\n",
      " |-- Geschlecht: string (nullable = true)\n",
      " |-- AnzahlFall: integer (nullable = true)\n",
      " |-- AnzahlTodesfall: integer (nullable = true)\n",
      " |-- Meldedatum: string (nullable = true)\n",
      " |-- IdLandkreis: integer (nullable = true)\n",
      " |-- Datenstand: string (nullable = true)\n",
      " |-- NeuerFall: integer (nullable = true)\n",
      " |-- NeuerTodesfall: integer (nullable = true)\n",
      " |-- Refdatum: string (nullable = true)\n",
      " |-- NeuGenesen: integer (nullable = true)\n",
      " |-- AnzahlGenesen: integer (nullable = true)\n",
      " |-- IstErkrankungsbeginn: integer (nullable = true)\n",
      " |-- Altersgruppe2: string (nullable = true)\n",
      "\n",
      "None\n"
     ]
    }
   ],
   "source": [
    "#create a SparkSession\n",
    "spark = (SparkSession\n",
    "       .builder\n",
    "       .appName(\"RKICOVID19UNDERSTANDING\")\n",
    "       .getOrCreate())\n",
    "# create a DataFrame using an ifered Schema \n",
    "df = spark.read.option(\"header\", \"true\") \\\n",
    "       .option(\"inferSchema\", \"true\") \\\n",
    "       .option(\"delimiter\", \",\") \\\n",
    "       .csv(inputFile)   "
   ]
  },
  {
   "cell_type": "markdown",
   "id": "6b7522e8-9a82-41d3-88c0-4eb1a31c6256",
   "metadata": {},
   "source": [
    "## Kennenlernen des Datensatzes\n",
    "Zum Kennenlernen des Datensatzes wurde das Schema und die einzelen Instanzen geneauer untersucht. An dieser Stelle sei euch auf die  Beschreibung des Datensatzes durch das RKI verwiesen. Robert Koch-Institut 2021: https://npgeo-corona-npgeo-de.hub.arcgis.com/datasets/dd4580c810204019a7b8eb3e0b329dd6_0/about. Bei der Untersuchung des Datensatzes und der Lektüre der Dokumentation fällt auf, dass es sich bereits um agregierte Daten handelt."
   ]
  },
  {
   "cell_type": "markdown",
   "id": "0dd518c2-2228-4080-9c15-32d52b0db29e",
   "metadata": {},
   "source": [
    "### Ausgeben des Schemas"
   ]
  },
  {
   "cell_type": "code",
   "execution_count": 10,
   "id": "aff39520-74b8-465c-9f00-c387dbad3555",
   "metadata": {},
   "outputs": [
    {
     "name": "stdout",
     "output_type": "stream",
     "text": [
      "root\n",
      " |-- ObjectId: integer (nullable = true)\n",
      " |-- IdBundesland: integer (nullable = true)\n",
      " |-- Bundesland: string (nullable = true)\n",
      " |-- Landkreis: string (nullable = true)\n",
      " |-- Altersgruppe: string (nullable = true)\n",
      " |-- Geschlecht: string (nullable = true)\n",
      " |-- AnzahlFall: integer (nullable = true)\n",
      " |-- AnzahlTodesfall: integer (nullable = true)\n",
      " |-- Meldedatum: string (nullable = true)\n",
      " |-- IdLandkreis: integer (nullable = true)\n",
      " |-- Datenstand: string (nullable = true)\n",
      " |-- NeuerFall: integer (nullable = true)\n",
      " |-- NeuerTodesfall: integer (nullable = true)\n",
      " |-- Refdatum: string (nullable = true)\n",
      " |-- NeuGenesen: integer (nullable = true)\n",
      " |-- AnzahlGenesen: integer (nullable = true)\n",
      " |-- IstErkrankungsbeginn: integer (nullable = true)\n",
      " |-- Altersgruppe2: string (nullable = true)\n",
      "\n"
     ]
    }
   ],
   "source": [
    "df.printSchema()"
   ]
  },
  {
   "cell_type": "markdown",
   "id": "f8cc8d69-9551-4746-9b33-f2d59245ed4f",
   "metadata": {},
   "source": [
    "### Anzeigen der ersten Zehn Instanzen"
   ]
  },
  {
   "cell_type": "code",
   "execution_count": 7,
   "id": "ca89f854-2a0e-4cb1-8489-fb999b403e4c",
   "metadata": {},
   "outputs": [
    {
     "name": "stdout",
     "output_type": "stream",
     "text": [
      "+--------+------------+------------------+------------+------------+----------+----------+---------------+--------------------+-----------+--------------------+---------+--------------+--------------------+----------+-------------+--------------------+-----------------+\n",
      "|ObjectId|IdBundesland|        Bundesland|   Landkreis|Altersgruppe|Geschlecht|AnzahlFall|AnzahlTodesfall|          Meldedatum|IdLandkreis|          Datenstand|NeuerFall|NeuerTodesfall|            Refdatum|NeuGenesen|AnzahlGenesen|IstErkrankungsbeginn|    Altersgruppe2|\n",
      "+--------+------------+------------------+------------+------------+----------+----------+---------------+--------------------+-----------+--------------------+---------+--------------+--------------------+----------+-------------+--------------------+-----------------+\n",
      "|       1|           1|Schleswig-Holstein|SK Flensburg|     A15-A34|         M|         3|              0|2021/03/19 00:00:...|       1001|29.05.2021, 00:00...|        0|            -9|2021/03/16 00:00:...|         0|            3|                   1|Nicht übermittelt|\n",
      "|       2|           1|Schleswig-Holstein|SK Flensburg|     A15-A34|         M|         3|              0|2021/03/19 00:00:...|       1001|29.05.2021, 00:00...|        0|            -9|2021/03/19 00:00:...|         0|            3|                   0|Nicht übermittelt|\n",
      "|       3|           1|Schleswig-Holstein|SK Flensburg|     A15-A34|         M|         1|              0|2021/03/20 00:00:...|       1001|29.05.2021, 00:00...|        0|            -9|2021/03/16 00:00:...|         0|            1|                   1|Nicht übermittelt|\n",
      "|       4|           1|Schleswig-Holstein|SK Flensburg|     A15-A34|         M|         1|              0|2021/03/20 00:00:...|       1001|29.05.2021, 00:00...|        0|            -9|2021/03/19 00:00:...|         0|            1|                   1|Nicht übermittelt|\n",
      "|       5|           1|Schleswig-Holstein|SK Flensburg|     A15-A34|         M|         1|              0|2021/03/20 00:00:...|       1001|29.05.2021, 00:00...|        0|            -9|2021/03/20 00:00:...|         0|            1|                   0|Nicht übermittelt|\n",
      "|       6|           1|Schleswig-Holstein|SK Flensburg|     A15-A34|         M|         1|              0|2021/03/21 00:00:...|       1001|29.05.2021, 00:00...|        0|            -9|2021/03/13 00:00:...|         0|            1|                   1|Nicht übermittelt|\n",
      "|       7|           1|Schleswig-Holstein|SK Flensburg|     A15-A34|         M|         1|              0|2021/03/21 00:00:...|       1001|29.05.2021, 00:00...|        0|            -9|2021/03/19 00:00:...|         0|            1|                   1|Nicht übermittelt|\n",
      "|       8|           1|Schleswig-Holstein|SK Flensburg|     A15-A34|         M|         1|              0|2021/03/21 00:00:...|       1001|29.05.2021, 00:00...|        0|            -9|2021/03/21 00:00:...|         0|            1|                   0|Nicht übermittelt|\n",
      "|       9|           1|Schleswig-Holstein|SK Flensburg|     A15-A34|         M|         1|              0|2021/03/22 00:00:...|       1001|29.05.2021, 00:00...|        0|            -9|2021/03/22 00:00:...|         0|            1|                   0|Nicht übermittelt|\n",
      "|      10|           1|Schleswig-Holstein|SK Flensburg|     A15-A34|         M|         1|              0|2021/03/23 00:00:...|       1001|29.05.2021, 00:00...|        0|            -9|2021/03/19 00:00:...|         0|            1|                   1|Nicht übermittelt|\n",
      "+--------+------------+------------------+------------+------------+----------+----------+---------------+--------------------+-----------+--------------------+---------+--------------+--------------------+----------+-------------+--------------------+-----------------+\n",
      "\n"
     ]
    }
   ],
   "source": [
    "df.limit(10).show()"
   ]
  },
  {
   "cell_type": "markdown",
   "id": "3784b436-9d96-4b07-9a13-baf7fb4603c6",
   "metadata": {},
   "source": [
    "### Anzahl der Instanzen des Datensatzes"
   ]
  },
  {
   "cell_type": "code",
   "execution_count": 9,
   "id": "43a12bc2-942e-4e9d-8232-f7f428ea5e48",
   "metadata": {},
   "outputs": [
    {
     "data": {
      "text/plain": [
       "2003106"
      ]
     },
     "execution_count": 9,
     "metadata": {},
     "output_type": "execute_result"
    }
   ],
   "source": [
    "df.count()"
   ]
  },
  {
   "cell_type": "markdown",
   "id": "7e8857f1-bf8a-47a5-8b3e-f4e256c93f69",
   "metadata": {},
   "source": [
    "## Aufbau des Datensatzes "
   ]
  },
  {
   "cell_type": "markdown",
   "id": "bc559f15-4fa7-4eec-95fe-530c428932e4",
   "metadata": {},
   "source": [
    "Bei den Daten handelt es sich um gruppierte Daten. In einer Instanz gibt es die Felder AnzahlTodesfall, AnzahlGenesen und AnzahlTodefall. \n",
    "Darüber hinaus gibt es die Attribute NeuGenesen, NeuerTodefall und NeuerFall. Letztere geben an, wie die Anzahl-Felder zu lesen sind. \n",
    "Nimmt das Attribut NeuerFall zum Beispiel den Wert -1 an, sind die Fälle aus dem Feature AnzahlFall nur in der Veröffentlichung des Vortages enthalten. Daraus lässt sich schließen, dass es sich um eine Korrektur handelt, weshalb diese nicht für die Gesamtzahl der Fälle zu beachten sind. Die Ausprägungen 0 und 1 markieren ob es sich um neue Fälle (Ausprägung 1) oder schon bekannte Fälle (Ausprägung 0) handelt. Erstere sind erst vor kurzem dem RKI gemeldet worden und daher das erste Mal im tagesaktuellen Datensatz vorhanden. \n",
    "Selbe Nomenklatur gilt auch, für NeuerTodesfall und NeuGenesen. Wobei hier -1 bedeutet, dass zum Beispiel bereits als verstorben gemeldete Personen doch genesen oder krank sind, bzw. als genesen gemeldete Personen noch krank oder verstorben sind. -9 als Ausprägung der Feature NeuerTodesfall und NeuGenesen besagt, dass das entsprechende Ereignis noch nicht eingetreten ist. Ist in beiden Featuren eine -9 eingetragen, handelt es sich um noch erkrankte Personen."
   ]
  },
  {
   "cell_type": "markdown",
   "id": "70099cc4-95ca-4d7a-82e6-a25a50d8e04f",
   "metadata": {},
   "source": [
    "### Anzahl Fälle kategorsiert nach NeuerFall \n",
    "1 = Neuer Fall, 0 = Bekannter Fall, -1  = Korrektur"
   ]
  },
  {
   "cell_type": "code",
   "execution_count": 18,
   "id": "fe59c689-caf0-438b-a0e3-977078c5a593",
   "metadata": {},
   "outputs": [
    {
     "name": "stdout",
     "output_type": "stream",
     "text": [
      "+---------+---------------+\n",
      "|NeuerFall|sum(AnzahlFall)|\n",
      "+---------+---------------+\n",
      "|       -1|           -592|\n",
      "|        1|           6018|\n",
      "|        0|        3669278|\n",
      "+---------+---------------+\n",
      "\n"
     ]
    }
   ],
   "source": [
    "df.groupBy(\"NeuerFall\").sum(\"AnzahlFall\").show()"
   ]
  },
  {
   "cell_type": "markdown",
   "id": "2c8785a6-7608-44da-8e15-f15466028427",
   "metadata": {},
   "source": [
    "### Anzahl Todesfall gruppiert nach NeuerTodesfall"
   ]
  },
  {
   "cell_type": "code",
   "execution_count": 20,
   "id": "b20485f2-ff31-4a68-a97a-1dc6a9d12b6e",
   "metadata": {},
   "outputs": [
    {
     "name": "stdout",
     "output_type": "stream",
     "text": [
      "+--------------+--------------------+\n",
      "|NeuerTodesfall|sum(AnzahlTodesfall)|\n",
      "+--------------+--------------------+\n",
      "|            -1|                 -10|\n",
      "|             1|                 173|\n",
      "|            -9|                   0|\n",
      "|             0|               88177|\n",
      "+--------------+--------------------+\n",
      "\n"
     ]
    }
   ],
   "source": [
    "df.groupBy(\"NeuerTodesfall\").sum(\"AnzahlTodesfall\").show()"
   ]
  },
  {
   "cell_type": "markdown",
   "id": "9181f370-0e50-411f-b8d1-55184e2f8199",
   "metadata": {},
   "source": [
    "### Anzahl Todesfall gruppiert nach NeuGenesen"
   ]
  },
  {
   "cell_type": "code",
   "execution_count": 22,
   "id": "7b27288d-e122-4431-8d43-45acdd4ba210",
   "metadata": {},
   "outputs": [
    {
     "name": "stdout",
     "output_type": "stream",
     "text": [
      "+----------+------------------+\n",
      "|NeuGenesen|sum(AnzahlGenesen)|\n",
      "+----------+------------------+\n",
      "|        -1|              -691|\n",
      "|         1|             10829|\n",
      "|        -9|                 0|\n",
      "|         0|           3461001|\n",
      "+----------+------------------+\n",
      "\n"
     ]
    }
   ],
   "source": [
    "df.groupBy(\"NeuGenesen\").sum(\"AnzahlGenesen\").show()"
   ]
  },
  {
   "cell_type": "markdown",
   "id": "160250dd-f601-4cfc-8688-219dcc9ff1c5",
   "metadata": {},
   "source": [
    "### Gesamtzahl aller Coronafälle in Deutschland\n",
    "Siehe dazu auch https://www.rki.de/DE/Content/InfAZ/N/Neuartiges_Coronavirus/Fallzahlen.html"
   ]
  },
  {
   "cell_type": "code",
   "execution_count": 14,
   "id": "89328486-3cae-4f84-8c88-abf005bf6417",
   "metadata": {},
   "outputs": [
    {
     "name": "stdout",
     "output_type": "stream",
     "text": [
      "+---------------+\n",
      "|sum(AnzahlFall)|\n",
      "+---------------+\n",
      "|        3675296|\n",
      "+---------------+\n",
      "\n"
     ]
    }
   ],
   "source": [
    "df.filter(df['NeuerFall'] >  -1).groupBy().sum(\"AnzahlFall\").show()"
   ]
  },
  {
   "cell_type": "markdown",
   "id": "86c91047-0857-4e3e-a277-c26ed63c53fc",
   "metadata": {},
   "source": [
    "### Anzahl neuer Fälle (heute) \n",
    "siehe auch zum Vergleich https://www.rki.de/DE/Content/InfAZ/N/Neuartiges_Coronavirus/Fallzahlen.html"
   ]
  },
  {
   "cell_type": "code",
   "execution_count": 16,
   "id": "dd119d0d-0b54-41d4-8d22-b54046cfe58e",
   "metadata": {},
   "outputs": [
    {
     "name": "stdout",
     "output_type": "stream",
     "text": [
      "+---------------+\n",
      "|sum(AnzahlFall)|\n",
      "+---------------+\n",
      "|           5426|\n",
      "+---------------+\n",
      "\n"
     ]
    }
   ],
   "source": [
    "df.filter(df['NeuerFall']  != 0).groupBy().sum(\"AnzahlFall\").show()"
   ]
  },
  {
   "cell_type": "markdown",
   "id": "b72173f8-9de5-4017-8496-45966e61f4ac",
   "metadata": {},
   "source": [
    "### Gesamtzahl aller Genesenen"
   ]
  },
  {
   "cell_type": "code",
   "execution_count": 31,
   "id": "96b0cb8f-3656-482c-a417-9ebabd349be6",
   "metadata": {},
   "outputs": [
    {
     "name": "stdout",
     "output_type": "stream",
     "text": [
      "+------------------+\n",
      "|sum(AnzahlGenesen)|\n",
      "+------------------+\n",
      "|           3471830|\n",
      "+------------------+\n",
      "\n"
     ]
    }
   ],
   "source": [
    "df.filter(df.NeuGenesen  > -1).groupBy().sum(\"AnzahlGenesen\").show()"
   ]
  },
  {
   "cell_type": "markdown",
   "id": "ddcb93c8-ef3f-4567-b208-11808d2f1ad5",
   "metadata": {},
   "source": [
    "### Neu Genesen"
   ]
  },
  {
   "cell_type": "code",
   "execution_count": 35,
   "id": "48f2cb72-4b09-4453-b6b2-5bbaf4543846",
   "metadata": {},
   "outputs": [
    {
     "name": "stdout",
     "output_type": "stream",
     "text": [
      "+------------------+\n",
      "|sum(AnzahlGenesen)|\n",
      "+------------------+\n",
      "|             10829|\n",
      "+------------------+\n",
      "\n"
     ]
    }
   ],
   "source": [
    "df.filter(df.NeuGenesen == 1).groupBy().sum(\"AnzahlGenesen\").show()"
   ]
  },
  {
   "cell_type": "markdown",
   "id": "a2c8a6e5-6d76-4d2d-aaed-fe7f5959106e",
   "metadata": {},
   "source": [
    "### Gesamtzahl aller Verstorbenen"
   ]
  },
  {
   "cell_type": "code",
   "execution_count": 36,
   "id": "03f03c04-e37e-445c-9fbd-848b1ab7277b",
   "metadata": {},
   "outputs": [
    {
     "name": "stdout",
     "output_type": "stream",
     "text": [
      "+--------------------+\n",
      "|sum(AnzahlTodesfall)|\n",
      "+--------------------+\n",
      "|               88350|\n",
      "+--------------------+\n",
      "\n"
     ]
    }
   ],
   "source": [
    "df.filter(df.NeuerTodesfall  > -1).groupBy().sum(\"AnzahlTodesfall\").show()"
   ]
  },
  {
   "cell_type": "markdown",
   "id": "00d6420b-4c96-444b-93f9-57eeb1eae06a",
   "metadata": {},
   "source": [
    "### Neu Verstorben"
   ]
  },
  {
   "cell_type": "code",
   "execution_count": 37,
   "id": "c0c62584-a12c-494f-9dee-a42b82fda68b",
   "metadata": {},
   "outputs": [
    {
     "name": "stdout",
     "output_type": "stream",
     "text": [
      "+--------------------+\n",
      "|sum(AnzahlTodesfall)|\n",
      "+--------------------+\n",
      "|                 173|\n",
      "+--------------------+\n",
      "\n"
     ]
    }
   ],
   "source": [
    "df.filter(df.NeuerTodesfall  == 1).groupBy().sum(\"AnzahlTodesfall\").show()"
   ]
  },
  {
   "cell_type": "markdown",
   "id": "352d2a97-95fd-49bd-8a6c-18048c4f1d8b",
   "metadata": {},
   "source": [
    "## Feature-Ausprägungen\n",
    "Nachfolgend werden die Ausprägungen der einzelnen Merkmale genauer Untersucht"
   ]
  },
  {
   "cell_type": "markdown",
   "id": "95198fec-3b2e-4ff2-9bf6-a64a21211673",
   "metadata": {},
   "source": [
    "### Ausprägungen Bundesland\n",
    "Nachfolgend die Betroffenen Bundesländer ermittelt und überprüft, dass Bundesland und BundeslandId übereinstimmen. Zu beachten ist, dass die Anzahl sich auf die Anzahl der Instanzen bezieht und noch nicht auf die Gesamtzahl der Fälle."
   ]
  },
  {
   "cell_type": "code",
   "execution_count": 41,
   "id": "b43940d8-fbe9-44dd-b637-1160e80196e3",
   "metadata": {},
   "outputs": [
    {
     "name": "stdout",
     "output_type": "stream",
     "text": [
      "+--------------------+------------+------+\n",
      "|          Bundesland|IdBundesland| count|\n",
      "+--------------------+------------+------+\n",
      "|  Schleswig-Holstein|           1| 47239|\n",
      "|             Hamburg|           2| 26470|\n",
      "|       Niedersachsen|           3|156959|\n",
      "|              Bremen|           4| 11812|\n",
      "| Nordrhein-Westfalen|           5|393861|\n",
      "|              Hessen|           6|151970|\n",
      "|     Rheinland-Pfalz|           7| 94726|\n",
      "|   Baden-Württemberg|           8|282334|\n",
      "|              Bayern|           9|362635|\n",
      "|            Saarland|          10| 22127|\n",
      "|              Berlin|          11| 97152|\n",
      "|         Brandenburg|          12| 70900|\n",
      "|Mecklenburg-Vorpo...|          13| 28366|\n",
      "|             Sachsen|          14|118722|\n",
      "|      Sachsen-Anhalt|          15| 54705|\n",
      "|           Thüringen|          16| 83128|\n",
      "+--------------------+------------+------+\n",
      "\n"
     ]
    }
   ],
   "source": [
    "df.groupBy(\"Bundesland\",\"IdBundesland\").count().orderBy(\"IdBundesland\").show()"
   ]
  },
  {
   "cell_type": "markdown",
   "id": "bd1d708e-953c-4316-9537-698e04bc20f0",
   "metadata": {},
   "source": [
    "### Ausprägungen Landkreis"
   ]
  },
  {
   "cell_type": "code",
   "execution_count": 59,
   "id": "fc43e477-85c3-45a4-809c-945e961ed20d",
   "metadata": {},
   "outputs": [
    {
     "name": "stdout",
     "output_type": "stream",
     "text": [
      "+--------------------+-----------+-----+\n",
      "|           Landkreis|IdLandkreis|count|\n",
      "+--------------------+-----------+-----+\n",
      "|        SK Flensburg|       1001| 1787|\n",
      "|             SK Kiel|       1002| 4284|\n",
      "|           SK Lübeck|       1003| 4351|\n",
      "|       SK Neumünster|       1004| 1508|\n",
      "|     LK Dithmarschen|       1051| 1635|\n",
      "|LK Herzogtum Laue...|       1053| 3979|\n",
      "|    LK Nordfriesland|       1054| 2086|\n",
      "|      LK Ostholstein|       1055| 2512|\n",
      "|        LK Pinneberg|       1056| 6836|\n",
      "|             LK Plön|       1057| 1237|\n",
      "|LK Rendsburg-Ecke...|       1058| 3042|\n",
      "|LK Schleswig-Flen...|       1059| 2359|\n",
      "|         LK Segeberg|       1060| 4582|\n",
      "|        LK Steinburg|       1061| 1979|\n",
      "|         LK Stormarn|       1062| 5062|\n",
      "|          SK Hamburg|       2000|26470|\n",
      "|     SK Braunschweig|       3101| 4886|\n",
      "|       SK Salzgitter|       3102| 4008|\n",
      "|        SK Wolfsburg|       3103| 3054|\n",
      "|          LK Gifhorn|       3151| 2826|\n",
      "+--------------------+-----------+-----+\n",
      "\n"
     ]
    }
   ],
   "source": [
    "# Anzeige der ersten 20 Landkreise\n",
    "df.groupBy(\"Landkreis\",\"IdLandkreis\").count().orderBy(\"IdLandkreis\").limit(20).show()"
   ]
  },
  {
   "cell_type": "markdown",
   "id": "8e6fc1aa-8cb1-45cb-9e68-68e5d171da49",
   "metadata": {},
   "source": [
    "### Ausprägungen der Altersgruppe"
   ]
  },
  {
   "cell_type": "code",
   "execution_count": 44,
   "id": "d53051d6-3162-423d-b4fe-038141ee4cbc",
   "metadata": {},
   "outputs": [
    {
     "name": "stdout",
     "output_type": "stream",
     "text": [
      "+------------+------+\n",
      "|Altersgruppe| count|\n",
      "+------------+------+\n",
      "|     A35-A59|678082|\n",
      "|     A00-A04| 75024|\n",
      "|        A80+|171094|\n",
      "|     A05-A14|169552|\n",
      "|     A15-A34|557468|\n",
      "|     A60-A79|349457|\n",
      "|   unbekannt|  2429|\n",
      "+------------+------+\n",
      "\n"
     ]
    }
   ],
   "source": [
    "#Werte Altersgruppe\n",
    "df.groupBy(\"Altersgruppe\").count().show()"
   ]
  },
  {
   "cell_type": "markdown",
   "id": "e3d22d22-786e-462c-ae14-46fb1c297834",
   "metadata": {},
   "source": [
    "### Ausprägungen des Geschlechts\n",
    "Bei der Untersuchung der Ausprägungen des Geschlechts, zeigt sich, dass nicht für alle Datensätze das Geschlecht bekannt ist, dies muss im Zuge der Data-Preperation-Phase korrigiert werden."
   ]
  },
  {
   "cell_type": "code",
   "execution_count": 47,
   "id": "8e8cd729-c9b2-4c48-ad5b-f9f9ba635931",
   "metadata": {},
   "outputs": [
    {
     "name": "stdout",
     "output_type": "stream",
     "text": [
      "+----------+-------+\n",
      "|Geschlecht|  count|\n",
      "+----------+-------+\n",
      "|         M| 969988|\n",
      "|         W|1013266|\n",
      "| unbekannt|  19852|\n",
      "+----------+-------+\n",
      "\n"
     ]
    }
   ],
   "source": [
    "df.groupBy(\"Geschlecht\").count().show()"
   ]
  },
  {
   "cell_type": "markdown",
   "id": "4745e58a-bbd7-482b-af29-65d6eb6128ff",
   "metadata": {},
   "source": [
    "### Ausprägungen der Altersgruppe\n",
    "Auch hier zeigt sich bezüglich der Datenqualität, dass es Isntanzen gibt, für die das Feature Altersgruppe unbekannt ist"
   ]
  },
  {
   "cell_type": "code",
   "execution_count": 50,
   "id": "39fd4525-141d-4572-8e10-f24d58be391c",
   "metadata": {},
   "outputs": [
    {
     "name": "stdout",
     "output_type": "stream",
     "text": [
      "+------------+------+\n",
      "|Altersgruppe| count|\n",
      "+------------+------+\n",
      "|     A35-A59|678082|\n",
      "|     A00-A04| 75024|\n",
      "|        A80+|171094|\n",
      "|     A05-A14|169552|\n",
      "|     A15-A34|557468|\n",
      "|     A60-A79|349457|\n",
      "|   unbekannt|  2429|\n",
      "+------------+------+\n",
      "\n"
     ]
    }
   ],
   "source": [
    "df.groupBy(\"Altersgruppe\").count().show()"
   ]
  },
  {
   "cell_type": "markdown",
   "id": "ec0a756d-c4e6-4236-91cc-3af82f85d081",
   "metadata": {},
   "source": [
    "### Ausprägungen der Altersgruppe2\n",
    "Das Feld Altersgruppe2 kann im Zuge der Datenreduktion gelöscht werden, da ddas Attribut für alle Instanzen nicht bekannt ist."
   ]
  },
  {
   "cell_type": "code",
   "execution_count": 51,
   "id": "d9fe5467-2476-4e90-8083-0999ae0e658e",
   "metadata": {},
   "outputs": [
    {
     "name": "stdout",
     "output_type": "stream",
     "text": [
      "+-----------------+-------+\n",
      "|    Altersgruppe2|  count|\n",
      "+-----------------+-------+\n",
      "|Nicht übermittelt|2003106|\n",
      "+-----------------+-------+\n",
      "\n"
     ]
    }
   ],
   "source": [
    "df.groupBy(\"Altersgruppe2\").count().show()"
   ]
  },
  {
   "cell_type": "markdown",
   "id": "4a324d9b-9872-4bda-85b3-eedbfdca693d",
   "metadata": {},
   "source": [
    "## Div. Lagemaße"
   ]
  },
  {
   "cell_type": "markdown",
   "id": "feffe721-2351-4856-99fc-62824d71a3af",
   "metadata": {},
   "source": [
    "### Minimal und Maximal-Ausprägung von AnzahlFall"
   ]
  },
  {
   "cell_type": "code",
   "execution_count": 113,
   "id": "66b3ef8e-b8c8-4e21-8f17-9e2956dd7fb2",
   "metadata": {},
   "outputs": [
    {
     "name": "stdout",
     "output_type": "stream",
     "text": [
      "+---+---+\n",
      "|Min|Max|\n",
      "+---+---+\n",
      "| -3|145|\n",
      "+---+---+\n",
      "\n"
     ]
    }
   ],
   "source": [
    "df.selectExpr(\"min(AnzahlFall) AS Min\",\"max(AnzahlFall) as Max\").show()"
   ]
  },
  {
   "cell_type": "code",
   "execution_count": 110,
   "id": "7069f41f-09ce-4433-b361-a4931e965977",
   "metadata": {},
   "outputs": [
    {
     "data": {
      "text/html": [
       "<table border=\"1\" class=\"dataframe\">\n",
       "  <thead>\n",
       "    <tr style=\"text-align: right;\">\n",
       "      <th></th>\n",
       "      <th>summary</th>\n",
       "      <th>ObjectId</th>\n",
       "      <th>IdBundesland</th>\n",
       "      <th>Bundesland</th>\n",
       "      <th>Landkreis</th>\n",
       "      <th>Altersgruppe</th>\n",
       "      <th>Geschlecht</th>\n",
       "      <th>AnzahlFall</th>\n",
       "      <th>AnzahlTodesfall</th>\n",
       "      <th>Meldedatum</th>\n",
       "      <th>IdLandkreis</th>\n",
       "      <th>Datenstand</th>\n",
       "      <th>NeuerFall</th>\n",
       "      <th>NeuerTodesfall</th>\n",
       "      <th>Refdatum</th>\n",
       "      <th>NeuGenesen</th>\n",
       "      <th>AnzahlGenesen</th>\n",
       "      <th>IstErkrankungsbeginn</th>\n",
       "      <th>Altersgruppe2</th>\n",
       "    </tr>\n",
       "  </thead>\n",
       "  <tbody>\n",
       "    <tr>\n",
       "      <th>0</th>\n",
       "      <td>count</td>\n",
       "      <td>2003106</td>\n",
       "      <td>2003106</td>\n",
       "      <td>2003106</td>\n",
       "      <td>2003106</td>\n",
       "      <td>2003106</td>\n",
       "      <td>2003106</td>\n",
       "      <td>2003106</td>\n",
       "      <td>2003106</td>\n",
       "      <td>2003106</td>\n",
       "      <td>2003106</td>\n",
       "      <td>2003106</td>\n",
       "      <td>2003106</td>\n",
       "      <td>2003106</td>\n",
       "      <td>2003106</td>\n",
       "      <td>2003106</td>\n",
       "      <td>2003106</td>\n",
       "      <td>2003106</td>\n",
       "      <td>2003106</td>\n",
       "    </tr>\n",
       "    <tr>\n",
       "      <th>1</th>\n",
       "      <td>mean</td>\n",
       "      <td>1001553.5</td>\n",
       "      <td>7.99115423746921</td>\n",
       "      <td>None</td>\n",
       "      <td>None</td>\n",
       "      <td>None</td>\n",
       "      <td>None</td>\n",
       "      <td>1.8345030168148866</td>\n",
       "      <td>0.04410151035441959</td>\n",
       "      <td>None</td>\n",
       "      <td>8317.585857163824</td>\n",
       "      <td>None</td>\n",
       "      <td>0.0017497825876413929</td>\n",
       "      <td>-8.668266681843098</td>\n",
       "      <td>None</td>\n",
       "      <td>-0.6025761991627003</td>\n",
       "      <td>1.7328783399380763</td>\n",
       "      <td>0.7012504580386659</td>\n",
       "      <td>None</td>\n",
       "    </tr>\n",
       "    <tr>\n",
       "      <th>2</th>\n",
       "      <td>stddev</td>\n",
       "      <td>578247.0384952265</td>\n",
       "      <td>3.676249636013537</td>\n",
       "      <td>None</td>\n",
       "      <td>None</td>\n",
       "      <td>None</td>\n",
       "      <td>None</td>\n",
       "      <td>2.5629516720516548</td>\n",
       "      <td>0.26221040262407336</td>\n",
       "      <td>None</td>\n",
       "      <td>3639.850633073219</td>\n",
       "      <td>None</td>\n",
       "      <td>0.048040093338880235</td>\n",
       "      <td>1.6959873329443984</td>\n",
       "      <td>None</td>\n",
       "      <td>2.2558363580945513</td>\n",
       "      <td>2.563150051685783</td>\n",
       "      <td>0.4577099056454686</td>\n",
       "      <td>None</td>\n",
       "    </tr>\n",
       "    <tr>\n",
       "      <th>3</th>\n",
       "      <td>min</td>\n",
       "      <td>1</td>\n",
       "      <td>1</td>\n",
       "      <td>Baden-Württemberg</td>\n",
       "      <td>LK Ahrweiler</td>\n",
       "      <td>A00-A04</td>\n",
       "      <td>M</td>\n",
       "      <td>-3</td>\n",
       "      <td>-1</td>\n",
       "      <td>2020/01/04 00:00:00+00</td>\n",
       "      <td>1001</td>\n",
       "      <td>29.05.2021, 00:00 Uhr</td>\n",
       "      <td>-1</td>\n",
       "      <td>-9</td>\n",
       "      <td>2020/01/01 00:00:00+00</td>\n",
       "      <td>-9</td>\n",
       "      <td>-3</td>\n",
       "      <td>0</td>\n",
       "      <td>Nicht übermittelt</td>\n",
       "    </tr>\n",
       "    <tr>\n",
       "      <th>4</th>\n",
       "      <td>max</td>\n",
       "      <td>2003106</td>\n",
       "      <td>16</td>\n",
       "      <td>Thüringen</td>\n",
       "      <td>Städteregion Aachen</td>\n",
       "      <td>unbekannt</td>\n",
       "      <td>unbekannt</td>\n",
       "      <td>145</td>\n",
       "      <td>21</td>\n",
       "      <td>2021/05/28 00:00:00+00</td>\n",
       "      <td>16077</td>\n",
       "      <td>29.05.2021, 00:00 Uhr</td>\n",
       "      <td>1</td>\n",
       "      <td>1</td>\n",
       "      <td>2021/05/28 00:00:00+00</td>\n",
       "      <td>1</td>\n",
       "      <td>145</td>\n",
       "      <td>1</td>\n",
       "      <td>Nicht übermittelt</td>\n",
       "    </tr>\n",
       "  </tbody>\n",
       "</table>"
      ],
      "text/plain": [
       "<IPython.core.display.HTML object>"
      ]
     },
     "execution_count": 110,
     "metadata": {},
     "output_type": "execute_result"
    }
   ],
   "source": [
    "printDf(df.describe())"
   ]
  },
  {
   "cell_type": "code",
   "execution_count": null,
   "id": "327278bf-4800-4223-9a55-9fc61da664e4",
   "metadata": {},
   "outputs": [],
   "source": []
  },
  {
   "cell_type": "markdown",
   "id": "53616980-aee2-4f04-b16b-26360e06a461",
   "metadata": {},
   "source": [
    "## Weitere Ausertungen, Diagramme und Analysen"
   ]
  },
  {
   "cell_type": "markdown",
   "id": "467a43df-581b-434f-bf79-6a7b889ec94e",
   "metadata": {},
   "source": [
    "Da es sich an dieser Stelle um aggregierte Werte handelt, bietet es sich an, zuerst die Data-Preperation-Phase durchzuführen, bevor weitere Diagramme und Analysen durchgeführt werden. Aus diesem Grund wird nach der Dataprepration ein weiteres Data-Understanding-Notebook angelegt."
   ]
  },
  {
   "cell_type": "code",
   "execution_count": 111,
   "id": "442e0b52-9444-48d9-ae4c-453fff9f8a76",
   "metadata": {},
   "outputs": [
    {
     "data": {
      "text/html": [
       "<table border=\"1\" class=\"dataframe\">\n",
       "  <thead>\n",
       "    <tr style=\"text-align: right;\">\n",
       "      <th></th>\n",
       "      <th>summary</th>\n",
       "      <th>ObjectId</th>\n",
       "      <th>IdBundesland</th>\n",
       "      <th>Bundesland</th>\n",
       "      <th>Landkreis</th>\n",
       "      <th>Altersgruppe</th>\n",
       "      <th>Geschlecht</th>\n",
       "      <th>AnzahlFall</th>\n",
       "      <th>AnzahlTodesfall</th>\n",
       "      <th>Meldedatum</th>\n",
       "      <th>IdLandkreis</th>\n",
       "      <th>Datenstand</th>\n",
       "      <th>NeuerFall</th>\n",
       "      <th>NeuerTodesfall</th>\n",
       "      <th>Refdatum</th>\n",
       "      <th>NeuGenesen</th>\n",
       "      <th>AnzahlGenesen</th>\n",
       "      <th>IstErkrankungsbeginn</th>\n",
       "      <th>Altersgruppe2</th>\n",
       "    </tr>\n",
       "  </thead>\n",
       "  <tbody>\n",
       "    <tr>\n",
       "      <th>0</th>\n",
       "      <td>count</td>\n",
       "      <td>2003106</td>\n",
       "      <td>2003106</td>\n",
       "      <td>2003106</td>\n",
       "      <td>2003106</td>\n",
       "      <td>2003106</td>\n",
       "      <td>2003106</td>\n",
       "      <td>2003106</td>\n",
       "      <td>2003106</td>\n",
       "      <td>2003106</td>\n",
       "      <td>2003106</td>\n",
       "      <td>2003106</td>\n",
       "      <td>2003106</td>\n",
       "      <td>2003106</td>\n",
       "      <td>2003106</td>\n",
       "      <td>2003106</td>\n",
       "      <td>2003106</td>\n",
       "      <td>2003106</td>\n",
       "      <td>2003106</td>\n",
       "    </tr>\n",
       "    <tr>\n",
       "      <th>1</th>\n",
       "      <td>mean</td>\n",
       "      <td>1001553.5</td>\n",
       "      <td>7.99115423746921</td>\n",
       "      <td>None</td>\n",
       "      <td>None</td>\n",
       "      <td>None</td>\n",
       "      <td>None</td>\n",
       "      <td>1.8345030168148866</td>\n",
       "      <td>0.04410151035441959</td>\n",
       "      <td>None</td>\n",
       "      <td>8317.585857163824</td>\n",
       "      <td>None</td>\n",
       "      <td>0.0017497825876413929</td>\n",
       "      <td>-8.668266681843098</td>\n",
       "      <td>None</td>\n",
       "      <td>-0.6025761991627003</td>\n",
       "      <td>1.7328783399380763</td>\n",
       "      <td>0.7012504580386659</td>\n",
       "      <td>None</td>\n",
       "    </tr>\n",
       "    <tr>\n",
       "      <th>2</th>\n",
       "      <td>stddev</td>\n",
       "      <td>578247.0384952265</td>\n",
       "      <td>3.676249636013537</td>\n",
       "      <td>None</td>\n",
       "      <td>None</td>\n",
       "      <td>None</td>\n",
       "      <td>None</td>\n",
       "      <td>2.5629516720516548</td>\n",
       "      <td>0.26221040262407336</td>\n",
       "      <td>None</td>\n",
       "      <td>3639.850633073219</td>\n",
       "      <td>None</td>\n",
       "      <td>0.048040093338880235</td>\n",
       "      <td>1.6959873329443984</td>\n",
       "      <td>None</td>\n",
       "      <td>2.2558363580945513</td>\n",
       "      <td>2.563150051685783</td>\n",
       "      <td>0.4577099056454686</td>\n",
       "      <td>None</td>\n",
       "    </tr>\n",
       "    <tr>\n",
       "      <th>3</th>\n",
       "      <td>min</td>\n",
       "      <td>1</td>\n",
       "      <td>1</td>\n",
       "      <td>Baden-Württemberg</td>\n",
       "      <td>LK Ahrweiler</td>\n",
       "      <td>A00-A04</td>\n",
       "      <td>M</td>\n",
       "      <td>-3</td>\n",
       "      <td>-1</td>\n",
       "      <td>2020/01/04 00:00:00+00</td>\n",
       "      <td>1001</td>\n",
       "      <td>29.05.2021, 00:00 Uhr</td>\n",
       "      <td>-1</td>\n",
       "      <td>-9</td>\n",
       "      <td>2020/01/01 00:00:00+00</td>\n",
       "      <td>-9</td>\n",
       "      <td>-3</td>\n",
       "      <td>0</td>\n",
       "      <td>Nicht übermittelt</td>\n",
       "    </tr>\n",
       "    <tr>\n",
       "      <th>4</th>\n",
       "      <td>max</td>\n",
       "      <td>2003106</td>\n",
       "      <td>16</td>\n",
       "      <td>Thüringen</td>\n",
       "      <td>Städteregion Aachen</td>\n",
       "      <td>unbekannt</td>\n",
       "      <td>unbekannt</td>\n",
       "      <td>145</td>\n",
       "      <td>21</td>\n",
       "      <td>2021/05/28 00:00:00+00</td>\n",
       "      <td>16077</td>\n",
       "      <td>29.05.2021, 00:00 Uhr</td>\n",
       "      <td>1</td>\n",
       "      <td>1</td>\n",
       "      <td>2021/05/28 00:00:00+00</td>\n",
       "      <td>1</td>\n",
       "      <td>145</td>\n",
       "      <td>1</td>\n",
       "      <td>Nicht übermittelt</td>\n",
       "    </tr>\n",
       "  </tbody>\n",
       "</table>"
      ],
      "text/plain": [
       "<IPython.core.display.HTML object>"
      ]
     },
     "execution_count": 111,
     "metadata": {},
     "output_type": "execute_result"
    }
   ],
   "source": [
    "printDf(df.describe())\n"
   ]
  },
  {
   "cell_type": "code",
   "execution_count": 18,
   "id": "15f1352c-1a6c-4011-ac7f-48c055872045",
   "metadata": {},
   "outputs": [
    {
     "name": "stdout",
     "output_type": "stream",
     "text": [
      "+----------+------------------+\n",
      "|NeuGenesen|sum(AnzahlGenesen)|\n",
      "+----------+------------------+\n",
      "|        -1|              -691|\n",
      "|         1|             10829|\n",
      "|        -9|                 0|\n",
      "|         0|           3461001|\n",
      "+----------+------------------+\n",
      "\n"
     ]
    }
   ],
   "source": []
  },
  {
   "cell_type": "markdown",
   "id": "40075c3e-c770-41df-a68c-4f366e774f00",
   "metadata": {},
   "source": [
    "## Prüfen ob Zellen Infos zu Todefällen, Genesungen und Neufällen enthält"
   ]
  },
  {
   "cell_type": "code",
   "execution_count": 19,
   "id": "8d351afe-7895-4308-b974-f9ab464e6f48",
   "metadata": {},
   "outputs": [
    {
     "data": {
      "text/plain": [
       "1941511"
      ]
     },
     "execution_count": 19,
     "metadata": {},
     "output_type": "execute_result"
    }
   ],
   "source": [
    "df.filter(((df[\"AnzahlFall\"] > 0) & (df[\"AnzahlTodesfall\"] > 0)) | ((df[\"AnzahlGenesen\"] > 0) & (df[\"AnzahlTodesfall\"] > 0)) | ((df[\"AnzahlFall\"] > 0) & (df[\"AnzahlGenesen\"] > 0))).count()"
   ]
  },
  {
   "cell_type": "markdown",
   "id": "3e363bfa-ccd3-4f43-b176-3ea0607d766f",
   "metadata": {},
   "source": [
    "## Prüfen ob es Einträge gibt, in denen alle drei gefüllt sind"
   ]
  },
  {
   "cell_type": "code",
   "execution_count": 20,
   "id": "7f9ccda8-2493-4dbb-8f03-ad63a040dfe2",
   "metadata": {},
   "outputs": [
    {
     "data": {
      "text/plain": [
       "0"
      ]
     },
     "execution_count": 20,
     "metadata": {},
     "output_type": "execute_result"
    }
   ],
   "source": [
    "df.filter((df[\"AnzahlFall\"] > 0) & (df[\"AnzahlTodesfall\"] > 0) & (df[\"AnzahlGenesen\"] > 0)).count()"
   ]
  },
  {
   "cell_type": "markdown",
   "id": "958db670-885d-4801-b6dc-6b540a0504a8",
   "metadata": {},
   "source": [
    "## Prüfen ob es Records gibt, in den Anzahl Genesen und Anzahl Todesfall gefüllt sind"
   ]
  },
  {
   "cell_type": "code",
   "execution_count": 21,
   "id": "9fa23160-eaf4-4886-97ef-3529c5ed2081",
   "metadata": {},
   "outputs": [
    {
     "data": {
      "text/plain": [
       "0"
      ]
     },
     "execution_count": 21,
     "metadata": {},
     "output_type": "execute_result"
    }
   ],
   "source": [
    "df.filter((df[\"AnzahlGenesen\"] > 0) & (df[\"AnzahlTodesfall\"] > 0)).count()"
   ]
  },
  {
   "cell_type": "markdown",
   "id": "01d20ec2-74ca-46eb-82f2-77f1413fa965",
   "metadata": {},
   "source": [
    "## Prüfen wie viele Records gibt, in den Anzahl Fall und Anzahl Todesfall gefüllt sind"
   ]
  },
  {
   "cell_type": "code",
   "execution_count": 22,
   "id": "f0815eea-2bd9-4fbf-addd-0259efb4d3e1",
   "metadata": {},
   "outputs": [
    {
     "data": {
      "text/plain": [
       "73805"
      ]
     },
     "execution_count": 22,
     "metadata": {},
     "output_type": "execute_result"
    }
   ],
   "source": [
    "df.filter((df[\"AnzahlFall\"] > 0) & (df[\"AnzahlTodesfall\"] > 0)).count()"
   ]
  },
  {
   "cell_type": "markdown",
   "id": "480ea450-c29b-4f8d-a599-e7f5df183458",
   "metadata": {},
   "source": [
    "## Prüfen wie viele Records gibt, in den Anzahl Fall und Anzahl Genesen gefüllt sind"
   ]
  },
  {
   "cell_type": "code",
   "execution_count": 23,
   "id": "55d65d12-82da-494d-ba7d-efc6f79107e1",
   "metadata": {},
   "outputs": [
    {
     "data": {
      "text/plain": [
       "1867706"
      ]
     },
     "execution_count": 23,
     "metadata": {},
     "output_type": "execute_result"
    }
   ],
   "source": [
    "df.filter((df[\"AnzahlFall\"] > 0) & (df[\"AnzahlGenesen\"] > 0)).count()"
   ]
  },
  {
   "cell_type": "markdown",
   "id": "7be80e39-b34b-46cd-968a-39617ba96f87",
   "metadata": {},
   "source": [
    "## Prüfen ob es Einträge gibt bei denen Anzahl Fall und Anzahl Todesfall nicht den selben Wert haben"
   ]
  },
  {
   "cell_type": "code",
   "execution_count": 24,
   "id": "ec54af8a-7d09-4384-b59d-a00bec9ab6be",
   "metadata": {},
   "outputs": [
    {
     "data": {
      "text/plain": [
       "0"
      ]
     },
     "execution_count": 24,
     "metadata": {},
     "output_type": "execute_result"
    }
   ],
   "source": [
    "df.filter((df[\"AnzahlFall\"] > 0) & (df[\"AnzahlTodesfall\"] > 0) & (df[\"AnzahlFall\"] != df[\"AnzahlTodesfall\"])).count()"
   ]
  },
  {
   "cell_type": "markdown",
   "id": "0c8ba771-4f6b-4b0d-9855-21d5eda7021a",
   "metadata": {},
   "source": [
    "## Gegenprobe"
   ]
  },
  {
   "cell_type": "code",
   "execution_count": 25,
   "id": "8cda6d18-b271-441f-9489-9c18832dc5c9",
   "metadata": {},
   "outputs": [
    {
     "data": {
      "text/plain": [
       "73805"
      ]
     },
     "execution_count": 25,
     "metadata": {},
     "output_type": "execute_result"
    }
   ],
   "source": [
    "df.filter((df[\"AnzahlFall\"] > 0) & (df[\"AnzahlTodesfall\"] > 0) & (df[\"AnzahlFall\"] == df[\"AnzahlTodesfall\"])).count()"
   ]
  },
  {
   "cell_type": "markdown",
   "id": "7ef64482-1ff5-48cf-90b2-213e2296f244",
   "metadata": {},
   "source": [
    "## Prüfen ob es Einträge gibt bei denen Anzahl Genesen und Anzahl Fall nicht den selben Wert haben"
   ]
  },
  {
   "cell_type": "code",
   "execution_count": 26,
   "id": "9690d9cc-e927-4024-8a71-fecf44608438",
   "metadata": {},
   "outputs": [
    {
     "data": {
      "text/plain": [
       "0"
      ]
     },
     "execution_count": 26,
     "metadata": {},
     "output_type": "execute_result"
    }
   ],
   "source": [
    "df.filter((df[\"AnzahlFall\"] > 0) & (df[\"AnzahlGenesen\"] > 0) & (df[\"AnzahlFall\"] != df[\"AnzahlGenesen\"])).count()"
   ]
  },
  {
   "cell_type": "markdown",
   "id": "7c021fb7-9336-47aa-b7a5-74496228f91e",
   "metadata": {},
   "source": [
    "## Gegenprobe"
   ]
  },
  {
   "cell_type": "code",
   "execution_count": 27,
   "id": "14a0645a-0e3d-4f12-bf39-742cd25be234",
   "metadata": {},
   "outputs": [
    {
     "data": {
      "text/plain": [
       "1867706"
      ]
     },
     "execution_count": 27,
     "metadata": {},
     "output_type": "execute_result"
    }
   ],
   "source": [
    "df.filter((df[\"AnzahlFall\"] > 0) & (df[\"AnzahlGenesen\"] > 0) & (df[\"AnzahlFall\"] == df[\"AnzahlGenesen\"])).count()"
   ]
  },
  {
   "cell_type": "markdown",
   "id": "f960ecce-9122-42ce-9692-25074eeec2e5",
   "metadata": {},
   "source": [
    "## Prüfen ob es Fälle gibt bei denen Anzal Fall 0 ist und Anzahl Geenesen bzw- Todesfall größer 0 sind"
   ]
  },
  {
   "cell_type": "code",
   "execution_count": 28,
   "id": "9069d2d6-84d1-4e92-8ee5-8c0d83431110",
   "metadata": {},
   "outputs": [
    {
     "data": {
      "text/plain": [
       "0"
      ]
     },
     "execution_count": 28,
     "metadata": {},
     "output_type": "execute_result"
    }
   ],
   "source": [
    "df.filter((df[\"AnzahlFall\"] == 0) & ((df[\"AnzahlGenesen\"] > 0) | (df[\"AnzahlTodesfall\"]  > 0))).count()"
   ]
  },
  {
   "cell_type": "code",
   "execution_count": 29,
   "id": "3d8ae936-e9e4-4645-ae1f-33d21b5345ae",
   "metadata": {},
   "outputs": [],
   "source": [
    "## Prüfen ob es Einträge gibt bei denen Anzahl Genesen und Anzahl Todesfall nicht den selben Wert haben"
   ]
  },
  {
   "cell_type": "code",
   "execution_count": 30,
   "id": "cade436e-a18b-4893-b3d1-b4d1601dd599",
   "metadata": {},
   "outputs": [
    {
     "name": "stdout",
     "output_type": "stream",
     "text": [
      "+--------+------------+------------------+------------+------------+----------+----------+---------------+--------------------+-----------+--------------------+---------+--------------+--------------------+----------+-------------+--------------------+-----------------+----------+\n",
      "|ObjectId|IdBundesland|        Bundesland|   Landkreis|Altersgruppe|Geschlecht|AnzahlFall|AnzahlTodesfall|          Meldedatum|IdLandkreis|          Datenstand|NeuerFall|NeuerTodesfall|            Refdatum|NeuGenesen|AnzahlGenesen|IstErkrankungsbeginn|    Altersgruppe2|  DateTime|\n",
      "+--------+------------+------------------+------------+------------+----------+----------+---------------+--------------------+-----------+--------------------+---------+--------------+--------------------+----------+-------------+--------------------+-----------------+----------+\n",
      "|       1|           1|Schleswig-Holstein|SK Flensburg|     A15-A34|         M|         3|              0|2021/03/19 00:00:...|       1001|29.05.2021, 00:00...|        0|            -9|2021/03/16 00:00:...|         0|            3|                   1|Nicht übermittelt|2021-03-16|\n",
      "+--------+------------+------------------+------------+------------+----------+----------+---------------+--------------------+-----------+--------------------+---------+--------------+--------------------+----------+-------------+--------------------+-----------------+----------+\n",
      "only showing top 1 row\n",
      "\n"
     ]
    }
   ],
   "source": [
    "#Spalte einfügen um Datumstring in DateType umzuwandeln\n",
    "df.withColumn(\"DateTime\",to_date(col(\"Refdatum\"), \"yyyy/MM/dd HH:mm:ssx\")).show(1)\n",
    "\n",
    "\n",
    "#df.filter(df['NeuerFall'] == 1).filter(to_date(df.Refdatum, \"dd/MM/yyyy\") == lit(\"2021-05-29\")).groupBy(\"NeuerFall\").sum(\"AnzahlFall\").show()\n"
   ]
  },
  {
   "cell_type": "markdown",
   "id": "1e604d29-a484-4b74-bbf9-39570e45ec9b",
   "metadata": {},
   "source": []
  },
  {
   "cell_type": "code",
   "execution_count": 32,
   "id": "e63b9179-a9bc-4393-bf38-76530859efc5",
   "metadata": {},
   "outputs": [
    {
     "name": "stdout",
     "output_type": "stream",
     "text": [
      "+------------+------+\n",
      "|Altersgruppe| count|\n",
      "+------------+------+\n",
      "|     A35-A59|678082|\n",
      "|     A00-A04| 75024|\n",
      "|        A80+|171094|\n",
      "|     A05-A14|169552|\n",
      "|     A15-A34|557468|\n",
      "|     A60-A79|349457|\n",
      "|   unbekannt|  2429|\n",
      "+------------+------+\n",
      "\n"
     ]
    }
   ],
   "source": [
    "#Werte Altersgruppe\n",
    "df.groupBy(\"Altersgruppe\").count().show()"
   ]
  },
  {
   "cell_type": "markdown",
   "id": "97e5ac75-00ea-4570-9d2e-5405e2190460",
   "metadata": {},
   "source": [
    "## Untersuchung Ausprägungen Geschlecht"
   ]
  },
  {
   "cell_type": "code",
   "execution_count": 35,
   "id": "68607cc3-9033-4070-888b-8ca5f1d17342",
   "metadata": {},
   "outputs": [
    {
     "name": "stdout",
     "output_type": "stream",
     "text": [
      "+----------+-------+\n",
      "|Geschlecht|  count|\n",
      "+----------+-------+\n",
      "|         M| 969988|\n",
      "|         W|1013266|\n",
      "| unbekannt|  19852|\n",
      "+----------+-------+\n",
      "\n"
     ]
    }
   ],
   "source": [
    "df.groupBy(\"Geschlecht\").count().show()"
   ]
  },
  {
   "cell_type": "code",
   "execution_count": 33,
   "id": "0027c3e2-5075-45cd-9edf-bc63105974ca",
   "metadata": {},
   "outputs": [
    {
     "ename": "SyntaxError",
     "evalue": "invalid syntax (<ipython-input-33-4baba338acc6>, line 2)",
     "output_type": "error",
     "traceback": [
      "\u001b[0;36m  File \u001b[0;32m\"<ipython-input-33-4baba338acc6>\"\u001b[0;36m, line \u001b[0;32m2\u001b[0m\n\u001b[0;31m    -> Geschlecht Range\u001b[0m\n\u001b[0m    ^\u001b[0m\n\u001b[0;31mSyntaxError\u001b[0m\u001b[0;31m:\u001b[0m invalid syntax\n"
     ]
    }
   ],
   "source": [
    "## TODO:\n",
    "#-> Geschlecht Range\n",
    "#--> Datumsrange\n",
    "#-_> Zeigen das Altersgruppe 2 leer ist\n",
    "#--> Visualisierung\n",
    "#--> Feld ist erkrankungsbeginn\n",
    "#--> Wie viele Geshclecht unbekannt\n",
    "\n",
    "#--> Aufnehmen von asugewählten Kominationen:\n",
    "#    + wenn alle Korrekturen herausgefilter sind, Fälle anschauen neu genesen -1 und neuerTodesfall -1\n",
    "#    + Schauen wie viel neuer Fall\n",
    "#    +\n"
   ]
  },
  {
   "cell_type": "code",
   "execution_count": null,
   "id": "ec667ae9-86cb-443b-b593-4d8da017f107",
   "metadata": {},
   "outputs": [],
   "source": []
  },
  {
   "cell_type": "code",
   "execution_count": null,
   "id": "01ad8462-4f9c-471b-9931-247259488b3c",
   "metadata": {},
   "outputs": [],
   "source": []
  },
  {
   "cell_type": "code",
   "execution_count": null,
   "id": "94838fee-4eb1-4ef6-9f70-ac31ce02c2b3",
   "metadata": {},
   "outputs": [],
   "source": [
    "# DateFormart\n",
    "dfNeu = df.withColumn(\"DateTime\",to_date(col(\"Refdatum\"), \"yyyy/MM/dd HH:mm:ssx\"))\n",
    "\n"
   ]
  },
  {
   "cell_type": "code",
   "execution_count": null,
   "id": "9d374b09-1b14-4d28-9601-c58e8aaca890",
   "metadata": {},
   "outputs": [],
   "source": [
    "dfNeu.sort(col(\"DateTime\").desc()).show()"
   ]
  },
  {
   "cell_type": "code",
   "execution_count": null,
   "id": "a576c7d3-b11c-4bd5-85e2-dc6a7090d5b8",
   "metadata": {},
   "outputs": [],
   "source": [
    "df.filter(df['NeuerFall'] >  0).groupBy().sum(\"AnzahlFall\").show()"
   ]
  },
  {
   "cell_type": "markdown",
   "id": "ab0ad8a0-a1dc-40be-ab62-36a68294d357",
   "metadata": {},
   "source": []
  },
  {
   "cell_type": "code",
   "execution_count": null,
   "id": "31892e9a-660d-407e-90a8-82df16865c9a",
   "metadata": {},
   "outputs": [],
   "source": []
  },
  {
   "cell_type": "code",
   "execution_count": null,
   "id": "5c763ccc-1a3b-46e5-a2c9-e6c2d52801a0",
   "metadata": {},
   "outputs": [],
   "source": []
  },
  {
   "cell_type": "code",
   "execution_count": null,
   "id": "b6e84373-d9c6-490f-862d-8a52b7d3ad00",
   "metadata": {},
   "outputs": [],
   "source": []
  }
 ],
 "metadata": {
  "kernelspec": {
   "display_name": "Python 3",
   "language": "python",
   "name": "python3"
  },
  "language_info": {
   "codemirror_mode": {
    "name": "ipython",
    "version": 3
   },
   "file_extension": ".py",
   "mimetype": "text/x-python",
   "name": "python",
   "nbconvert_exporter": "python",
   "pygments_lexer": "ipython3",
   "version": "3.8.8"
  }
 },
 "nbformat": 4,
 "nbformat_minor": 5
}
