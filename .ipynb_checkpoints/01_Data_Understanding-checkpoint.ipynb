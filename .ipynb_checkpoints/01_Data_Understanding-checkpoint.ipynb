{
 "cells": [
  {
   "cell_type": "code",
   "execution_count": 48,
   "id": "76f7a27d-0998-48dd-a3ea-b7ccda582e31",
   "metadata": {},
   "outputs": [],
   "source": [
    "from pyspark.sql import DataFrameReader\n",
    "from pyspark.sql import SparkSession\n",
    "from pyspark.ml.feature import IndexToString, Normalizer, StringIndexer, VectorAssembler, VectorIndexer\n",
    "from pyspark.ml.classification import DecisionTreeClassifier\n",
    "from helpers.helper_functions import translate_to_file_string\n",
    "\n",
    "\n",
    "# for pretty printing\n",
    "def printDf(sprkDF): \n",
    "    newdf = sprkDF.toPandas()\n",
    "    from IPython.display import display, HTML\n",
    "    return HTML(newdf.to_html())"
   ]
  },
  {
   "cell_type": "code",
   "execution_count": 49,
   "id": "2e553f0f-2395-4ac1-bc84-c272debffa16",
   "metadata": {},
   "outputs": [],
   "source": [
    "inputFile = translate_to_file_string(\"./data/RKI_COVID19_20210512.csv\")"
   ]
  },
  {
   "cell_type": "markdown",
   "id": "6c61df6a-936a-4839-afc5-9e7fd4235dfe",
   "metadata": {},
   "source": [
    "## Create Spark Session"
   ]
  },
  {
   "cell_type": "code",
   "execution_count": 50,
   "id": "cea1c45d-0675-4dcc-b871-74913dd16806",
   "metadata": {},
   "outputs": [
    {
     "name": "stdout",
     "output_type": "stream",
     "text": [
      "root\n",
      " |-- ObjectId: integer (nullable = true)\n",
      " |-- IdBundesland: integer (nullable = true)\n",
      " |-- Bundesland: string (nullable = true)\n",
      " |-- Landkreis: string (nullable = true)\n",
      " |-- Altersgruppe: string (nullable = true)\n",
      " |-- Geschlecht: string (nullable = true)\n",
      " |-- AnzahlFall: integer (nullable = true)\n",
      " |-- AnzahlTodesfall: integer (nullable = true)\n",
      " |-- Meldedatum: string (nullable = true)\n",
      " |-- IdLandkreis: integer (nullable = true)\n",
      " |-- Datenstand: string (nullable = true)\n",
      " |-- NeuerFall: integer (nullable = true)\n",
      " |-- NeuerTodesfall: integer (nullable = true)\n",
      " |-- Refdatum: string (nullable = true)\n",
      " |-- NeuGenesen: integer (nullable = true)\n",
      " |-- AnzahlGenesen: integer (nullable = true)\n",
      " |-- IstErkrankungsbeginn: integer (nullable = true)\n",
      " |-- Altersgruppe2: string (nullable = true)\n",
      "\n",
      "None\n"
     ]
    }
   ],
   "source": [
    "#create a SparkSession\n",
    "spark = (SparkSession\n",
    "       .builder\n",
    "       .appName(\"RKICOVID19UNDERSTANDING\")\n",
    "       .getOrCreate())\n",
    "# create a DataFrame using an ifered Schema \n",
    "df = spark.read.option(\"header\", \"true\") \\\n",
    "       .option(\"inferSchema\", \"true\") \\\n",
    "       .option(\"delimiter\", \",\") \\\n",
    "       .csv(inputFile)   \n",
    "print(df.printSchema())"
   ]
  },
  {
   "cell_type": "code",
   "execution_count": 51,
   "id": "865f1c59-6fa8-4113-b431-d0352870ea77",
   "metadata": {},
   "outputs": [],
   "source": [
    "### Show First Row"
   ]
  },
  {
   "cell_type": "code",
   "execution_count": 52,
   "id": "c3f93137-5214-4f70-b648-80a47f4029fa",
   "metadata": {},
   "outputs": [
    {
     "name": "stdout",
     "output_type": "stream",
     "text": [
      "+--------+------------+------------------+------------+------------+----------+----------+---------------+--------------------+-----------+--------------------+---------+--------------+--------------------+----------+-------------+--------------------+-----------------+\n",
      "|ObjectId|IdBundesland|        Bundesland|   Landkreis|Altersgruppe|Geschlecht|AnzahlFall|AnzahlTodesfall|          Meldedatum|IdLandkreis|          Datenstand|NeuerFall|NeuerTodesfall|            Refdatum|NeuGenesen|AnzahlGenesen|IstErkrankungsbeginn|    Altersgruppe2|\n",
      "+--------+------------+------------------+------------+------------+----------+----------+---------------+--------------------+-----------+--------------------+---------+--------------+--------------------+----------+-------------+--------------------+-----------------+\n",
      "|       1|           1|Schleswig-Holstein|SK Flensburg|     A15-A34|         M|         1|              0|2021/03/21 00:00:...|       1001|12.05.2021, 00:00...|        0|            -9|2021/03/13 00:00:...|         0|            1|                   1|Nicht übermittelt|\n",
      "+--------+------------+------------------+------------+------------+----------+----------+---------------+--------------------+-----------+--------------------+---------+--------------+--------------------+----------+-------------+--------------------+-----------------+\n",
      "only showing top 1 row\n",
      "\n"
     ]
    }
   ],
   "source": [
    "df.show(1)"
   ]
  },
  {
   "cell_type": "code",
   "execution_count": 53,
   "id": "db99f4af-6311-4280-9730-7e3e0d4e499f",
   "metadata": {},
   "outputs": [
    {
     "name": "stdout",
     "output_type": "stream",
     "text": [
      "1909100\n"
     ]
    }
   ],
   "source": [
    "### Anzahl der Datensätze\n",
    "print(df.count())"
   ]
  },
  {
   "cell_type": "code",
   "execution_count": 57,
   "id": "b43940d8-fbe9-44dd-b637-1160e80196e3",
   "metadata": {},
   "outputs": [
    {
     "name": "stdout",
     "output_type": "stream",
     "text": [
      "+--------------------+------+\n",
      "|          Bundesland| count|\n",
      "+--------------------+------+\n",
      "|      Sachsen-Anhalt| 52526|\n",
      "|       Niedersachsen|149948|\n",
      "|         Brandenburg| 68754|\n",
      "|              Berlin| 93527|\n",
      "|              Bayern|345711|\n",
      "|             Sachsen|112548|\n",
      "|             Hamburg| 25261|\n",
      "|              Bremen| 11563|\n",
      "| Nordrhein-Westfalen|375788|\n",
      "|           Thüringen| 78950|\n",
      "|              Hessen|144697|\n",
      "|   Baden-Württemberg|266140|\n",
      "|Mecklenburg-Vorpo...| 27318|\n",
      "|            Saarland| 21100|\n",
      "|  Schleswig-Holstein| 44964|\n",
      "|     Rheinland-Pfalz| 90305|\n",
      "+--------------------+------+\n",
      "\n"
     ]
    }
   ],
   "source": [
    "### Alle betroffenen Bundesländer\n",
    "df.groupBy(\"Bundesland\").count().show()"
   ]
  },
  {
   "cell_type": "code",
   "execution_count": 55,
   "id": "9cc7277f-4de7-4827-8e08-bb1faaed53e4",
   "metadata": {},
   "outputs": [
    {
     "name": "stdout",
     "output_type": "stream",
     "text": [
      "+-------+-----------------+------------------+-----------------+------------------+------------+----------+------------------+-------------------+--------------------+------------------+--------------------+--------------------+------------------+--------------------+-------------------+-----------------+--------------------+-----------------+\n",
      "|summary|         ObjectId|      IdBundesland|       Bundesland|         Landkreis|Altersgruppe|Geschlecht|        AnzahlFall|    AnzahlTodesfall|          Meldedatum|       IdLandkreis|          Datenstand|           NeuerFall|    NeuerTodesfall|            Refdatum|         NeuGenesen|    AnzahlGenesen|IstErkrankungsbeginn|    Altersgruppe2|\n",
      "+-------+-----------------+------------------+-----------------+------------------+------------+----------+------------------+-------------------+--------------------+------------------+--------------------+--------------------+------------------+--------------------+-------------------+-----------------+--------------------+-----------------+\n",
      "|  count|          1909100|           1909100|          1909100|           1909100|     1909100|   1909100|           1909100|            1909100|             1909100|           1909100|             1909100|             1909100|           1909100|             1909100|            1909100|          1909100|             1909100|          1909100|\n",
      "|   mean|         954550.5|7.9922995128594625|             null|              null|        null|      null|1.8583856267351109| 0.0447210727567964|                null| 8318.290364045886|                null|0.003724791786705...|-8.665165784924834|                null|-0.8042831700801425|1.686554921167042|  0.6964313027080823|             null|\n",
      "| stddev|551109.8437925057|3.6783484619265465|             null|              null|        null|      null| 2.643639867623813|0.26537566104048727|                null|3641.5367858229106|                null| 0.06433812268957068| 1.703761265635839|                null| 2.5785307074698616|2.544421702615915| 0.45979871036899733|             null|\n",
      "|    min|                1|                 1|Baden-Württemberg|      LK Ahrweiler|     A00-A04|         M|                -7|                 -1|2020/01/07 00:00:...|              1001|12.05.2021, 00:00...|                  -1|                -9|2020/01/01 00:00:...|                 -9|               -5|                   0|Nicht übermittelt|\n",
      "|    max|          1909100|                16|        Thüringen|StadtRegion Aachen|   unbekannt| unbekannt|               145|                 21|2021/05/11 00:00:...|             16077|12.05.2021, 00:00...|                   1|                 1|2021/05/11 00:00:...|                  1|              145|                   1|Nicht übermittelt|\n",
      "+-------+-----------------+------------------+-----------------+------------------+------------+----------+------------------+-------------------+--------------------+------------------+--------------------+--------------------+------------------+--------------------+-------------------+-----------------+--------------------+-----------------+\n",
      "\n"
     ]
    }
   ],
   "source": [
    "### Anzahl der Datensätze nach Bundesland\n",
    "df.describe().show()"
   ]
  },
  {
   "cell_type": "code",
   "execution_count": null,
   "id": "719bef68-3b48-4cf7-a607-aabe39300d73",
   "metadata": {},
   "outputs": [],
   "source": []
  },
  {
   "cell_type": "code",
   "execution_count": null,
   "id": "5a7e2d7c-4d0e-4740-830a-9b72235b4f8b",
   "metadata": {},
   "outputs": [],
   "source": []
  }
 ],
 "metadata": {
  "kernelspec": {
   "display_name": "Python 3",
   "language": "python",
   "name": "python3"
  },
  "language_info": {
   "codemirror_mode": {
    "name": "ipython",
    "version": 3
   },
   "file_extension": ".py",
   "mimetype": "text/x-python",
   "name": "python",
   "nbconvert_exporter": "python",
   "pygments_lexer": "ipython3",
   "version": "3.8.8"
  }
 },
 "nbformat": 4,
 "nbformat_minor": 5
}
