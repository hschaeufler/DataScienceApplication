{
 "cells": [
  {
   "cell_type": "markdown",
   "id": "78da626b-7d05-4bc8-8204-27ba6c010209",
   "metadata": {},
   "source": [
    "# Data Preperation"
   ]
  },
  {
   "cell_type": "markdown",
   "id": "2018d3e4-c3ff-42e2-95f1-f9f8fefa45cf",
   "metadata": {},
   "source": [
    "## Setup"
   ]
  },
  {
   "cell_type": "code",
   "execution_count": 8,
   "id": "ca4d0ac4-226e-4f5b-a6fa-0bd1b85bd29c",
   "metadata": {},
   "outputs": [],
   "source": [
    "# Python ≥3.5 is required\n",
    "import sys\n",
    "assert sys.version_info >= (3, 5)\n",
    "\n",
    "# Scikit-Learn ≥0.20 is required\n",
    "import sklearn\n",
    "assert sklearn.__version__ >= \"0.20\"\n",
    "\n",
    "# Common imports\n",
    "import numpy as np\n",
    "import os\n",
    "\n",
    "# To plot pretty figures\n",
    "%matplotlib inline\n",
    "import matplotlib as mpl\n",
    "import matplotlib.pyplot as plt\n",
    "mpl.rc('axes', labelsize=14)\n",
    "mpl.rc('xtick', labelsize=12)\n",
    "mpl.rc('ytick', labelsize=12)\n",
    "\n",
    "\n",
    "\n",
    "# Where to save the figures\n",
    "PROJECT_ROOT_DIR = \".\"\n",
    "CHAPTER_ID = \"end_to_end_project\"\n",
    "IMAGES_PATH = os.path.join(PROJECT_ROOT_DIR, \"images\", CHAPTER_ID)\n",
    "os.makedirs(IMAGES_PATH, exist_ok=True)\n",
    "\n",
    "def save_fig(fig_id, tight_layout=True, fig_extension=\"png\", resolution=300):\n",
    "    path = os.path.join(IMAGES_PATH, fig_id + \".\" + fig_extension)\n",
    "    print(\"Saving figure\", fig_id)\n",
    "    if tight_layout:\n",
    "        plt.tight_layout()\n",
    "    plt.savefig(path, format=fig_extension, dpi=resolution)\n",
    "\n",
    "# for pretty printing\n",
    "def printDf(sprkDF): \n",
    "    newdf = sprkDF.toPandas()\n",
    "    from IPython.display import display, HTML\n",
    "    return HTML(newdf.to_html())\n",
    "\n",
    "# Ignore useless warnings (see SciPy issue #5998)\n",
    "import warnings\n",
    "warnings.filterwarnings(action=\"ignore\", message=\"^internal gelsd\")\n",
    "\n",
    "# Spark libs\n",
    "from pyspark.sql.session import SparkSession\n",
    "\n",
    "# helper functions\n",
    "from helpers.helper_functions import translate_to_file_string\n",
    "\n",
    "# for pretty printing\n",
    "def printDf(sprkDF): \n",
    "    newdf = sprkDF.toPandas()\n",
    "    from IPython.display import display, HTML\n",
    "    return HTML(newdf.to_html())\n",
    "\n",
    "inputFile = translate_to_file_string(\"./data/Data_Preparation_Result.csv\")"
   ]
  },
  {
   "cell_type": "markdown",
   "id": "4978b0a3-e029-4a47-addf-3d03cc69e0fd",
   "metadata": {},
   "source": [
    "## Create Spark Session"
   ]
  },
  {
   "cell_type": "code",
   "execution_count": 6,
   "id": "67da5ee7-f795-4e20-8ea6-17affdfde647",
   "metadata": {},
   "outputs": [
    {
     "name": "stdout",
     "output_type": "stream",
     "text": [
      "root\n",
      " |-- Bundesland: string (nullable = true)\n",
      " |-- BundeslandIndex: integer (nullable = true)\n",
      " |-- Landkreis: string (nullable = true)\n",
      " |-- LandkreisIndex: integer (nullable = true)\n",
      " |-- Altersgruppe: string (nullable = true)\n",
      " |-- AltersgruppeIndex: double (nullable = true)\n",
      " |-- Geschlecht: string (nullable = true)\n",
      " |-- GeschlechtIndex: double (nullable = true)\n",
      " |-- FallStatus: string (nullable = true)\n",
      " |-- FallStatusIndex: double (nullable = true)\n",
      "\n",
      "None\n"
     ]
    }
   ],
   "source": [
    "#create a SparkSession\n",
    "spark = (SparkSession\n",
    "       .builder\n",
    "       .appName(\"RKIDATAUNDERSTANDING\")\n",
    "       .getOrCreate())\n",
    "# create a DataFrame using an ifered Schema \n",
    "df = spark.read.option(\"header\", \"true\") \\\n",
    "       .option(\"inferSchema\", \"true\") \\\n",
    "       .option(\"delimiter\", \";\") \\\n",
    "       .csv(inputFile)   \n",
    "print(df.printSchema())"
   ]
  },
  {
   "cell_type": "code",
   "execution_count": 7,
   "id": "b83b3925-e7c4-475b-9be6-3667564d7fb2",
   "metadata": {},
   "outputs": [
    {
     "data": {
      "text/plain": [
       "3675296"
      ]
     },
     "execution_count": 7,
     "metadata": {},
     "output_type": "execute_result"
    }
   ],
   "source": [
    "df.count()"
   ]
  },
  {
   "cell_type": "markdown",
   "id": "ea122b71-3295-4e89-a73a-a97eeb94caab",
   "metadata": {},
   "source": [
    "### Dataplot"
   ]
  },
  {
   "cell_type": "code",
   "execution_count": 12,
   "id": "427a6737-8187-4544-bc3a-88ef79a3560b",
   "metadata": {},
   "outputs": [
    {
     "data": {
      "text/html": [
       "<table border=\"1\" class=\"dataframe\">\n",
       "  <thead>\n",
       "    <tr style=\"text-align: right;\">\n",
       "      <th></th>\n",
       "      <th>summary</th>\n",
       "      <th>Bundesland</th>\n",
       "      <th>BundeslandIndex</th>\n",
       "      <th>Landkreis</th>\n",
       "      <th>LandkreisIndex</th>\n",
       "      <th>Altersgruppe</th>\n",
       "      <th>AltersgruppeIndex</th>\n",
       "      <th>Geschlecht</th>\n",
       "      <th>GeschlechtIndex</th>\n",
       "      <th>FallStatus</th>\n",
       "      <th>FallStatusIndex</th>\n",
       "    </tr>\n",
       "  </thead>\n",
       "  <tbody>\n",
       "    <tr>\n",
       "      <th>0</th>\n",
       "      <td>count</td>\n",
       "      <td>3675296</td>\n",
       "      <td>3675296</td>\n",
       "      <td>3675296</td>\n",
       "      <td>3675296</td>\n",
       "      <td>3675296</td>\n",
       "      <td>3675296</td>\n",
       "      <td>3675296</td>\n",
       "      <td>3675296</td>\n",
       "      <td>3675296</td>\n",
       "      <td>3675296</td>\n",
       "    </tr>\n",
       "    <tr>\n",
       "      <th>1</th>\n",
       "      <td>mean</td>\n",
       "      <td>None</td>\n",
       "      <td>7.96834676717195</td>\n",
       "      <td>None</td>\n",
       "      <td>8299.551207848293</td>\n",
       "      <td>None</td>\n",
       "      <td>1.2410355519664267</td>\n",
       "      <td>None</td>\n",
       "      <td>0.4848072100859359</td>\n",
       "      <td>None</td>\n",
       "      <td>0.0793993191296701</td>\n",
       "    </tr>\n",
       "    <tr>\n",
       "      <th>2</th>\n",
       "      <td>stddev</td>\n",
       "      <td>None</td>\n",
       "      <td>3.674480465407683</td>\n",
       "      <td>None</td>\n",
       "      <td>3652.432864601237</td>\n",
       "      <td>None</td>\n",
       "      <td>1.3592062662803304</td>\n",
       "      <td>None</td>\n",
       "      <td>0.49976919382208435</td>\n",
       "      <td>None</td>\n",
       "      <td>0.3480989234232694</td>\n",
       "    </tr>\n",
       "    <tr>\n",
       "      <th>3</th>\n",
       "      <td>min</td>\n",
       "      <td>Baden-Württemberg</td>\n",
       "      <td>1</td>\n",
       "      <td>LK Ahrweiler</td>\n",
       "      <td>1001</td>\n",
       "      <td>A00-A04</td>\n",
       "      <td>0.0</td>\n",
       "      <td>M</td>\n",
       "      <td>0.0</td>\n",
       "      <td>GENESEN</td>\n",
       "      <td>0.0</td>\n",
       "    </tr>\n",
       "    <tr>\n",
       "      <th>4</th>\n",
       "      <td>25%</td>\n",
       "      <td>None</td>\n",
       "      <td>5</td>\n",
       "      <td>None</td>\n",
       "      <td>5562</td>\n",
       "      <td>None</td>\n",
       "      <td>0.0</td>\n",
       "      <td>None</td>\n",
       "      <td>0.0</td>\n",
       "      <td>None</td>\n",
       "      <td>0.0</td>\n",
       "    </tr>\n",
       "    <tr>\n",
       "      <th>5</th>\n",
       "      <td>50%</td>\n",
       "      <td>None</td>\n",
       "      <td>8</td>\n",
       "      <td>None</td>\n",
       "      <td>8128</td>\n",
       "      <td>None</td>\n",
       "      <td>1.0</td>\n",
       "      <td>None</td>\n",
       "      <td>0.0</td>\n",
       "      <td>None</td>\n",
       "      <td>0.0</td>\n",
       "    </tr>\n",
       "    <tr>\n",
       "      <th>6</th>\n",
       "      <td>75%</td>\n",
       "      <td>None</td>\n",
       "      <td>9</td>\n",
       "      <td>None</td>\n",
       "      <td>9774</td>\n",
       "      <td>None</td>\n",
       "      <td>2.0</td>\n",
       "      <td>None</td>\n",
       "      <td>1.0</td>\n",
       "      <td>None</td>\n",
       "      <td>0.0</td>\n",
       "    </tr>\n",
       "    <tr>\n",
       "      <th>7</th>\n",
       "      <td>max</td>\n",
       "      <td>Thüringen</td>\n",
       "      <td>16</td>\n",
       "      <td>Städteregion Aachen</td>\n",
       "      <td>16077</td>\n",
       "      <td>A80+</td>\n",
       "      <td>5.0</td>\n",
       "      <td>W</td>\n",
       "      <td>1.0</td>\n",
       "      <td>NICHTEINGETRETEN</td>\n",
       "      <td>2.0</td>\n",
       "    </tr>\n",
       "  </tbody>\n",
       "</table>"
      ],
      "text/plain": [
       "<IPython.core.display.HTML object>"
      ]
     },
     "execution_count": 12,
     "metadata": {},
     "output_type": "execute_result"
    }
   ],
   "source": [
    "printDf(df.summary())"
   ]
  },
  {
   "cell_type": "markdown",
   "id": "2d7b2dac-436b-46d9-aeb4-df7686f0f920",
   "metadata": {},
   "source": [
    "### Histogramm"
   ]
  },
  {
   "cell_type": "code",
   "execution_count": 9,
   "id": "5c172c48-686c-4029-8b66-7a756e1924a8",
   "metadata": {},
   "outputs": [
    {
     "name": "stdout",
     "output_type": "stream",
     "text": [
      "Saving figure attribute_histogram_plots\n"
     ]
    },
    {
     "data": {
      "image/png": "[encoded data removed]",
      "text/plain": [
       "<Figure size 1440x1080 with 6 Axes>"
      ]
     },
     "metadata": {
      "needs_background": "light"
     },
     "output_type": "display_data"
    }
   ],
   "source": [
    "%matplotlib inline\n",
    "import matplotlib.pyplot as plt\n",
    "df.toPandas().hist(bins=20, figsize=(20,15))\n",
    "save_fig(\"attribute_histogram_plots\")\n",
    "plt.show()"
   ]
  },
  {
   "cell_type": "code",
   "execution_count": null,
   "id": "83223f21-ba3e-4034-a6e5-a79408cbfc9e",
   "metadata": {},
   "outputs": [],
   "source": [
    "## Lagemaße\n",
    "Nachfolgend werden verschiedene Lage-Maße des Datensatzes ermittelt"
   ]
  },
  {
   "cell_type": "code",
   "execution_count": null,
   "id": "5d218210-d172-4f33-ab62-a02b0c41a287",
   "metadata": {},
   "outputs": [],
   "source": []
  }
 ],
 "metadata": {
  "kernelspec": {
   "display_name": "Python 3",
   "language": "python",
   "name": "python3"
  },
  "language_info": {
   "codemirror_mode": {
    "name": "ipython",
    "version": 3
   },
   "file_extension": ".py",
   "mimetype": "text/x-python",
   "name": "python",
   "nbconvert_exporter": "python",
   "pygments_lexer": "ipython3",
   "version": "3.8.8"
  },
  "toc-autonumbering": false,
  "toc-showtags": false
 },
 "nbformat": 4,
 "nbformat_minor": 5
}
