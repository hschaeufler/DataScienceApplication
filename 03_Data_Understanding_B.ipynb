{
 "cells": [
  {
   "cell_type": "markdown",
   "id": "78da626b-7d05-4bc8-8204-27ba6c010209",
   "metadata": {},
   "source": [
    "# Data Preperation"
   ]
  },
  {
   "cell_type": "markdown",
   "id": "2018d3e4-c3ff-42e2-95f1-f9f8fefa45cf",
   "metadata": {},
   "source": [
    "## Setup"
   ]
  },
  {
   "cell_type": "code",
   "execution_count": 79,
   "id": "ca4d0ac4-226e-4f5b-a6fa-0bd1b85bd29c",
   "metadata": {},
   "outputs": [],
   "source": [
    "# Python ≥3.5 is required\n",
    "import sys\n",
    "assert sys.version_info >= (3, 5)\n",
    "\n",
    "# Scikit-Learn ≥0.20 is required\n",
    "import sklearn\n",
    "assert sklearn.__version__ >= \"0.20\"\n",
    "\n",
    "# Common imports\n",
    "import numpy as np\n",
    "import os\n",
    "\n",
    "# Imports for Correlation, Summarizer and ChiSquareTest\n",
    "from pyspark.ml.stat import Correlation\n",
    "from pyspark.ml.feature import VectorAssembler\n",
    "from pyspark.sql import SparkSession\n",
    "from pyspark.ml.stat import ChiSquareTest\n",
    "from pyspark.ml.stat import Summarizer\n",
    "from pandas.plotting import parallel_coordinates\n",
    "\n",
    "# To plot pretty figures\n",
    "%matplotlib inline\n",
    "import matplotlib as mpl\n",
    "import matplotlib.pyplot as plt\n",
    "mpl.rc('axes', labelsize=14)\n",
    "mpl.rc('xtick', labelsize=12)\n",
    "mpl.rc('ytick', labelsize=12)\n",
    "\n",
    "\n",
    "\n",
    "# Where to save the figures\n",
    "PROJECT_ROOT_DIR = \".\"\n",
    "CHAPTER_ID = \"end_to_end_project\"\n",
    "IMAGES_PATH = os.path.join(PROJECT_ROOT_DIR, \"images\", CHAPTER_ID)\n",
    "os.makedirs(IMAGES_PATH, exist_ok=True)\n",
    "\n",
    "def save_fig(fig_id, tight_layout=True, fig_extension=\"png\", resolution=300):\n",
    "    path = os.path.join(IMAGES_PATH, fig_id + \".\" + fig_extension)\n",
    "    print(\"Saving figure\", fig_id)\n",
    "    if tight_layout:\n",
    "        plt.tight_layout()\n",
    "    plt.savefig(path, format=fig_extension, dpi=resolution)\n",
    "\n",
    "# for pretty printing\n",
    "def printDf(sprkDF): \n",
    "    newdf = sprkDF.toPandas()\n",
    "    from IPython.display import display, HTML\n",
    "    return HTML(newdf.to_html())\n",
    "\n",
    "# Ignore useless warnings (see SciPy issue #5998)\n",
    "import warnings\n",
    "warnings.filterwarnings(action=\"ignore\", message=\"^internal gelsd\")\n",
    "\n",
    "# Spark libs\n",
    "from pyspark.sql.session import SparkSession\n",
    "\n",
    "# helper functions\n",
    "from helpers.helper_functions import translate_to_file_string\n",
    "\n",
    "# for pretty printing\n",
    "def printDf(sprkDF): \n",
    "    newdf = sprkDF.toPandas()\n",
    "    from IPython.display import display, HTML\n",
    "    return HTML(newdf.to_html())\n",
    "\n",
    "inputFile = translate_to_file_string(\"./data/Data_Preparation_Result.csv\")"
   ]
  },
  {
   "cell_type": "markdown",
   "id": "4978b0a3-e029-4a47-addf-3d03cc69e0fd",
   "metadata": {},
   "source": [
    "## Create Spark Session"
   ]
  },
  {
   "cell_type": "code",
   "execution_count": 4,
   "id": "67da5ee7-f795-4e20-8ea6-17affdfde647",
   "metadata": {},
   "outputs": [
    {
     "name": "stdout",
     "output_type": "stream",
     "text": [
      "root\n",
      " |-- Bundesland: string (nullable = true)\n",
      " |-- BundeslandIndex: integer (nullable = true)\n",
      " |-- Landkreis: string (nullable = true)\n",
      " |-- LandkreisIndex: integer (nullable = true)\n",
      " |-- Altersgruppe: string (nullable = true)\n",
      " |-- AltersgruppeIndex: double (nullable = true)\n",
      " |-- Geschlecht: string (nullable = true)\n",
      " |-- GeschlechtIndex: double (nullable = true)\n",
      " |-- FallStatus: string (nullable = true)\n",
      " |-- FallStatusIndex: double (nullable = true)\n",
      "\n",
      "None\n"
     ]
    }
   ],
   "source": [
    "#create a SparkSession\n",
    "spark = (SparkSession\n",
    "       .builder\n",
    "       .appName(\"RKIDATAUNDERSTANDING\")\n",
    "       .getOrCreate())\n",
    "# create a DataFrame using an ifered Schema \n",
    "df = spark.read.option(\"header\", \"true\") \\\n",
    "       .option(\"inferSchema\", \"true\") \\\n",
    "       .option(\"delimiter\", \";\") \\\n",
    "       .csv(inputFile)   \n",
    "print(df.printSchema())"
   ]
  },
  {
   "cell_type": "code",
   "execution_count": 5,
   "id": "b83b3925-e7c4-475b-9be6-3667564d7fb2",
   "metadata": {},
   "outputs": [
    {
     "data": {
      "text/plain": [
       "3675296"
      ]
     },
     "execution_count": 5,
     "metadata": {},
     "output_type": "execute_result"
    }
   ],
   "source": [
    "df.count()"
   ]
  },
  {
   "cell_type": "markdown",
   "id": "ea122b71-3295-4e89-a73a-a97eeb94caab",
   "metadata": {},
   "source": [
    "## Lagemaße"
   ]
  },
  {
   "cell_type": "code",
   "execution_count": 6,
   "id": "427a6737-8187-4544-bc3a-88ef79a3560b",
   "metadata": {},
   "outputs": [
    {
     "data": {
      "text/html": [
       "<table border=\"1\" class=\"dataframe\">\n",
       "  <thead>\n",
       "    <tr style=\"text-align: right;\">\n",
       "      <th></th>\n",
       "      <th>summary</th>\n",
       "      <th>Bundesland</th>\n",
       "      <th>BundeslandIndex</th>\n",
       "      <th>Landkreis</th>\n",
       "      <th>LandkreisIndex</th>\n",
       "      <th>Altersgruppe</th>\n",
       "      <th>AltersgruppeIndex</th>\n",
       "      <th>Geschlecht</th>\n",
       "      <th>GeschlechtIndex</th>\n",
       "      <th>FallStatus</th>\n",
       "      <th>FallStatusIndex</th>\n",
       "    </tr>\n",
       "  </thead>\n",
       "  <tbody>\n",
       "    <tr>\n",
       "      <th>0</th>\n",
       "      <td>count</td>\n",
       "      <td>3675296</td>\n",
       "      <td>3675296</td>\n",
       "      <td>3675296</td>\n",
       "      <td>3675296</td>\n",
       "      <td>3675296</td>\n",
       "      <td>3675296</td>\n",
       "      <td>3675296</td>\n",
       "      <td>3675296</td>\n",
       "      <td>3675296</td>\n",
       "      <td>3675296</td>\n",
       "    </tr>\n",
       "    <tr>\n",
       "      <th>1</th>\n",
       "      <td>mean</td>\n",
       "      <td>None</td>\n",
       "      <td>7.96834676717195</td>\n",
       "      <td>None</td>\n",
       "      <td>8299.551207848293</td>\n",
       "      <td>None</td>\n",
       "      <td>1.2410355519664267</td>\n",
       "      <td>None</td>\n",
       "      <td>0.4848072100859359</td>\n",
       "      <td>None</td>\n",
       "      <td>0.0793993191296701</td>\n",
       "    </tr>\n",
       "    <tr>\n",
       "      <th>2</th>\n",
       "      <td>stddev</td>\n",
       "      <td>None</td>\n",
       "      <td>3.674480465407683</td>\n",
       "      <td>None</td>\n",
       "      <td>3652.432864601237</td>\n",
       "      <td>None</td>\n",
       "      <td>1.3592062662803304</td>\n",
       "      <td>None</td>\n",
       "      <td>0.49976919382208435</td>\n",
       "      <td>None</td>\n",
       "      <td>0.3480989234232694</td>\n",
       "    </tr>\n",
       "    <tr>\n",
       "      <th>3</th>\n",
       "      <td>min</td>\n",
       "      <td>Baden-Württemberg</td>\n",
       "      <td>1</td>\n",
       "      <td>LK Ahrweiler</td>\n",
       "      <td>1001</td>\n",
       "      <td>A00-A04</td>\n",
       "      <td>0.0</td>\n",
       "      <td>M</td>\n",
       "      <td>0.0</td>\n",
       "      <td>GENESEN</td>\n",
       "      <td>0.0</td>\n",
       "    </tr>\n",
       "    <tr>\n",
       "      <th>4</th>\n",
       "      <td>25%</td>\n",
       "      <td>None</td>\n",
       "      <td>5</td>\n",
       "      <td>None</td>\n",
       "      <td>5562</td>\n",
       "      <td>None</td>\n",
       "      <td>0.0</td>\n",
       "      <td>None</td>\n",
       "      <td>0.0</td>\n",
       "      <td>None</td>\n",
       "      <td>0.0</td>\n",
       "    </tr>\n",
       "    <tr>\n",
       "      <th>5</th>\n",
       "      <td>50%</td>\n",
       "      <td>None</td>\n",
       "      <td>8</td>\n",
       "      <td>None</td>\n",
       "      <td>8128</td>\n",
       "      <td>None</td>\n",
       "      <td>1.0</td>\n",
       "      <td>None</td>\n",
       "      <td>0.0</td>\n",
       "      <td>None</td>\n",
       "      <td>0.0</td>\n",
       "    </tr>\n",
       "    <tr>\n",
       "      <th>6</th>\n",
       "      <td>75%</td>\n",
       "      <td>None</td>\n",
       "      <td>9</td>\n",
       "      <td>None</td>\n",
       "      <td>9774</td>\n",
       "      <td>None</td>\n",
       "      <td>2.0</td>\n",
       "      <td>None</td>\n",
       "      <td>1.0</td>\n",
       "      <td>None</td>\n",
       "      <td>0.0</td>\n",
       "    </tr>\n",
       "    <tr>\n",
       "      <th>7</th>\n",
       "      <td>max</td>\n",
       "      <td>Thüringen</td>\n",
       "      <td>16</td>\n",
       "      <td>Städteregion Aachen</td>\n",
       "      <td>16077</td>\n",
       "      <td>A80+</td>\n",
       "      <td>5.0</td>\n",
       "      <td>W</td>\n",
       "      <td>1.0</td>\n",
       "      <td>NICHTEINGETRETEN</td>\n",
       "      <td>2.0</td>\n",
       "    </tr>\n",
       "  </tbody>\n",
       "</table>"
      ],
      "text/plain": [
       "<IPython.core.display.HTML object>"
      ]
     },
     "execution_count": 6,
     "metadata": {},
     "output_type": "execute_result"
    }
   ],
   "source": [
    "printDf(df.summary())"
   ]
  },
  {
   "cell_type": "markdown",
   "id": "2d7b2dac-436b-46d9-aeb4-df7686f0f920",
   "metadata": {},
   "source": [
    "## Balkendiagramme\n",
    "An dieser Stelle wurde bewusst darauf verzichtet Histogramme zu verwenden, da vor allem Qualitative Merkmale (z.B. Bundesland - Nominal, Geschlecht - Nominal,Altersgruppe - Ordinal,...) vorliegen. Stadtdessen wurde auf Bar-Charts zurückgegriffen.\n",
    "Hinweis: Der Fallstatus nicht eingetreten bedeutet, dass die Person aktuell noch erkrankt ist."
   ]
  },
  {
   "cell_type": "markdown",
   "id": "f20a8c2b-e6ae-4b28-8546-52e37aeb436d",
   "metadata": {},
   "source": [
    "### Initalisierung"
   ]
  },
  {
   "cell_type": "code",
   "execution_count": 7,
   "id": "cbaedaec-5779-4966-9f72-68ce71ed053b",
   "metadata": {},
   "outputs": [],
   "source": [
    "# Init\n",
    "%matplotlib inline\n",
    "import matplotlib.pyplot as plt"
   ]
  },
  {
   "cell_type": "markdown",
   "id": "661466a5-82d6-4d81-9770-e343c7395ded",
   "metadata": {},
   "source": [
    "### Balkendiagram Bundesland \n",
    "Nachfolgend soll ein Balkendiagramm der aktuellen Coronazahlen, nach dem Fallstatus je Bundesland erstellt werden. Dies soll Auskunft über die Verteilung der Fälle nach Bundesland geben."
   ]
  },
  {
   "cell_type": "code",
   "execution_count": 8,
   "id": "613bc707-eef2-470d-a2ca-a65e79ec8032",
   "metadata": {},
   "outputs": [
    {
     "name": "stdout",
     "output_type": "stream",
     "text": [
      "+--------------------+-------+---------+----------------+\n",
      "|          Bundesland|GENESEN|GESTORBEN|NICHTEINGETRETEN|\n",
      "+--------------------+-------+---------+----------------+\n",
      "| Nordrhein-Westfalen| 758263|    16710|           28721|\n",
      "|              Bayern| 606693|    14935|           16604|\n",
      "|   Baden-Württemberg| 464304|     9933|           16976|\n",
      "|              Hessen| 267416|     7319|           11376|\n",
      "|             Sachsen| 262223|     9656|           11504|\n",
      "|       Niedersachsen| 246529|     5608|            5524|\n",
      "|              Berlin| 171545|     3482|            3194|\n",
      "|     Rheinland-Pfalz| 144334|     3724|            4366|\n",
      "|           Thüringen| 119711|     4199|            3448|\n",
      "|         Brandenburg| 101857|     3726|            2575|\n",
      "|      Sachsen-Anhalt|  91590|     3311|            3373|\n",
      "|             Hamburg|  71865|     1557|            2675|\n",
      "|  Schleswig-Holstein|  59752|     1591|            1604|\n",
      "|Mecklenburg-Vorpo...|  41838|     1120|             850|\n",
      "|            Saarland|  38708|     1006|             973|\n",
      "|              Bremen|  25202|      473|            1353|\n",
      "+--------------------+-------+---------+----------------+\n",
      "\n"
     ]
    }
   ],
   "source": [
    "# Vorbereiten des DataFrames durch Gruppieren des Bundesland und Anwendung der Pivot-Funktion auf das Attribut Fallstatus\n",
    "dfBundeslandGrouped = df.groupBy(\"Bundesland\").pivot(\"FallStatus\").count().orderBy(\"GENESEN\",\"GESTORBEN\", \"NICHTEINGETRETEN\", ascending=False)\n",
    "dfPandasBundesland = dfBundeslandGrouped.toPandas()\n",
    "dfBundeslandGrouped.show()\n"
   ]
  },
  {
   "cell_type": "code",
   "execution_count": 9,
   "id": "5c172c48-686c-4029-8b66-7a756e1924a8",
   "metadata": {},
   "outputs": [
    {
     "name": "stdout",
     "output_type": "stream",
     "text": [
      "Saving figure attribute_bar_plots\n"
     ]
    },
    {
     "data": {
      "image/png": "[encoded data removed]",
      "text/plain": [
       "<Figure size 1440x576 with 1 Axes>"
      ]
     },
     "metadata": {
      "needs_background": "light"
     },
     "output_type": "display_data"
    }
   ],
   "source": [
    "# Erstellen des Balkendiagramms\n",
    "ax = dfPandasBundesland.plot.bar(x='Bundesland', ylabel=\"Anzahl Fälle\",width=0.8, title=\"Fallzahlen nach Status je Bundesland\", figsize=(20,8), rot=90, stacked=True)\n",
    "save_fig(\"attribute_bar_plots\")\n",
    "plt.show()\n"
   ]
  },
  {
   "cell_type": "markdown",
   "id": "3ee632f6-6dcb-47d3-8f0a-3fb2770f6749",
   "metadata": {},
   "source": [
    "### Balkendiagram Geschlecht \n",
    "Nachfolgend soll ein Balkendiagramm der aktuellen Coronazahlen nach dem Fallstatus je Bundesland erstellt werden. Dies soll Auskunft über die Verteilung der Fälle nach Bundesland geben."
   ]
  },
  {
   "cell_type": "code",
   "execution_count": 10,
   "id": "198ffc2b-2640-4ca9-97c2-02417712bc61",
   "metadata": {},
   "outputs": [
    {
     "name": "stdout",
     "output_type": "stream",
     "text": [
      "+----------+-------+---------+----------------+\n",
      "|Geschlecht|GENESEN|GESTORBEN|NICHTEINGETRETEN|\n",
      "+----------+-------+---------+----------------+\n",
      "|         W|1795172|    42031|           56283|\n",
      "|         M|1676658|    46319|           58833|\n",
      "+----------+-------+---------+----------------+\n",
      "\n"
     ]
    }
   ],
   "source": [
    "# Vorbereiten des DataFrames durch Gruppieren des Bundeslands und Anwendung der Pivot-Funktion auf das Attribut Fallstatus\n",
    "dfGeschlechtGrouped = df.groupBy(\"Geschlecht\").pivot(\"FallStatus\").count().orderBy(\"GENESEN\",\"GESTORBEN\", \"NICHTEINGETRETEN\", ascending=False)\n",
    "dfPandasGeschlecht = dfGeschlechtGrouped.toPandas()\n",
    "dfGeschlechtGrouped.show()"
   ]
  },
  {
   "cell_type": "code",
   "execution_count": 11,
   "id": "b8383394-f1ab-444c-a5ce-e433a292ad63",
   "metadata": {},
   "outputs": [
    {
     "name": "stdout",
     "output_type": "stream",
     "text": [
      "Saving figure attribute_bar_plots\n"
     ]
    },
    {
     "data": {
      "image/png": "[encoded data removed]",
      "text/plain": [
       "<Figure size 720x360 with 1 Axes>"
      ]
     },
     "metadata": {
      "needs_background": "light"
     },
     "output_type": "display_data"
    }
   ],
   "source": [
    "# Erstellen des Balkendiagramms\n",
    "ax = dfPandasGeschlecht.plot.bar(x='Geschlecht', ylabel=\"Anzahl Fälle\",width=0.5, title=\"Fallzahlen nach Status je Geschlecht\", figsize=(10,5), rot=90, stacked=True)\n",
    "# Don't want scaled Axis. Have look at https://stackoverflow.com/questions/14711655/how-to-prevent-numbers-being-changed-to-exponential-form-in-python-matplotlib-fi\n",
    "ax.get_yaxis().get_major_formatter().set_scientific(False)\n",
    "save_fig(\"attribute_bar_plots\")\n",
    "plt.show()\n"
   ]
  },
  {
   "cell_type": "markdown",
   "id": "499192d5-0317-4f43-981d-4d3a43a7fc07",
   "metadata": {},
   "source": [
    "Dem Diagramm ist zu entnehmen, dass es mehr Genese bzw. insgesamt mehr an Corona erkrankte Menschen weiblichen Geschlechts gibt. Es liegt die Vermutung nahe, dass dies an der allgemein höheren Lebenserwartung von Frauen liegt, weshalb in höhen Altersgruppen auch mehr Frauen vertreten sind (bpb - Bundeszentrale für politische Bildung 2018).\n"
   ]
  },
  {
   "cell_type": "markdown",
   "id": "0a3efc20-c9e0-4efc-b347-8f7417f8e5ab",
   "metadata": {},
   "source": [
    "### Balkendiagram Altersgruppe \n",
    "Nachfolgend soll ein Balkendiagramm der aktuellen Coronazahlen, nach dem Fallstatus je Bundesland erstellt werden. Dies soll Auskunft über die Verteilung der Fälle nach Bundesland geben."
   ]
  },
  {
   "cell_type": "code",
   "execution_count": 14,
   "id": "83223f21-ba3e-4034-a6e5-a79408cbfc9e",
   "metadata": {},
   "outputs": [
    {
     "name": "stdout",
     "output_type": "stream",
     "text": [
      "+------------+-------+---------+----------------+\n",
      "|Altersgruppe|GENESEN|GESTORBEN|NICHTEINGETRETEN|\n",
      "+------------+-------+---------+----------------+\n",
      "|     A35-A59|1359778|     3629|           42499|\n",
      "|     A15-A34|1045569|      169|           35357|\n",
      "|     A60-A79| 499710|    25978|           14257|\n",
      "|     A05-A14| 252159|        6|           14493|\n",
      "|        A80+| 225206|    58560|            3686|\n",
      "|     A00-A04|  89408|        8|            4824|\n",
      "+------------+-------+---------+----------------+\n",
      "\n"
     ]
    }
   ],
   "source": [
    "# Vorbereiten des DataFrames durch Gruppieren des Bundeslands und Anwendung der Pivot-Funktion auf das Attribut Fallstatus\n",
    "dfAltersgruppeGrouped = df.groupBy(\"Altersgruppe\").pivot(\"FallStatus\").count().orderBy(\"GENESEN\",\"GESTORBEN\", \"NICHTEINGETRETEN\", ascending=False)\n",
    "dfAltersgruppePandas = dfAltersgruppeGrouped.toPandas()\n",
    "dfAltersgruppeGrouped.show()"
   ]
  },
  {
   "cell_type": "code",
   "execution_count": 15,
   "id": "5d218210-d172-4f33-ab62-a02b0c41a287",
   "metadata": {},
   "outputs": [
    {
     "name": "stdout",
     "output_type": "stream",
     "text": [
      "Saving figure attribute_bar_plots\n"
     ]
    },
    {
     "data": {
      "image/png": "[encoded data removed]",
      "text/plain": [
       "<Figure size 720x360 with 1 Axes>"
      ]
     },
     "metadata": {
      "needs_background": "light"
     },
     "output_type": "display_data"
    }
   ],
   "source": [
    "# Erstellen des Balkendiagramms\n",
    "ax = dfAltersgruppePandas.plot.bar(x='Altersgruppe', ylabel=\"Anzahl Fälle\",width=0.5, title=\"Fallzahlen nach Status je Altersgruppe\", figsize=(10,5), rot=90, stacked=True)\n",
    "# Don't want scaled Axis. Have look at https://stackoverflow.com/questions/14711655/how-to-prevent-numbers-being-changed-to-exponential-form-in-python-matplotlib-fi\n",
    "ax.get_yaxis().get_major_formatter().set_scientific(False)\n",
    "save_fig(\"attribute_bar_plots\")\n",
    "plt.show()"
   ]
  },
  {
   "cell_type": "markdown",
   "id": "b8bf8e0c-43f9-41a7-a6d8-098736ddcf0e",
   "metadata": {},
   "source": [
    "### Verstorben nach Altersgruppe und Geschlecht"
   ]
  },
  {
   "cell_type": "code",
   "execution_count": 16,
   "id": "2ec6eddc-6655-4ee6-ba23-312079a809f3",
   "metadata": {},
   "outputs": [
    {
     "name": "stdout",
     "output_type": "stream",
     "text": [
      "+------------+-----+-----+\n",
      "|Altersgruppe|    M|    W|\n",
      "+------------+-----+-----+\n",
      "|     A05-A14|    3|    3|\n",
      "|     A00-A04|    2|    6|\n",
      "|     A15-A34|  109|   60|\n",
      "|     A35-A59| 2547| 1082|\n",
      "|     A60-A79|17039| 8939|\n",
      "|        A80+|26619|31941|\n",
      "+------------+-----+-----+\n",
      "\n"
     ]
    }
   ],
   "source": [
    "# Vorbereiten des DataFrames durch Gruppieren des Bundeslands und Anwendung der Pivot-Funktion auf das Attribut Fallstatus\n",
    "dfVerstorbenGrouped = df.filter(df.FallStatus == \"GESTORBEN\").groupBy(\"Altersgruppe\").pivot(\"Geschlecht\").count().orderBy(\"W\",\"M\", ascending=True)\n",
    "dfVerstorbenPandas = dfVerstorbenGrouped.toPandas()\n",
    "dfVerstorbenGrouped.show()"
   ]
  },
  {
   "cell_type": "code",
   "execution_count": 17,
   "id": "08967c5b-c48e-4dc0-8de4-207b5cb36e3b",
   "metadata": {},
   "outputs": [
    {
     "name": "stdout",
     "output_type": "stream",
     "text": [
      "Saving figure attribute_bar_plots\n"
     ]
    },
    {
     "data": {
      "image/png": "[encoded data removed]",
      "text/plain": [
       "<Figure size 720x360 with 1 Axes>"
      ]
     },
     "metadata": {
      "needs_background": "light"
     },
     "output_type": "display_data"
    }
   ],
   "source": [
    "# Erstellen des Balkendiagramms\n",
    "ax = dfVerstorbenPandas.plot.bar(x='Altersgruppe', ylabel=\"Anzahl Verstorbene\",width=0.5, title=\"Verstorbene nach Alter und Geschlecht\", figsize=(10,5), rot=90)\n",
    "# Don't want scaled Axis. Have look at https://stackoverflow.com/questions/14711655/how-to-prevent-numbers-being-changed-to-exponential-form-in-python-matplotlib-fi\n",
    "ax.get_yaxis().get_major_formatter().set_scientific(False)\n",
    "save_fig(\"attribute_bar_plots\")\n",
    "plt.show()"
   ]
  },
  {
   "cell_type": "markdown",
   "id": "40b0fad4-020d-461b-8a34-ebc951e1963e",
   "metadata": {},
   "source": [
    "## Korrelationsanalyse"
   ]
  },
  {
   "cell_type": "code",
   "execution_count": 56,
   "id": "80106535-ae7b-4529-b2b8-172da57cf2e2",
   "metadata": {},
   "outputs": [],
   "source": [
    "# Aufbau des Feature-Vectors\n",
    "assembler =  VectorAssembler(outputCol=\"features\", inputCols=[\"FallStatusIndex\", \"GeschlechtIndex\",\"AltersgruppeIndex\", \"LandkreisIndex\"])\n",
    "featureVector = assembler.transform(df)\n",
    "\n",
    "def prettyPrintDenseMatrix(dm, collArray) :\n",
    "    rows = dm.toArray().tolist()\n",
    "    dfDM = spark.createDataFrame(rows,collArray)\n",
    "    newDf = dfDM.toPandas()\n",
    "    from IPython.display import display, HTML\n",
    "    return HTML(newDf.to_html())\n"
   ]
  },
  {
   "cell_type": "markdown",
   "id": "0e51f650-3a2f-416f-aea6-c6dad9795f31",
   "metadata": {},
   "source": [
    "Die nachfolgenden Korrelationsanalysen weisen auf, dass die Features 'Alter' und 'Fallstatus' im Vergleich zu den anderen Merkmalen den größten Zusammenhang besitzen. Im Blick auf alle Coronafälle scheint es zwar keine signifikante Korrelation zwischen Todesfall und Alter zu geben. Jedoch kann mit Blick auf die Altersgruppe gesagt werden, dass ca. 20.63% aller über 80 Jährigen die an Corona erkrankt sind starben. Bei den Erkrankten zwischen 60 und 79 sind es 4,9%. Zu diesen beiden Altersgruppen lassen sich bereits 95.7% aller Verstorbenen zuordnen. Es kann also mit Sicherheit gesagt werden, dass das Risiko an Corona zu sterben bei älteren Menschen deutlich höher ist."
   ]
  },
  {
   "cell_type": "markdown",
   "id": "576e77c8-c6dd-4e11-85e8-375da4f17053",
   "metadata": {},
   "source": [
    "### Korrelationsanalyse nach Pearson"
   ]
  },
  {
   "cell_type": "code",
   "execution_count": 57,
   "id": "600afed7-9a7a-4c10-8d4a-197648e578ae",
   "metadata": {},
   "outputs": [
    {
     "name": "stdout",
     "output_type": "stream",
     "text": [
      "Pearson correlation matrix:\n",
      "\n"
     ]
    }
   ],
   "source": [
    "corPearson = Correlation.corr(featureVector, \"features\").head()"
   ]
  },
  {
   "cell_type": "code",
   "execution_count": 61,
   "id": "fb724329-1e9c-4775-a299-c2e4d4125a78",
   "metadata": {},
   "outputs": [
    {
     "data": {
      "text/html": [
       "<table border=\"1\" class=\"dataframe\">\n",
       "  <thead>\n",
       "    <tr style=\"text-align: right;\">\n",
       "      <th></th>\n",
       "      <th>FallStatus</th>\n",
       "      <th>Geschlecht</th>\n",
       "      <th>Altersgruppe</th>\n",
       "      <th>Landkreis</th>\n",
       "    </tr>\n",
       "  </thead>\n",
       "  <tbody>\n",
       "    <tr>\n",
       "      <th>0</th>\n",
       "      <td>1.000000</td>\n",
       "      <td>0.015634</td>\n",
       "      <td>0.144115</td>\n",
       "      <td>0.019173</td>\n",
       "    </tr>\n",
       "    <tr>\n",
       "      <th>1</th>\n",
       "      <td>0.015634</td>\n",
       "      <td>1.000000</td>\n",
       "      <td>-0.013519</td>\n",
       "      <td>-0.024130</td>\n",
       "    </tr>\n",
       "    <tr>\n",
       "      <th>2</th>\n",
       "      <td>0.144115</td>\n",
       "      <td>-0.013519</td>\n",
       "      <td>1.000000</td>\n",
       "      <td>0.002666</td>\n",
       "    </tr>\n",
       "    <tr>\n",
       "      <th>3</th>\n",
       "      <td>0.019173</td>\n",
       "      <td>-0.024130</td>\n",
       "      <td>0.002666</td>\n",
       "      <td>1.000000</td>\n",
       "    </tr>\n",
       "  </tbody>\n",
       "</table>"
      ],
      "text/plain": [
       "<IPython.core.display.HTML object>"
      ]
     },
     "execution_count": 61,
     "metadata": {},
     "output_type": "execute_result"
    }
   ],
   "source": [
    "prettyPrintDenseMatrix(corPearson[0], [\"FallStatus\", \"Geschlecht\", \"Altersgruppe\", \"Landkreis\"])\n",
    "print(\"Pearson correlation matrix:\\n\")"
   ]
  },
  {
   "cell_type": "markdown",
   "id": "e5672ccd-f744-44b5-87d3-c72a822d549c",
   "metadata": {},
   "source": [
    "### Korrelationsanalyse nach Spearman"
   ]
  },
  {
   "cell_type": "code",
   "execution_count": 59,
   "id": "7c903615-f5c4-4300-93e2-cc7337bc491d",
   "metadata": {},
   "outputs": [
    {
     "name": "stdout",
     "output_type": "stream",
     "text": [
      "Spearman correlation matrix:\n",
      "\n"
     ]
    }
   ],
   "source": [
    "corSpearmen = Correlation.corr(featureVector, \"features\", \"spearman\").head()\n",
    "print(\"Spearman correlation matrix:\\n\")"
   ]
  },
  {
   "cell_type": "code",
   "execution_count": 71,
   "id": "9c043993-fdd4-441a-a630-b206d410bf20",
   "metadata": {},
   "outputs": [
    {
     "data": {
      "text/html": [
       "<table border=\"1\" class=\"dataframe\">\n",
       "  <thead>\n",
       "    <tr style=\"text-align: right;\">\n",
       "      <th></th>\n",
       "      <th>FallStatus</th>\n",
       "      <th>Geschlecht</th>\n",
       "      <th>Altersgruppe</th>\n",
       "      <th>Landkreis</th>\n",
       "    </tr>\n",
       "  </thead>\n",
       "  <tbody>\n",
       "    <tr>\n",
       "      <th>0</th>\n",
       "      <td>1.000000</td>\n",
       "      <td>0.015580</td>\n",
       "      <td>0.124740</td>\n",
       "      <td>0.009856</td>\n",
       "    </tr>\n",
       "    <tr>\n",
       "      <th>1</th>\n",
       "      <td>0.015580</td>\n",
       "      <td>1.000000</td>\n",
       "      <td>-0.013597</td>\n",
       "      <td>-0.020454</td>\n",
       "    </tr>\n",
       "    <tr>\n",
       "      <th>2</th>\n",
       "      <td>0.124740</td>\n",
       "      <td>-0.013597</td>\n",
       "      <td>1.000000</td>\n",
       "      <td>0.004524</td>\n",
       "    </tr>\n",
       "    <tr>\n",
       "      <th>3</th>\n",
       "      <td>0.009856</td>\n",
       "      <td>-0.020454</td>\n",
       "      <td>0.004524</td>\n",
       "      <td>1.000000</td>\n",
       "    </tr>\n",
       "  </tbody>\n",
       "</table>"
      ],
      "text/plain": [
       "<IPython.core.display.HTML object>"
      ]
     },
     "execution_count": 71,
     "metadata": {},
     "output_type": "execute_result"
    }
   ],
   "source": [
    "prettyPrintDenseMatrix(corSpearmen[0], [\"FallStatus\", \"Geschlecht\", \"Altersgruppe\", \"Landkreis\"])"
   ]
  },
  {
   "cell_type": "markdown",
   "id": "ebff7d2b-64ae-4434-b6af-4b8e6d68a026",
   "metadata": {},
   "source": [
    "## Hypothesenüberprüfung"
   ]
  },
  {
   "cell_type": "code",
   "execution_count": 54,
   "id": "1a9a7fc3-c143-428f-a657-f56dc5f2f711",
   "metadata": {},
   "outputs": [],
   "source": [
    "# Aufbau des Feature-Vectors\n",
    "assembler =  VectorAssembler(outputCol=\"features\", inputCols=[\"GeschlechtIndex\",\"AltersgruppeIndex\",\"BundeslandIndex\"])\n",
    "featureVector = assembler.transform(df)"
   ]
  },
  {
   "cell_type": "markdown",
   "id": "8f9f23bc-770b-4158-9f2c-8f6019afe655",
   "metadata": {},
   "source": [
    "### Chi Quadrad-Test\n",
    "Bezüglich der Interpreation der Ergebniswerte, sei auf die hießigen Statistischen Werke verwiesen."
   ]
  },
  {
   "cell_type": "code",
   "execution_count": 76,
   "id": "69211b13-1d48-45e2-94a1-bf5306f1d023",
   "metadata": {},
   "outputs": [
    {
     "name": "stdout",
     "output_type": "stream",
     "text": [
      "+-----------------+----------------+-----------------------------------------------------------------+\n",
      "|pValues          |degreesOfFreedom|statistics                                                       |\n",
      "+-----------------+----------------+-----------------------------------------------------------------+\n",
      "|[0.0,0.0,0.0,0.0]|[4, 2, 10, 822] |[7350592.0,917.6892202754859,479142.3800822805,58699.35755308365]|\n",
      "+-----------------+----------------+-----------------------------------------------------------------+\n",
      "\n"
     ]
    }
   ],
   "source": [
    "ciSquare = ChiSquareTest.test(featureVector, \"features\", \"FallStatusIndex\")\n",
    "ciSquare.show(truncate=False)"
   ]
  },
  {
   "cell_type": "markdown",
   "id": "0f822ff3-0346-4abe-85b7-bef90dfb4372",
   "metadata": {},
   "source": [
    "## Histogramm\n",
    "### Histogramm über Zeitverlauf"
   ]
  },
  {
   "cell_type": "code",
   "execution_count": null,
   "id": "8df0fa68-48e7-44ab-b34e-fc84230afc73",
   "metadata": {},
   "outputs": [],
   "source": [
    "# Vorbereiten des DataFrames durch Gruppieren des Bundesland und Anwendung der Pivot-Funktion auf das Attribut Fallstatus\n",
    "dfHist = df.select(\"\")\n",
    "dfVerstorbenPandas = dfVerstorbenGrouped.toPandas()\n",
    "dfVerstorbenGrouped.show()\n",
    "\n"
   ]
  }
 ],
 "metadata": {
  "kernelspec": {
   "display_name": "Python 3",
   "language": "python",
   "name": "python3"
  },
  "language_info": {
   "codemirror_mode": {
    "name": "ipython",
    "version": 3
   },
   "file_extension": ".py",
   "mimetype": "text/x-python",
   "name": "python",
   "nbconvert_exporter": "python",
   "pygments_lexer": "ipython3",
   "version": "3.8.8"
  },
  "toc-autonumbering": false,
  "toc-showtags": false
 },
 "nbformat": 4,
 "nbformat_minor": 5
}
